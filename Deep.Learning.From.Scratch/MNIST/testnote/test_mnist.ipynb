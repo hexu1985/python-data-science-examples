{
 "cells": [
  {
   "cell_type": "code",
   "execution_count": 1,
   "metadata": {},
   "outputs": [
    {
     "name": "stdout",
     "output_type": "stream",
     "text": [
      "正在转换 train-images-idx3-ubyte.gz 到NumPy数组 ...\t\t\tOK\n",
      "正在转换 train-labels-idx1-ubyte.gz 到NumPy数组 ...\t\t\tOK\n",
      "正在转换 t10k-images-idx3-ubyte.gz 到NumPy数组 ...\t\t\tOK\n",
      "正在转换 t10k-labels-idx1-ubyte.gz 到NumPy数组 ...\t\t\tOK\n",
      "创建pkl保存文件 ...\t\t\tOK\n"
     ]
    }
   ],
   "source": [
    "# 此模块用于下载载入MNIST数据集\n",
    "\n",
    "import gzip\n",
    "import pickle\n",
    "import os\n",
    "import numpy as np\n",
    "import urllib.request\n",
    "\n",
    "# 下载使用的地址以及下载文件字典\n",
    "url_base = \"http://yann.lecun.com/exdb/mnist/\"\n",
    "key_file = {\n",
    "    \"train_img\": \"train-images-idx3-ubyte.gz\",\n",
    "    \"train_label\": \"train-labels-idx1-ubyte.gz\",\n",
    "    \"test_img\": \"t10k-images-idx3-ubyte.gz\",\n",
    "    \"test_label\": \"t10k-labels-idx1-ubyte.gz\",\n",
    "}\n",
    "\n",
    "# 获取当前目录与即将创建的mnist.pkl文件路径\n",
    "dataset_dir = os.path.dirname(os.path.abspath(__file__))\n",
    "save_file = dataset_dir + \"/mnist.pkl\"\n",
    "\n",
    "# 声明一些变量存储数据维度等信息\n",
    "train_num = 60000\n",
    "test_num = 10000\n",
    "img_dim = (1, 28, 28)\n",
    "img_size = 784\n",
    "\n",
    "\n",
    "# 按照文件名下载 - 私有函数\n",
    "def _dowload(file_name):\n",
    "    file_path = dataset_dir + \"/\" + file_name\n",
    "\n",
    "    if os.path.exists(file_path):\n",
    "        return\n",
    "\n",
    "    print(\"正在下载 \" + file_name + \" ... \", end=\"\\t\\t\\t\")\n",
    "    urllib.request.urlretrieve(url_base + file_name, file_path)\n",
    "    print(\"OK\")\n",
    "\n",
    "\n",
    "# 下载整个列表\n",
    "def download_mnist():\n",
    "    for file in key_file.values():\n",
    "        _dowload(file)\n",
    "\n",
    "\n",
    "# 按照文件名通过下载的gzip文件导入标签\n",
    "def _load_label(file_name):\n",
    "    file_path = dataset_dir + \"/\" + file_name\n",
    "\n",
    "    print(\"正在转换 \" + file_name + \" 到NumPy数组 ...\", end=\"\\t\\t\\t\")\n",
    "    with gzip.open(file_path, \"rb\") as file:\n",
    "        labels = np.frombuffer(file.read(), np.uint8, offset=8)\n",
    "    print(\"OK\")\n",
    "\n",
    "    return labels\n",
    "\n",
    "\n",
    "# 按照文件名通过下载的gzip文件导入图片数据\n",
    "def _load_img(file_name):\n",
    "    file_path = dataset_dir + \"/\" + file_name\n",
    "\n",
    "    print(\"正在转换 \" + file_name + \" 到NumPy数组 ...\", end=\"\\t\\t\\t\")\n",
    "    with gzip.open(file_path, \"rb\") as file:\n",
    "        data = np.frombuffer(file.read(), np.uint8, offset=16)\n",
    "    data = data.reshape(-1, img_size)\n",
    "    print(\"OK\")\n",
    "\n",
    "    return data\n",
    "\n",
    "\n",
    "# 加载整个列表到内存\n",
    "def _convert_numpy():\n",
    "    dataset = {}\n",
    "    dataset[\"train_img\"] = _load_img(key_file[\"train_img\"])\n",
    "    dataset[\"train_label\"] = _load_label(key_file[\"train_label\"])\n",
    "    dataset[\"test_img\"] = _load_img(key_file[\"test_img\"])\n",
    "    dataset[\"test_label\"] = _load_label(key_file[\"test_label\"])\n",
    "\n",
    "    return dataset\n",
    "\n",
    "\n",
    "# 初始化数据集\n",
    "def init_mnist():\n",
    "    download_mnist()\n",
    "    dataset = _convert_numpy()\n",
    "    print(\"创建pkl保存文件 ...\", end=\"\\t\\t\\t\")\n",
    "    with open(save_file, \"wb\") as file:\n",
    "        pickle.dump(dataset, file, -1)\n",
    "    print(\"OK\")\n",
    "\n",
    "\n",
    "# 将正确解标签转换为one_hot形式的函数\n",
    "def _change_one_hot_label(X):\n",
    "    T = np.zeros((X.size, 10))\n",
    "    for idx, row in enumerate(T):\n",
    "        row[X[idx]] = 1\n",
    "\n",
    "    return T\n",
    "\n",
    "\n",
    "# 加载使用数据集\n",
    "def load_mnist(normalize=True, flatten=True, one_hot_label=False):\n",
    "    \"\"\"读入MNIST数据集\n",
    "\n",
    "    参数:\n",
    "    ----------\n",
    "    normalize : 是否将图像的像素值正规化为0.0~1.0\n",
    "    one_hot_label :\n",
    "        one_hot_label为True的情况下,标签作为one-hot数组返回\n",
    "        one-hot数组是指[0,0,1,0,0,0,0,0,0,0]这样的数组\n",
    "    flatten : 是否将图片展开成一维数组\n",
    "\n",
    "    返回值:\n",
    "    ----------\n",
    "    (训练图像, 训练标签), (测试图像, 测试标签)\n",
    "    \"\"\"\n",
    "    if not os.path.exists(save_file):\n",
    "        init_mnist()\n",
    "\n",
    "    with open(save_file, \"rb\") as file:\n",
    "        dataset = pickle.load(file)\n",
    "\n",
    "    if normalize:\n",
    "        for key in (\"train_img\", \"test_img\"):\n",
    "            dataset[key] = dataset[key].astype(np.float32)\n",
    "            dataset[key] /= 255.0\n",
    "\n",
    "    if one_hot_label:\n",
    "        dataset[\"train_label\"] = _change_one_hot_label(dataset[\"train_label\"])\n",
    "        dataset[\"test_label\"] = _change_one_hot_label(dataset[\"test_label\"])\n",
    "\n",
    "    if not flatten:\n",
    "        for key in (\"train_img\", \"test_img\"):\n",
    "            dataset[key] = dataset[key].reshape(-1, 1, 28, 28)\n",
    "\n",
    "    return (dataset[\"train_img\"], dataset[\"train_label\"]), (\n",
    "        dataset[\"test_img\"],\n",
    "        dataset[\"test_label\"],\n",
    "    )\n",
    "\n",
    "\n",
    "if __name__ == \"__main__\":\n",
    "    init_mnist()"
   ]
  },
  {
   "cell_type": "code",
   "execution_count": 3,
   "metadata": {},
   "outputs": [],
   "source": [
    "(a,b),(c,d) = load_mnist()"
   ]
  },
  {
   "cell_type": "code",
   "execution_count": 4,
   "metadata": {},
   "outputs": [
    {
     "data": {
      "text/plain": [
       "(60000, 784)"
      ]
     },
     "execution_count": 4,
     "metadata": {},
     "output_type": "execute_result"
    }
   ],
   "source": [
    "a.shape\n"
   ]
  },
  {
   "cell_type": "code",
   "execution_count": 5,
   "metadata": {},
   "outputs": [
    {
     "data": {
      "text/plain": [
       "(60000,)"
      ]
     },
     "execution_count": 5,
     "metadata": {},
     "output_type": "execute_result"
    }
   ],
   "source": [
    "b.shape"
   ]
  },
  {
   "cell_type": "code",
   "execution_count": 6,
   "metadata": {},
   "outputs": [
    {
     "data": {
      "text/plain": [
       "(10000, 784)"
      ]
     },
     "execution_count": 6,
     "metadata": {},
     "output_type": "execute_result"
    }
   ],
   "source": [
    "c.shape"
   ]
  },
  {
   "cell_type": "code",
   "execution_count": 7,
   "metadata": {},
   "outputs": [
    {
     "data": {
      "text/plain": [
       "(10000,)"
      ]
     },
     "execution_count": 7,
     "metadata": {},
     "output_type": "execute_result"
    }
   ],
   "source": [
    "d.shape"
   ]
  },
  {
   "cell_type": "code",
   "execution_count": 8,
   "metadata": {},
   "outputs": [],
   "source": [
    "(a,b),(c,d) = load_mnist(flatten=False,one_hot_label=True)"
   ]
  },
  {
   "cell_type": "code",
   "execution_count": 9,
   "metadata": {},
   "outputs": [
    {
     "data": {
      "text/plain": [
       "(60000, 1, 28, 28)"
      ]
     },
     "execution_count": 9,
     "metadata": {},
     "output_type": "execute_result"
    }
   ],
   "source": [
    "a.shape"
   ]
  },
  {
   "cell_type": "code",
   "execution_count": 10,
   "metadata": {},
   "outputs": [
    {
     "data": {
      "text/plain": [
       "(60000, 10)"
      ]
     },
     "execution_count": 10,
     "metadata": {},
     "output_type": "execute_result"
    }
   ],
   "source": [
    "b.shape"
   ]
  },
  {
   "cell_type": "code",
   "execution_count": 11,
   "metadata": {},
   "outputs": [
    {
     "data": {
      "text/plain": [
       "array([[0., 0., 0., ..., 0., 0., 0.],\n",
       "       [1., 0., 0., ..., 0., 0., 0.],\n",
       "       [0., 0., 0., ..., 0., 0., 0.],\n",
       "       ...,\n",
       "       [0., 0., 0., ..., 0., 0., 0.],\n",
       "       [0., 0., 0., ..., 0., 0., 0.],\n",
       "       [0., 0., 0., ..., 0., 1., 0.]])"
      ]
     },
     "execution_count": 11,
     "metadata": {},
     "output_type": "execute_result"
    }
   ],
   "source": [
    "b"
   ]
  }
 ],
 "metadata": {
  "kernelspec": {
   "display_name": "DLlearn",
   "language": "python",
   "name": "python3"
  },
  "language_info": {
   "codemirror_mode": {
    "name": "ipython",
    "version": 3
   },
   "file_extension": ".py",
   "mimetype": "text/x-python",
   "name": "python",
   "nbconvert_exporter": "python",
   "pygments_lexer": "ipython3",
   "version": "3.11.2"
  },
  "orig_nbformat": 4
 },
 "nbformat": 4,
 "nbformat_minor": 2
}
