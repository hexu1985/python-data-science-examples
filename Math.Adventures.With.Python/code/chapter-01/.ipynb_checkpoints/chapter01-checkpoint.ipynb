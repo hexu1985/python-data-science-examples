{
 "cells": [
  {
   "cell_type": "markdown",
   "id": "2e5cc795-b1e2-47df-acd0-c7d6063ef25b",
   "metadata": {},
   "source": [
    "## 第 1 章 用 turtle 模块绘制多边形"
   ]
  },
  {
   "cell_type": "markdown",
   "id": "e9125827-3f7e-479c-a8a2-16b61a22dfda",
   "metadata": {},
   "source": [
    "## 1.1 Python 的 turtle 模块"
   ]
  },
  {
   "cell_type": "markdown",
   "id": "1d9b9483-60ff-4649-b83b-dedca9b622c7",
   "metadata": {},
   "source": [
    "### 1.1.1 导入 turtle 模块"
   ]
  },
  {
   "cell_type": "code",
   "execution_count": 10,
   "id": "5bda53eb-ef6e-473f-b7b9-5fd68c7245f1",
   "metadata": {},
   "outputs": [],
   "source": [
    "from turtle import *"
   ]
  },
  {
   "cell_type": "markdown",
   "id": "5a7fa471-c6d5-4969-82a9-cbf06a2c2815",
   "metadata": {},
   "source": [
    "### 1.1.2 让小海龟动起来"
   ]
  },
  {
   "cell_type": "code",
   "execution_count": null,
   "id": "44be6b7e-1a1f-44b2-aafe-97af4021530c",
   "metadata": {},
   "outputs": [],
   "source": [
    "from turtle import *\n",
    "canvas = Screen()\n",
    "\n",
    "t = Turtle()\n",
    "t.forward(100)\n",
    "\n",
    "canvas.bye()"
   ]
  },
  {
   "cell_type": "code",
   "execution_count": 2,
   "id": "b61b20de-e731-4537-9d20-03215f2da8f3",
   "metadata": {},
   "outputs": [
    {
     "ename": "Terminator",
     "evalue": "",
     "output_type": "error",
     "traceback": [
      "\u001b[0;31m---------------------------------------------------------------------------\u001b[0m",
      "\u001b[0;31mTerminator\u001b[0m                                Traceback (most recent call last)",
      "Cell \u001b[0;32mIn[2], line 2\u001b[0m\n\u001b[1;32m      1\u001b[0m \u001b[38;5;28;01mfrom\u001b[39;00m \u001b[38;5;21;01mturtle\u001b[39;00m \u001b[38;5;28;01mimport\u001b[39;00m \u001b[38;5;241m*\u001b[39m\n\u001b[0;32m----> 2\u001b[0m forward(\u001b[38;5;241m100\u001b[39m)\n\u001b[1;32m      3\u001b[0m done()\n",
      "File \u001b[0;32m<string>:5\u001b[0m, in \u001b[0;36mforward\u001b[0;34m(distance)\u001b[0m\n",
      "\u001b[0;31mTerminator\u001b[0m: "
     ]
    }
   ],
   "source": [
    "from turtle import *\n",
    "forward(100)\n",
    "done()"
   ]
  },
  {
   "cell_type": "code",
   "execution_count": 9,
   "id": "b2d3ebb1",
   "metadata": {
    "scrolled": true
   },
   "outputs": [
    {
     "ename": "Terminator",
     "evalue": "",
     "output_type": "error",
     "traceback": [
      "\u001b[0;31m---------------------------------------------------------------------------\u001b[0m",
      "\u001b[0;31mTerminator\u001b[0m                                Traceback (most recent call last)",
      "Cell \u001b[0;32mIn[9], line 2\u001b[0m\n\u001b[1;32m      1\u001b[0m \u001b[38;5;28;01mfrom\u001b[39;00m \u001b[38;5;21;01mturtle\u001b[39;00m \u001b[38;5;28;01mimport\u001b[39;00m \u001b[38;5;241m*\u001b[39m\n\u001b[0;32m----> 2\u001b[0m forward(\u001b[38;5;241m100\u001b[39m)\n\u001b[1;32m      3\u001b[0m shape(\u001b[38;5;124m'\u001b[39m\u001b[38;5;124mturtle\u001b[39m\u001b[38;5;124m'\u001b[39m)\n\u001b[1;32m      4\u001b[0m done()\n",
      "File \u001b[0;32m<string>:5\u001b[0m, in \u001b[0;36mforward\u001b[0;34m(distance)\u001b[0m\n",
      "\u001b[0;31mTerminator\u001b[0m: "
     ]
    }
   ],
   "source": [
    "from turtle import *\n",
    "forward(100)\n",
    "shape('turtle')\n",
    "done()"
   ]
  },
  {
   "cell_type": "code",
   "execution_count": 5,
   "id": "22cd9bde",
   "metadata": {},
   "outputs": [],
   "source": [
    "from turtle import *\n",
    "forward(100)\n",
    "shape('turtle')\n",
    "right(45)\n",
    "forward(100)\n",
    "done()"
   ]
  },
  {
   "cell_type": "code",
   "execution_count": 10,
   "id": "0d473d2d",
   "metadata": {},
   "outputs": [
    {
     "name": "stdout",
     "output_type": "stream",
     "text": [
      "hello\n",
      "hello\n"
     ]
    }
   ],
   "source": [
    "for i in range(2):\n",
    "    print('hello')"
   ]
  },
  {
   "cell_type": "code",
   "execution_count": 11,
   "id": "2d5d0978",
   "metadata": {},
   "outputs": [
    {
     "name": "stdout",
     "output_type": "stream",
     "text": [
      "hello\n",
      "hello\n",
      "hello\n",
      "hello\n",
      "hello\n",
      "hello\n",
      "hello\n",
      "hello\n",
      "hello\n",
      "hello\n"
     ]
    }
   ],
   "source": [
    "for i in range(10):\n",
    "    print('hello')"
   ]
  },
  {
   "cell_type": "code",
   "execution_count": 12,
   "id": "da7c5541",
   "metadata": {},
   "outputs": [
    {
     "name": "stdout",
     "output_type": "stream",
     "text": [
      "0\n",
      "1\n",
      "2\n",
      "3\n",
      "4\n",
      "5\n",
      "6\n",
      "7\n",
      "8\n",
      "9\n"
     ]
    }
   ],
   "source": [
    "for i in range(10):\n",
    "    print(i)"
   ]
  },
  {
   "cell_type": "code",
   "execution_count": null,
   "id": "4fd84a9f",
   "metadata": {},
   "outputs": [],
   "source": []
  }
 ],
 "metadata": {
  "kernelspec": {
   "display_name": "Python 3 (ipykernel)",
   "language": "python",
   "name": "python3"
  },
  "language_info": {
   "codemirror_mode": {
    "name": "ipython",
    "version": 3
   },
   "file_extension": ".py",
   "mimetype": "text/x-python",
   "name": "python",
   "nbconvert_exporter": "python",
   "pygments_lexer": "ipython3",
   "version": "3.12.4"
  }
 },
 "nbformat": 4,
 "nbformat_minor": 5
}
