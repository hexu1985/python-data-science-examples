{
 "cells": [
  {
   "cell_type": "markdown",
   "id": "a1a0704a-ebd6-459c-acf4-f9ac6717ab10",
   "metadata": {},
   "source": [
    "代码清单 4-1　蛮力法的程序，代入数看看哪个使等式成立"
   ]
  },
  {
   "cell_type": "code",
   "execution_count": 4,
   "id": "1f2f6fc9-e9af-4f1c-bafa-ea2a3893029e",
   "metadata": {},
   "outputs": [
    {
     "name": "stdout",
     "output_type": "stream",
     "text": [
      "x = 4\n"
     ]
    }
   ],
   "source": [
    "def plug():\n",
    "    x = -100 # 从-100开始\n",
    "    while x < 100: # 一直到100\n",
    "        if 2*x + 5 == 13: # 如果使等式成立\n",
    "            print(\"x =\",x) # 就打印出来\n",
    "        x += 1 # 给x加1以便测试下一个数\n",
    "plug() # 运行plug函数"
   ]
  },
  {
   "cell_type": "markdown",
   "id": "9debad24-1758-43b5-9976-54c3e7aa2c87",
   "metadata": {},
   "source": [
    "代码清单 4-2　编程求解 x"
   ]
  },
  {
   "cell_type": "code",
   "execution_count": 6,
   "id": "4072ceaf-055b-4441-9f7f-054b172be9b3",
   "metadata": {},
   "outputs": [],
   "source": [
    "def equation(a,b,c,d):\n",
    "    '''解ax + b = cx + d形式的方程'''\n",
    "    return (d - b)/(a - c)"
   ]
  },
  {
   "cell_type": "code",
   "execution_count": 17,
   "id": "02e3abb9-b9bb-4740-b4da-77ff80941185",
   "metadata": {},
   "outputs": [
    {
     "name": "stdout",
     "output_type": "stream",
     "text": [
      "4.0\n"
     ]
    }
   ],
   "source": [
    ">>> equation(2,5,0,13)"
   ]
  },
  {
   "cell_type": "markdown",
   "id": "cd5d3005-c8a1-4560-b5dc-9f12d77d2b7f",
   "metadata": {},
   "source": [
    "代码清单 4-3　使用print()将无法保存结果"
   ]
  },
  {
   "cell_type": "code",
   "execution_count": 8,
   "id": "0eba4ca7-3dd1-4b3d-9d10-c6f3cda8c2c4",
   "metadata": {},
   "outputs": [],
   "source": [
    "def equation(a,b,c,d):\n",
    "    '''解ax + b = cx + d 形式的方程'''\n",
    "    print((d - b)/(a - c))"
   ]
  },
  {
   "cell_type": "code",
   "execution_count": 18,
   "id": "01b470ee-8740-41a6-b880-6dc946031e88",
   "metadata": {},
   "outputs": [
    {
     "name": "stdout",
     "output_type": "stream",
     "text": [
      "4.0\n",
      "None\n"
     ]
    }
   ],
   "source": [
    ">>> x = equation(2,5,0,13)\n",
    ">>> print(x)"
   ]
  },
  {
   "cell_type": "markdown",
   "id": "60c3430f-5c87-4187-b71f-f14b112d7b25",
   "metadata": {},
   "source": [
    "代码清单 4-4　用公式解二次方程"
   ]
  },
  {
   "cell_type": "code",
   "execution_count": 10,
   "id": "196fd805-6b16-449f-9cbe-2a7afd622453",
   "metadata": {},
   "outputs": [],
   "source": [
    "from math import sqrt"
   ]
  },
  {
   "cell_type": "code",
   "execution_count": 11,
   "id": "0296e565-8d59-4aca-a4a7-568095117e8d",
   "metadata": {},
   "outputs": [],
   "source": [
    "def quad(a,b,c):\n",
    "    '''返回a*x**2 + b*x + c = 0形式的方程的解'''\n",
    "    x1 = (-b + sqrt(b**2 - 4*a*c))/(2*a)\n",
    "    x2 = (-b - sqrt(b**2 - 4*a*c))/(2*a)\n",
    "    return x1,x2"
   ]
  },
  {
   "cell_type": "code",
   "execution_count": 16,
   "id": "fe73326c-e722-4262-aab1-dbd0b24759a7",
   "metadata": {},
   "outputs": [
    {
     "data": {
      "text/plain": [
       "(1.5, -5.0)"
      ]
     },
     "execution_count": 16,
     "metadata": {},
     "output_type": "execute_result"
    }
   ],
   "source": [
    ">>> quad(2,7,-15)"
   ]
  },
  {
   "cell_type": "markdown",
   "id": "8dacc213-558d-4b66-8cd8-80db3de3e5a0",
   "metadata": {},
   "source": [
    "代码清单 4-5　用plug()函数解三次方程（plug.py）"
   ]
  },
  {
   "cell_type": "code",
   "execution_count": 13,
   "id": "a5bbd354-74da-4287-80bd-0e3f7e9cacdb",
   "metadata": {},
   "outputs": [],
   "source": [
    "def g(x):\n",
    "    return 6*x**3 + 31*x**2 + 3*x - 10\n",
    "def plug():\n",
    "    x = -100\n",
    "    while x < 100:\n",
    "        if g(x) == 0:\n",
    "            print(\"x =\",x)\n",
    "        x += 1\n",
    "    print(\"done.\")"
   ]
  },
  {
   "cell_type": "code",
   "execution_count": 15,
   "id": "b5b45fc7-e2f2-4132-af18-fcf634cee8fe",
   "metadata": {},
   "outputs": [
    {
     "name": "stdout",
     "output_type": "stream",
     "text": [
      "x = -5\n",
      "done.\n"
     ]
    }
   ],
   "source": [
    ">>> plug()"
   ]
  },
  {
   "cell_type": "markdown",
   "id": "2c899b38-2959-47e9-ad99-1a76f4875cd5",
   "metadata": {},
   "source": [
    "代码清单 4-12　解方程的猜测方法"
   ]
  },
  {
   "cell_type": "code",
   "execution_count": 19,
   "id": "d4be584c-d27d-422e-9614-c3601fe6e8e0",
   "metadata": {},
   "outputs": [
    {
     "name": "stdout",
     "output_type": "stream",
     "text": [
      "-0.6666669845581055 9.642708896251406e-06\n"
     ]
    }
   ],
   "source": [
    "'''猜测方法'''\n",
    "def f(x):\n",
    "    return 6*x**3 + 31*x**2 + 3*x - 10\n",
    "\n",
    "def average(a,b):\n",
    "    return (a + b)/2.0\n",
    "\n",
    "def guess():\n",
    "    lower = -1\n",
    "    upper = 0\n",
    "    for i in range(20):\n",
    "        midpt = average(lower,upper)\n",
    "        if f(midpt) == 0:\n",
    "            return midpt\n",
    "        elif f(midpt) < 0:\n",
    "            upper = midpt\n",
    "        else:\n",
    "            lower = midpt\n",
    "    return midpt\n",
    "x = guess()\n",
    "print(x,f(x))"
   ]
  },
  {
   "cell_type": "code",
   "execution_count": 20,
   "id": "ec5caa35-c46a-4bb4-9dca-109332cee17e",
   "metadata": {},
   "outputs": [
    {
     "data": {
      "text/plain": [
       "0.0"
      ]
     },
     "execution_count": 20,
     "metadata": {},
     "output_type": "execute_result"
    }
   ],
   "source": [
    ">>> f(-2/3)"
   ]
  },
  {
   "cell_type": "code",
   "execution_count": null,
   "id": "2eab095b-faf7-457d-a946-770e77d77619",
   "metadata": {},
   "outputs": [],
   "source": []
  }
 ],
 "metadata": {
  "kernelspec": {
   "display_name": "Python 3 (ipykernel)",
   "language": "python",
   "name": "python3"
  },
  "language_info": {
   "codemirror_mode": {
    "name": "ipython",
    "version": 3
   },
   "file_extension": ".py",
   "mimetype": "text/x-python",
   "name": "python",
   "nbconvert_exporter": "python",
   "pygments_lexer": "ipython3",
   "version": "3.12.4"
  }
 },
 "nbformat": 4,
 "nbformat_minor": 5
}
