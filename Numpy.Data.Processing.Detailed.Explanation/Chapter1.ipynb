{
 "cells": [
  {
   "cell_type": "markdown",
   "id": "5fff68ab-55e1-458f-aaf7-94b12bc780cf",
   "metadata": {},
   "source": [
    "Chapter1\tNumPy的基础\n",
    "----------------------------------------\n",
    "1.1 NumPy 的基础与安装方法\n",
    "----------------------------------------\n",
    "1.1.4 NumPy入门教程\n",
    "----------------------------------------"
   ]
  },
  {
   "cell_type": "code",
   "execution_count": 2,
   "id": "45108953-7662-4f0c-92cc-e2591d46fa7c",
   "metadata": {},
   "outputs": [
    {
     "data": {
      "text/plain": [
       "3"
      ]
     },
     "execution_count": 2,
     "metadata": {},
     "output_type": "execute_result"
    }
   ],
   "source": [
    "1 + 2"
   ]
  },
  {
   "cell_type": "code",
   "execution_count": 3,
   "id": "908b733f-a25e-4550-826d-36b9d5880c75",
   "metadata": {},
   "outputs": [
    {
     "data": {
      "text/plain": [
       "tuple"
      ]
     },
     "execution_count": 3,
     "metadata": {},
     "output_type": "execute_result"
    }
   ],
   "source": [
    "type((1, 2, 3))"
   ]
  },
  {
   "cell_type": "code",
   "execution_count": 1,
   "id": "cf9baf7d-0e27-415f-810a-e45aa8937c77",
   "metadata": {},
   "outputs": [
    {
     "name": "stdout",
     "output_type": "stream",
     "text": [
      "[1 2 3]\n"
     ]
    }
   ],
   "source": [
    "import numpy as np\n",
    "a = np.array([1, 2, 3])\n",
    "print(a)"
   ]
  },
  {
   "cell_type": "code",
   "execution_count": 9,
   "id": "df49b0b3-a975-4e48-b453-865ff9bd0dd6",
   "metadata": {},
   "outputs": [
    {
     "data": {
      "text/plain": [
       "array([3, 6, 9])"
      ]
     },
     "execution_count": 9,
     "metadata": {},
     "output_type": "execute_result"
    }
   ],
   "source": [
    "a * 3"
   ]
  },
  {
   "cell_type": "code",
   "execution_count": 10,
   "id": "77965e7a-663f-4f5f-bd08-2aa77374014f",
   "metadata": {},
   "outputs": [
    {
     "data": {
      "text/plain": [
       "array([3, 4, 5])"
      ]
     },
     "execution_count": 10,
     "metadata": {},
     "output_type": "execute_result"
    }
   ],
   "source": [
    "a + 2"
   ]
  },
  {
   "cell_type": "code",
   "execution_count": 6,
   "id": "55dfa7d1-a16e-4e3a-96ca-29b38874740f",
   "metadata": {},
   "outputs": [
    {
     "data": {
      "text/plain": [
       "[1, 2, 3, 1, 2, 3, 1, 2, 3]"
      ]
     },
     "execution_count": 6,
     "metadata": {},
     "output_type": "execute_result"
    }
   ],
   "source": [
    "[1, 2, 3] * 3"
   ]
  },
  {
   "cell_type": "code",
   "execution_count": 7,
   "id": "7371cb7d-ab17-4e6c-af95-54fecff70bc3",
   "metadata": {},
   "outputs": [],
   "source": [
    "b = np.array([2, 2, 0])"
   ]
  },
  {
   "cell_type": "code",
   "execution_count": 8,
   "id": "2b0f9475-7207-40b3-97c0-4814c0f167c0",
   "metadata": {},
   "outputs": [
    {
     "data": {
      "text/plain": [
       "array([3, 4, 3])"
      ]
     },
     "execution_count": 8,
     "metadata": {},
     "output_type": "execute_result"
    }
   ],
   "source": [
    "a + b"
   ]
  },
  {
   "cell_type": "code",
   "execution_count": 11,
   "id": "64eb88db-5533-40a4-a881-2f92ca77f182",
   "metadata": {},
   "outputs": [
    {
     "name": "stderr",
     "output_type": "stream",
     "text": [
      "/tmp/ipykernel_67355/1286629031.py:1: RuntimeWarning: divide by zero encountered in divide\n",
      "  a / b\n"
     ]
    },
    {
     "data": {
      "text/plain": [
       "array([0.5, 1. , inf])"
      ]
     },
     "execution_count": 11,
     "metadata": {},
     "output_type": "execute_result"
    }
   ],
   "source": [
    "a / b"
   ]
  },
  {
   "cell_type": "code",
   "execution_count": 12,
   "id": "27243328-9542-446d-9748-d0e1db014328",
   "metadata": {},
   "outputs": [
    {
     "data": {
      "text/plain": [
       "array([2, 4, 0])"
      ]
     },
     "execution_count": 12,
     "metadata": {},
     "output_type": "execute_result"
    }
   ],
   "source": [
    "a * b"
   ]
  },
  {
   "cell_type": "code",
   "execution_count": 13,
   "id": "d3621110-a09c-465a-9abe-1a0d671e772e",
   "metadata": {},
   "outputs": [
    {
     "data": {
      "text/plain": [
       "6"
      ]
     },
     "execution_count": 13,
     "metadata": {},
     "output_type": "execute_result"
    }
   ],
   "source": [
    "np.dot(a, b)"
   ]
  },
  {
   "cell_type": "code",
   "execution_count": 14,
   "id": "9b1b4d03-9d4b-4949-ac6b-8de1d5a8a99f",
   "metadata": {},
   "outputs": [
    {
     "data": {
      "text/plain": [
       "array([0, 1, 2, 3, 4, 5, 6, 7, 8, 9])"
      ]
     },
     "execution_count": 14,
     "metadata": {},
     "output_type": "execute_result"
    }
   ],
   "source": [
    "np.arange(10)"
   ]
  },
  {
   "cell_type": "code",
   "execution_count": 15,
   "id": "4365854b-4fe7-4a66-8833-7840cba22450",
   "metadata": {},
   "outputs": [
    {
     "data": {
      "text/plain": [
       "array([0, 2, 4, 6, 8])"
      ]
     },
     "execution_count": 15,
     "metadata": {},
     "output_type": "execute_result"
    }
   ],
   "source": [
    "np.arange(0, 10, 2)"
   ]
  },
  {
   "cell_type": "code",
   "execution_count": 16,
   "id": "b38c4038-2b4a-48c9-b54f-3c4bb214d784",
   "metadata": {},
   "outputs": [
    {
     "data": {
      "text/plain": [
       "array([ 0.        ,  0.71428571,  1.42857143,  2.14285714,  2.85714286,\n",
       "        3.57142857,  4.28571429,  5.        ,  5.71428571,  6.42857143,\n",
       "        7.14285714,  7.85714286,  8.57142857,  9.28571429, 10.        ])"
      ]
     },
     "execution_count": 16,
     "metadata": {},
     "output_type": "execute_result"
    }
   ],
   "source": [
    "np.linspace(0, 10, 15)"
   ]
  },
  {
   "cell_type": "code",
   "execution_count": 9,
   "id": "0eb5c5bc-8215-43f3-be1a-b300db26950b",
   "metadata": {},
   "outputs": [],
   "source": [
    "c = np.array([[1, 2, 3], [4, 5, 6]])"
   ]
  },
  {
   "cell_type": "code",
   "execution_count": 18,
   "id": "c2e73338-cd09-42f6-8204-3066576489b6",
   "metadata": {},
   "outputs": [
    {
     "data": {
      "text/plain": [
       "array([[1, 2, 3],\n",
       "       [4, 5, 6]])"
      ]
     },
     "execution_count": 18,
     "metadata": {},
     "output_type": "execute_result"
    }
   ],
   "source": [
    "c"
   ]
  },
  {
   "cell_type": "code",
   "execution_count": 19,
   "id": "69d39e7c-9877-4a81-836e-446e0ee5b658",
   "metadata": {},
   "outputs": [
    {
     "data": {
      "text/plain": [
       "(2, 3)"
      ]
     },
     "execution_count": 19,
     "metadata": {},
     "output_type": "execute_result"
    }
   ],
   "source": [
    "c.shape"
   ]
  },
  {
   "cell_type": "code",
   "execution_count": 20,
   "id": "754eb3b3-130a-4413-be9e-2af2f70b2786",
   "metadata": {},
   "outputs": [],
   "source": [
    "d = np.array([[[1, 2, 3], [4, 5, 6], [7, 8, 9], [10, 11, 12]],\n",
    "[[13,14,15],[16,17,18],[19,20,21],[22,23,24]]])"
   ]
  },
  {
   "cell_type": "code",
   "execution_count": 21,
   "id": "4be5acce-d9b6-48bb-9a1e-8a2ef5d8f4ef",
   "metadata": {},
   "outputs": [
    {
     "data": {
      "text/plain": [
       "array([[[ 1,  2,  3],\n",
       "        [ 4,  5,  6],\n",
       "        [ 7,  8,  9],\n",
       "        [10, 11, 12]],\n",
       "\n",
       "       [[13, 14, 15],\n",
       "        [16, 17, 18],\n",
       "        [19, 20, 21],\n",
       "        [22, 23, 24]]])"
      ]
     },
     "execution_count": 21,
     "metadata": {},
     "output_type": "execute_result"
    }
   ],
   "source": [
    "d"
   ]
  },
  {
   "cell_type": "code",
   "execution_count": 22,
   "id": "cd3e3450-a181-43bd-9bd5-7acd7a7284c3",
   "metadata": {},
   "outputs": [
    {
     "data": {
      "text/plain": [
       "(2, 4, 3)"
      ]
     },
     "execution_count": 22,
     "metadata": {},
     "output_type": "execute_result"
    }
   ],
   "source": [
    "d.shape"
   ]
  },
  {
   "cell_type": "code",
   "execution_count": 23,
   "id": "0bd5aec6-83ab-4a97-b58e-cf1aa3d066b2",
   "metadata": {},
   "outputs": [
    {
     "data": {
      "text/plain": [
       "21"
      ]
     },
     "execution_count": 23,
     "metadata": {},
     "output_type": "execute_result"
    }
   ],
   "source": [
    "np.sum(c)"
   ]
  },
  {
   "cell_type": "code",
   "execution_count": 24,
   "id": "25dc0eac-dd28-4682-aaf3-4812a64bb2d6",
   "metadata": {},
   "outputs": [
    {
     "data": {
      "text/plain": [
       "array([ 6, 15])"
      ]
     },
     "execution_count": 24,
     "metadata": {},
     "output_type": "execute_result"
    }
   ],
   "source": [
    "np.sum(c, axis=1)"
   ]
  },
  {
   "cell_type": "code",
   "execution_count": 25,
   "id": "ea722b99-3d00-4155-a5b9-654e56fbb947",
   "metadata": {},
   "outputs": [
    {
     "data": {
      "text/plain": [
       "array([5, 7, 9])"
      ]
     },
     "execution_count": 25,
     "metadata": {},
     "output_type": "execute_result"
    }
   ],
   "source": [
    "np.sum(c, axis=0)"
   ]
  },
  {
   "cell_type": "code",
   "execution_count": 26,
   "id": "e4d6313f-d986-4555-92c6-a6b488e713e8",
   "metadata": {},
   "outputs": [
    {
     "data": {
      "text/plain": [
       "300"
      ]
     },
     "execution_count": 26,
     "metadata": {},
     "output_type": "execute_result"
    }
   ],
   "source": [
    "np.sum(d)"
   ]
  },
  {
   "cell_type": "code",
   "execution_count": 27,
   "id": "db39d776-c414-4e04-a384-bb5583853964",
   "metadata": {},
   "outputs": [
    {
     "data": {
      "text/plain": [
       "array([[14, 16, 18],\n",
       "       [20, 22, 24],\n",
       "       [26, 28, 30],\n",
       "       [32, 34, 36]])"
      ]
     },
     "execution_count": 27,
     "metadata": {},
     "output_type": "execute_result"
    }
   ],
   "source": [
    "np.sum(d, axis=0)"
   ]
  },
  {
   "cell_type": "code",
   "execution_count": 28,
   "id": "9c356b50-2f4c-4719-a869-af6cea6816ab",
   "metadata": {},
   "outputs": [
    {
     "data": {
      "text/plain": [
       "array([[22, 26, 30],\n",
       "       [70, 74, 78]])"
      ]
     },
     "execution_count": 28,
     "metadata": {},
     "output_type": "execute_result"
    }
   ],
   "source": [
    "np.sum(d, axis=1)"
   ]
  },
  {
   "cell_type": "code",
   "execution_count": 29,
   "id": "bade6006-a827-4743-afe6-422df02e7533",
   "metadata": {},
   "outputs": [
    {
     "data": {
      "text/plain": [
       "array([[ 6, 15, 24, 33],\n",
       "       [42, 51, 60, 69]])"
      ]
     },
     "execution_count": 29,
     "metadata": {},
     "output_type": "execute_result"
    }
   ],
   "source": [
    "np.sum(d, axis=2)"
   ]
  },
  {
   "cell_type": "code",
   "execution_count": 30,
   "id": "ec2fd2fb-5bd5-4380-83d2-9945c59d592f",
   "metadata": {},
   "outputs": [
    {
     "data": {
      "text/plain": [
       "array([[1, 2],\n",
       "       [3, 4],\n",
       "       [5, 6]])"
      ]
     },
     "execution_count": 30,
     "metadata": {},
     "output_type": "execute_result"
    }
   ],
   "source": [
    "c.reshape(3, 2)"
   ]
  },
  {
   "cell_type": "code",
   "execution_count": 31,
   "id": "56081c51-e703-4453-b352-3096be366ba1",
   "metadata": {},
   "outputs": [
    {
     "data": {
      "text/plain": [
       "array([[1],\n",
       "       [2],\n",
       "       [3],\n",
       "       [4],\n",
       "       [5],\n",
       "       [6]])"
      ]
     },
     "execution_count": 31,
     "metadata": {},
     "output_type": "execute_result"
    }
   ],
   "source": [
    "c.reshape(6, 1)"
   ]
  },
  {
   "cell_type": "code",
   "execution_count": 34,
   "id": "4fdb9d10-f299-4fb5-a686-da0d8af028ac",
   "metadata": {},
   "outputs": [
    {
     "data": {
      "text/plain": [
       "array([[1, 4],\n",
       "       [2, 5],\n",
       "       [3, 6]])"
      ]
     },
     "execution_count": 34,
     "metadata": {},
     "output_type": "execute_result"
    }
   ],
   "source": [
    "c.T"
   ]
  },
  {
   "cell_type": "code",
   "execution_count": 35,
   "id": "dc56bbd9-7dcc-4bec-90bf-0908ac0795fe",
   "metadata": {},
   "outputs": [
    {
     "data": {
      "text/plain": [
       "array([[1, 4],\n",
       "       [2, 5],\n",
       "       [3, 6]])"
      ]
     },
     "execution_count": 35,
     "metadata": {},
     "output_type": "execute_result"
    }
   ],
   "source": [
    "np.transpose(c)"
   ]
  },
  {
   "cell_type": "code",
   "execution_count": 36,
   "id": "e171a5f9-4265-4ae4-bf8f-d04c9eb388b4",
   "metadata": {},
   "outputs": [
    {
     "data": {
      "text/plain": [
       "-0.05033588214411729"
      ]
     },
     "execution_count": 36,
     "metadata": {},
     "output_type": "execute_result"
    }
   ],
   "source": [
    "np.random.randn()"
   ]
  },
  {
   "cell_type": "code",
   "execution_count": 37,
   "id": "cfed23dd-3ab5-4391-b669-b6f00ed3a5b8",
   "metadata": {},
   "outputs": [
    {
     "data": {
      "text/plain": [
       "0.09620453064128931"
      ]
     },
     "execution_count": 37,
     "metadata": {},
     "output_type": "execute_result"
    }
   ],
   "source": [
    "np.random.rand()"
   ]
  },
  {
   "cell_type": "code",
   "execution_count": 38,
   "id": "d7ff3def-cc04-43c0-bf74-96703df98b20",
   "metadata": {},
   "outputs": [
    {
     "data": {
      "text/plain": [
       "array([[-0.13319456,  0.04122304, -2.47996823],\n",
       "       [ 0.34726679,  0.43200486, -0.88727352]])"
      ]
     },
     "execution_count": 38,
     "metadata": {},
     "output_type": "execute_result"
    }
   ],
   "source": [
    "np.random.randn(2, 3)"
   ]
  },
  {
   "cell_type": "code",
   "execution_count": 2,
   "id": "4fc78256-3e21-44db-aaeb-0b04b5d1f6f1",
   "metadata": {},
   "outputs": [
    {
     "data": {
      "text/plain": [
       "array([1, 2, 3])"
      ]
     },
     "execution_count": 2,
     "metadata": {},
     "output_type": "execute_result"
    }
   ],
   "source": [
    "a"
   ]
  },
  {
   "cell_type": "code",
   "execution_count": 3,
   "id": "f7347900-1f62-4486-9832-73d675db7b2d",
   "metadata": {},
   "outputs": [
    {
     "data": {
      "text/plain": [
       "1"
      ]
     },
     "execution_count": 3,
     "metadata": {},
     "output_type": "execute_result"
    }
   ],
   "source": [
    "a[0]"
   ]
  },
  {
   "cell_type": "code",
   "execution_count": 4,
   "id": "1c55c4f0-4ea3-4624-afc0-514eee40d76c",
   "metadata": {},
   "outputs": [
    {
     "data": {
      "text/plain": [
       "3"
      ]
     },
     "execution_count": 4,
     "metadata": {},
     "output_type": "execute_result"
    }
   ],
   "source": [
    "a[2]"
   ]
  },
  {
   "cell_type": "code",
   "execution_count": 5,
   "id": "400c02a7-c56e-4b40-91ba-fb7451bef839",
   "metadata": {},
   "outputs": [
    {
     "data": {
      "text/plain": [
       "array([1, 2, 3])"
      ]
     },
     "execution_count": 5,
     "metadata": {},
     "output_type": "execute_result"
    }
   ],
   "source": [
    "a"
   ]
  },
  {
   "cell_type": "code",
   "execution_count": 6,
   "id": "e28e776f-b294-4470-a0ac-3d58f6ef9ce9",
   "metadata": {},
   "outputs": [],
   "source": [
    "a[1] = 3"
   ]
  },
  {
   "cell_type": "code",
   "execution_count": 7,
   "id": "a9a05ad8-4e52-4fcd-9400-5cd4b959349a",
   "metadata": {},
   "outputs": [
    {
     "data": {
      "text/plain": [
       "array([1, 3, 3])"
      ]
     },
     "execution_count": 7,
     "metadata": {},
     "output_type": "execute_result"
    }
   ],
   "source": [
    "a"
   ]
  },
  {
   "cell_type": "code",
   "execution_count": 10,
   "id": "ddbf630f-c2f8-40d9-a265-c08c67a07f2d",
   "metadata": {},
   "outputs": [
    {
     "data": {
      "text/plain": [
       "array([[1, 2, 3],\n",
       "       [4, 5, 6]])"
      ]
     },
     "execution_count": 10,
     "metadata": {},
     "output_type": "execute_result"
    }
   ],
   "source": [
    "c"
   ]
  },
  {
   "cell_type": "code",
   "execution_count": 11,
   "id": "d6c5a702-2a58-4fcb-942c-c78b59a627fd",
   "metadata": {},
   "outputs": [
    {
     "data": {
      "text/plain": [
       "1"
      ]
     },
     "execution_count": 11,
     "metadata": {},
     "output_type": "execute_result"
    }
   ],
   "source": [
    "c[0, 0]"
   ]
  },
  {
   "cell_type": "code",
   "execution_count": 12,
   "id": "9710739f-70fa-437a-8be0-d6f8121c0f5e",
   "metadata": {},
   "outputs": [
    {
     "data": {
      "text/plain": [
       "[0, 2]"
      ]
     },
     "execution_count": 12,
     "metadata": {},
     "output_type": "execute_result"
    }
   ],
   "source": [
    "[0, 2]"
   ]
  },
  {
   "cell_type": "code",
   "execution_count": 13,
   "id": "c5857e2c-2212-42f1-8595-fb4be2ca437a",
   "metadata": {},
   "outputs": [
    {
     "data": {
      "text/plain": [
       "6"
      ]
     },
     "execution_count": 13,
     "metadata": {},
     "output_type": "execute_result"
    }
   ],
   "source": [
    "c[1, 2]"
   ]
  },
  {
   "cell_type": "code",
   "execution_count": 14,
   "id": "88d0e420-45cb-45dd-96e8-cd6b402befcf",
   "metadata": {},
   "outputs": [],
   "source": [
    "d = np.array([0, 5, 2, 7, 1, 9])"
   ]
  },
  {
   "cell_type": "code",
   "execution_count": 15,
   "id": "91481c2a-0737-41c1-8af5-7cfb223b4eba",
   "metadata": {},
   "outputs": [
    {
     "data": {
      "text/plain": [
       "array([5, 2, 7, 1])"
      ]
     },
     "execution_count": 15,
     "metadata": {},
     "output_type": "execute_result"
    }
   ],
   "source": [
    "d[1:5]"
   ]
  },
  {
   "cell_type": "code",
   "execution_count": 16,
   "id": "3623dc04-a916-4e87-bff1-7e0216408465",
   "metadata": {},
   "outputs": [
    {
     "data": {
      "text/plain": [
       "array([5, 2])"
      ]
     },
     "execution_count": 16,
     "metadata": {},
     "output_type": "execute_result"
    }
   ],
   "source": [
    "d[1:3]"
   ]
  },
  {
   "cell_type": "code",
   "execution_count": 17,
   "id": "f7476f95-f6f2-4f04-b0f5-b4adc3c0fdfb",
   "metadata": {},
   "outputs": [
    {
     "data": {
      "text/plain": [
       "array([0, 2, 1])"
      ]
     },
     "execution_count": 17,
     "metadata": {},
     "output_type": "execute_result"
    }
   ],
   "source": [
    "d[0:5:2]"
   ]
  },
  {
   "cell_type": "code",
   "execution_count": 18,
   "id": "f81b12d1-d7f8-48af-8b92-426c5a7a0dfc",
   "metadata": {},
   "outputs": [
    {
     "data": {
      "text/plain": [
       "array([9, 1, 7, 2, 5, 0])"
      ]
     },
     "execution_count": 18,
     "metadata": {},
     "output_type": "execute_result"
    }
   ],
   "source": [
    "d[::-1]"
   ]
  },
  {
   "cell_type": "code",
   "execution_count": 19,
   "id": "8ba5f3b6-d553-4167-a843-50d8fd52dd86",
   "metadata": {},
   "outputs": [],
   "source": [
    "import time # 导入用于处理时间的模块\n",
    "def calculate_time():\n",
    "    a = np.random.randn(100000)\n",
    "    b = list(a) # 转换为列表\n",
    "    start_time = time.time() #  设置开始时间\n",
    "    for _ in range(1000):\n",
    "        sum_1 = np.sum(a)\n",
    "    print(\"Using NumPy\\t %f sec\" % (time.time()-start_time))\n",
    "    start_time = time.time() # 再次设置开始时间\n",
    "    for _ in range(1000):\n",
    "       sum_2 = sum(b)\n",
    "    print(\"Not using NumPy\\t %f sec\" % (time.time()-start_time))"
   ]
  },
  {
   "cell_type": "code",
   "execution_count": 20,
   "id": "90ed42d0-6810-4100-b180-1af21defa070",
   "metadata": {},
   "outputs": [
    {
     "name": "stdout",
     "output_type": "stream",
     "text": [
      "Using NumPy\t 0.022759 sec\n",
      "Not using NumPy\t 2.791894 sec\n"
     ]
    }
   ],
   "source": [
    "calculate_time()"
   ]
  },
  {
   "cell_type": "code",
   "execution_count": 21,
   "id": "dee92368-a0ef-423a-b279-0ee536c2ba4f",
   "metadata": {},
   "outputs": [],
   "source": [
    "a = np.random.randn(10000000)"
   ]
  },
  {
   "cell_type": "code",
   "execution_count": 22,
   "id": "b937860d-74cf-43d6-a4ed-4c9e46b6306a",
   "metadata": {},
   "outputs": [
    {
     "name": "stdout",
     "output_type": "stream",
     "text": [
      "4.01 ms ± 50.7 μs per loop (mean ± std. dev. of 7 runs, 100 loops each)\n"
     ]
    }
   ],
   "source": [
    "%timeit np.sum(a)"
   ]
  },
  {
   "cell_type": "code",
   "execution_count": 23,
   "id": "07eed830-6b6a-4d04-a0fe-5991b21de182",
   "metadata": {},
   "outputs": [
    {
     "name": "stdout",
     "output_type": "stream",
     "text": [
      "440 ms ± 12.9 ms per loop (mean ± std. dev. of 7 runs, 1 loop each)\n"
     ]
    }
   ],
   "source": [
    "%timeit sum(a)"
   ]
  },
  {
   "cell_type": "markdown",
   "id": "6df51736-132f-47ca-baae-344890b75c17",
   "metadata": {},
   "source": [
    "1.2 多维数据结构ndarray的基础\n",
    "----------------------------------------\n",
    "1.2.2 属性（attributes）\n",
    "----------------------------------------"
   ]
  },
  {
   "cell_type": "code",
   "execution_count": 34,
   "id": "b418b6b0-5537-4a26-8875-75e72d46e1ab",
   "metadata": {},
   "outputs": [],
   "source": [
    "import numpy as np # 导入NumPy模块"
   ]
  },
  {
   "cell_type": "code",
   "execution_count": 35,
   "id": "542c5f5a-ab70-4d45-8b7a-a8e04a96e78f",
   "metadata": {},
   "outputs": [],
   "source": [
    "a = np.array([1, 2, 3]) #  生成ndarray实例"
   ]
  },
  {
   "cell_type": "code",
   "execution_count": 33,
   "id": "ede43a10-572b-41b8-bbcb-01432d0d5b05",
   "metadata": {},
   "outputs": [
    {
     "data": {
      "text/plain": [
       "numpy.ndarray"
      ]
     },
     "execution_count": 33,
     "metadata": {},
     "output_type": "execute_result"
    }
   ],
   "source": [
    "type(a) # 确认对象的类"
   ]
  },
  {
   "cell_type": "code",
   "execution_count": 27,
   "id": "b1cb63f6-28f5-4cc5-b4e1-3564a122e567",
   "metadata": {},
   "outputs": [],
   "source": [
    "b = np.array([[1, 2, 3], [4, 5, 6]])"
   ]
  },
  {
   "cell_type": "code",
   "execution_count": 28,
   "id": "0a711396-1b66-4d37-bce7-9e769ce82153",
   "metadata": {},
   "outputs": [
    {
     "data": {
      "text/plain": [
       "array([1, 2, 3])"
      ]
     },
     "execution_count": 28,
     "metadata": {},
     "output_type": "execute_result"
    }
   ],
   "source": [
    "a"
   ]
  },
  {
   "cell_type": "code",
   "execution_count": 29,
   "id": "26677316-d9a5-4639-b131-53b4365e77d5",
   "metadata": {},
   "outputs": [
    {
     "data": {
      "text/plain": [
       "array([[1, 2, 3],\n",
       "       [4, 5, 6]])"
      ]
     },
     "execution_count": 29,
     "metadata": {},
     "output_type": "execute_result"
    }
   ],
   "source": [
    "b"
   ]
  },
  {
   "cell_type": "code",
   "execution_count": 32,
   "id": "995c4dc2-aafb-48ed-908f-2d77f4cfd591",
   "metadata": {},
   "outputs": [
    {
     "data": {
      "text/plain": [
       "array([[1, 4],\n",
       "       [2, 5],\n",
       "       [3, 6]])"
      ]
     },
     "execution_count": 32,
     "metadata": {},
     "output_type": "execute_result"
    }
   ],
   "source": [
    "b.T #进行转置"
   ]
  },
  {
   "cell_type": "code",
   "execution_count": 36,
   "id": "1601f17a-d3ed-4300-b081-af7dba77136b",
   "metadata": {},
   "outputs": [
    {
     "data": {
      "text/plain": [
       "array([1, 2, 3])"
      ]
     },
     "execution_count": 36,
     "metadata": {},
     "output_type": "execute_result"
    }
   ],
   "source": [
    "a.T # 因为a.ndim<2，所以没有变化"
   ]
  },
  {
   "cell_type": "code",
   "execution_count": 37,
   "id": "9d1486b5-1079-48b7-a14c-7f7323a46e26",
   "metadata": {},
   "outputs": [
    {
     "data": {
      "text/plain": [
       "<memory at 0x7d966c0b8ac0>"
      ]
     },
     "execution_count": 37,
     "metadata": {},
     "output_type": "execute_result"
    }
   ],
   "source": [
    "a.data # 显示内存中的地址"
   ]
  },
  {
   "cell_type": "code",
   "execution_count": 38,
   "id": "01ddba27-bdbf-4c88-91f2-2bac00a1f2eb",
   "metadata": {},
   "outputs": [
    {
     "data": {
      "text/plain": [
       "dtype('int64')"
      ]
     },
     "execution_count": 38,
     "metadata": {},
     "output_type": "execute_result"
    }
   ],
   "source": [
    "a.dtype # 显示数据的类型"
   ]
  },
  {
   "cell_type": "code",
   "execution_count": 39,
   "id": "1e269e7e-b387-48f9-89ec-d7e6647e90ba",
   "metadata": {},
   "outputs": [
    {
     "data": {
      "text/plain": [
       "  C_CONTIGUOUS : True\n",
       "  F_CONTIGUOUS : True\n",
       "  OWNDATA : True\n",
       "  WRITEABLE : True\n",
       "  ALIGNED : True\n",
       "  WRITEBACKIFCOPY : False"
      ]
     },
     "execution_count": 39,
     "metadata": {},
     "output_type": "execute_result"
    }
   ],
   "source": [
    "a.flags"
   ]
  },
  {
   "cell_type": "code",
   "execution_count": 40,
   "id": "56c9740b-ef21-4b71-bdf7-21560d668609",
   "metadata": {},
   "outputs": [
    {
     "data": {
      "text/plain": [
       "  C_CONTIGUOUS : True\n",
       "  F_CONTIGUOUS : False\n",
       "  OWNDATA : True\n",
       "  WRITEABLE : True\n",
       "  ALIGNED : True\n",
       "  WRITEBACKIFCOPY : False"
      ]
     },
     "execution_count": 40,
     "metadata": {},
     "output_type": "execute_result"
    }
   ],
   "source": [
    "b.flags #  可以获取各种信息"
   ]
  },
  {
   "cell_type": "code",
   "execution_count": null,
   "id": "980724d4-db72-4629-8453-5d2ba98190d5",
   "metadata": {},
   "outputs": [],
   "source": []
  }
 ],
 "metadata": {
  "kernelspec": {
   "display_name": "Python 3 (ipykernel)",
   "language": "python",
   "name": "python3"
  },
  "language_info": {
   "codemirror_mode": {
    "name": "ipython",
    "version": 3
   },
   "file_extension": ".py",
   "mimetype": "text/x-python",
   "name": "python",
   "nbconvert_exporter": "python",
   "pygments_lexer": "ipython3",
   "version": "3.12.7"
  }
 },
 "nbformat": 4,
 "nbformat_minor": 5
}
