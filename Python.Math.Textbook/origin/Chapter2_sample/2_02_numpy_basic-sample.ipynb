{
 "cells": [
  {
   "cell_type": "markdown",
   "metadata": {},
   "source": [
    "▲示例2.31：NumPy 的导入"
   ]
  },
  {
   "cell_type": "code",
   "execution_count": 1,
   "metadata": {},
   "outputs": [],
   "source": [
    "import numpy"
   ]
  },
  {
   "cell_type": "markdown",
   "metadata": {},
   "source": [
    "▲示例2.32：为模块指定其他名称"
   ]
  },
  {
   "cell_type": "code",
   "execution_count": 2,
   "metadata": {},
   "outputs": [],
   "source": [
    "import numpy as np"
   ]
  },
  {
   "cell_type": "markdown",
   "metadata": {},
   "source": [
    "▲示例2.33：从 Python 列表中创建 NumPy 数组"
   ]
  },
  {
   "cell_type": "code",
   "execution_count": 3,
   "metadata": {},
   "outputs": [
    {
     "name": "stdout",
     "output_type": "stream",
     "text": [
      "[0 1 2 3 4 5]\n"
     ]
    }
   ],
   "source": [
    "import numpy as np\n",
    "\n",
    "a = np.array([0, 1, 2, 3, 4, 5])  # 从 Python 列表中创建 NumPy 数组\n",
    "print(a) "
   ]
  },
  {
   "cell_type": "markdown",
   "metadata": {},
   "source": [
    "▲示例2.34：从双重列表中创建二维的 NumPy 数组"
   ]
  },
  {
   "cell_type": "code",
   "execution_count": 4,
   "metadata": {},
   "outputs": [
    {
     "name": "stdout",
     "output_type": "stream",
     "text": [
      "[[0 1 2]\n",
      " [3 4 5]]\n"
     ]
    }
   ],
   "source": [
    "import numpy as np\n",
    "\n",
    "b = np.array([[0, 1, 2], [3, 4, 5]])  # 从双重列表中创建二维的 NumPy 数组\n",
    "print(b)"
   ]
  },
  {
   "cell_type": "markdown",
   "metadata": {},
   "source": [
    "▲示例2.35：从三重列表中创建三维的 NumPy 数组"
   ]
  },
  {
   "cell_type": "code",
   "execution_count": 11,
   "metadata": {},
   "outputs": [
    {
     "name": "stdout",
     "output_type": "stream",
     "text": [
      "[[[0 1 2]\n",
      "  [3 4 5]]\n",
      "\n",
      " [[5 4 3]\n",
      "  [2 1 0]]]\n"
     ]
    }
   ],
   "source": [
    "import numpy as np\n",
    "\n",
    "c = np.array([[[0, 1, 2], [3, 4, 5]], [[5, 4, 3], [2, 1, 0]]])  # 从三重列表中创建三维的 NumPy 数组\n",
    "print(c)"
   ]
  },
  {
   "cell_type": "markdown",
   "metadata": {},
   "source": [
    "▲示例2.36：生成数组的各种函数"
   ]
  },
  {
   "cell_type": "code",
   "execution_count": 12,
   "metadata": {},
   "outputs": [
    {
     "name": "stdout",
     "output_type": "stream",
     "text": [
      "[0. 0. 0. 0. 0. 0. 0. 0.]\n",
      "[1. 1. 1. 1. 1. 1. 1. 1.]\n",
      "[0 1 2 3 4 5 6 7]\n"
     ]
    }
   ],
   "source": [
    "import numpy as np\n",
    "\n",
    "d = np.zeros(8)  # 包含8个0的数组\n",
    "print(d)\n",
    "\n",
    "e = np.ones(8)  # 包含8个1的数组\n",
    "print(e)\n",
    "\n",
    "f = np.arange(8) # 包含0到7的数组\n",
    "print(f)"
   ]
  },
  {
   "cell_type": "markdown",
   "metadata": {},
   "source": [
    "▲示例2.37：用 shape() 函数获取数组的形状"
   ]
  },
  {
   "cell_type": "code",
   "execution_count": 13,
   "metadata": {},
   "outputs": [
    {
     "name": "stdout",
     "output_type": "stream",
     "text": [
      "(2, 3)\n"
     ]
    }
   ],
   "source": [
    "import numpy as np\n",
    "\n",
    "a = np.array([[0, 1, 2],\n",
    "              [3, 4, 5]])  # 2×3 的二维数组\n",
    "print(np.shape(a))  # 表示a的形状"
   ]
  },
  {
   "cell_type": "markdown",
   "metadata": {},
   "source": [
    "▲示例2.38：利用 len() 函数获得最外侧的元素数"
   ]
  },
  {
   "cell_type": "code",
   "execution_count": 14,
   "metadata": {},
   "outputs": [
    {
     "name": "stdout",
     "output_type": "stream",
     "text": [
      "2\n"
     ]
    }
   ],
   "source": [
    "print(len(a))  # 获得a的行数"
   ]
  },
  {
   "cell_type": "markdown",
   "metadata": {},
   "source": [
    "▲示例2.39：数组和数值的运算"
   ]
  },
  {
   "cell_type": "code",
   "execution_count": 15,
   "metadata": {
    "scrolled": true
   },
   "outputs": [
    {
     "name": "stdout",
     "output_type": "stream",
     "text": [
      "[[0 1 2]\n",
      " [3 4 5]]\n",
      "\n",
      "[[3 4 5]\n",
      " [6 7 8]]\n",
      "\n",
      "[[ 0  3  6]\n",
      " [ 9 12 15]]\n"
     ]
    }
   ],
   "source": [
    "import numpy as np\n",
    "\n",
    "a = np.array([[0, 1, 2],\n",
    "              [3, 4, 5]])  # 二维数组\n",
    "\n",
    "print(a) \n",
    "print()\n",
    "print(a + 3)  # 各元素加3\n",
    "print()\n",
    "print(a * 3)  # 各元素乘3"
   ]
  },
  {
   "cell_type": "markdown",
   "metadata": {},
   "source": [
    "▲示例2.40：数组间的运算"
   ]
  },
  {
   "cell_type": "code",
   "execution_count": 16,
   "metadata": {},
   "outputs": [
    {
     "name": "stdout",
     "output_type": "stream",
     "text": [
      "[[0 1 2]\n",
      " [3 4 5]]\n",
      "\n",
      "[[2 0 1]\n",
      " [5 3 4]]\n",
      "\n",
      "[[2 1 3]\n",
      " [8 7 9]]\n",
      "\n",
      "[[ 0  0  2]\n",
      " [15 12 20]]\n"
     ]
    }
   ],
   "source": [
    "b = np.array([[0, 1, 2],\n",
    "              [3, 4, 5]])  # 二维数组\n",
    "\n",
    "c = np.array([[2, 0, 1],\n",
    "              [5, 3, 4]])  # 二维数组\n",
    "\n",
    "print(b)\n",
    "print()\n",
    "print(c)\n",
    "print()\n",
    "print(b + c)\n",
    "print()\n",
    "print(b * c)"
   ]
  },
  {
   "cell_type": "markdown",
   "metadata": {},
   "source": [
    "▲示例2.41：通过指定索引，访问数组中的元素"
   ]
  },
  {
   "cell_type": "code",
   "execution_count": 17,
   "metadata": {},
   "outputs": [
    {
     "name": "stdout",
     "output_type": "stream",
     "text": [
      "4\n"
     ]
    }
   ],
   "source": [
    "import numpy as np\n",
    "\n",
    "a = np.array([1, 2, 3, 4, 5])\n",
    "print(a[3])  # 指定索引"
   ]
  },
  {
   "cell_type": "markdown",
   "metadata": {},
   "source": [
    "▲示例2.42：通过指定索引，交换数组中的元素"
   ]
  },
  {
   "cell_type": "code",
   "execution_count": 18,
   "metadata": {},
   "outputs": [
    {
     "name": "stdout",
     "output_type": "stream",
     "text": [
      "[1 2 9 4 5]\n"
     ]
    }
   ],
   "source": [
    "a[2] = 9\n",
    "print(a)"
   ]
  },
  {
   "cell_type": "markdown",
   "metadata": {},
   "source": [
    "▲示例2.43：访问二维数组中的元素"
   ]
  },
  {
   "cell_type": "code",
   "execution_count": 19,
   "metadata": {},
   "outputs": [
    {
     "name": "stdout",
     "output_type": "stream",
     "text": [
      "5\n"
     ]
    }
   ],
   "source": [
    "b = np.array([[0, 1, 2],\n",
    "              [3, 4, 5]])\n",
    "\n",
    "print(b[1, 2])  # 与 b[1][2]相同"
   ]
  },
  {
   "cell_type": "markdown",
   "metadata": {},
   "source": [
    "▲示例2.44：交换二维数组中的元素"
   ]
  },
  {
   "cell_type": "code",
   "execution_count": 20,
   "metadata": {},
   "outputs": [
    {
     "name": "stdout",
     "output_type": "stream",
     "text": [
      "[[0 1 2]\n",
      " [3 4 9]]\n"
     ]
    }
   ],
   "source": [
    "b[1, 2] = 9\n",
    "\n",
    "print(b)"
   ]
  },
  {
   "cell_type": "markdown",
   "metadata": {},
   "source": [
    "▲示例2.45：访问行或列"
   ]
  },
  {
   "cell_type": "code",
   "execution_count": 21,
   "metadata": {},
   "outputs": [
    {
     "name": "stdout",
     "output_type": "stream",
     "text": [
      "[3 4 5]\n",
      "\n",
      "[[0 6 2]\n",
      " [3 7 5]]\n"
     ]
    }
   ],
   "source": [
    "c = np.array([[0, 1, 2],\n",
    "              [3, 4, 5]])\n",
    "\n",
    "print(c[1, :])  # 检索索引为1的行\n",
    "\n",
    "print()\n",
    "\n",
    "c[:, 1] = np.array([6, 7])  # 替换索引为1的列\n",
    "print(c)"
   ]
  },
  {
   "cell_type": "markdown",
   "metadata": {},
   "source": [
    "▲示例2.46：作为函数参数以及返回值的数组"
   ]
  },
  {
   "cell_type": "code",
   "execution_count": 22,
   "metadata": {},
   "outputs": [
    {
     "name": "stdout",
     "output_type": "stream",
     "text": [
      "[[ 1  3  5]\n",
      " [ 7  9 11]]\n"
     ]
    }
   ],
   "source": [
    "import numpy as np\n",
    "\n",
    "def my_func(x):\n",
    "    y = x * 2 + 1\n",
    "    return y\n",
    "\n",
    "a = np.array([[0, 1, 2],\n",
    "              [3, 4, 5]])  # 二维数组\n",
    "b = my_func(a)  # 将数组作为参数传递，并作为返回值接收\n",
    "\n",
    "print(b)"
   ]
  },
  {
   "cell_type": "markdown",
   "metadata": {},
   "source": [
    "▲示例2.47：NumPy 提供的各种函数"
   ]
  },
  {
   "cell_type": "code",
   "execution_count": 23,
   "metadata": {},
   "outputs": [
    {
     "name": "stdout",
     "output_type": "stream",
     "text": [
      "统计: 15\n",
      "平均: 2.5\n",
      "最大值: 5\n",
      "最小值: 0\n"
     ]
    }
   ],
   "source": [
    "import numpy as np\n",
    "\n",
    "a = np.array([[0, 1, 2],\n",
    "              [3, 4, 5]])  #  2维数组\n",
    "\n",
    "print(\"统计:\", np.sum(a))\n",
    "print(\"平均:\", np.average(a))\n",
    "print(\"最大值:\", np.max(a))\n",
    "print(\"最小值:\", np.min(a))"
   ]
  },
  {
   "cell_type": "markdown",
   "metadata": {},
   "source": [
    "#### 问题"
   ]
  },
  {
   "cell_type": "markdown",
   "metadata": {},
   "source": [
    "　在 Jupyter Notebook 的单元格中编写两个 NumPy 的二维数组，并计算它们的和、差和乘积（示例 2.48）。"
   ]
  },
  {
   "cell_type": "markdown",
   "metadata": {},
   "source": [
    "#### 解答示例"
   ]
  },
  {
   "cell_type": "markdown",
   "metadata": {},
   "source": [
    "▲示例2.48：解答示例"
   ]
  },
  {
   "cell_type": "code",
   "execution_count": 24,
   "metadata": {},
   "outputs": [
    {
     "name": "stdout",
     "output_type": "stream",
     "text": [
      "[[5 5 5]\n",
      " [5 5 5]]\n",
      "\n",
      "[[-5 -3 -1]\n",
      " [ 1  3  5]]\n",
      "\n",
      "[[0 4 6]\n",
      " [6 4 0]]\n"
     ]
    }
   ],
   "source": [
    "import numpy as np\n",
    "\n",
    "a = np.array([[0, 1, 2],\n",
    "              [3, 4, 5]])\n",
    "b = np.array([[5, 4, 3],\n",
    "              [2, 1, 0]])\n",
    "\n",
    "print(a + b)  # 和\n",
    "print()\n",
    "print(a - b)  # 差\n",
    "print()\n",
    "print(a * b)  # 积"
   ]
  }
 ],
 "metadata": {
  "kernelspec": {
   "display_name": "Python 3",
   "language": "python",
   "name": "python3"
  },
  "language_info": {
   "codemirror_mode": {
    "name": "ipython",
    "version": 3
   },
   "file_extension": ".py",
   "mimetype": "text/x-python",
   "name": "python",
   "nbconvert_exporter": "python",
   "pygments_lexer": "ipython3",
   "version": "3.7.3"
  }
 },
 "nbformat": 4,
 "nbformat_minor": 2
}
