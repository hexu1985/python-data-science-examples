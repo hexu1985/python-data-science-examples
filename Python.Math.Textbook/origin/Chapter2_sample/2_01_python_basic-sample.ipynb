{
 "cells": [
  {
   "cell_type": "markdown",
   "metadata": {},
   "source": [
    "▲示例2.1:各种各样的变量"
   ]
  },
  {
   "cell_type": "code",
   "execution_count": 1,
   "metadata": {},
   "outputs": [],
   "source": [
    "a = 123  # 给变量a赋值代入一个整数123 \n",
    "b_123 = 123.456  # 给变量b_123赋值代入一个小数123.456 \n",
    "hello_world = \"Hello World!\"  # 给变量hello_world赋值代入字符串 \"Hello World!\""
   ]
  },
  {
   "cell_type": "markdown",
   "metadata": {},
   "source": [
    "▲示例2.2:显示值的示例"
   ]
  },
  {
   "cell_type": "code",
   "execution_count": 2,
   "metadata": {
    "scrolled": true
   },
   "outputs": [
    {
     "name": "stdout",
     "output_type": "stream",
     "text": [
      "123\n"
     ]
    }
   ],
   "source": [
    "a = 123\n",
    "print(a)"
   ]
  },
  {
   "cell_type": "markdown",
   "metadata": {},
   "source": [
    "▲示例2.3:集中显示值的示例"
   ]
  },
  {
   "cell_type": "code",
   "execution_count": 3,
   "metadata": {},
   "outputs": [
    {
     "name": "stdout",
     "output_type": "stream",
     "text": [
      "123 123.456 Hello World!\n"
     ]
    }
   ],
   "source": [
    "print(123, 123.456, \"Hello World!\")"
   ]
  },
  {
   "cell_type": "markdown",
   "metadata": {},
   "source": [
    "▲示例2.4:变量的代入"
   ]
  },
  {
   "cell_type": "code",
   "execution_count": 4,
   "metadata": {},
   "outputs": [],
   "source": [
    "b = 456"
   ]
  },
  {
   "cell_type": "markdown",
   "metadata": {},
   "source": [
    "▲示例2.5:显示变量中存储的值"
   ]
  },
  {
   "cell_type": "code",
   "execution_count": 5,
   "metadata": {},
   "outputs": [
    {
     "name": "stdout",
     "output_type": "stream",
     "text": [
      "456\n"
     ]
    }
   ],
   "source": [
    "print(b)"
   ]
  },
  {
   "cell_type": "markdown",
   "metadata": {},
   "source": [
    "▲示例2.6:各种 Python 运算符"
   ]
  },
  {
   "cell_type": "code",
   "execution_count": 6,
   "metadata": {},
   "outputs": [
    {
     "name": "stdout",
     "output_type": "stream",
     "text": [
      "加法: 7\n",
      "减法: -1\n",
      "乘法: 12\n",
      "幂: 81\n"
     ]
    }
   ],
   "source": [
    "a = 3\n",
    "b = 4\n",
    "\n",
    "c = a + b  # 加法\n",
    "print(\"加法:\", c) \n",
    "\n",
    "d = a - b  #减法\n",
    "print(\"减法:\", d)\n",
    "\n",
    "e = a * b  # 乘法\n",
    "print(\"乘法:\", e)\n",
    "\n",
    "f = a ** b  # 幂（a的b次方）\n",
    "print(\"幂:\", f)"
   ]
  },
  {
   "cell_type": "markdown",
   "metadata": {},
   "source": [
    "▲示例2.7:除法运算符"
   ]
  },
  {
   "cell_type": "code",
   "execution_count": 7,
   "metadata": {},
   "outputs": [
    {
     "name": "stdout",
     "output_type": "stream",
     "text": [
      "除法（小数）: 0.75\n",
      "除法（整数）: 0\n",
      "余数: 3\n"
     ]
    }
   ],
   "source": [
    "g = a / b  # 结果为小数\n",
    "print(\"除法（小数）:\", g)\n",
    "\n",
    "h = a // b  # 结果为整数\n",
    "print(\"除法（整数）:\", h)\n",
    "\n",
    "i = a % b  # 余数\n",
    "print(\"余数:\", i)"
   ]
  },
  {
   "cell_type": "markdown",
   "metadata": {},
   "source": [
    "▲示例2.8:对变量本身执行计算"
   ]
  },
  {
   "cell_type": "code",
   "execution_count": 8,
   "metadata": {},
   "outputs": [
    {
     "name": "stdout",
     "output_type": "stream",
     "text": [
      "加上3:8\n",
      "减上3:2\n"
     ]
    }
   ],
   "source": [
    "j = 5\n",
    "j += 3  # 加上3。与 j = j + 3 相同 \n ",
    "print(\"加上3:\", j)\n",
    "\n",
    "k = 5\n",
    "k -= 3  # 减去3。与 k = k - 3相同 \n",
    "print(\"减去3:\", k)"
   ]
  },
  {
   "cell_type": "markdown",
   "metadata": {},
   "source": [
    "▲示例2.9:大数字、小数字的表示方法"
   ]
  },
  {
   "cell_type": "code",
   "execution_count": 9,
   "metadata": {
    "scrolled": true
   },
   "outputs": [
    {
     "name": "stdout",
     "output_type": "stream",
     "text": [
      "120000.0\n",
      "0.00012\n"
     ]
    }
   ],
   "source": [
    "a = 1.2e5  # 120000\n",
    "print(a)\n",
    "\n",
    "b = 1.2e-4  # 0.00012\n",
    "print(b)"
   ]
  },
  {
   "cell_type": "markdown",
   "metadata": {},
   "source": [
    "▲示例2.10:合并列表中的多个值"
   ]
  },
  {
   "cell_type": "code",
   "execution_count": 10,
   "metadata": {},
   "outputs": [
    {
     "name": "stdout",
     "output_type": "stream",
     "text": [
      "[1, 2, 3, 4]\n"
     ]
    }
   ],
   "source": [
    "a = [1, 2, 3, 4]\n",
    "print(a)"
   ]
  },
  {
   "cell_type": "markdown",
   "metadata": {},
   "source": [
    "▲示例2.11:按索引检索列表中的元素"
   ]
  },
  {
   "cell_type": "code",
   "execution_count": 11,
   "metadata": {},
   "outputs": [
    {
     "name": "stdout",
     "output_type": "stream",
     "text": [
      "6\n"
     ]
    }
   ],
   "source": [
    "b = [4, 5, 6, 7]\n",
    "print(b[2])  #  以0开头并按照0、1、2、3、...的顺序添加索引后检索索引为2的元素"
   ]
  },
  {
   "cell_type": "markdown",
   "metadata": {},
   "source": [
    "▲示例2.12：为列表添加元素"
   ]
  },
  {
   "cell_type": "code",
   "execution_count": 12,
   "metadata": {
    "scrolled": true
   },
   "outputs": [
    {
     "name": "stdout",
     "output_type": "stream",
     "text": [
      "[1, 2, 3, 4, 5, 6]\n"
     ]
    }
   ],
   "source": [
    "c = [1, 2, 3, 4, 5]\n",
    "c.append(6)  #将6添加进列表 \n",
    "print(c)"
   ]
  },
  {
   "cell_type": "markdown",
   "metadata": {},
   "source": [
    "▲示例2.13：在列表中加入列表"
   ]
  },
  {
   "cell_type": "code",
   "execution_count": 13,
   "metadata": {
    "scrolled": true
   },
   "outputs": [
    {
     "name": "stdout",
     "output_type": "stream",
     "text": [
      "[[1, 2, 3], [4, 5, 6]]\n"
     ]
    }
   ],
   "source": [
    "d = [[1, 2, 3], [4, 5, 6]]\n",
    "print(d)"
   ]
  },
  {
   "cell_type": "markdown",
   "metadata": {},
   "source": [
    "▲示例2.14：建立一个新的列表，其中所有元素均以复数条目排列"
   ]
  },
  {
   "cell_type": "code",
   "execution_count": 14,
   "metadata": {},
   "outputs": [
    {
     "name": "stdout",
     "output_type": "stream",
     "text": [
      "[1, 2, 1, 2, 1, 2]\n"
     ]
    }
   ],
   "source": [
    "e = [1, 2]\n",
    "print(e * 3)  #新列表中将原列表的元素进行了3次重复排列"
   ]
  },
  {
   "cell_type": "markdown",
   "metadata": {},
   "source": [
    "▲示例2.15:访问元组元素"
   ]
  },
  {
   "cell_type": "code",
   "execution_count": 15,
   "metadata": {},
   "outputs": [
    {
     "name": "stdout",
     "output_type": "stream",
     "text": [
      "3\n"
     ]
    }
   ],
   "source": [
    "a = (1, 2, 3, 4, 5)  # 创建元组\n",
    "b = a[2]  # 获取索引为2的元素\n",
    "print(b)"
   ]
  },
  {
   "cell_type": "markdown",
   "metadata": {},
   "source": [
    "▲示例2.16:只有一个元素的元组"
   ]
  },
  {
   "cell_type": "code",
   "execution_count": 16,
   "metadata": {},
   "outputs": [
    {
     "name": "stdout",
     "output_type": "stream",
     "text": [
      "(3,)\n"
     ]
    }
   ],
   "source": [
    "c = (3,)\n",
    "print(c)"
   ]
  },
  {
   "cell_type": "markdown",
   "metadata": {},
   "source": [
    "▲示例2.17:将列表或元组的元素统一代入变量"
   ]
  },
  {
   "cell_type": "code",
   "execution_count": 17,
   "metadata": {},
   "outputs": [
    {
     "name": "stdout",
     "output_type": "stream",
     "text": [
      "1 2 3\n",
      "4 5 6\n"
     ]
    }
   ],
   "source": [
    "d = [1, 2, 3]\n",
    "d_1, d_2, d_3 = d\n",
    "print(d_1, d_2, d_3)\n",
    "\n",
    "e = (4, 5, 6)\n",
    "e_1, e_2, e_3 = e\n",
    "print(e_1, e_2, e_3)"
   ]
  },
  {
   "cell_type": "markdown",
   "metadata": {},
   "source": [
    "▲示例2.18:if 语句的条件分支"
   ]
  },
  {
   "cell_type": "code",
   "execution_count": 18,
   "metadata": {},
   "outputs": [
    {
     "name": "stdout",
     "output_type": "stream",
     "text": [
      "7\n"
     ]
    }
   ],
   "source": [
    "a = 5\n",
    "\n",
    "if a > 3:  #  如果a比3大 \n",
    "    print(a + 2)  # 在开头插入缩进\n",
    "else:  # 不满足a > 3\n",
    "    print(a - 2) "
   ]
  },
  {
   "cell_type": "markdown",
   "metadata": {},
   "source": [
    "▲示例2.19:使用 == 运算符进行比较"
   ]
  },
  {
   "cell_type": "code",
   "execution_count": 19,
   "metadata": {},
   "outputs": [
    {
     "name": "stdout",
     "output_type": "stream",
     "text": [
      "9\n"
     ]
    }
   ],
   "source": [
    "b = 7\n",
    "if b == 7:  # 如果b与7相等\n",
    "    print(b + 2)\n",
    "else:  # 如果不满足b==7 \n",
    "    print(b - 2)"
   ]
  },
  {
   "cell_type": "markdown",
   "metadata": {},
   "source": [
    "▲示例2.20:使用了 for 语句和列表的循环"
   ]
  },
  {
   "cell_type": "code",
   "execution_count": 20,
   "metadata": {},
   "outputs": [
    {
     "name": "stdout",
     "output_type": "stream",
     "text": [
      "5\n",
      "8\n",
      "11\n"
     ]
    }
   ],
   "source": [
    "for a in [4, 7, 10]:  #将列表中的每个元素都代入变量a中\n",
    "    print(a + 1)  # 添加缩进以执行循环中的操作"
   ]
  },
  {
   "cell_type": "markdown",
   "metadata": {},
   "source": [
    "▲示例2.21:使用 range() 的循环"
   ]
  },
  {
   "cell_type": "code",
   "execution_count": 21,
   "metadata": {},
   "outputs": [
    {
     "name": "stdout",
     "output_type": "stream",
     "text": [
      "0\n",
      "1\n",
      "2\n",
      "3\n",
      "4\n"
     ]
    }
   ],
   "source": [
    "for a in range(5):  # a包含0到4\n",
    "    print(a)"
   ]
  },
  {
   "cell_type": "markdown",
   "metadata": {},
   "source": [
    "▲示例2.22：定义和调用函数"
   ]
  },
  {
   "cell_type": "code",
   "execution_count": 22,
   "metadata": {},
   "outputs": [
    {
     "name": "stdout",
     "output_type": "stream",
     "text": [
      "5\n"
     ]
    }
   ],
   "source": [
    "def my_func_1():  # my_func_1是函数名\n",
    "    a = 2\n",
    "    b = 3\n",
    "    print(a + b)\n",
    "\n",
    "my_func_1（）#调用函数"
   ]
  },
  {
   "cell_type": "markdown",
   "metadata": {},
   "source": [
    "▲示例2.23：带有参数的函数"
   ]
  },
  {
   "cell_type": "code",
   "execution_count": 23,
   "metadata": {},
   "outputs": [
    {
     "name": "stdout",
     "output_type": "stream",
     "text": [
      "7\n"
     ]
    }
   ],
   "source": [
    "def my_func_2(p, q):  #p、 q为参数\n",
    "    print(p + q)\n",
    "    \n",
    "my_func_2(3, 4)  # 调用函数时传递值"
   ]
  },
  {
   "cell_type": "markdown",
   "metadata": {},
   "source": [
    "▲示例2.24:带参数和返回值的函数"
   ]
  },
  {
   "cell_type": "code",
   "execution_count": 24,
   "metadata": {},
   "outputs": [
    {
     "name": "stdout",
     "output_type": "stream",
     "text": [
      "7\n"
     ]
    }
   ],
   "source": [
    "def my_func_3(p, q):  # p、 q为参数\n",
    "    r = p + q\n",
    "    return r  # r为返回值\n",
    "\n",
    "k = my_func_3(3, 4)  # 将接收到的值作为返回值放入k中\n",
    "print(k)"
   ]
  },
  {
   "cell_type": "markdown",
   "metadata": {},
   "source": [
    "▲示例2.25:将返回值设置为元组"
   ]
  },
  {
   "cell_type": "code",
   "execution_count": 25,
   "metadata": {},
   "outputs": [
    {
     "name": "stdout",
     "output_type": "stream",
     "text": [
      "7 3\n"
     ]
    }
   ],
   "source": [
    "def my_func_3(p, q):  # p、q为参数\n",
    "    r = p + q\n",
    "    s = p - q\n",
    "    return (r, s)  # 将返回值设置为元组\n",
    "\n",
    "k, l = my_func_3(5, 2)  # 将元组的各要素代入k, l \n",
    "print(k, l)"
   ]
  },
  {
   "cell_type": "markdown",
   "metadata": {},
   "source": [
    "▲示例2.26:局部变量和全局变量"
   ]
  },
  {
   "cell_type": "code",
   "execution_count": 26,
   "metadata": {},
   "outputs": [
    {
     "name": "stdout",
     "output_type": "stream",
     "text": [
      "123 456\n"
     ]
    }
   ],
   "source": [
    "a = 123  # 全局变量\n",
    "\n",
    "def show_number():\n",
    "    b = 456  # 局部变量\n",
    "    print(a, b)  #两者均可访问\n",
    "    \n",
    "show_number()"
   ]
  },
  {
   "cell_type": "markdown",
   "metadata": {},
   "source": [
    "▲示例2.27:与全局变量同名的局部变量"
   ]
  },
  {
   "cell_type": "code",
   "execution_count": 27,
   "metadata": {},
   "outputs": [
    {
     "name": "stdout",
     "output_type": "stream",
     "text": [
      "Local: 456\n",
      "Global: 123\n"
     ]
    }
   ],
   "source": [
    "a = 123  # 全局变量\n",
    "\n",
    "def set_local():\n",
    "    a = 456  # a与上述变量不同，是另一个局部变量\n",
    "    print(\"Local:\", a)\n",
    "    \n",
    "set_local()\n",
    "print(\"Global:\", a)  #全局变量的值不变"
   ]
  },
  {
   "cell_type": "markdown",
   "metadata": {},
   "source": [
    "▲示例2.28:作为参数的变量的作用域"
   ]
  },
  {
   "cell_type": "code",
   "execution_count": 28,
   "metadata": {},
   "outputs": [
    {
     "name": "stdout",
     "output_type": "stream",
     "text": [
      "Local: 456\n",
      "Global: 123\n"
     ]
    }
   ],
   "source": [
    "a = 123  #全局变量\n",
    "\n",
    "def show_arg(a):  #  a与上述变量不同，是另一个局部变量\n",
    "    print(\"Local:\", a)\n",
    "    \n",
    "show_arg(456)\n",
    "print(\"Global:\", a)  # 全局变量的值不变"
   ]
  },
  {
   "cell_type": "markdown",
   "metadata": {},
   "source": [
    "▲示例2.29:在函数中更改全局变量的值"
   ]
  },
  {
   "cell_type": "code",
   "execution_count": 29,
   "metadata": {},
   "outputs": [
    {
     "name": "stdout",
     "output_type": "stream",
     "text": [
      "Global: 456\n",
      "Global: 456\n"
     ]
    }
   ],
   "source": [
    "a = 123  # 全局变量\n",
    "\n",
    "def set_global():\n",
    "    global a  # 也可以使用nonlocal\n",
    "    a = 456  # 更改全局变量的值\n",
    "    print(\"Global:\", a)\n",
    "    \n",
    "set_global()\n",
    "print(\"Global:\", a)"
   ]
  },
  {
   "cell_type": "markdown",
   "metadata": {},
   "source": [
    "#### 问题"
   ]
  },
  {
   "cell_type": "markdown",
   "metadata": {},
   "source": [
    "　在Jupyter Notebook的单元格中，至少写一个列表、元组、if语句、for语句和函数语句。"
   ]
  },
  {
   "cell_type": "markdown",
   "metadata": {},
   "source": [
    "#### 解答示例"
   ]
  },
  {
   "cell_type": "markdown",
   "metadata": {},
   "source": [
    "▲示例2.30:解答示例"
   ]
  },
  {
   "cell_type": "code",
   "execution_count": 30,
   "metadata": {},
   "outputs": [
    {
     "name": "stdout",
     "output_type": "stream",
     "text": [
      "--- 结果:列表 ---\n",
      "3\n",
      "\n",
      "--- 结果:元组 ---\n",
      "4\n",
      "\n",
      "--- 结果:if语句 ---\n",
      "7\n",
      "\n",
      "--- 结果:for语句---\n",
      "2\n",
      "3\n",
      "4\n",
      "5\n",
      "6\n",
      "\n",
      "--- 结果:函数 ---\n",
      "7\n"
     ]
    }
   ],
   "source": [
    "# ---列表示例 ---\n",
    "print(\"--- 结果:列表 ---\")\n",
    "my_list = [1, 2, 3, 4, 5]\n",
    "print(my_list[2])\n",
    "\n",
    "print()  # 空行\n",
    "\n",
    "# ---元组示例 ---\n",
    "print(\"--- 结果:元组 ---\")\n",
    "my_tuple = (1, 2, 3, 4, 5)\n",
    "print(my_tuple[3])\n",
    "\n",
    "print()  # 空行\n",
    "\n",
    "# --- if语句示例 ---\n",
    "print(\"--- 结果:if语句 ---\")\n",
    "a = 5\n",
    "b = 2\n",
    "if a == 5:\n",
    "    print(a + b)\n",
    "\n",
    "print()\n",
    "\n",
    "# --- for语句示例 ---\n",
    "print(\"--- 结果:for语句 ---\")\n",
    "for m in my_list:\n",
    "    print(m + 1)\n",
    "\n",
    "print()\n",
    "\n",
    "# --- 函数示例 ---\n",
    "print(\"--- 结果:函数 ---\")\n",
    "def add(p, q):\n",
    "      return p + q\n",
    "print(add(a, b))"
   ]
  }
 ],
 "metadata": {
  "kernelspec": {
   "display_name": "Python 3",
   "language": "python",
   "name": "python3"
  },
  "language_info": {
   "codemirror_mode": {
    "name": "ipython",
    "version": 3
   },
   "file_extension": ".py",
   "mimetype": "text/x-python",
   "name": "python",
   "nbconvert_exporter": "python",
   "pygments_lexer": "ipython3",
   "version": "3.7.3"
  }
 },
 "nbformat": 4,
 "nbformat_minor": 2
}
