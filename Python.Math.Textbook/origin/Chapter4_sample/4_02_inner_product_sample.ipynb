{
 "cells": [
  {
   "cell_type": "markdown",
   "metadata": {},
   "source": [
    "▲示例4.6：计算向量的点积"
   ]
  },
  {
   "cell_type": "code",
   "execution_count": 1,
   "metadata": {
    "scrolled": true
   },
   "outputs": [
    {
     "name": "stdout",
     "output_type": "stream",
     "text": [
      "--- dot()函数 ---\n",
      "10\n",
      "--- 积的总和 ---\n",
      "10\n"
     ]
    }
   ],
   "source": [
    "import numpy as np\n",
    "\n",
    "a = np.array([1, 2, 3])\n",
    "b = np.array([3, 2, 1])\n",
    "\n",
    "print(\"--- dot()函数 ---\")\n",
    "print(np.dot(a, b))  # dot()所计算出的点积\n",
    "print(\"--- 积的总和 ---\")\n",
    "print(np.sum(a * b))  # 用积的总和计算出点积"
   ]
  },
  {
   "cell_type": "markdown",
   "metadata": {},
   "source": [
    "▲示例4.7：使用 linalg.norm() 函数计算范数"
   ]
  },
  {
   "cell_type": "code",
   "execution_count": 2,
   "metadata": {},
   "outputs": [
    {
     "name": "stdout",
     "output_type": "stream",
     "text": [
      "--- L2范数 ---\n",
      "2.0\n",
      "--- L1范数 ---\n",
      "4.0\n"
     ]
    }
   ],
   "source": [
    "import numpy as np\n",
    "\n",
    "a = np.array([1, 1, -1, -1])\n",
    "\n",
    "print(\"--- L2范数---\")\n",
    "print(np.linalg.norm(a))  # L2范数（默认）\n",
    "print(\"--- L1范数 ---\")\n",
    "print(np.linalg.norm(a, 1))  # L1范数"
   ]
  },
  {
   "cell_type": "markdown",
   "metadata": {},
   "source": [
    "#### 问题\n",
    "　在示例 4.8 中，计算并显示向量 a 和向量 b 的点积以及向量 a 的 L2 范数和 L1 范数。"
   ]
  },
  {
   "cell_type": "markdown",
   "metadata": {},
   "source": [
    "▲示例4.8：问题"
   ]
  },
  {
   "cell_type": "code",
   "execution_count": null,
   "metadata": {},
   "outputs": [],
   "source": [
    "import numpy as np\n",
    "\n",
    "a = np.array([1, -2, 2])\n",
    "b = np.array([2, -2, 1])\n",
    "\n",
    "print(\"--- 点积---\")\n",
    "\n",
    "\n",
    "print(\"--- L2范数 ---\")\n",
    "\n",
    "\n",
    "print(\"--- L1范数 ---\")\n",
    "\n"
   ]
  },
  {
   "cell_type": "markdown",
   "metadata": {},
   "source": [
    "#### 解答示例"
   ]
  },
  {
   "cell_type": "markdown",
   "metadata": {},
   "source": [
    "▲示例4.9：解答示例"
   ]
  },
  {
   "cell_type": "code",
   "execution_count": 4,
   "metadata": {},
   "outputs": [
    {
     "name": "stdout",
     "output_type": "stream",
     "text": [
      "--- 点积 ---\n",
      "8\n",
      "---  L2范数 ---\n",
      "3.0\n",
      "---  L1范数 ---\n",
      "5.0\n"
     ]
    }
   ],
   "source": [
    "import numpy as np\n",
    "\n",
    "a = np.array([1, -2, 2])\n",
    "b = np.array([2, -2, 1])\n",
    "\n",
    "print(\"--- 点积---\")\n",
    "print(np.dot(a, b))\n",
    "\n",
    "print(\"--- L2范数 ---\")\n",
    "print(np.linalg.norm(a))\n",
    "\n",
    "print(\"--- L1范数 ---\")\n",
    "print(np.linalg.norm(a, 1))"
   ]
  }
 ],
 "metadata": {
  "kernelspec": {
   "display_name": "Python 3",
   "language": "python",
   "name": "python3"
  },
  "language_info": {
   "codemirror_mode": {
    "name": "ipython",
    "version": 3
   },
   "file_extension": ".py",
   "mimetype": "text/x-python",
   "name": "python",
   "nbconvert_exporter": "python",
   "pygments_lexer": "ipython3",
   "version": "3.7.3"
  }
 },
 "nbformat": 4,
 "nbformat_minor": 2
}
