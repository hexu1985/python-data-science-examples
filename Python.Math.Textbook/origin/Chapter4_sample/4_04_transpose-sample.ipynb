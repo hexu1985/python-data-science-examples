{
 "cells": [
  {
   "cell_type": "markdown",
   "metadata": {},
   "source": [
    "▲示例4.14：转置矩阵"
   ]
  },
  {
   "cell_type": "code",
   "execution_count": 1,
   "metadata": {},
   "outputs": [
    {
     "name": "stdout",
     "output_type": "stream",
     "text": [
      "[[1 4]\n",
      " [2 5]\n",
      " [3 6]]\n"
     ]
    }
   ],
   "source": [
    "import numpy as np\n",
    "\n",
    "a = np.array([[1, 2, 3],\n",
    "              [4, 5, 6]])  # 矩阵\n",
    "\n",
    "print(a.T)  # 转置"
   ]
  },
  {
   "cell_type": "markdown",
   "metadata": {},
   "source": [
    "▲示例4.15：转置后进行矩阵乘积计算"
   ]
  },
  {
   "cell_type": "code",
   "execution_count": 2,
   "metadata": {},
   "outputs": [
    {
     "name": "stdout",
     "output_type": "stream",
     "text": [
      "[[ 5  8]\n",
      " [ 8 14]]\n"
     ]
    }
   ],
   "source": [
    "import numpy as np\n",
    "\n",
    "a = np.array([[0, 1, 2],\n",
    "             [1, 2, 3]])  # 2×3矩阵\n",
    "b = np.array([[0, 1, 2],\n",
    "             [1, 2, 3]])  #2×3矩阵,这种形态下无法计算矩阵乘积\n",
    "\n",
    "# print(np.dot(a, b))  # 不转置而求矩阵乘积时会报错\n",
    "print(np.dot(a, b.T))  # 转置后可以计算矩阵乘积"
   ]
  },
  {
   "cell_type": "markdown",
   "metadata": {},
   "source": [
    "#### 问题\n",
    "　请在示例 4.16 的代码中将矩阵 a 或矩阵 b 转置，以计算矩阵 a 和矩阵 b 的矩阵乘积。"
   ]
  },
  {
   "cell_type": "markdown",
   "metadata": {},
   "source": [
    "▲示例4.16：问题"
   ]
  },
  {
   "cell_type": "code",
   "execution_count": 3,
   "metadata": {},
   "outputs": [],
   "source": [
    "import numpy as np\n",
    "\n",
    "a = np.array([[0, 1, 2],\n",
    "              [1, 2, 3]]) \n",
    "b = np.array([[0, 1, 2],\n",
    "              [2, 3, 4]]) \n",
    "\n",
    "# 矩阵乘积\n",
    "\n"
   ]
  },
  {
   "cell_type": "markdown",
   "metadata": {},
   "source": [
    "#### 解答示例"
   ]
  },
  {
   "cell_type": "markdown",
   "metadata": {},
   "source": [
    "▲示例4.17：解答示例"
   ]
  },
  {
   "cell_type": "code",
   "execution_count": 5,
   "metadata": {},
   "outputs": [
    {
     "name": "stdout",
     "output_type": "stream",
     "text": [
      "[[ 5 11]\n",
      " [ 8 20]]\n"
     ]
    }
   ],
   "source": [
    "import numpy as np\n",
    "\n",
    "a = np.array([[0, 1, 2],\n",
    "              [1, 2, 3]]) \n",
    "b = np.array([[0, 1, 2],\n",
    "              [2, 3, 4]]) \n",
    "\n",
    "# 矩阵乘积\n",
    "print(np.dot(a, b.T))"
   ]
  }
 ],
 "metadata": {
  "kernelspec": {
   "display_name": "Python 3",
   "language": "python",
   "name": "python3"
  },
  "language_info": {
   "codemirror_mode": {
    "name": "ipython",
    "version": 3
   },
   "file_extension": ".py",
   "mimetype": "text/x-python",
   "name": "python",
   "nbconvert_exporter": "python",
   "pygments_lexer": "ipython3",
   "version": "3.7.3"
  }
 },
 "nbformat": 4,
 "nbformat_minor": 2
}
