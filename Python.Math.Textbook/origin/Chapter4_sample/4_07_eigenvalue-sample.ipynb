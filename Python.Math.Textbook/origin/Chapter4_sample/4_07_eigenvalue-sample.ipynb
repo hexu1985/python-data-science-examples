{
 "cells": [
  {
   "cell_type": "markdown",
   "metadata": {},
   "source": [
    "▲示例4.28：使用 linalg.eig() 函数确定特征值和特征向量"
   ]
  },
  {
   "cell_type": "code",
   "execution_count": 1,
   "metadata": {},
   "outputs": [
    {
     "name": "stdout",
     "output_type": "stream",
     "text": [
      "[2. 5.]\n",
      "\n",
      "[[-0.70710678 -0.4472136 ]\n",
      " [ 0.70710678 -0.89442719]]\n"
     ]
    }
   ],
   "source": [
    "import numpy as np\n",
    "\n",
    "a = np.array([[3, 1],\n",
    "              [2, 4]])\n",
    "\n",
    "ev = np.linalg.eig(a)  # 同时计算特征值和特征向量\n",
    "\n",
    "print(ev[0])  # 最初的元素为特征值\n",
    "\n",
    "print()\n",
    "\n",
    "print(ev[1])  # 接下来的元素为特征向量"
   ]
  },
  {
   "cell_type": "markdown",
   "metadata": {},
   "source": [
    "#### 问题\n",
    "请用示例 4.29 中的代码，计算矩阵 a 的特征值和特征向量。"
   ]
  },
  {
   "cell_type": "markdown",
   "metadata": {},
   "source": [
    "▲示例4.29：问题"
   ]
  },
  {
   "cell_type": "code",
   "execution_count": null,
   "metadata": {},
   "outputs": [],
   "source": [
    "import numpy as np\n",
    "\n",
    "a = np.array([[-2, 4],\n",
    "              [-1, 3]])\n",
    "\n",
    "ev = \n",
    "\n",
    "print(ev[0])  # 特征值\n",
    "\n",
    "print()\n",
    "\n",
    "print(ev[1])  # 特征向量"
   ]
  },
  {
   "cell_type": "markdown",
   "metadata": {},
   "source": [
    "#### 解答示例"
   ]
  },
  {
   "cell_type": "markdown",
   "metadata": {},
   "source": [
    "▲示例4.30：解答示例"
   ]
  },
  {
   "cell_type": "code",
   "execution_count": 3,
   "metadata": {},
   "outputs": [
    {
     "name": "stdout",
     "output_type": "stream",
     "text": [
      "[-1.  2.]\n",
      "\n",
      "[[-0.9701425  -0.70710678]\n",
      " [-0.24253563 -0.70710678]]\n"
     ]
    }
   ],
   "source": [
    "import numpy as np\n",
    "\n",
    "a = np.array([[-2, 4],\n",
    "              [-1, 3]])\n",
    "\n",
    "ev = np.linalg.eig(a)\n",
    "\n",
    "print(ev[0])  # 特征值\n",
    "\n",
    "print()\n",
    "\n",
    "print(ev[1])  # 特征向量"
   ]
  }
 ],
 "metadata": {
  "kernelspec": {
   "display_name": "Python 3",
   "language": "python",
   "name": "python3"
  },
  "language_info": {
   "codemirror_mode": {
    "name": "ipython",
    "version": 3
   },
   "file_extension": ".py",
   "mimetype": "text/x-python",
   "name": "python",
   "nbconvert_exporter": "python",
   "pygments_lexer": "ipython3",
   "version": "3.7.3"
  }
 },
 "nbformat": 4,
 "nbformat_minor": 2
}
