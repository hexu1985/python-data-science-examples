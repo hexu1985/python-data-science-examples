{
 "cells": [
  {
   "cell_type": "markdown",
   "metadata": {},
   "source": [
    "▲示例4.31：计算余弦相似度"
   ]
  },
  {
   "cell_type": "code",
   "execution_count": 1,
   "metadata": {},
   "outputs": [
    {
     "name": "stdout",
     "output_type": "stream",
     "text": [
      "---  a与b的余弦相似度 ----\n",
      "1.0\n",
      "---  a与c的余弦相似度 ----\n",
      "-1.0\n"
     ]
    }
   ],
   "source": [
    "import numpy as np\n",
    "\n",
    "def cos_sim(vec_1, vec_2):\n",
    "    return np.dot(vec_1, vec_2) / (np.linalg.norm(vec_1) * np.linalg.norm(vec_2))  \n",
    "\n",
    "a = np.array([2, 2, 2, 2])\n",
    "b = np.array([1, 1, 1, 1])  # 与a方向相同\n",
    "c = np.array([-1, -1, -1, -1])  # 与a方向相反\n",
    "\n",
    "print(\"--- a与b的余弦相似度 ----\")\n",
    "print(cos_sim(a, b))\n",
    "\n",
    "print(\"---  a与c的余弦相似度 ----\")\n",
    "print(cos_sim(a, c))"
   ]
  },
  {
   "cell_type": "markdown",
   "metadata": {},
   "source": [
    "#### 问题\n",
    "　请补全示例 4.32 中的代码，并计算 a 和 b 的余弦相似度。"
   ]
  },
  {
   "cell_type": "markdown",
   "metadata": {},
   "source": [
    "▲示例4.32：问题"
   ]
  },
  {
   "cell_type": "code",
   "execution_count": null,
   "metadata": {},
   "outputs": [],
   "source": [
    "import numpy as np\n",
    "\n",
    "def cos_sim(vec_1, vec_2):\n",
    "    return    # 在该行补全代码\n",
    "\n",
    "a = np.array([2, 0, 1, 0])\n",
    "b = np.array([0, 1, 0, 2])\n",
    "\n",
    "print(\"---  a与b的余弦相似度 ----\")\n",
    "print(cos_sim(a, b))"
   ]
  },
  {
   "cell_type": "markdown",
   "metadata": {},
   "source": [
    "#### 解答示例"
   ]
  },
  {
   "cell_type": "markdown",
   "metadata": {},
   "source": [
    "▲示例4.33：解答示例"
   ]
  },
  {
   "cell_type": "code",
   "execution_count": 1,
   "metadata": {},
   "outputs": [
    {
     "name": "stdout",
     "output_type": "stream",
     "text": [
      "--- a与b的余弦相似度 ----\n",
      "0.0\n"
     ]
    }
   ],
   "source": [
    "import numpy as np\n",
    "\n",
    "def cos_sim(vec_1, vec_2):\n",
    "    return np.dot(vec_1, vec_2) / (np.linalg.norm(vec_1) * np.linalg.norm(vec_2))  # 在该行补全代码\n",
    "\n",
    "a = np.array([2, 0, 1, 0])\n",
    "b = np.array([0, 1, 0, 2])\n",
    "\n",
    "print(\"--- a与b的余弦相似度 ----\")\n",
    "print(cos_sim(a, b))"
   ]
  }
 ],
 "metadata": {
  "kernelspec": {
   "display_name": "Python 3",
   "language": "python",
   "name": "python3"
  },
  "language_info": {
   "codemirror_mode": {
    "name": "ipython",
    "version": 3
   },
   "file_extension": ".py",
   "mimetype": "text/x-python",
   "name": "python",
   "nbconvert_exporter": "python",
   "pygments_lexer": "ipython3",
   "version": "3.7.3"
  }
 },
 "nbformat": 4,
 "nbformat_minor": 2
}
