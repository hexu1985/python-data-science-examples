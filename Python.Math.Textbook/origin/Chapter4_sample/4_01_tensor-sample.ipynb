{
 "cells": [
  {
   "cell_type": "markdown",
   "metadata": {},
   "source": [
    "▲示例4.1：标量的示例"
   ]
  },
  {
   "cell_type": "code",
   "execution_count": 1,
   "metadata": {},
   "outputs": [],
   "source": [
    "a = 1\n",
    "b = 1.2\n",
    "c = -0.25\n",
    "d = 1.2e5  # 1.2×10 的5次方120000"
   ]
  },
  {
   "cell_type": "markdown",
   "metadata": {},
   "source": [
    "▲示例4.2：用 NumPy 的一维数组表示向量"
   ]
  },
  {
   "cell_type": "code",
   "execution_count": 2,
   "metadata": {},
   "outputs": [
    {
     "name": "stdout",
     "output_type": "stream",
     "text": [
      "[1 2 3]\n",
      "[-2.4   0.25 -1.3   1.8   0.61]\n"
     ]
    }
   ],
   "source": [
    "import numpy as np\n",
    "\n",
    "a = np.array([1, 2, 3])  # 用一维数组表示向量\n",
    "print(a)\n",
    "\n",
    "b = np.array([-2.4, 0.25, -1.3, 1.8, 0.61])\n",
    "print(b)"
   ]
  },
  {
   "cell_type": "markdown",
   "metadata": {},
   "source": [
    "▲示例4.3：用 NumPy 的二维数组表示矩阵"
   ]
  },
  {
   "cell_type": "code",
   "execution_count": 6,
   "metadata": {
    "scrolled": false
   },
   "outputs": [
    {
     "name": "stdout",
     "output_type": "stream",
     "text": [
      "[[1 2 3]\n",
      " [4 5 6]]\n",
      "[[ 0.21  0.14]\n",
      " [-1.3   0.81]\n",
      " [ 0.12 -2.1 ]]\n"
     ]
    }
   ],
   "source": [
    "import numpy as np\n",
    "\n",
    "a = np.array([[1, 2, 3],\n",
    "              [4, 5, 6]])  # 2×3矩阵\n",
    "print(a)\n",
    "\n",
    "b = np.array([[0.21, 0.14],\n",
    "              [-1.3, 0.81],\n",
    "              [0.12, -2.1]])  # 3×2矩阵\n",
    "print(b)"
   ]
  },
  {
   "cell_type": "markdown",
   "metadata": {},
   "source": [
    "▲示例4.4：用 NumPy 的数组表示 3 阶张量"
   ]
  },
  {
   "cell_type": "code",
   "execution_count": 4,
   "metadata": {},
   "outputs": [
    {
     "name": "stdout",
     "output_type": "stream",
     "text": [
      "[[[0 1 2 3]\n",
      "  [2 3 4 5]\n",
      "  [4 5 6 7]]\n",
      "\n",
      " [[1 2 3 4]\n",
      "  [3 4 5 6]\n",
      "  [5 6 7 8]]]\n"
     ]
    }
   ],
   "source": [
    "import numpy as np\n",
    "\n",
    "a = np.array([[[0, 1, 2, 3],\n",
    "                      [2, 3, 4, 5],\n",
    "                      [4, 5, 6, 7]],\n",
    "              \n",
    "                     [[1, 2, 3, 4],\n",
    "                      [3, 4, 5, 6],\n",
    "                      [5, 6, 7, 8]]])  # (2,3,4)的3阶张量\n",
    "print(a)"
   ]
  },
  {
   "cell_type": "markdown",
   "metadata": {},
   "source": [
    "#### 问题\n",
    "　请在 Jupyter Notebook 的单元格中用 NumPy 编写数组，分别表示标量、向量、矩阵和 3 阶张量。"
   ]
  },
  {
   "cell_type": "markdown",
   "metadata": {
    "collapsed": true
   },
   "source": [
    "#### 解答示例"
   ]
  },
  {
   "cell_type": "markdown",
   "metadata": {},
   "source": [
    "▲示例4.5：解答示例"
   ]
  },
  {
   "cell_type": "code",
   "execution_count": 7,
   "metadata": {},
   "outputs": [
    {
     "name": "stdout",
     "output_type": "stream",
     "text": [
      "1.5\n",
      "\n",
      "[1 2 3 4 5]\n",
      "\n",
      "[[1 2 3]\n",
      " [4 5 6]]\n",
      "\n",
      "[[[0 1 2]\n",
      "  [3 4 5]\n",
      "  [6 7 8]]\n",
      "\n",
      " [[8 7 6]\n",
      "  [5 4 3]\n",
      "  [2 1 0]]]\n"
     ]
    }
   ],
   "source": [
    "import numpy as np\n",
    "\n",
    "# 标量\n",
    "a = 1.5\n",
    "print(a)\n",
    "\n",
    "print()\n",
    "\n",
    "# 向量\n",
    "b = np.array([1, 2, 3, 4, 5])\n",
    "print(b)\n",
    "\n",
    "print()\n",
    "\n",
    "# 矩阵\n",
    "c = np.array([[1, 2, 3],\n",
    "              [4, 5, 6]])\n",
    "print(c)\n",
    "\n",
    "print()\n",
    "\n",
    "# 3阶张量\n",
    "d = np.array([[[0, 1, 2],\n",
    "               [3, 4, 5],\n",
    "               [6, 7, 8]],\n",
    "              \n",
    "              [[8, 7, 6],\n",
    "               [5, 4, 3],\n",
    "               [2, 1, 0]]])\n",
    "print(d)"
   ]
  }
 ],
 "metadata": {
  "kernelspec": {
   "display_name": "Python 3",
   "language": "python",
   "name": "python3"
  },
  "language_info": {
   "codemirror_mode": {
    "name": "ipython",
    "version": 3
   },
   "file_extension": ".py",
   "mimetype": "text/x-python",
   "name": "python",
   "nbconvert_exporter": "python",
   "pygments_lexer": "ipython3",
   "version": "3.7.3"
  }
 },
 "nbformat": 4,
 "nbformat_minor": 2
}
