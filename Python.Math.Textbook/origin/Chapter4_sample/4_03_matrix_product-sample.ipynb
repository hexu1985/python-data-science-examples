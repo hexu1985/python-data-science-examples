{
 "cells": [
  {
   "cell_type": "markdown",
   "metadata": {},
   "source": [
    "▲示例4.10：使用 NumPy 计算矩阵乘积"
   ]
  },
  {
   "cell_type": "code",
   "execution_count": 2,
   "metadata": {
    "scrolled": true
   },
   "outputs": [
    {
     "name": "stdout",
     "output_type": "stream",
     "text": [
      "[[ 6  3]\n",
      " [12  6]]\n"
     ]
    }
   ],
   "source": [
    "import numpy as np\n",
    "\n",
    "a = np.array([[0, 1, 2],\n",
    "              [1, 2, 3]]) \n",
    "\n",
    "b = np.array([[2, 1],\n",
    "              [2, 1],\n",
    "              [2, 1]]) \n",
    "\n",
    "print(np.dot(a, b))"
   ]
  },
  {
   "cell_type": "markdown",
   "metadata": {},
   "source": [
    "▲示例4.11：使用 NumPy 计算各元素乘积"
   ]
  },
  {
   "cell_type": "code",
   "execution_count": 3,
   "metadata": {},
   "outputs": [
    {
     "name": "stdout",
     "output_type": "stream",
     "text": [
      "[[ 0  1  4]\n",
      " [ 6  0  5]\n",
      " [ 6 14  0]]\n"
     ]
    }
   ],
   "source": [
    "import numpy as np\n",
    "\n",
    "a = np.array([[0, 1, 2],\n",
    "              [3, 4, 5],\n",
    "              [6, 7, 8]]) \n",
    "\n",
    "b = np.array([[0, 1, 2],\n",
    "              [2, 0, 1],\n",
    "              [1, 2, 0]]) \n",
    "\n",
    "print(a*b)"
   ]
  },
  {
   "cell_type": "markdown",
   "metadata": {},
   "source": [
    "#### 问题\n",
    "　请计算示例 4.12 中，矩阵 a 和矩阵 b 的矩阵乘积以及矩阵 c 和矩阵 d 的每个元素的乘积。"
   ]
  },
  {
   "cell_type": "markdown",
   "metadata": {},
   "source": [
    "▲示例4.12：问题"
   ]
  },
  {
   "cell_type": "code",
   "execution_count": null,
   "metadata": {},
   "outputs": [],
   "source": [
    "import numpy as np\n",
    "\n",
    "a = np.array([[0, 1, 2],\n",
    "              [1, 2, 3]]) \n",
    "\n",
    "b = np.array([[0, 1],\n",
    "              [1, 2],\n",
    "              [2, 3]]) \n",
    "\n",
    "# 矩阵乘积\n",
    "\n",
    "\n",
    "\n",
    "c = np.array([[0, 1, 2],\n",
    "              [3, 4, 5],\n",
    "              [6, 7, 8]]) \n",
    "\n",
    "d = np.array([[0, 2, 0],\n",
    "              [2, 0, 2],\n",
    "              [0, 2, 0]]) \n",
    "\n",
    "# 每个元素的乘积\n"
   ]
  },
  {
   "cell_type": "markdown",
   "metadata": {
    "collapsed": true
   },
   "source": [
    "####解答示例"
   ]
  },
  {
   "cell_type": "markdown",
   "metadata": {},
   "source": [
    "▲示例4.13：解答示例"
   ]
  },
  {
   "cell_type": "code",
   "execution_count": 4,
   "metadata": {},
   "outputs": [
    {
     "name": "stdout",
     "output_type": "stream",
     "text": [
      "[[ 5  8]\n",
      " [ 8 14]]\n",
      "\n",
      "[[ 0  2  0]\n",
      " [ 6  0 10]\n",
      " [ 0 14  0]]\n"
     ]
    }
   ],
   "source": [
    "import numpy as np\n",
    "\n",
    "a = np.array([[0, 1, 2],\n",
    "              [1, 2, 3]]) \n",
    "\n",
    "b = np.array([[0, 1],\n",
    "              [1, 2],\n",
    "              [2, 3]]) \n",
    "\n",
    "# 矩阵乘积\n",
    "print(np.dot(a, b))\n",
    "      \n",
    "print()\n",
    "\n",
    "c = np.array([[0, 1, 2],\n",
    "              [3, 4, 5],\n",
    "              [6, 7, 8]]) \n",
    "\n",
    "d = np.array([[0, 2, 0],\n",
    "              [2, 0, 2],\n",
    "              [0, 2, 0]]) \n",
    "\n",
    "# 每个元素的乘积\n",
    "print(c*d)"
   ]
  }
 ],
 "metadata": {
  "kernelspec": {
   "display_name": "Python 3",
   "language": "python",
   "name": "python3"
  },
  "language_info": {
   "codemirror_mode": {
    "name": "ipython",
    "version": 3
   },
   "file_extension": ".py",
   "mimetype": "text/x-python",
   "name": "python",
   "nbconvert_exporter": "python",
   "pygments_lexer": "ipython3",
   "version": "3.7.3"
  }
 },
 "nbformat": 4,
 "nbformat_minor": 2
}
