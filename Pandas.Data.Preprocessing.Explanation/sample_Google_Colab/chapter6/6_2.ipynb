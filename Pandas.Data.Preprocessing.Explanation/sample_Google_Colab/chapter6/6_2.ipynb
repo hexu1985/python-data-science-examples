{
  "nbformat": 4,
  "nbformat_minor": 0,
  "metadata": {
    "kernelspec": {
      "display_name": "Python 3",
      "language": "python",
      "name": "python3"
    },
    "language_info": {
      "codemirror_mode": {
        "name": "ipython",
        "version": 3
      },
      "file_extension": ".py",
      "mimetype": "text/x-python",
      "name": "python",
      "nbconvert_exporter": "python",
      "pygments_lexer": "ipython3",
      "version": "3.6.7"
    },
    "colab": {
      "name": "6.2.ipynb",
      "provenance": [],
      "collapsed_sections": []
    }
  },
  "cells": [
    {
      "cell_type": "code",
      "metadata": {
        "id": "poWk30XhoU2K",
        "colab_type": "code",
        "colab": {
          "base_uri": "https://localhost:8080/",
          "height": 254
        },
        "outputId": "271969b9-3518-4072-c179-2f7236fc585e"
      },
      "source": [
        "!pip install pandas==0.22.0\n",
        "!pip install numpy==1.14.6\n",
        "!pip install matplotlib==2.1.2"
      ],
      "execution_count": 1,
      "outputs": [
        {
          "output_type": "stream",
          "text": [
            "Requirement already satisfied: pandas==0.22.0 in /usr/local/lib/python3.6/dist-packages (0.22.0)\n",
            "Requirement already satisfied: numpy>=1.9.0 in /usr/local/lib/python3.6/dist-packages (from pandas==0.22.0) (1.14.6)\n",
            "Requirement already satisfied: python-dateutil>=2 in /usr/local/lib/python3.6/dist-packages (from pandas==0.22.0) (2.6.1)\n",
            "Requirement already satisfied: pytz>=2011k in /usr/local/lib/python3.6/dist-packages (from pandas==0.22.0) (2018.9)\n",
            "Requirement already satisfied: six>=1.5 in /usr/local/lib/python3.6/dist-packages (from python-dateutil>=2->pandas==0.22.0) (1.12.0)\n",
            "Requirement already satisfied: numpy==1.14.6 in /usr/local/lib/python3.6/dist-packages (1.14.6)\n",
            "Requirement already satisfied: matplotlib==2.1.2 in /usr/local/lib/python3.6/dist-packages (2.1.2)\n",
            "Requirement already satisfied: pytz in /usr/local/lib/python3.6/dist-packages (from matplotlib==2.1.2) (2018.9)\n",
            "Requirement already satisfied: cycler>=0.10 in /usr/local/lib/python3.6/dist-packages (from matplotlib==2.1.2) (0.10.0)\n",
            "Requirement already satisfied: six>=1.10 in /usr/local/lib/python3.6/dist-packages (from matplotlib==2.1.2) (1.12.0)\n",
            "Requirement already satisfied: python-dateutil>=2.1 in /usr/local/lib/python3.6/dist-packages (from matplotlib==2.1.2) (2.6.1)\n",
            "Requirement already satisfied: numpy>=1.7.1 in /usr/local/lib/python3.6/dist-packages (from matplotlib==2.1.2) (1.14.6)\n",
            "Requirement already satisfied: pyparsing!=2.0.4,!=2.1.2,!=2.1.6,>=2.0.1 in /usr/local/lib/python3.6/dist-packages (from matplotlib==2.1.2) (2.4.6)\n"
          ],
          "name": "stdout"
        }
      ]
    },
    {
      "cell_type": "markdown",
      "metadata": {
        "id": "aOaj3bnzoVz5",
        "colab_type": "text"
      },
      "source": [
        "▲库的版本变更"
      ]
    },
    {
      "cell_type": "code",
      "metadata": {
        "id": "-jZhX4gEoY-8",
        "colab_type": "code",
        "colab": {
          "base_uri": "https://localhost:8080/",
          "height": 90
        },
        "outputId": "d01e7681-cd8e-4077-fd06-08fde91edebd"
      },
      "source": [
        "import sys\n",
        "import pandas\n",
        "import numpy\n",
        "import matplotlib\n",
        "print('python version : ', sys.version_info[0:3])\n",
        "print('pandas version : ', pandas.__version__)\n",
        "print('numpy version : ', numpy.__version__)\n",
        "print('matplotlib version : ', matplotlib.__version__)"
      ],
      "execution_count": 2,
      "outputs": [
        {
          "output_type": "stream",
          "text": [
            "python version :  (3, 6, 9)\n",
            "pandas version :  0.22.0\n",
            "numpy version :  1.14.6\n",
            "matplotlib version :  2.1.2\n"
          ],
          "name": "stdout"
        }
      ]
    },
    {
      "cell_type": "markdown",
      "metadata": {
        "id": "_1DaIULkobWb",
        "colab_type": "text"
      },
      "source": [
        "▲Python和库的版本输出"
      ]
    },
    {
      "cell_type": "code",
      "metadata": {
        "id": "mHsOJrmLoS60",
        "colab_type": "code",
        "colab": {}
      },
      "source": [
        "import pandas as pd\n",
        "import numpy as np\n",
        "import matplotlib.pyplot as plt"
      ],
      "execution_count": 0,
      "outputs": []
    },
    {
      "cell_type": "markdown",
      "metadata": {
        "id": "fBbo9A6SoS65",
        "colab_type": "text"
      },
      "source": [
        "▲预先执行的代码"
      ]
    },
    {
      "cell_type": "code",
      "metadata": {
        "id": "l-QTSc22oS65",
        "colab_type": "code",
        "colab": {
          "base_uri": "https://localhost:8080/",
          "height": 308
        },
        "outputId": "694da3b4-57f8-4540-a58a-4fdc8ec11c98"
      },
      "source": [
        "height = [178,190,187,179,192,186,188,1.81,187,177,190,181,178,180,171]\n",
        "ser = pd.Series(height)\n",
        "ser"
      ],
      "execution_count": 4,
      "outputs": [
        {
          "output_type": "execute_result",
          "data": {
            "text/plain": [
              "0     178.00\n",
              "1     190.00\n",
              "2     187.00\n",
              "3     179.00\n",
              "4     192.00\n",
              "5     186.00\n",
              "6     188.00\n",
              "7       1.81\n",
              "8     187.00\n",
              "9     177.00\n",
              "10    190.00\n",
              "11    181.00\n",
              "12    178.00\n",
              "13    180.00\n",
              "14    171.00\n",
              "dtype: float64"
            ]
          },
          "metadata": {
            "tags": []
          },
          "execution_count": 4
        }
      ]
    },
    {
      "cell_type": "markdown",
      "metadata": {
        "id": "Mzdz1E4roS69",
        "colab_type": "text"
      },
      "source": [
        "▲ 程序清单 6.41 Series 对象的创建"
      ]
    },
    {
      "cell_type": "code",
      "metadata": {
        "id": "AbGrOHpKoS6-",
        "colab_type": "code",
        "colab": {
          "base_uri": "https://localhost:8080/",
          "height": 54
        },
        "outputId": "fcbb1096-580f-4798-ad55-0883bc9fe5e8"
      },
      "source": [
        "mean = ser.mean()\n",
        "std = ser.std(ddof=0)\n",
        "print(mean)\n",
        "print(std)"
      ],
      "execution_count": 5,
      "outputs": [
        {
          "output_type": "stream",
          "text": [
            "171.054\n",
            "45.60205577237353\n"
          ],
          "name": "stdout"
        }
      ]
    },
    {
      "cell_type": "markdown",
      "metadata": {
        "id": "E5D4EO5noS7A",
        "colab_type": "text"
      },
      "source": [
        "▲ 程序清单 6.42 从 Series 对象中计算出平均值和标准差"
      ]
    },
    {
      "cell_type": "code",
      "metadata": {
        "id": "7bo8dqaVoS7B",
        "colab_type": "code",
        "colab": {
          "base_uri": "https://localhost:8080/",
          "height": 308
        },
        "outputId": "7f0c2270-9eb2-40b0-f619-5a0f3eb5ca5d"
      },
      "source": [
        "zscore = (ser - mean) / std\n",
        "zscore"
      ],
      "execution_count": 6,
      "outputs": [
        {
          "output_type": "execute_result",
          "data": {
            "text/plain": [
              "0     0.152318\n",
              "1     0.415464\n",
              "2     0.349677\n",
              "3     0.174247\n",
              "4     0.459321\n",
              "5     0.327748\n",
              "6     0.371606\n",
              "7    -3.711324\n",
              "8     0.349677\n",
              "9     0.130389\n",
              "10    0.415464\n",
              "11    0.218104\n",
              "12    0.152318\n",
              "13    0.196175\n",
              "14   -0.001184\n",
              "dtype: float64"
            ]
          },
          "metadata": {
            "tags": []
          },
          "execution_count": 6
        }
      ]
    },
    {
      "cell_type": "markdown",
      "metadata": {
        "id": "QZmQaAyjoS7D",
        "colab_type": "text"
      },
      "source": [
        "▲ 程序清单 6.43 计算出 z 分数"
      ]
    },
    {
      "cell_type": "code",
      "metadata": {
        "id": "Lc9q_6YLoS7E",
        "colab_type": "code",
        "colab": {
          "base_uri": "https://localhost:8080/",
          "height": 54
        },
        "outputId": "bdd6f421-94ba-47fe-99c5-23ebbbff925b"
      },
      "source": [
        "ser[(zscore < -3) | (zscore > 3)]"
      ],
      "execution_count": 7,
      "outputs": [
        {
          "output_type": "execute_result",
          "data": {
            "text/plain": [
              "7    1.81\n",
              "dtype: float64"
            ]
          },
          "metadata": {
            "tags": []
          },
          "execution_count": 7
        }
      ]
    },
    {
      "cell_type": "markdown",
      "metadata": {
        "id": "n4l26t4poS7H",
        "colab_type": "text"
      },
      "source": [
        "▲ 程序清单 6.44 基于 z 分数检测离群值"
      ]
    },
    {
      "cell_type": "code",
      "metadata": {
        "id": "xl2b4n33oS7I",
        "colab_type": "code",
        "colab": {
          "base_uri": "https://localhost:8080/",
          "height": 54
        },
        "outputId": "538149f5-b311-4774-df43-dc9a8630ba34"
      },
      "source": [
        "print(ser[14])\n",
        "print(mean)"
      ],
      "execution_count": 8,
      "outputs": [
        {
          "output_type": "stream",
          "text": [
            "171.0\n",
            "171.054\n"
          ],
          "name": "stdout"
        }
      ]
    },
    {
      "cell_type": "markdown",
      "metadata": {
        "id": "R36nFWfYoS7K",
        "colab_type": "text"
      },
      "source": [
        "▲ 程序清单 6.45 平均值和索引标签 14 的元素"
      ]
    },
    {
      "cell_type": "code",
      "metadata": {
        "id": "I6EYDy3IoS7L",
        "colab_type": "code",
        "colab": {
          "base_uri": "https://localhost:8080/",
          "height": 126
        },
        "outputId": "db2c68e1-0c0c-4753-d87e-b7a5eb412616"
      },
      "source": [
        "ser2 = ser[5:10]\n",
        "ser2"
      ],
      "execution_count": 9,
      "outputs": [
        {
          "output_type": "execute_result",
          "data": {
            "text/plain": [
              "5    186.00\n",
              "6    188.00\n",
              "7      1.81\n",
              "8    187.00\n",
              "9    177.00\n",
              "dtype: float64"
            ]
          },
          "metadata": {
            "tags": []
          },
          "execution_count": 9
        }
      ]
    },
    {
      "cell_type": "code",
      "metadata": {
        "id": "mQDZAlIloS7N",
        "colab_type": "code",
        "colab": {
          "base_uri": "https://localhost:8080/",
          "height": 145
        },
        "outputId": "85b96c7e-6c3b-4f38-b3b3-525dd3460ab3"
      },
      "source": [
        "mean2 = ser2.mean()\n",
        "std2 = ser2.std(ddof=0)\n",
        "zscore2 = (ser2 - mean2) / std2\n",
        "print(mean2)\n",
        "print(zscore2)"
      ],
      "execution_count": 10,
      "outputs": [
        {
          "output_type": "stream",
          "text": [
            "147.962\n",
            "5    0.519778\n",
            "6    0.547107\n",
            "7   -1.997122\n",
            "8    0.533442\n",
            "9    0.396795\n",
            "dtype: float64\n"
          ],
          "name": "stdout"
        }
      ]
    },
    {
      "cell_type": "markdown",
      "metadata": {
        "id": "1SM61SMfoS7P",
        "colab_type": "text"
      },
      "source": [
        "▲ 程序清单 6.46 计算出索引 5 ～ 9 的 z 分数"
      ]
    },
    {
      "cell_type": "code",
      "metadata": {
        "id": "s5xwt818oS7Q",
        "colab_type": "code",
        "colab": {
          "base_uri": "https://localhost:8080/",
          "height": 72
        },
        "outputId": "90a30a08-648f-4b7f-ee0d-91d0126ee50d"
      },
      "source": [
        "q1 = ser.quantile(0.25)\n",
        "q3 = ser.quantile(0.75)\n",
        "iqr = q3 - q1\n",
        "print('q1 = ', q1)\n",
        "print('q3 = ', q3)\n",
        "print('IQR = ', iqr)"
      ],
      "execution_count": 11,
      "outputs": [
        {
          "output_type": "stream",
          "text": [
            "q1 =  178.0\n",
            "q3 =  187.5\n",
            "IQR =  9.5\n"
          ],
          "name": "stdout"
        }
      ]
    },
    {
      "cell_type": "markdown",
      "metadata": {
        "id": "FPoIlQ5qoS7S",
        "colab_type": "text"
      },
      "source": [
        "▲ 程序清单 6.47 使用 quantile 方法计算出四分位距（IQR）"
      ]
    },
    {
      "cell_type": "code",
      "metadata": {
        "id": "qv0N_LIPoS7T",
        "colab_type": "code",
        "colab": {
          "base_uri": "https://localhost:8080/",
          "height": 54
        },
        "outputId": "e73ba7a7-60ff-4132-d4e7-b856356729a4"
      },
      "source": [
        "bottom = q1 - (1.5 * iqr)\n",
        "up = q3 + (1.5 * iqr)\n",
        "print(bottom)\n",
        "print(up)"
      ],
      "execution_count": 12,
      "outputs": [
        {
          "output_type": "stream",
          "text": [
            "163.75\n",
            "201.75\n"
          ],
          "name": "stdout"
        }
      ]
    },
    {
      "cell_type": "markdown",
      "metadata": {
        "id": "sfnQuU6JoS7V",
        "colab_type": "text"
      },
      "source": [
        "▲ 程序清单 6.48 计算出下方和上方的界点"
      ]
    },
    {
      "cell_type": "code",
      "metadata": {
        "id": "6vQbOzUuoS7W",
        "colab_type": "code",
        "colab": {
          "base_uri": "https://localhost:8080/",
          "height": 54
        },
        "outputId": "dc675b55-822d-4026-901b-0b29682cc820"
      },
      "source": [
        "ser[(ser < bottom) | (ser > up)]"
      ],
      "execution_count": 13,
      "outputs": [
        {
          "output_type": "execute_result",
          "data": {
            "text/plain": [
              "7    1.81\n",
              "dtype: float64"
            ]
          },
          "metadata": {
            "tags": []
          },
          "execution_count": 13
        }
      ]
    },
    {
      "cell_type": "markdown",
      "metadata": {
        "id": "WW4eivK3oS7Y",
        "colab_type": "text"
      },
      "source": [
        "▲ 程序清单 6.49 基于 IQR 检测离群值"
      ]
    },
    {
      "cell_type": "code",
      "metadata": {
        "id": "2LH-M5TdoS7Z",
        "colab_type": "code",
        "colab": {
          "base_uri": "https://localhost:8080/",
          "height": 287
        },
        "outputId": "32207a5d-8d0c-4dcd-9f9d-627f6b2db0fd"
      },
      "source": [
        "val = [100,104,92,98,98,105,]\n",
        "df = pd.DataFrame({'a':val})\n",
        "df.plot(kind='box')"
      ],
      "execution_count": 14,
      "outputs": [
        {
          "output_type": "execute_result",
          "data": {
            "text/plain": [
              "<matplotlib.axes._subplots.AxesSubplot at 0x7febf5cf74e0>"
            ]
          },
          "metadata": {
            "tags": []
          },
          "execution_count": 14
        },
        {
          "output_type": "display_data",
          "data": {
            "image/png": "[encoded data removed]",
            "text/plain": [
              "<matplotlib.figure.Figure at 0x7febf6f8de80>"
            ]
          },
          "metadata": {
            "tags": []
          }
        }
      ]
    },
    {
      "cell_type": "markdown",
      "metadata": {
        "id": "v9WLJBpeoS7d",
        "colab_type": "text"
      },
      "source": [
        "▲ 程序清单 6.50 使用 DataFrame 对象绘制箱形图"
      ]
    },
    {
      "cell_type": "code",
      "metadata": {
        "id": "jrKfgXJJoS7e",
        "colab_type": "code",
        "colab": {
          "base_uri": "https://localhost:8080/",
          "height": 126
        },
        "outputId": "9cd7d4cd-01b8-46cd-edba-2210c75c4a4e"
      },
      "source": [
        "q1 = df['a'].quantile(0.25)\n",
        "q2 = df['a'].quantile(0.5)\n",
        "q3 = df['a'].quantile(0.75)\n",
        "iqr = q3 - q1\n",
        "dfmax = df['a'].max()\n",
        "dfmin = df['a'].min()\n",
        "print('q1 = ',q1)\n",
        "print('q2 = ',q2)\n",
        "print('q3 = ',q3)\n",
        "print('iqr = ',iqr)\n",
        "print('max = ',dfmax)\n",
        "print('min = ',dfmin)"
      ],
      "execution_count": 15,
      "outputs": [
        {
          "output_type": "stream",
          "text": [
            "q1 =  98.0\n",
            "q2 =  99.0\n",
            "q3 =  103.0\n",
            "iqr =  5.0\n",
            "max =  105\n",
            "min =  92\n"
          ],
          "name": "stdout"
        }
      ]
    },
    {
      "cell_type": "markdown",
      "metadata": {
        "id": "cIUXH3jloS7h",
        "colab_type": "text"
      },
      "source": [
        "▲ 程序清单 6.51 计算出 DataFrame 对象的概括统计量"
      ]
    },
    {
      "cell_type": "code",
      "metadata": {
        "id": "hq7DT70_oS7h",
        "colab_type": "code",
        "colab": {
          "base_uri": "https://localhost:8080/",
          "height": 228
        },
        "outputId": "309da2a6-e86a-4941-8499-0d5d7d6957cc"
      },
      "source": [
        "df['b'] = [100,104,90,98,98,105]\n",
        "df"
      ],
      "execution_count": 16,
      "outputs": [
        {
          "output_type": "execute_result",
          "data": {
            "text/html": [
              "<div>\n",
              "<style scoped>\n",
              "    .dataframe tbody tr th:only-of-type {\n",
              "        vertical-align: middle;\n",
              "    }\n",
              "\n",
              "    .dataframe tbody tr th {\n",
              "        vertical-align: top;\n",
              "    }\n",
              "\n",
              "    .dataframe thead th {\n",
              "        text-align: right;\n",
              "    }\n",
              "</style>\n",
              "<table border=\"1\" class=\"dataframe\">\n",
              "  <thead>\n",
              "    <tr style=\"text-align: right;\">\n",
              "      <th></th>\n",
              "      <th>a</th>\n",
              "      <th>b</th>\n",
              "    </tr>\n",
              "  </thead>\n",
              "  <tbody>\n",
              "    <tr>\n",
              "      <th>0</th>\n",
              "      <td>100</td>\n",
              "      <td>100</td>\n",
              "    </tr>\n",
              "    <tr>\n",
              "      <th>1</th>\n",
              "      <td>104</td>\n",
              "      <td>104</td>\n",
              "    </tr>\n",
              "    <tr>\n",
              "      <th>2</th>\n",
              "      <td>92</td>\n",
              "      <td>90</td>\n",
              "    </tr>\n",
              "    <tr>\n",
              "      <th>3</th>\n",
              "      <td>98</td>\n",
              "      <td>98</td>\n",
              "    </tr>\n",
              "    <tr>\n",
              "      <th>4</th>\n",
              "      <td>98</td>\n",
              "      <td>98</td>\n",
              "    </tr>\n",
              "    <tr>\n",
              "      <th>5</th>\n",
              "      <td>105</td>\n",
              "      <td>105</td>\n",
              "    </tr>\n",
              "  </tbody>\n",
              "</table>\n",
              "</div>"
            ],
            "text/plain": [
              "     a    b\n",
              "0  100  100\n",
              "1  104  104\n",
              "2   92   90\n",
              "3   98   98\n",
              "4   98   98\n",
              "5  105  105"
            ]
          },
          "metadata": {
            "tags": []
          },
          "execution_count": 16
        }
      ]
    },
    {
      "cell_type": "code",
      "metadata": {
        "id": "DUxN9QUjoS7j",
        "colab_type": "code",
        "colab": {
          "base_uri": "https://localhost:8080/",
          "height": 287
        },
        "outputId": "53278c64-d209-446d-ab95-20a3f0b28cde"
      },
      "source": [
        "df.plot(kind='box')"
      ],
      "execution_count": 17,
      "outputs": [
        {
          "output_type": "execute_result",
          "data": {
            "text/plain": [
              "<matplotlib.axes._subplots.AxesSubplot at 0x7febf33ec5c0>"
            ]
          },
          "metadata": {
            "tags": []
          },
          "execution_count": 17
        },
        {
          "output_type": "display_data",
          "data": {
            "image/png": "[encoded data removed]",
            "text/plain": [
              "<matplotlib.figure.Figure at 0x7febf6f8d2b0>"
            ]
          },
          "metadata": {
            "tags": []
          }
        }
      ]
    },
    {
      "cell_type": "markdown",
      "metadata": {
        "id": "dueQckDCoS7l",
        "colab_type": "text"
      },
      "source": [
        "▲ 程序清单 6.52 使用包含离群值的 DataFrame 对象绘制箱形图"
      ]
    }
  ]
}