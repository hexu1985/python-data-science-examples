{
 "cells": [
  {
   "cell_type": "code",
   "execution_count": 1,
   "metadata": {
    "colab": {
     "base_uri": "https://localhost:8080/",
     "height": 254
    },
    "colab_type": "code",
    "id": "xeoI-00U0woG",
    "outputId": "0d831fbf-0eb9-43c3-f215-3090834d599e"
   },
   "outputs": [
    {
     "name": "stdout",
     "output_type": "stream",
     "text": [
      "Requirement already satisfied: pandas==0.22.0 in /usr/local/lib/python3.6/dist-packages (0.22.0)\n",
      "Requirement already satisfied: numpy>=1.9.0 in /usr/local/lib/python3.6/dist-packages (from pandas==0.22.0) (1.14.6)\n",
      "Requirement already satisfied: pytz>=2011k in /usr/local/lib/python3.6/dist-packages (from pandas==0.22.0) (2018.9)\n",
      "Requirement already satisfied: python-dateutil>=2 in /usr/local/lib/python3.6/dist-packages (from pandas==0.22.0) (2.6.1)\n",
      "Requirement already satisfied: six>=1.5 in /usr/local/lib/python3.6/dist-packages (from python-dateutil>=2->pandas==0.22.0) (1.12.0)\n",
      "Requirement already satisfied: numpy==1.14.6 in /usr/local/lib/python3.6/dist-packages (1.14.6)\n",
      "Requirement already satisfied: matplotlib==2.1.2 in /usr/local/lib/python3.6/dist-packages (2.1.2)\n",
      "Requirement already satisfied: python-dateutil>=2.1 in /usr/local/lib/python3.6/dist-packages (from matplotlib==2.1.2) (2.6.1)\n",
      "Requirement already satisfied: pytz in /usr/local/lib/python3.6/dist-packages (from matplotlib==2.1.2) (2018.9)\n",
      "Requirement already satisfied: cycler>=0.10 in /usr/local/lib/python3.6/dist-packages (from matplotlib==2.1.2) (0.10.0)\n",
      "Requirement already satisfied: pyparsing!=2.0.4,!=2.1.2,!=2.1.6,>=2.0.1 in /usr/local/lib/python3.6/dist-packages (from matplotlib==2.1.2) (2.4.6)\n",
      "Requirement already satisfied: six>=1.10 in /usr/local/lib/python3.6/dist-packages (from matplotlib==2.1.2) (1.12.0)\n",
      "Requirement already satisfied: numpy>=1.7.1 in /usr/local/lib/python3.6/dist-packages (from matplotlib==2.1.2) (1.14.6)\n"
     ]
    }
   ],
   "source": [
    "!pip install pandas==0.22.0\n",
    "!pip install numpy==1.14.6\n",
    "!pip install matplotlib==2.1.2"
   ]
  },
  {
   "cell_type": "markdown",
   "metadata": {
    "colab_type": "text",
    "id": "BKVKWbe70yyq"
   },
   "source": [
    "▲库的版本变更\n"
   ]
  },
  {
   "cell_type": "code",
   "execution_count": 2,
   "metadata": {
    "colab": {
     "base_uri": "https://localhost:8080/",
     "height": 90
    },
    "colab_type": "code",
    "id": "cX4GIiLm00Aj",
    "outputId": "517a5036-e8a3-4963-a6cc-9c6d5493dd67"
   },
   "outputs": [
    {
     "name": "stdout",
     "output_type": "stream",
     "text": [
      "python version :  (3, 6, 9)\n",
      "pandas version :  0.22.0\n",
      "numpy version :  1.14.6\n",
      "matplotlib version :  2.1.2\n"
     ]
    }
   ],
   "source": [
    "import sys\n",
    "import pandas\n",
    "import numpy\n",
    "import matplotlib\n",
    "print('python version : ', sys.version_info[0:3])\n",
    "print('pandas version : ', pandas.__version__)\n",
    "print('numpy version : ', numpy.__version__)\n",
    "print('matplotlib version : ', matplotlib.__version__)"
   ]
  },
  {
   "cell_type": "markdown",
   "metadata": {
    "colab_type": "text",
    "id": "Y7yocDYl01lt"
   },
   "source": [
    "▲Python和库的版本输出"
   ]
  },
  {
   "cell_type": "code",
   "execution_count": 0,
   "metadata": {
    "colab": {},
    "colab_type": "code",
    "collapsed": true,
    "id": "43CtsOjl0vFT"
   },
   "outputs": [],
   "source": [
    "import pandas as pd\n",
    "import numpy as np\n",
    "import matplotlib.pyplot as plt"
   ]
  },
  {
   "cell_type": "markdown",
   "metadata": {
    "colab_type": "text",
    "id": "ckt3W9uc0vFY"
   },
   "source": [
    "▲预先运行的代码"
   ]
  },
  {
   "cell_type": "code",
   "execution_count": 0,
   "metadata": {
    "colab": {},
    "colab_type": "code",
    "collapsed": true,
    "id": "LX6n76y20vFZ"
   },
   "outputs": [],
   "source": [
    "path = 'https://archive.ics.uci.edu/ml/machine-learning-databases/iris/'\n",
    "file = 'iris.data'\n",
    "cols = ['sepal_length','sepal_width','petal_length','petal_width','class']\n",
    "df = pd.read_csv(path + file, header=None, names=cols)"
   ]
  },
  {
   "cell_type": "code",
   "execution_count": 5,
   "metadata": {
    "colab": {
     "base_uri": "https://localhost:8080/",
     "height": 108
    },
    "colab_type": "code",
    "id": "RHKKO5JA0vFc",
    "outputId": "857b4f75-25eb-46bf-8070-c3630151084c"
   },
   "outputs": [
    {
     "data": {
      "text/html": [
       "<div>\n",
       "<style scoped>\n",
       "    .dataframe tbody tr th:only-of-type {\n",
       "        vertical-align: middle;\n",
       "    }\n",
       "\n",
       "    .dataframe tbody tr th {\n",
       "        vertical-align: top;\n",
       "    }\n",
       "\n",
       "    .dataframe thead th {\n",
       "        text-align: right;\n",
       "    }\n",
       "</style>\n",
       "<table border=\"1\" class=\"dataframe\">\n",
       "  <thead>\n",
       "    <tr style=\"text-align: right;\">\n",
       "      <th></th>\n",
       "      <th>sepal_length</th>\n",
       "      <th>sepal_width</th>\n",
       "      <th>petal_length</th>\n",
       "      <th>petal_width</th>\n",
       "      <th>class</th>\n",
       "    </tr>\n",
       "  </thead>\n",
       "  <tbody>\n",
       "    <tr>\n",
       "      <th>0</th>\n",
       "      <td>5.1</td>\n",
       "      <td>3.5</td>\n",
       "      <td>1.4</td>\n",
       "      <td>0.2</td>\n",
       "      <td>Iris-setosa</td>\n",
       "    </tr>\n",
       "    <tr>\n",
       "      <th>1</th>\n",
       "      <td>4.9</td>\n",
       "      <td>3.0</td>\n",
       "      <td>1.4</td>\n",
       "      <td>0.2</td>\n",
       "      <td>Iris-setosa</td>\n",
       "    </tr>\n",
       "  </tbody>\n",
       "</table>\n",
       "</div>"
      ],
      "text/plain": [
       "   sepal_length  sepal_width  petal_length  petal_width        class\n",
       "0           5.1          3.5           1.4          0.2  Iris-setosa\n",
       "1           4.9          3.0           1.4          0.2  Iris-setosa"
      ]
     },
     "execution_count": 5,
     "metadata": {
      "tags": []
     },
     "output_type": "execute_result"
    }
   ],
   "source": [
    "df.head(2)"
   ]
  },
  {
   "cell_type": "markdown",
   "metadata": {
    "colab_type": "text",
    "id": "8XXJEYzn0vFf"
   },
   "source": [
    "▲ 程序清单 9.1 数据的读取"
   ]
  },
  {
   "cell_type": "code",
   "execution_count": 6,
   "metadata": {
    "colab": {
     "base_uri": "https://localhost:8080/",
     "height": 35
    },
    "colab_type": "code",
    "id": "i18Q2yaM0vFf",
    "outputId": "7f3ac30c-4d56-4bf3-fadb-57d13b62b789"
   },
   "outputs": [
    {
     "data": {
      "text/plain": [
       "(150, 5)"
      ]
     },
     "execution_count": 6,
     "metadata": {
      "tags": []
     },
     "output_type": "execute_result"
    }
   ],
   "source": [
    "df.shape"
   ]
  },
  {
   "cell_type": "markdown",
   "metadata": {
    "colab_type": "text",
    "id": "rxEDL1Jg0vFi"
   },
   "source": [
    "▲程序清单 9.2 DataFrame 对象的 shape 属性"
   ]
  },
  {
   "cell_type": "code",
   "execution_count": 7,
   "metadata": {
    "colab": {
     "base_uri": "https://localhost:8080/",
     "height": 90
    },
    "colab_type": "code",
    "id": "BDS-17Ae0vFj",
    "outputId": "0196930e-a70e-4803-9ed0-5818dd4ec72d"
   },
   "outputs": [
    {
     "data": {
      "text/plain": [
       "Iris-versicolor    50\n",
       "Iris-setosa        50\n",
       "Iris-virginica     50\n",
       "Name: class, dtype: int64"
      ]
     },
     "execution_count": 7,
     "metadata": {
      "tags": []
     },
     "output_type": "execute_result"
    }
   ],
   "source": [
    "df['class'].value_counts()"
   ]
  },
  {
   "cell_type": "markdown",
   "metadata": {
    "colab_type": "text",
    "id": "7UDuMNxi0vFl"
   },
   "source": [
    "▲ 程序清单 9.3 Series 对象的 value_counts 方法"
   ]
  },
  {
   "cell_type": "code",
   "execution_count": 8,
   "metadata": {
    "colab": {
     "base_uri": "https://localhost:8080/",
     "height": 199
    },
    "colab_type": "code",
    "id": "LkQgoedc0vFm",
    "outputId": "24ba4afb-f53f-4f50-fdd2-25cf21b16641"
   },
   "outputs": [
    {
     "name": "stdout",
     "output_type": "stream",
     "text": [
      "<class 'pandas.core.frame.DataFrame'>\n",
      "RangeIndex: 150 entries, 0 to 149\n",
      "Data columns (total 5 columns):\n",
      "sepal_length    150 non-null float64\n",
      "sepal_width     150 non-null float64\n",
      "petal_length    150 non-null float64\n",
      "petal_width     150 non-null float64\n",
      "class           150 non-null object\n",
      "dtypes: float64(4), object(1)\n",
      "memory usage: 5.9+ KB\n"
     ]
    }
   ],
   "source": [
    "df.info()"
   ]
  },
  {
   "cell_type": "markdown",
   "metadata": {
    "colab_type": "text",
    "id": "JJnwwQhs0vFo"
   },
   "source": [
    "▲ 程序清单 9.4 DataFrame 对象的 info 方法"
   ]
  },
  {
   "cell_type": "code",
   "execution_count": 9,
   "metadata": {
    "colab": {
     "base_uri": "https://localhost:8080/",
     "height": 288
    },
    "colab_type": "code",
    "id": "HUBMsGRg0vFp",
    "outputId": "85b3f4c8-e956-410b-c87c-eb9a2456a0cf"
   },
   "outputs": [
    {
     "data": {
      "text/html": [
       "<div>\n",
       "<style scoped>\n",
       "    .dataframe tbody tr th:only-of-type {\n",
       "        vertical-align: middle;\n",
       "    }\n",
       "\n",
       "    .dataframe tbody tr th {\n",
       "        vertical-align: top;\n",
       "    }\n",
       "\n",
       "    .dataframe thead th {\n",
       "        text-align: right;\n",
       "    }\n",
       "</style>\n",
       "<table border=\"1\" class=\"dataframe\">\n",
       "  <thead>\n",
       "    <tr style=\"text-align: right;\">\n",
       "      <th></th>\n",
       "      <th>sepal_length</th>\n",
       "      <th>sepal_width</th>\n",
       "      <th>petal_length</th>\n",
       "      <th>petal_width</th>\n",
       "    </tr>\n",
       "  </thead>\n",
       "  <tbody>\n",
       "    <tr>\n",
       "      <th>count</th>\n",
       "      <td>150.000000</td>\n",
       "      <td>150.000000</td>\n",
       "      <td>150.000000</td>\n",
       "      <td>150.000000</td>\n",
       "    </tr>\n",
       "    <tr>\n",
       "      <th>mean</th>\n",
       "      <td>5.843333</td>\n",
       "      <td>3.054000</td>\n",
       "      <td>3.758667</td>\n",
       "      <td>1.198667</td>\n",
       "    </tr>\n",
       "    <tr>\n",
       "      <th>std</th>\n",
       "      <td>0.828066</td>\n",
       "      <td>0.433594</td>\n",
       "      <td>1.764420</td>\n",
       "      <td>0.763161</td>\n",
       "    </tr>\n",
       "    <tr>\n",
       "      <th>min</th>\n",
       "      <td>4.300000</td>\n",
       "      <td>2.000000</td>\n",
       "      <td>1.000000</td>\n",
       "      <td>0.100000</td>\n",
       "    </tr>\n",
       "    <tr>\n",
       "      <th>25%</th>\n",
       "      <td>5.100000</td>\n",
       "      <td>2.800000</td>\n",
       "      <td>1.600000</td>\n",
       "      <td>0.300000</td>\n",
       "    </tr>\n",
       "    <tr>\n",
       "      <th>50%</th>\n",
       "      <td>5.800000</td>\n",
       "      <td>3.000000</td>\n",
       "      <td>4.350000</td>\n",
       "      <td>1.300000</td>\n",
       "    </tr>\n",
       "    <tr>\n",
       "      <th>75%</th>\n",
       "      <td>6.400000</td>\n",
       "      <td>3.300000</td>\n",
       "      <td>5.100000</td>\n",
       "      <td>1.800000</td>\n",
       "    </tr>\n",
       "    <tr>\n",
       "      <th>max</th>\n",
       "      <td>7.900000</td>\n",
       "      <td>4.400000</td>\n",
       "      <td>6.900000</td>\n",
       "      <td>2.500000</td>\n",
       "    </tr>\n",
       "  </tbody>\n",
       "</table>\n",
       "</div>"
      ],
      "text/plain": [
       "       sepal_length  sepal_width  petal_length  petal_width\n",
       "count    150.000000   150.000000    150.000000   150.000000\n",
       "mean       5.843333     3.054000      3.758667     1.198667\n",
       "std        0.828066     0.433594      1.764420     0.763161\n",
       "min        4.300000     2.000000      1.000000     0.100000\n",
       "25%        5.100000     2.800000      1.600000     0.300000\n",
       "50%        5.800000     3.000000      4.350000     1.300000\n",
       "75%        6.400000     3.300000      5.100000     1.800000\n",
       "max        7.900000     4.400000      6.900000     2.500000"
      ]
     },
     "execution_count": 9,
     "metadata": {
      "tags": []
     },
     "output_type": "execute_result"
    }
   ],
   "source": [
    "df.describe()"
   ]
  },
  {
   "cell_type": "markdown",
   "metadata": {
    "colab_type": "text",
    "id": "TjupXxhv0vFr"
   },
   "source": [
    "▲ 程序清单 9.5 DataFrame 对象的 describe 方法"
   ]
  },
  {
   "cell_type": "code",
   "execution_count": 10,
   "metadata": {
    "colab": {
     "base_uri": "https://localhost:8080/",
     "height": 168
    },
    "colab_type": "code",
    "id": "L2_e16NH0vFs",
    "outputId": "e27fa8cf-6866-4347-c757-c3960c710826"
   },
   "outputs": [
    {
     "data": {
      "text/html": [
       "<div>\n",
       "<style scoped>\n",
       "    .dataframe tbody tr th:only-of-type {\n",
       "        vertical-align: middle;\n",
       "    }\n",
       "\n",
       "    .dataframe tbody tr th {\n",
       "        vertical-align: top;\n",
       "    }\n",
       "\n",
       "    .dataframe thead th {\n",
       "        text-align: right;\n",
       "    }\n",
       "</style>\n",
       "<table border=\"1\" class=\"dataframe\">\n",
       "  <thead>\n",
       "    <tr style=\"text-align: right;\">\n",
       "      <th></th>\n",
       "      <th>sepal_length</th>\n",
       "      <th>sepal_width</th>\n",
       "      <th>petal_length</th>\n",
       "      <th>petal_width</th>\n",
       "    </tr>\n",
       "    <tr>\n",
       "      <th>class</th>\n",
       "      <th></th>\n",
       "      <th></th>\n",
       "      <th></th>\n",
       "      <th></th>\n",
       "    </tr>\n",
       "  </thead>\n",
       "  <tbody>\n",
       "    <tr>\n",
       "      <th>Iris-setosa</th>\n",
       "      <td>5.006</td>\n",
       "      <td>3.418</td>\n",
       "      <td>1.464</td>\n",
       "      <td>0.244</td>\n",
       "    </tr>\n",
       "    <tr>\n",
       "      <th>Iris-versicolor</th>\n",
       "      <td>5.936</td>\n",
       "      <td>2.770</td>\n",
       "      <td>4.260</td>\n",
       "      <td>1.326</td>\n",
       "    </tr>\n",
       "    <tr>\n",
       "      <th>Iris-virginica</th>\n",
       "      <td>6.588</td>\n",
       "      <td>2.974</td>\n",
       "      <td>5.552</td>\n",
       "      <td>2.026</td>\n",
       "    </tr>\n",
       "  </tbody>\n",
       "</table>\n",
       "</div>"
      ],
      "text/plain": [
       "                 sepal_length  sepal_width  petal_length  petal_width\n",
       "class                                                                \n",
       "Iris-setosa             5.006        3.418         1.464        0.244\n",
       "Iris-versicolor         5.936        2.770         4.260        1.326\n",
       "Iris-virginica          6.588        2.974         5.552        2.026"
      ]
     },
     "execution_count": 10,
     "metadata": {
      "tags": []
     },
     "output_type": "execute_result"
    }
   ],
   "source": [
    "df.groupby('class').mean()"
   ]
  },
  {
   "cell_type": "markdown",
   "metadata": {
    "colab_type": "text",
    "id": "usDV3L9Y0vFu"
   },
   "source": [
    "▲ 程序清单 9.6 DataFrame 对象的 groupby 方法"
   ]
  },
  {
   "cell_type": "code",
   "execution_count": 11,
   "metadata": {
    "colab": {
     "base_uri": "https://localhost:8080/",
     "height": 126
    },
    "colab_type": "code",
    "id": "1mlhRTyr0vFv",
    "outputId": "c7c95e43-c86e-4ce3-d085-3bddcbfefe8c"
   },
   "outputs": [
    {
     "data": {
      "text/plain": [
       "sepal_length    0\n",
       "sepal_width     0\n",
       "petal_length    0\n",
       "petal_width     0\n",
       "class           0\n",
       "dtype: int64"
      ]
     },
     "execution_count": 11,
     "metadata": {
      "tags": []
     },
     "output_type": "execute_result"
    }
   ],
   "source": [
    "df.isna().sum()"
   ]
  },
  {
   "cell_type": "markdown",
   "metadata": {
    "colab_type": "text",
    "id": "O1qiMj1a0vFx"
   },
   "source": [
    "▲ 程序清单 9.7 DataFrame 对象的 isna 方法"
   ]
  },
  {
   "cell_type": "code",
   "execution_count": 0,
   "metadata": {
    "colab": {},
    "colab_type": "code",
    "collapsed": true,
    "id": "-OKvEeJR0vFy"
   },
   "outputs": [],
   "source": [
    "def outlier(ser):\n",
    "    mean = ser.mean()\n",
    "    std = ser.std(ddof=0)\n",
    "    zscore = (ser - mean) /std\n",
    "    outliers = ser[(zscore < -3) | (zscore > 3)]\n",
    "    if outliers.shape[0] == 0:\n",
    "        print('未发现离群值')\n",
    "    else:\n",
    "        print(outliers)"
   ]
  },
  {
   "cell_type": "markdown",
   "metadata": {
    "colab_type": "text",
    "id": "TW7Nk-VR0vF0"
   },
   "source": [
    "▲ 程序清单 9.8 定义查找离群值的函数"
   ]
  },
  {
   "cell_type": "code",
   "execution_count": 13,
   "metadata": {
    "colab": {
     "base_uri": "https://localhost:8080/",
     "height": 35
    },
    "colab_type": "code",
    "id": "VhFjJnKs0vF1",
    "outputId": "9e7b4ba5-23f0-4591-9827-8e8ffeed27e7"
   },
   "outputs": [
    {
     "name": "stdout",
     "output_type": "stream",
     "text": [
      "未发现离群值\n"
     ]
    }
   ],
   "source": [
    "outlier(df['sepal_length'])"
   ]
  },
  {
   "cell_type": "markdown",
   "metadata": {
    "colab_type": "text",
    "id": "uThdHM_F0vF4"
   },
   "source": [
    "▲ 程序清单 9.9 离群值的查找（花萼的长度）"
   ]
  },
  {
   "cell_type": "code",
   "execution_count": 14,
   "metadata": {
    "colab": {
     "base_uri": "https://localhost:8080/",
     "height": 54
    },
    "colab_type": "code",
    "id": "VeuokEot0vF5",
    "outputId": "3080d29a-5ed8-4287-b7e8-e27a8b44624f"
   },
   "outputs": [
    {
     "name": "stdout",
     "output_type": "stream",
     "text": [
      "15    4.4\n",
      "Name: sepal_width, dtype: float64\n"
     ]
    }
   ],
   "source": [
    "outlier(df['sepal_width'])"
   ]
  },
  {
   "cell_type": "markdown",
   "metadata": {
    "colab_type": "text",
    "id": "1IephGWF0vF8"
   },
   "source": [
    "▲ 程序清单 9.10 离群值的查找（花萼的宽度）　"
   ]
  },
  {
   "cell_type": "code",
   "execution_count": 15,
   "metadata": {
    "colab": {
     "base_uri": "https://localhost:8080/",
     "height": 35
    },
    "colab_type": "code",
    "id": "V5t2Xfp30vF9",
    "outputId": "a9fc7989-416e-42c2-9807-7b4f6cdb8352"
   },
   "outputs": [
    {
     "data": {
      "text/plain": [
       "(3.0540000000000007, 0.4335943113621737)"
      ]
     },
     "execution_count": 15,
     "metadata": {
      "tags": []
     },
     "output_type": "execute_result"
    }
   ],
   "source": [
    "df['sepal_width'].mean(), df['sepal_width'].std()"
   ]
  },
  {
   "cell_type": "markdown",
   "metadata": {
    "colab_type": "text",
    "id": "rvR05Lar0vF_"
   },
   "source": [
    "▲ 程序清单 9.11 Series 对象的 mean 方法和 std 方法"
   ]
  },
  {
   "cell_type": "code",
   "execution_count": 16,
   "metadata": {
    "colab": {
     "base_uri": "https://localhost:8080/",
     "height": 54
    },
    "colab_type": "code",
    "id": "dRpCadYY0vGA",
    "outputId": "2dd58616-8c0e-46d1-90f5-dbd2affac1ee"
   },
   "outputs": [
    {
     "name": "stdout",
     "output_type": "stream",
     "text": [
      "未发现离群值\n",
      "未发现离群值\n"
     ]
    }
   ],
   "source": [
    "outlier(df['petal_width'])\n",
    "outlier(df['petal_length'])"
   ]
  },
  {
   "cell_type": "markdown",
   "metadata": {
    "colab_type": "text",
    "id": "XgnXDLgJ0vGC"
   },
   "source": [
    "▲ 程序清单 9.12 离群值的查找（花瓣的宽度和长度）"
   ]
  },
  {
   "cell_type": "code",
   "execution_count": 17,
   "metadata": {
    "colab": {
     "base_uri": "https://localhost:8080/",
     "height": 198
    },
    "colab_type": "code",
    "id": "R4REhqbt0vGC",
    "outputId": "4f1811ce-0377-407f-d217-33cca23cce81"
   },
   "outputs": [
    {
     "data": {
      "text/html": [
       "<div>\n",
       "<style scoped>\n",
       "    .dataframe tbody tr th:only-of-type {\n",
       "        vertical-align: middle;\n",
       "    }\n",
       "\n",
       "    .dataframe tbody tr th {\n",
       "        vertical-align: top;\n",
       "    }\n",
       "\n",
       "    .dataframe thead th {\n",
       "        text-align: right;\n",
       "    }\n",
       "</style>\n",
       "<table border=\"1\" class=\"dataframe\">\n",
       "  <thead>\n",
       "    <tr style=\"text-align: right;\">\n",
       "      <th></th>\n",
       "      <th>sepal_length</th>\n",
       "      <th>sepal_width</th>\n",
       "      <th>petal_length</th>\n",
       "      <th>petal_width</th>\n",
       "      <th>class</th>\n",
       "    </tr>\n",
       "  </thead>\n",
       "  <tbody>\n",
       "    <tr>\n",
       "      <th>9</th>\n",
       "      <td>4.9</td>\n",
       "      <td>3.1</td>\n",
       "      <td>1.5</td>\n",
       "      <td>0.1</td>\n",
       "      <td>Iris-setosa</td>\n",
       "    </tr>\n",
       "    <tr>\n",
       "      <th>34</th>\n",
       "      <td>4.9</td>\n",
       "      <td>3.1</td>\n",
       "      <td>1.5</td>\n",
       "      <td>0.1</td>\n",
       "      <td>Iris-setosa</td>\n",
       "    </tr>\n",
       "    <tr>\n",
       "      <th>37</th>\n",
       "      <td>4.9</td>\n",
       "      <td>3.1</td>\n",
       "      <td>1.5</td>\n",
       "      <td>0.1</td>\n",
       "      <td>Iris-setosa</td>\n",
       "    </tr>\n",
       "    <tr>\n",
       "      <th>101</th>\n",
       "      <td>5.8</td>\n",
       "      <td>2.7</td>\n",
       "      <td>5.1</td>\n",
       "      <td>1.9</td>\n",
       "      <td>Iris-virginica</td>\n",
       "    </tr>\n",
       "    <tr>\n",
       "      <th>142</th>\n",
       "      <td>5.8</td>\n",
       "      <td>2.7</td>\n",
       "      <td>5.1</td>\n",
       "      <td>1.9</td>\n",
       "      <td>Iris-virginica</td>\n",
       "    </tr>\n",
       "  </tbody>\n",
       "</table>\n",
       "</div>"
      ],
      "text/plain": [
       "     sepal_length  sepal_width  petal_length  petal_width           class\n",
       "9             4.9          3.1           1.5          0.1     Iris-setosa\n",
       "34            4.9          3.1           1.5          0.1     Iris-setosa\n",
       "37            4.9          3.1           1.5          0.1     Iris-setosa\n",
       "101           5.8          2.7           5.1          1.9  Iris-virginica\n",
       "142           5.8          2.7           5.1          1.9  Iris-virginica"
      ]
     },
     "execution_count": 17,
     "metadata": {
      "tags": []
     },
     "output_type": "execute_result"
    }
   ],
   "source": [
    "df[df.duplicated(keep=False)]"
   ]
  },
  {
   "cell_type": "markdown",
   "metadata": {
    "colab_type": "text",
    "id": "8-ncBt4B0vGE"
   },
   "source": [
    "▲ 程序清单 9.13 DataFrame 对象的 duplicated 方法"
   ]
  },
  {
   "cell_type": "code",
   "execution_count": 0,
   "metadata": {
    "colab": {},
    "colab_type": "code",
    "collapsed": true,
    "id": "9h52r3iX0vGF"
   },
   "outputs": [],
   "source": [
    "df.iloc[34,:-1] = [4.9, 3.1, 1.5, 0.2]\n",
    "df.iloc[37,:-1] = [4.9, 3.6, 1.4, 0.1]"
   ]
  },
  {
   "cell_type": "markdown",
   "metadata": {
    "colab_type": "text",
    "id": "dIyw-QsU0vGH"
   },
   "source": [
    "▲ 程序清单 9.14 重复数据的修改"
   ]
  },
  {
   "cell_type": "code",
   "execution_count": 19,
   "metadata": {
    "colab": {
     "base_uri": "https://localhost:8080/",
     "height": 108
    },
    "colab_type": "code",
    "id": "e0OodtGW0vGI",
    "outputId": "1bd4dd35-e952-4f4c-eecd-e0b71e211053"
   },
   "outputs": [
    {
     "data": {
      "text/html": [
       "<div>\n",
       "<style scoped>\n",
       "    .dataframe tbody tr th:only-of-type {\n",
       "        vertical-align: middle;\n",
       "    }\n",
       "\n",
       "    .dataframe tbody tr th {\n",
       "        vertical-align: top;\n",
       "    }\n",
       "\n",
       "    .dataframe thead th {\n",
       "        text-align: right;\n",
       "    }\n",
       "</style>\n",
       "<table border=\"1\" class=\"dataframe\">\n",
       "  <thead>\n",
       "    <tr style=\"text-align: right;\">\n",
       "      <th></th>\n",
       "      <th>sepal_length</th>\n",
       "      <th>sepal_width</th>\n",
       "      <th>petal_length</th>\n",
       "      <th>petal_width</th>\n",
       "      <th>class</th>\n",
       "    </tr>\n",
       "  </thead>\n",
       "  <tbody>\n",
       "    <tr>\n",
       "      <th>101</th>\n",
       "      <td>5.8</td>\n",
       "      <td>2.7</td>\n",
       "      <td>5.1</td>\n",
       "      <td>1.9</td>\n",
       "      <td>Iris-virginica</td>\n",
       "    </tr>\n",
       "    <tr>\n",
       "      <th>142</th>\n",
       "      <td>5.8</td>\n",
       "      <td>2.7</td>\n",
       "      <td>5.1</td>\n",
       "      <td>1.9</td>\n",
       "      <td>Iris-virginica</td>\n",
       "    </tr>\n",
       "  </tbody>\n",
       "</table>\n",
       "</div>"
      ],
      "text/plain": [
       "     sepal_length  sepal_width  petal_length  petal_width           class\n",
       "101           5.8          2.7           5.1          1.9  Iris-virginica\n",
       "142           5.8          2.7           5.1          1.9  Iris-virginica"
      ]
     },
     "execution_count": 19,
     "metadata": {
      "tags": []
     },
     "output_type": "execute_result"
    }
   ],
   "source": [
    "df[df.duplicated(keep=False)]"
   ]
  },
  {
   "cell_type": "markdown",
   "metadata": {
    "colab_type": "text",
    "id": "bgjbzPvJ0vGJ"
   },
   "source": [
    "▲ 程序清单 9.15 DataFrame 对象的 duplicated 方法（重新引用）"
   ]
  },
  {
   "cell_type": "code",
   "execution_count": 20,
   "metadata": {
    "colab": {
     "base_uri": "https://localhost:8080/",
     "height": 451
    },
    "colab_type": "code",
    "id": "4R7pG3rU0vGK",
    "outputId": "2347c163-16e7-4c3b-c5b9-3dac4e6ef35d"
   },
   "outputs": [
    {
     "data": {
      "text/plain": [
       "<matplotlib.axes._subplots.AxesSubplot at 0x7fc65b046048>"
      ]
     },
     "execution_count": 20,
     "metadata": {
      "tags": []
     },
     "output_type": "execute_result"
    },
    {
     "data": {
      "image/png": "[encoded data removed]",
      "text/plain": [
       "<matplotlib.figure.Figure at 0x7fc65c2eb748>"
      ]
     },
     "metadata": {
      "tags": []
     },
     "output_type": "display_data"
    }
   ],
   "source": [
    "df.plot(kind='box', figsize=(5,7), grid=True)"
   ]
  },
  {
   "cell_type": "markdown",
   "metadata": {
    "colab_type": "text",
    "id": "774aluRw0vGM"
   },
   "source": [
    "▲ 程序清单 9.16 DataFrame 对象的 plot 方法（kind='box'）"
   ]
  },
  {
   "cell_type": "code",
   "execution_count": 21,
   "metadata": {
    "colab": {
     "base_uri": "https://localhost:8080/",
     "height": 35
    },
    "colab_type": "code",
    "id": "GsjJVmjU0vGN",
    "outputId": "9da0b416-7cfd-4af7-8b4e-f5004af71a12"
   },
   "outputs": [
    {
     "name": "stdout",
     "output_type": "stream",
     "text": [
      "(50, 5) (50, 5) (50, 5)\n"
     ]
    }
   ],
   "source": [
    "vers = df[df['class'] == 'Iris-versicolor']\n",
    "virg = df[df['class'] == 'Iris-virginica']\n",
    "seto = df[df['class'] == 'Iris-setosa']\n",
    "\n",
    "print(vers.shape, virg.shape, seto.shape)"
   ]
  },
  {
   "cell_type": "markdown",
   "metadata": {
    "colab_type": "text",
    "id": "RqnRGl_z0vGP"
   },
   "source": [
    "▲ 程序清单 9.17 按品种分离成 DataFrame 对象"
   ]
  },
  {
   "cell_type": "code",
   "execution_count": 22,
   "metadata": {
    "colab": {
     "base_uri": "https://localhost:8080/",
     "height": 356
    },
    "colab_type": "code",
    "id": "JjC9GjnZ0vGP",
    "outputId": "ac0fc016-9bd0-461e-b678-f96143652c8e"
   },
   "outputs": [
    {
     "data": {
      "text/plain": [
       "<matplotlib.axes._subplots.AxesSubplot at 0x7fc65afb37b8>"
      ]
     },
     "execution_count": 22,
     "metadata": {
      "tags": []
     },
     "output_type": "execute_result"
    },
    {
     "data": {
      "image/png": "[encoded data removed]",
      "text/plain": [
       "<matplotlib.figure.Figure at 0x7fc65af7f8d0>"
      ]
     },
     "metadata": {
      "tags": []
     },
     "output_type": "display_data"
    }
   ],
   "source": [
    "k, x, y = 'scatter', 'sepal_width', 'sepal_length'\n",
    "ls = ['Iris-versicolor','Iris-virginica','Iris-setosa']\n",
    "ax1 = vers.plot(kind=k, x=x, y=y, label=ls[0], color='r', figsize=(10,5))\n",
    "virg.plot(kind=k, x=x, y=y, label=ls[1], color='b', ax=ax1)\n",
    "seto.plot(kind=k, x=x, y=y, label=ls[2], color='g', ax=ax1)"
   ]
  },
  {
   "cell_type": "markdown",
   "metadata": {
    "colab_type": "text",
    "id": "MqAaB8Mc0vGS"
   },
   "source": [
    "▲ 程序清单 9.18 按颜色区分品种的散点图（x轴为sepal_width、y轴为sepal_length）"
   ]
  },
  {
   "cell_type": "code",
   "execution_count": 23,
   "metadata": {
    "colab": {
     "base_uri": "https://localhost:8080/",
     "height": 356
    },
    "colab_type": "code",
    "id": "9kY4ckaE0vGT",
    "outputId": "bb32cdda-b9ae-4644-aa25-ab575af554bc"
   },
   "outputs": [
    {
     "data": {
      "text/plain": [
       "<matplotlib.axes._subplots.AxesSubplot at 0x7fc65871c6a0>"
      ]
     },
     "execution_count": 23,
     "metadata": {
      "tags": []
     },
     "output_type": "execute_result"
    },
    {
     "data": {
      "image/png": "[encoded data removed]",
      "text/plain": [
       "<matplotlib.figure.Figure at 0x7fc658727198>"
      ]
     },
     "metadata": {
      "tags": []
     },
     "output_type": "display_data"
    }
   ],
   "source": [
    "x, y = 'petal_width', 'petal_length'\n",
    "ax1 = vers.plot(kind=k, x=x, y=y, label=ls[0], color='r', figsize=(10,5))\n",
    "virg.plot(kind=k, x=x, y=y, label=ls[1], color='b', ax=ax1)\n",
    "seto.plot(kind=k, x=x, y=y, label=ls[2], color='g', ax=ax1)"
   ]
  },
  {
   "cell_type": "markdown",
   "metadata": {
    "colab_type": "text",
    "id": "PGgz5f7i0vGV"
   },
   "source": [
    "▲ 程序清单 9.19 按颜色区分品种的散点图（x 轴为 petal_width、y 轴为 petal_length）"
   ]
  },
  {
   "cell_type": "code",
   "execution_count": 24,
   "metadata": {
    "colab": {
     "base_uri": "https://localhost:8080/",
     "height": 35
    },
    "colab_type": "code",
    "id": "iZzodDcY0vGV",
    "outputId": "5aeeb7b4-ac99-4a34-aa69-a2df08bcdc97"
   },
   "outputs": [
    {
     "data": {
      "text/plain": [
       "True"
      ]
     },
     "execution_count": 24,
     "metadata": {
      "tags": []
     },
     "output_type": "execute_result"
    }
   ],
   "source": [
    "colors = ['g']*50 + ['r']*50 + ['b']*50\n",
    "len(colors) == len(df)"
   ]
  },
  {
   "cell_type": "markdown",
   "metadata": {
    "colab_type": "text",
    "id": "4HKafET-0vGX"
   },
   "source": [
    "▲ 程序清单 9.20 将标识颜色的字符串保存到列表中"
   ]
  },
  {
   "cell_type": "code",
   "execution_count": 25,
   "metadata": {
    "colab": {
     "base_uri": "https://localhost:8080/",
     "height": 914
    },
    "colab_type": "code",
    "id": "dIIhXO2s0vGY",
    "outputId": "8ba2dcc2-30ed-4a8b-a40e-18cf4d81e949"
   },
   "outputs": [
    {
     "data": {
      "text/plain": [
       "array([[<matplotlib.axes._subplots.AxesSubplot object at 0x7fc65af84400>,\n",
       "        <matplotlib.axes._subplots.AxesSubplot object at 0x7fc6585fdba8>,\n",
       "        <matplotlib.axes._subplots.AxesSubplot object at 0x7fc658634c18>,\n",
       "        <matplotlib.axes._subplots.AxesSubplot object at 0x7fc6585eecf8>],\n",
       "       [<matplotlib.axes._subplots.AxesSubplot object at 0x7fc6585a8c18>,\n",
       "        <matplotlib.axes._subplots.AxesSubplot object at 0x7fc6585a8c50>,\n",
       "        <matplotlib.axes._subplots.AxesSubplot object at 0x7fc6585139e8>,\n",
       "        <matplotlib.axes._subplots.AxesSubplot object at 0x7fc6584cd9e8>],\n",
       "       [<matplotlib.axes._subplots.AxesSubplot object at 0x7fc658485a58>,\n",
       "        <matplotlib.axes._subplots.AxesSubplot object at 0x7fc65849c7b8>,\n",
       "        <matplotlib.axes._subplots.AxesSubplot object at 0x7fc658473358>,\n",
       "        <matplotlib.axes._subplots.AxesSubplot object at 0x7fc65842a828>],\n",
       "       [<matplotlib.axes._subplots.AxesSubplot object at 0x7fc6583cb6a0>,\n",
       "        <matplotlib.axes._subplots.AxesSubplot object at 0x7fc65839d7b8>,\n",
       "        <matplotlib.axes._subplots.AxesSubplot object at 0x7fc658347dd8>,\n",
       "        <matplotlib.axes._subplots.AxesSubplot object at 0x7fc6582ffdd8>]],\n",
       "      dtype=object)"
      ]
     },
     "execution_count": 25,
     "metadata": {
      "tags": []
     },
     "output_type": "execute_result"
    },
    {
     "data": {
      "image/png": "[encoded data removed]",
      "text/plain": [
       "<matplotlib.figure.Figure at 0x7fc65b046c50>"
      ]
     },
     "metadata": {
      "tags": []
     },
     "output_type": "display_data"
    }
   ],
   "source": [
    "pd.plotting.scatter_matrix(df, color=colors, figsize=(10,10))"
   ]
  },
  {
   "cell_type": "markdown",
   "metadata": {
    "colab_type": "text",
    "id": "AZId2j9S0vGa"
   },
   "source": [
    "▲ 程序清单 9.21 scatter_matrix 方法"
   ]
  },
  {
   "cell_type": "code",
   "execution_count": 26,
   "metadata": {
    "colab": {
     "base_uri": "https://localhost:8080/",
     "height": 124
    },
    "colab_type": "code",
    "id": "Nxm6AXod0vGb",
    "outputId": "cf384b7a-f062-492e-a517-b11a58f626ca"
   },
   "outputs": [
    {
     "data": {
      "text/html": [
       "<style  type=\"text/css\" >\n",
       "    #T_a9a440ce_62b3_11ea_b56a_0242ac1c0002row0_col0 {\n",
       "            background-color:  #b40426;\n",
       "        }    #T_a9a440ce_62b3_11ea_b56a_0242ac1c0002row0_col1 {\n",
       "            background-color:  #81a4fb;\n",
       "        }    #T_a9a440ce_62b3_11ea_b56a_0242ac1c0002row0_col2 {\n",
       "            background-color:  #d24b40;\n",
       "        }    #T_a9a440ce_62b3_11ea_b56a_0242ac1c0002row0_col3 {\n",
       "            background-color:  #e0654f;\n",
       "        }    #T_a9a440ce_62b3_11ea_b56a_0242ac1c0002row1_col0 {\n",
       "            background-color:  #3b4cc0;\n",
       "        }    #T_a9a440ce_62b3_11ea_b56a_0242ac1c0002row1_col1 {\n",
       "            background-color:  #b40426;\n",
       "        }    #T_a9a440ce_62b3_11ea_b56a_0242ac1c0002row1_col2 {\n",
       "            background-color:  #3b4cc0;\n",
       "        }    #T_a9a440ce_62b3_11ea_b56a_0242ac1c0002row1_col3 {\n",
       "            background-color:  #3b4cc0;\n",
       "        }    #T_a9a440ce_62b3_11ea_b56a_0242ac1c0002row2_col0 {\n",
       "            background-color:  #da5a49;\n",
       "        }    #T_a9a440ce_62b3_11ea_b56a_0242ac1c0002row2_col1 {\n",
       "            background-color:  #3b4cc0;\n",
       "        }    #T_a9a440ce_62b3_11ea_b56a_0242ac1c0002row2_col2 {\n",
       "            background-color:  #b40426;\n",
       "        }    #T_a9a440ce_62b3_11ea_b56a_0242ac1c0002row2_col3 {\n",
       "            background-color:  #bd1f2d;\n",
       "        }    #T_a9a440ce_62b3_11ea_b56a_0242ac1c0002row3_col0 {\n",
       "            background-color:  #e67259;\n",
       "        }    #T_a9a440ce_62b3_11ea_b56a_0242ac1c0002row3_col1 {\n",
       "            background-color:  #485fd1;\n",
       "        }    #T_a9a440ce_62b3_11ea_b56a_0242ac1c0002row3_col2 {\n",
       "            background-color:  #bd1f2d;\n",
       "        }    #T_a9a440ce_62b3_11ea_b56a_0242ac1c0002row3_col3 {\n",
       "            background-color:  #b40426;\n",
       "        }</style>  \n",
       "<table id=\"T_a9a440ce_62b3_11ea_b56a_0242ac1c0002\" > \n",
       "<thead>    <tr> \n",
       "        <th class=\"blank level0\" ></th> \n",
       "        <th class=\"col_heading level0 col0\" >sepal_length</th> \n",
       "        <th class=\"col_heading level0 col1\" >sepal_width</th> \n",
       "        <th class=\"col_heading level0 col2\" >petal_length</th> \n",
       "        <th class=\"col_heading level0 col3\" >petal_width</th> \n",
       "    </tr></thead> \n",
       "<tbody>    <tr> \n",
       "        <th id=\"T_a9a440ce_62b3_11ea_b56a_0242ac1c0002level0_row0\" class=\"row_heading level0 row0\" >sepal_length</th> \n",
       "        <td id=\"T_a9a440ce_62b3_11ea_b56a_0242ac1c0002row0_col0\" class=\"data row0 col0\" >1</td> \n",
       "        <td id=\"T_a9a440ce_62b3_11ea_b56a_0242ac1c0002row0_col1\" class=\"data row0 col1\" >-0.11757</td> \n",
       "        <td id=\"T_a9a440ce_62b3_11ea_b56a_0242ac1c0002row0_col2\" class=\"data row0 col2\" >0.871754</td> \n",
       "        <td id=\"T_a9a440ce_62b3_11ea_b56a_0242ac1c0002row0_col3\" class=\"data row0 col3\" >0.817941</td> \n",
       "    </tr>    <tr> \n",
       "        <th id=\"T_a9a440ce_62b3_11ea_b56a_0242ac1c0002level0_row1\" class=\"row_heading level0 row1\" >sepal_width</th> \n",
       "        <td id=\"T_a9a440ce_62b3_11ea_b56a_0242ac1c0002row1_col0\" class=\"data row1 col0\" >-0.11757</td> \n",
       "        <td id=\"T_a9a440ce_62b3_11ea_b56a_0242ac1c0002row1_col1\" class=\"data row1 col1\" >1</td> \n",
       "        <td id=\"T_a9a440ce_62b3_11ea_b56a_0242ac1c0002row1_col2\" class=\"data row1 col2\" >-0.42844</td> \n",
       "        <td id=\"T_a9a440ce_62b3_11ea_b56a_0242ac1c0002row1_col3\" class=\"data row1 col3\" >-0.366126</td> \n",
       "    </tr>    <tr> \n",
       "        <th id=\"T_a9a440ce_62b3_11ea_b56a_0242ac1c0002level0_row2\" class=\"row_heading level0 row2\" >petal_length</th> \n",
       "        <td id=\"T_a9a440ce_62b3_11ea_b56a_0242ac1c0002row2_col0\" class=\"data row2 col0\" >0.871754</td> \n",
       "        <td id=\"T_a9a440ce_62b3_11ea_b56a_0242ac1c0002row2_col1\" class=\"data row2 col1\" >-0.42844</td> \n",
       "        <td id=\"T_a9a440ce_62b3_11ea_b56a_0242ac1c0002row2_col2\" class=\"data row2 col2\" >1</td> \n",
       "        <td id=\"T_a9a440ce_62b3_11ea_b56a_0242ac1c0002row2_col3\" class=\"data row2 col3\" >0.962865</td> \n",
       "    </tr>    <tr> \n",
       "        <th id=\"T_a9a440ce_62b3_11ea_b56a_0242ac1c0002level0_row3\" class=\"row_heading level0 row3\" >petal_width</th> \n",
       "        <td id=\"T_a9a440ce_62b3_11ea_b56a_0242ac1c0002row3_col0\" class=\"data row3 col0\" >0.817941</td> \n",
       "        <td id=\"T_a9a440ce_62b3_11ea_b56a_0242ac1c0002row3_col1\" class=\"data row3 col1\" >-0.366126</td> \n",
       "        <td id=\"T_a9a440ce_62b3_11ea_b56a_0242ac1c0002row3_col2\" class=\"data row3 col2\" >0.962865</td> \n",
       "        <td id=\"T_a9a440ce_62b3_11ea_b56a_0242ac1c0002row3_col3\" class=\"data row3 col3\" >1</td> \n",
       "    </tr></tbody> \n",
       "</table> "
      ],
      "text/plain": [
       "<pandas.io.formats.style.Styler at 0x7fc65d3c4b38>"
      ]
     },
     "execution_count": 26,
     "metadata": {
      "tags": []
     },
     "output_type": "execute_result"
    }
   ],
   "source": [
    "df.corr().style.background_gradient(cmap='coolwarm')"
   ]
  },
  {
   "cell_type": "markdown",
   "metadata": {
    "colab_type": "text",
    "id": "A0JoV-Xi0vGd"
   },
   "source": [
    "▲ 程序清单 9.22 使用 DataFrame 对象中 corr 方法的热图"
   ]
  }
 ],
 "metadata": {
  "colab": {
   "collapsed_sections": [],
   "name": "9.1.ipynb",
   "provenance": []
  },
  "kernelspec": {
   "display_name": "Python 3",
   "language": "python",
   "name": "python3"
  },
  "language_info": {
   "codemirror_mode": {
    "name": "ipython",
    "version": 3
   },
   "file_extension": ".py",
   "mimetype": "text/x-python",
   "name": "python",
   "nbconvert_exporter": "python",
   "pygments_lexer": "ipython3",
   "version": "3.6.3"
  }
 },
 "nbformat": 4,
 "nbformat_minor": 1
}
