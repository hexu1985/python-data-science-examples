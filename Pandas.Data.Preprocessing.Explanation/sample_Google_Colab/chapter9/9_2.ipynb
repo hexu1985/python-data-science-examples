{
  "nbformat": 4,
  "nbformat_minor": 0,
  "metadata": {
    "kernelspec": {
      "display_name": "Python 3",
      "language": "python",
      "name": "python3"
    },
    "language_info": {
      "codemirror_mode": {
        "name": "ipython",
        "version": 3
      },
      "file_extension": ".py",
      "mimetype": "text/x-python",
      "name": "python",
      "nbconvert_exporter": "python",
      "pygments_lexer": "ipython3",
      "version": "3.6.7"
    },
    "colab": {
      "name": "9.2.ipynb",
      "provenance": [],
      "collapsed_sections": []
    }
  },
  "cells": [
    {
      "cell_type": "code",
      "metadata": {
        "id": "Xm1cxVMG1UmW",
        "colab_type": "code",
        "colab": {
          "base_uri": "https://localhost:8080/",
          "height": 254
        },
        "outputId": "81fdbfe0-df93-4125-e07c-544b33c82fd9"
      },
      "source": [
        "!pip install pandas==0.22.0\n",
        "!pip install numpy==1.14.6\n",
        "!pip install matplotlib==2.1.2"
      ],
      "execution_count": 1,
      "outputs": [
        {
          "output_type": "stream",
          "text": [
            "Requirement already satisfied: pandas==0.22.0 in /usr/local/lib/python3.6/dist-packages (0.22.0)\n",
            "Requirement already satisfied: python-dateutil>=2 in /usr/local/lib/python3.6/dist-packages (from pandas==0.22.0) (2.6.1)\n",
            "Requirement already satisfied: pytz>=2011k in /usr/local/lib/python3.6/dist-packages (from pandas==0.22.0) (2018.9)\n",
            "Requirement already satisfied: numpy>=1.9.0 in /usr/local/lib/python3.6/dist-packages (from pandas==0.22.0) (1.14.6)\n",
            "Requirement already satisfied: six>=1.5 in /usr/local/lib/python3.6/dist-packages (from python-dateutil>=2->pandas==0.22.0) (1.12.0)\n",
            "Requirement already satisfied: numpy==1.14.6 in /usr/local/lib/python3.6/dist-packages (1.14.6)\n",
            "Requirement already satisfied: matplotlib==2.1.2 in /usr/local/lib/python3.6/dist-packages (2.1.2)\n",
            "Requirement already satisfied: pytz in /usr/local/lib/python3.6/dist-packages (from matplotlib==2.1.2) (2018.9)\n",
            "Requirement already satisfied: numpy>=1.7.1 in /usr/local/lib/python3.6/dist-packages (from matplotlib==2.1.2) (1.14.6)\n",
            "Requirement already satisfied: cycler>=0.10 in /usr/local/lib/python3.6/dist-packages (from matplotlib==2.1.2) (0.10.0)\n",
            "Requirement already satisfied: python-dateutil>=2.1 in /usr/local/lib/python3.6/dist-packages (from matplotlib==2.1.2) (2.6.1)\n",
            "Requirement already satisfied: pyparsing!=2.0.4,!=2.1.2,!=2.1.6,>=2.0.1 in /usr/local/lib/python3.6/dist-packages (from matplotlib==2.1.2) (2.4.6)\n",
            "Requirement already satisfied: six>=1.10 in /usr/local/lib/python3.6/dist-packages (from matplotlib==2.1.2) (1.12.0)\n"
          ],
          "name": "stdout"
        }
      ]
    },
    {
      "cell_type": "markdown",
      "metadata": {
        "id": "OccXh_Y81WN7",
        "colab_type": "text"
      },
      "source": [
        "▲库的版本变更"
      ]
    },
    {
      "cell_type": "code",
      "metadata": {
        "id": "CVi8sZkr1Xcj",
        "colab_type": "code",
        "colab": {
          "base_uri": "https://localhost:8080/",
          "height": 90
        },
        "outputId": "4a595f08-41fe-4d8a-f90c-dba1a301b252"
      },
      "source": [
        "import sys\n",
        "import pandas\n",
        "import numpy\n",
        "import matplotlib\n",
        "print('python version : ', sys.version_info[0:3])\n",
        "print('pandas version : ', pandas.__version__)\n",
        "print('numpy version : ', numpy.__version__)\n",
        "print('matplotlib version : ', matplotlib.__version__)"
      ],
      "execution_count": 2,
      "outputs": [
        {
          "output_type": "stream",
          "text": [
            "python version :  (3, 6, 9)\n",
            "pandas version :  0.22.0\n",
            "numpy version :  1.14.6\n",
            "matplotlib version :  2.1.2\n"
          ],
          "name": "stdout"
        }
      ]
    },
    {
      "cell_type": "markdown",
      "metadata": {
        "id": "Ffrnpsfh1YvD",
        "colab_type": "text"
      },
      "source": [
        "▲Python和库的版本输出"
      ]
    },
    {
      "cell_type": "code",
      "metadata": {
        "id": "NU8VABxE1T3-",
        "colab_type": "code",
        "colab": {}
      },
      "source": [
        "import pandas as pd\n",
        "import numpy as np\n",
        "import matplotlib.pyplot as plt"
      ],
      "execution_count": 0,
      "outputs": []
    },
    {
      "cell_type": "markdown",
      "metadata": {
        "id": "4l4wR9tZ1T4C",
        "colab_type": "text"
      },
      "source": [
        "▲预先执行的代码"
      ]
    },
    {
      "cell_type": "code",
      "metadata": {
        "id": "5HEOcAGg1zPI",
        "colab_type": "code",
        "colab": {
          "base_uri": "https://localhost:8080/",
          "height": 35
        },
        "outputId": "a71da735-6e83-4fcc-8de4-9e58284a58c0"
      },
      "source": [
        "ls"
      ],
      "execution_count": 5,
      "outputs": [
        {
          "output_type": "stream",
          "text": [
            "\u001b[0m\u001b[01;34msample_data\u001b[0m/\n"
          ],
          "name": "stdout"
        }
      ]
    },
    {
      "cell_type": "code",
      "metadata": {
        "id": "dxjuq7-812dA",
        "colab_type": "code",
        "colab": {
          "base_uri": "https://localhost:8080/",
          "height": 508
        },
        "outputId": "09e6963b-fa8d-4961-d052-5ea342b4308d"
      },
      "source": [
        "!unzip data.zip"
      ],
      "execution_count": 6,
      "outputs": [
        {
          "output_type": "stream",
          "text": [
            "Archive:  data.zip\n",
            "  inflating: data/adult.csv          \n",
            "  inflating: data/ex1.csv            \n",
            "  inflating: data/ex10.csv           \n",
            "  inflating: data/ex11.csv           \n",
            "  inflating: data/ex12.xlsx          \n",
            " extracting: data/ex13.json          \n",
            "  inflating: data/ex14.hdf5          \n",
            "  inflating: data/ex15.csv           \n",
            "  inflating: data/ex16.csv           \n",
            "  inflating: data/ex17.csv           \n",
            "  inflating: data/ex18.csv           \n",
            "  inflating: data/ex19.csv           \n",
            "  inflating: data/ex2.csv            \n",
            "  inflating: data/ex20.csv           \n",
            "  inflating: data/ex3.csv            \n",
            "  inflating: data/ex4.csv            \n",
            "  inflating: data/ex5.csv            \n",
            " extracting: data/ex6.csv            \n",
            "  inflating: data/ex7.csv            \n",
            "  inflating: data/ex8.csv            \n",
            "  inflating: data/ex9.csv            \n",
            " extracting: data/out1.csv           \n",
            " extracting: data/out2.csv           \n",
            " extracting: data/out3.csv           \n",
            "  inflating: data/out4.xlsx          \n",
            "  inflating: data/out5.json          \n"
          ],
          "name": "stdout"
        }
      ]
    },
    {
      "cell_type": "code",
      "metadata": {
        "id": "LHiGpfrw2ENn",
        "colab_type": "code",
        "colab": {
          "base_uri": "https://localhost:8080/",
          "height": 35
        },
        "outputId": "ea10f17e-9a05-4181-ac5f-45893a6d598d"
      },
      "source": [
        "ls"
      ],
      "execution_count": 7,
      "outputs": [
        {
          "output_type": "stream",
          "text": [
            "\u001b[0m\u001b[01;34mdata\u001b[0m/  data.zip  \u001b[01;34msample_data\u001b[0m/\n"
          ],
          "name": "stdout"
        }
      ]
    },
    {
      "cell_type": "code",
      "metadata": {
        "id": "xLt0Meik2HU-",
        "colab_type": "code",
        "colab": {
          "base_uri": "https://localhost:8080/",
          "height": 35
        },
        "outputId": "ab6c3244-9b97-44a9-bb86-e507a899a3c2"
      },
      "source": [
        "cd data"
      ],
      "execution_count": 8,
      "outputs": [
        {
          "output_type": "stream",
          "text": [
            "/content/data\n"
          ],
          "name": "stdout"
        }
      ]
    },
    {
      "cell_type": "code",
      "metadata": {
        "id": "suV25xBp2KNn",
        "colab_type": "code",
        "colab": {
          "base_uri": "https://localhost:8080/",
          "height": 90
        },
        "outputId": "a3beba9b-6f87-4368-8bb5-5291e1b96c0e"
      },
      "source": [
        "ls"
      ],
      "execution_count": 9,
      "outputs": [
        {
          "output_type": "stream",
          "text": [
            "adult.csv  ex13.json  ex17.csv  ex20.csv  ex5.csv  ex9.csv   out4.xlsx\n",
            "ex10.csv   ex14.hdf5  ex18.csv  ex2.csv   ex6.csv  out1.csv  out5.json\n",
            "ex11.csv   ex15.csv   ex19.csv  ex3.csv   ex7.csv  out2.csv\n",
            "ex12.xlsx  ex16.csv   ex1.csv   ex4.csv   ex8.csv  out3.csv\n"
          ],
          "name": "stdout"
        }
      ]
    },
    {
      "cell_type": "markdown",
      "metadata": {
        "id": "TaNk7ee32OZG",
        "colab_type": "text"
      },
      "source": [
        "▲Google Colaboratory的样本配置"
      ]
    },
    {
      "cell_type": "code",
      "metadata": {
        "id": "mp83FONt1T4D",
        "colab_type": "code",
        "colab": {
          "base_uri": "https://localhost:8080/",
          "height": 138
        },
        "outputId": "ab6bbb45-52a1-4522-b17d-59ea994857c0"
      },
      "source": [
        "df = pd.read_csv('../data/ex17.csv', )\n",
        "df"
      ],
      "execution_count": 10,
      "outputs": [
        {
          "output_type": "execute_result",
          "data": {
            "text/html": [
              "<div>\n",
              "<style scoped>\n",
              "    .dataframe tbody tr th:only-of-type {\n",
              "        vertical-align: middle;\n",
              "    }\n",
              "\n",
              "    .dataframe tbody tr th {\n",
              "        vertical-align: top;\n",
              "    }\n",
              "\n",
              "    .dataframe thead th {\n",
              "        text-align: right;\n",
              "    }\n",
              "</style>\n",
              "<table border=\"1\" class=\"dataframe\">\n",
              "  <thead>\n",
              "    <tr style=\"text-align: right;\">\n",
              "      <th></th>\n",
              "      <th>部门</th>\n",
              "      <th>10岁</th>\n",
              "      <th>20岁</th>\n",
              "      <th>30岁</th>\n",
              "    </tr>\n",
              "  </thead>\n",
              "  <tbody>\n",
              "    <tr>\n",
              "      <th>0</th>\n",
              "      <td>人事部</td>\n",
              "      <td>1</td>\n",
              "      <td>2</td>\n",
              "      <td>1</td>\n",
              "    </tr>\n",
              "    <tr>\n",
              "      <th>1</th>\n",
              "      <td>财务部</td>\n",
              "      <td>0</td>\n",
              "      <td>1</td>\n",
              "      <td>3</td>\n",
              "    </tr>\n",
              "    <tr>\n",
              "      <th>2</th>\n",
              "      <td>研发部</td>\n",
              "      <td>0</td>\n",
              "      <td>4</td>\n",
              "      <td>2</td>\n",
              "    </tr>\n",
              "  </tbody>\n",
              "</table>\n",
              "</div>"
            ],
            "text/plain": [
              "    部门  10岁  20岁  30岁\n",
              "0  人事部    1    2    1\n",
              "1  财务部    0    1    3\n",
              "2  研发部    0    4    2"
            ]
          },
          "metadata": {
            "tags": []
          },
          "execution_count": 10
        }
      ]
    },
    {
      "cell_type": "markdown",
      "metadata": {
        "id": "VrIgJSEd1T4G",
        "colab_type": "text"
      },
      "source": [
        "▲ 程序清单 9.23 ex17.csv 文件的读取"
      ]
    },
    {
      "cell_type": "code",
      "metadata": {
        "id": "lKi--KdS1T4H",
        "colab_type": "code",
        "colab": {
          "base_uri": "https://localhost:8080/",
          "height": 318
        },
        "outputId": "9928a666-5f37-471f-e94d-0f500f6e87e3"
      },
      "source": [
        "df = df.melt(id_vars='部门', var_name='年龄', value_name='人数')\n",
        "df"
      ],
      "execution_count": 11,
      "outputs": [
        {
          "output_type": "execute_result",
          "data": {
            "text/html": [
              "<div>\n",
              "<style scoped>\n",
              "    .dataframe tbody tr th:only-of-type {\n",
              "        vertical-align: middle;\n",
              "    }\n",
              "\n",
              "    .dataframe tbody tr th {\n",
              "        vertical-align: top;\n",
              "    }\n",
              "\n",
              "    .dataframe thead th {\n",
              "        text-align: right;\n",
              "    }\n",
              "</style>\n",
              "<table border=\"1\" class=\"dataframe\">\n",
              "  <thead>\n",
              "    <tr style=\"text-align: right;\">\n",
              "      <th></th>\n",
              "      <th>部门</th>\n",
              "      <th>年龄</th>\n",
              "      <th>人数</th>\n",
              "    </tr>\n",
              "  </thead>\n",
              "  <tbody>\n",
              "    <tr>\n",
              "      <th>0</th>\n",
              "      <td>人事部</td>\n",
              "      <td>10岁</td>\n",
              "      <td>1</td>\n",
              "    </tr>\n",
              "    <tr>\n",
              "      <th>1</th>\n",
              "      <td>财务部</td>\n",
              "      <td>10岁</td>\n",
              "      <td>0</td>\n",
              "    </tr>\n",
              "    <tr>\n",
              "      <th>2</th>\n",
              "      <td>研发部</td>\n",
              "      <td>10岁</td>\n",
              "      <td>0</td>\n",
              "    </tr>\n",
              "    <tr>\n",
              "      <th>3</th>\n",
              "      <td>人事部</td>\n",
              "      <td>20岁</td>\n",
              "      <td>2</td>\n",
              "    </tr>\n",
              "    <tr>\n",
              "      <th>4</th>\n",
              "      <td>财务部</td>\n",
              "      <td>20岁</td>\n",
              "      <td>1</td>\n",
              "    </tr>\n",
              "    <tr>\n",
              "      <th>5</th>\n",
              "      <td>研发部</td>\n",
              "      <td>20岁</td>\n",
              "      <td>4</td>\n",
              "    </tr>\n",
              "    <tr>\n",
              "      <th>6</th>\n",
              "      <td>人事部</td>\n",
              "      <td>30岁</td>\n",
              "      <td>1</td>\n",
              "    </tr>\n",
              "    <tr>\n",
              "      <th>7</th>\n",
              "      <td>财务部</td>\n",
              "      <td>30岁</td>\n",
              "      <td>3</td>\n",
              "    </tr>\n",
              "    <tr>\n",
              "      <th>8</th>\n",
              "      <td>研发部</td>\n",
              "      <td>30岁</td>\n",
              "      <td>2</td>\n",
              "    </tr>\n",
              "  </tbody>\n",
              "</table>\n",
              "</div>"
            ],
            "text/plain": [
              "    部门   年龄  人数\n",
              "0  人事部  10岁   1\n",
              "1  财务部  10岁   0\n",
              "2  研发部  10岁   0\n",
              "3  人事部  20岁   2\n",
              "4  财务部  20岁   1\n",
              "5  研发部  20岁   4\n",
              "6  人事部  30岁   1\n",
              "7  财务部  30岁   3\n",
              "8  研发部  30岁   2"
            ]
          },
          "metadata": {
            "tags": []
          },
          "execution_count": 11
        }
      ]
    },
    {
      "cell_type": "markdown",
      "metadata": {
        "id": "XmNUUaiF1T4K",
        "colab_type": "text"
      },
      "source": [
        "▲ 程序清单 9.24 DataFrame 对象的 melt 方法"
      ]
    },
    {
      "cell_type": "code",
      "metadata": {
        "id": "UHy3N2ci1T4K",
        "colab_type": "code",
        "colab": {
          "base_uri": "https://localhost:8080/",
          "height": 138
        },
        "outputId": "ed7864a5-43e8-4a1e-bc06-390eece1c6fb"
      },
      "source": [
        "df.pivot(index='部门', columns='年龄', values='人数').reset_index()"
      ],
      "execution_count": 12,
      "outputs": [
        {
          "output_type": "execute_result",
          "data": {
            "text/html": [
              "<div>\n",
              "<style scoped>\n",
              "    .dataframe tbody tr th:only-of-type {\n",
              "        vertical-align: middle;\n",
              "    }\n",
              "\n",
              "    .dataframe tbody tr th {\n",
              "        vertical-align: top;\n",
              "    }\n",
              "\n",
              "    .dataframe thead th {\n",
              "        text-align: right;\n",
              "    }\n",
              "</style>\n",
              "<table border=\"1\" class=\"dataframe\">\n",
              "  <thead>\n",
              "    <tr style=\"text-align: right;\">\n",
              "      <th>年龄</th>\n",
              "      <th>部门</th>\n",
              "      <th>10岁</th>\n",
              "      <th>20岁</th>\n",
              "      <th>30岁</th>\n",
              "    </tr>\n",
              "  </thead>\n",
              "  <tbody>\n",
              "    <tr>\n",
              "      <th>0</th>\n",
              "      <td>人事部</td>\n",
              "      <td>1</td>\n",
              "      <td>2</td>\n",
              "      <td>1</td>\n",
              "    </tr>\n",
              "    <tr>\n",
              "      <th>1</th>\n",
              "      <td>财务部</td>\n",
              "      <td>0</td>\n",
              "      <td>1</td>\n",
              "      <td>3</td>\n",
              "    </tr>\n",
              "    <tr>\n",
              "      <th>2</th>\n",
              "      <td>研发部</td>\n",
              "      <td>0</td>\n",
              "      <td>4</td>\n",
              "      <td>2</td>\n",
              "    </tr>\n",
              "  </tbody>\n",
              "</table>\n",
              "</div>"
            ],
            "text/plain": [
              "年龄   部门  10岁  20岁  30岁\n",
              "0   人事部    1    2    1\n",
              "1   财务部    0    1    3\n",
              "2   研发部    0    4    2"
            ]
          },
          "metadata": {
            "tags": []
          },
          "execution_count": 12
        }
      ]
    },
    {
      "cell_type": "markdown",
      "metadata": {
        "id": "dijl7SZk1T4N",
        "colab_type": "text"
      },
      "source": [
        "▲ 程序清单 9.25 DataFrame 对象的 pivot 方法"
      ]
    },
    {
      "cell_type": "code",
      "metadata": {
        "id": "a7dUlHQ41T4O",
        "colab_type": "code",
        "colab": {
          "base_uri": "https://localhost:8080/",
          "height": 108
        },
        "outputId": "449e43d7-1ee4-4719-dcb3-b6a36dd60664"
      },
      "source": [
        "df = pd.read_csv('../data/ex18.csv', )\n",
        "df"
      ],
      "execution_count": 13,
      "outputs": [
        {
          "output_type": "execute_result",
          "data": {
            "text/html": [
              "<div>\n",
              "<style scoped>\n",
              "    .dataframe tbody tr th:only-of-type {\n",
              "        vertical-align: middle;\n",
              "    }\n",
              "\n",
              "    .dataframe tbody tr th {\n",
              "        vertical-align: top;\n",
              "    }\n",
              "\n",
              "    .dataframe thead th {\n",
              "        text-align: right;\n",
              "    }\n",
              "</style>\n",
              "<table border=\"1\" class=\"dataframe\">\n",
              "  <thead>\n",
              "    <tr style=\"text-align: right;\">\n",
              "      <th></th>\n",
              "      <th>部门</th>\n",
              "      <th>20岁男性</th>\n",
              "      <th>20岁女性</th>\n",
              "      <th>30岁男性</th>\n",
              "      <th>30岁女性</th>\n",
              "    </tr>\n",
              "  </thead>\n",
              "  <tbody>\n",
              "    <tr>\n",
              "      <th>0</th>\n",
              "      <td>人事部</td>\n",
              "      <td>1</td>\n",
              "      <td>1</td>\n",
              "      <td>0</td>\n",
              "      <td>4</td>\n",
              "    </tr>\n",
              "    <tr>\n",
              "      <th>1</th>\n",
              "      <td>财务部</td>\n",
              "      <td>1</td>\n",
              "      <td>0</td>\n",
              "      <td>2</td>\n",
              "      <td>1</td>\n",
              "    </tr>\n",
              "  </tbody>\n",
              "</table>\n",
              "</div>"
            ],
            "text/plain": [
              "    部 门  20岁男性  20岁女性  30岁男性  30岁女性\n",
              "0  人事部      1      1      0      4\n",
              "1  财务部      1      0      2      1"
            ]
          },
          "metadata": {
            "tags": []
          },
          "execution_count": 13
        }
      ]
    },
    {
      "cell_type": "markdown",
      "metadata": {
        "id": "UesMvEpb1T4Q",
        "colab_type": "text"
      },
      "source": [
        "▲ 程序清单 9.26 ex18.csv 文件的读取"
      ]
    },
    {
      "cell_type": "code",
      "metadata": {
        "id": "osqb2bPJ1T4R",
        "colab_type": "code",
        "colab": {
          "base_uri": "https://localhost:8080/",
          "height": 288
        },
        "outputId": "09f9c308-db82-472a-ae3e-7c66d274f54c"
      },
      "source": [
        "df = df.melt(id_vars='部门', var_name='性别年龄', value_name='人数')\n",
        "df"
      ],
      "execution_count": 14,
      "outputs": [
        {
          "output_type": "execute_result",
          "data": {
            "text/html": [
              "<div>\n",
              "<style scoped>\n",
              "    .dataframe tbody tr th:only-of-type {\n",
              "        vertical-align: middle;\n",
              "    }\n",
              "\n",
              "    .dataframe tbody tr th {\n",
              "        vertical-align: top;\n",
              "    }\n",
              "\n",
              "    .dataframe thead th {\n",
              "        text-align: right;\n",
              "    }\n",
              "</style>\n",
              "<table border=\"1\" class=\"dataframe\">\n",
              "  <thead>\n",
              "    <tr style=\"text-align: right;\">\n",
              "      <th></th>\n",
              "      <th>部门</th>\n",
              "      <th>性别年龄</th>\n",
              "      <th>人数</th>\n",
              "    </tr>\n",
              "  </thead>\n",
              "  <tbody>\n",
              "    <tr>\n",
              "      <th>0</th>\n",
              "      <td>人事部</td>\n",
              "      <td>20岁男性</td>\n",
              "      <td>1</td>\n",
              "    </tr>\n",
              "    <tr>\n",
              "      <th>1</th>\n",
              "      <td>财务部</td>\n",
              "      <td>20岁男性</td>\n",
              "      <td>1</td>\n",
              "    </tr>\n",
              "    <tr>\n",
              "      <th>2</th>\n",
              "      <td>人事部</td>\n",
              "      <td>20岁女性</td>\n",
              "      <td>1</td>\n",
              "    </tr>\n",
              "    <tr>\n",
              "      <th>3</th>\n",
              "      <td>财务部</td>\n",
              "      <td>20岁女性</td>\n",
              "      <td>0</td>\n",
              "    </tr>\n",
              "    <tr>\n",
              "      <th>4</th>\n",
              "      <td>人事部</td>\n",
              "      <td>30岁男性</td>\n",
              "      <td>0</td>\n",
              "    </tr>\n",
              "    <tr>\n",
              "      <th>5</th>\n",
              "      <td>财务部</td>\n",
              "      <td>30岁男性</td>\n",
              "      <td>2</td>\n",
              "    </tr>\n",
              "    <tr>\n",
              "      <th>6</th>\n",
              "      <td>人事部</td>\n",
              "      <td>30岁女性</td>\n",
              "      <td>4</td>\n",
              "    </tr>\n",
              "    <tr>\n",
              "      <th>7</th>\n",
              "      <td>财务部</td>\n",
              "      <td>30岁女性</td>\n",
              "      <td>1</td>\n",
              "    </tr>\n",
              "  </tbody>\n",
              "</table>\n",
              "</div>"
            ],
            "text/plain": [
              "    部门  性別年龄  人数\n",
              "0  人事部  20岁男性   1\n",
              "1  财务部  20岁男性   1\n",
              "2  人事部  20岁女性   1\n",
              "3  财务部  20岁女性   0\n",
              "4  人事部  30岁男性   0\n",
              "5  财务部  30岁男性   2\n",
              "6  人事部  30岁女性   4\n",
              "7  财务部  30岁女性   1"
            ]
          },
          "metadata": {
            "tags": []
          },
          "execution_count": 14
        }
      ]
    },
    {
      "cell_type": "markdown",
      "metadata": {
        "id": "DbaGV4W_1T4T",
        "colab_type": "text"
      },
      "source": [
        "▲ 程序清单 9.27 DataFrame 对象的 melt 方法"
      ]
    },
    {
      "cell_type": "code",
      "metadata": {
        "id": "Gqlde1oY1T4U",
        "colab_type": "code",
        "colab": {}
      },
      "source": [
        "df['性別'] = df['性別年龄'].str[:2]\n",
        "df['年龄'] = df['性別年龄'].str[2:]"
      ],
      "execution_count": 0,
      "outputs": []
    },
    {
      "cell_type": "code",
      "metadata": {
        "id": "xSxyhW351T4W",
        "colab_type": "code",
        "colab": {
          "base_uri": "https://localhost:8080/",
          "height": 288
        },
        "outputId": "62a36022-feb9-4c0d-e46b-c63ede320c91"
      },
      "source": [
        "df.drop('性別年龄', inplace=True, axis=1)\n",
        "df"
      ],
      "execution_count": 16,
      "outputs": [
        {
          "output_type": "execute_result",
          "data": {
            "text/html": [
              "<div>\n",
              "<style scoped>\n",
              "    .dataframe tbody tr th:only-of-type {\n",
              "        vertical-align: middle;\n",
              "    }\n",
              "\n",
              "    .dataframe tbody tr th {\n",
              "        vertical-align: top;\n",
              "    }\n",
              "\n",
              "    .dataframe thead th {\n",
              "        text-align: right;\n",
              "    }\n",
              "</style>\n",
              "<table border=\"1\" class=\"dataframe\">\n",
              "  <thead>\n",
              "    <tr style=\"text-align: right;\">\n",
              "      <th></th>\n",
              "      <th>部门</th>\n",
              "      <th>人数</th>\n",
              "      <th>性別</th>\n",
              "      <th>年龄</th>\n",
              "    </tr>\n",
              "  </thead>\n",
              "  <tbody>\n",
              "    <tr>\n",
              "      <th>0</th>\n",
              "      <td>人事部</td>\n",
              "      <td>1</td>\n",
              "      <td>男性</td>\n",
              "      <td>20岁</td>\n",
              "    </tr>\n",
              "    <tr>\n",
              "      <th>1</th>\n",
              "      <td>财务部</td>\n",
              "      <td>1</td>\n",
              "      <td>男性</td>\n",
              "      <td>20岁</td>\n",
              "    </tr>\n",
              "    <tr>\n",
              "      <th>2</th>\n",
              "      <td>人事部</td>\n",
              "      <td>1</td>\n",
              "      <td>女性</td>\n",
              "      <td>20岁</td>\n",
              "    </tr>\n",
              "    <tr>\n",
              "      <th>3</th>\n",
              "      <td>财务部</td>\n",
              "      <td>0</td>\n",
              "      <td>女性</td>\n",
              "      <td>20岁</td>\n",
              "    </tr>\n",
              "    <tr>\n",
              "      <th>4</th>\n",
              "      <td>人事部</td>\n",
              "      <td>0</td>\n",
              "      <td>男性</td>\n",
              "      <td>30岁</td>\n",
              "    </tr>\n",
              "    <tr>\n",
              "      <th>5</th>\n",
              "      <td>财务部</td>\n",
              "      <td>2</td>\n",
              "      <td>男性</td>\n",
              "      <td>30岁</td>\n",
              "    </tr>\n",
              "    <tr>\n",
              "      <th>6</th>\n",
              "      <td>人事部</td>\n",
              "      <td>4</td>\n",
              "      <td>女性</td>\n",
              "      <td>30岁</td>\n",
              "    </tr>\n",
              "    <tr>\n",
              "      <th>7</th>\n",
              "      <td>财务部</td>\n",
              "      <td>1</td>\n",
              "      <td>女性</td>\n",
              "      <td>30岁</td>\n",
              "    </tr>\n",
              "  </tbody>\n",
              "</table>\n",
              "</div>"
            ],
            "text/plain": [
              "    部门  人数  性別   年龄\n",
              "0  人事部   1  男性  20岁\n",
              "1  财务部   1  男性  20岁\n",
              "2  人事部   1  女性  20岁\n",
              "3  财务部   0  女性  20岁\n",
              "4  人事部   0  男性  30岁\n",
              "5  财务部   2  男性  30岁\n",
              "6  人事部   4  女性  30岁\n",
              "7  财务部   1  女性  30岁"
            ]
          },
          "metadata": {
            "tags": []
          },
          "execution_count": 16
        }
      ]
    },
    {
      "cell_type": "markdown",
      "metadata": {
        "id": "FN_JCCza1T4Y",
        "colab_type": "text"
      },
      "source": [
        "▲ 程序清单 9.28 Series 对象的 str 属性"
      ]
    },
    {
      "cell_type": "code",
      "metadata": {
        "id": "jzb6FcZT1T4Z",
        "colab_type": "code",
        "colab": {
          "base_uri": "https://localhost:8080/",
          "height": 138
        },
        "outputId": "80b8a185-6a2d-4752-fdff-0a937c3293bf"
      },
      "source": [
        "df.groupby('年龄').sum()"
      ],
      "execution_count": 17,
      "outputs": [
        {
          "output_type": "execute_result",
          "data": {
            "text/html": [
              "<div>\n",
              "<style scoped>\n",
              "    .dataframe tbody tr th:only-of-type {\n",
              "        vertical-align: middle;\n",
              "    }\n",
              "\n",
              "    .dataframe tbody tr th {\n",
              "        vertical-align: top;\n",
              "    }\n",
              "\n",
              "    .dataframe thead th {\n",
              "        text-align: right;\n",
              "    }\n",
              "</style>\n",
              "<table border=\"1\" class=\"dataframe\">\n",
              "  <thead>\n",
              "    <tr style=\"text-align: right;\">\n",
              "      <th></th>\n",
              "      <th>人数</th>\n",
              "    </tr>\n",
              "    <tr>\n",
              "      <th>年龄</th>\n",
              "      <th></th>\n",
              "    </tr>\n",
              "  </thead>\n",
              "  <tbody>\n",
              "    <tr>\n",
              "      <th>20岁</th>\n",
              "      <td>3</td>\n",
              "    </tr>\n",
              "    <tr>\n",
              "      <th>30岁</th>\n",
              "      <td>7</td>\n",
              "    </tr>\n",
              "  </tbody>\n",
              "</table>\n",
              "</div>"
            ],
            "text/plain": [
              "     人数\n",
              "年龄     \n",
              "20岁   3\n",
              "30岁   7"
            ]
          },
          "metadata": {
            "tags": []
          },
          "execution_count": 17
        }
      ]
    },
    {
      "cell_type": "markdown",
      "metadata": {
        "id": "P-cXPp011T4b",
        "colab_type": "text"
      },
      "source": [
        "▲ 程序清单 9.29 DataFrame 对象的 groupby 方法"
      ]
    },
    {
      "cell_type": "code",
      "metadata": {
        "id": "EodfRWMy1T4c",
        "colab_type": "code",
        "colab": {
          "base_uri": "https://localhost:8080/",
          "height": 168
        },
        "outputId": "a93fe214-551e-4b81-ef7f-25bbe2d43693"
      },
      "source": [
        "df = pd.read_csv('../data/ex19.csv')\n",
        "df"
      ],
      "execution_count": 18,
      "outputs": [
        {
          "output_type": "execute_result",
          "data": {
            "text/html": [
              "<div>\n",
              "<style scoped>\n",
              "    .dataframe tbody tr th:only-of-type {\n",
              "        vertical-align: middle;\n",
              "    }\n",
              "\n",
              "    .dataframe tbody tr th {\n",
              "        vertical-align: top;\n",
              "    }\n",
              "\n",
              "    .dataframe thead th {\n",
              "        text-align: right;\n",
              "    }\n",
              "</style>\n",
              "<table border=\"1\" class=\"dataframe\">\n",
              "  <thead>\n",
              "    <tr style=\"text-align: right;\">\n",
              "      <th></th>\n",
              "      <th>name</th>\n",
              "      <th>type</th>\n",
              "      <th>1月</th>\n",
              "      <th>2月</th>\n",
              "      <th>3月</th>\n",
              "    </tr>\n",
              "  </thead>\n",
              "  <tbody>\n",
              "    <tr>\n",
              "      <th>0</th>\n",
              "      <td>A店</td>\n",
              "      <td>最低</td>\n",
              "      <td>80</td>\n",
              "      <td>100</td>\n",
              "      <td>70</td>\n",
              "    </tr>\n",
              "    <tr>\n",
              "      <th>1</th>\n",
              "      <td>A店</td>\n",
              "      <td>最高</td>\n",
              "      <td>120</td>\n",
              "      <td>120</td>\n",
              "      <td>90</td>\n",
              "    </tr>\n",
              "    <tr>\n",
              "      <th>2</th>\n",
              "      <td>B店</td>\n",
              "      <td>最低</td>\n",
              "      <td>90</td>\n",
              "      <td>90</td>\n",
              "      <td>100</td>\n",
              "    </tr>\n",
              "    <tr>\n",
              "      <th>3</th>\n",
              "      <td>B店</td>\n",
              "      <td>最高</td>\n",
              "      <td>110</td>\n",
              "      <td>150</td>\n",
              "      <td>110</td>\n",
              "    </tr>\n",
              "  </tbody>\n",
              "</table>\n",
              "</div>"
            ],
            "text/plain": [
              "  name type   1月   2月   3月\n",
              "0   A店   最低   80  100   70\n",
              "1   A店   最高  120  120   90\n",
              "2   B店   最低   90   90  100\n",
              "3   B店   最高  110  150  110"
            ]
          },
          "metadata": {
            "tags": []
          },
          "execution_count": 18
        }
      ]
    },
    {
      "cell_type": "markdown",
      "metadata": {
        "id": "DFHKLilm1T4f",
        "colab_type": "text"
      },
      "source": [
        "▲ 程序清单 9.30 ex19.csv 文件的读取"
      ]
    },
    {
      "cell_type": "code",
      "metadata": {
        "id": "sj5dugIV1T4g",
        "colab_type": "code",
        "colab": {
          "base_uri": "https://localhost:8080/",
          "height": 408
        },
        "outputId": "19c98cb4-6482-4938-9dd0-58511c540d8b"
      },
      "source": [
        "df_tidy = df.melt(id_vars=['name','type'], var_name='month')\n",
        "df_tidy"
      ],
      "execution_count": 19,
      "outputs": [
        {
          "output_type": "execute_result",
          "data": {
            "text/html": [
              "<div>\n",
              "<style scoped>\n",
              "    .dataframe tbody tr th:only-of-type {\n",
              "        vertical-align: middle;\n",
              "    }\n",
              "\n",
              "    .dataframe tbody tr th {\n",
              "        vertical-align: top;\n",
              "    }\n",
              "\n",
              "    .dataframe thead th {\n",
              "        text-align: right;\n",
              "    }\n",
              "</style>\n",
              "<table border=\"1\" class=\"dataframe\">\n",
              "  <thead>\n",
              "    <tr style=\"text-align: right;\">\n",
              "      <th></th>\n",
              "      <th>name</th>\n",
              "      <th>type</th>\n",
              "      <th>month</th>\n",
              "      <th>value</th>\n",
              "    </tr>\n",
              "  </thead>\n",
              "  <tbody>\n",
              "    <tr>\n",
              "      <th>0</th>\n",
              "      <td>A店</td>\n",
              "      <td>最低</td>\n",
              "      <td>1月</td>\n",
              "      <td>80</td>\n",
              "    </tr>\n",
              "    <tr>\n",
              "      <th>1</th>\n",
              "      <td>A店</td>\n",
              "      <td>最高</td>\n",
              "      <td>1月</td>\n",
              "      <td>120</td>\n",
              "    </tr>\n",
              "    <tr>\n",
              "      <th>2</th>\n",
              "      <td>B店</td>\n",
              "      <td>最低</td>\n",
              "      <td>1月</td>\n",
              "      <td>90</td>\n",
              "    </tr>\n",
              "    <tr>\n",
              "      <th>3</th>\n",
              "      <td>B店</td>\n",
              "      <td>最高</td>\n",
              "      <td>1月</td>\n",
              "      <td>110</td>\n",
              "    </tr>\n",
              "    <tr>\n",
              "      <th>4</th>\n",
              "      <td>A店</td>\n",
              "      <td>最低</td>\n",
              "      <td>2月</td>\n",
              "      <td>100</td>\n",
              "    </tr>\n",
              "    <tr>\n",
              "      <th>5</th>\n",
              "      <td>A店</td>\n",
              "      <td>最高</td>\n",
              "      <td>2月</td>\n",
              "      <td>120</td>\n",
              "    </tr>\n",
              "    <tr>\n",
              "      <th>6</th>\n",
              "      <td>B店</td>\n",
              "      <td>最低</td>\n",
              "      <td>2月</td>\n",
              "      <td>90</td>\n",
              "    </tr>\n",
              "    <tr>\n",
              "      <th>7</th>\n",
              "      <td>B店</td>\n",
              "      <td>最高</td>\n",
              "      <td>2月</td>\n",
              "      <td>150</td>\n",
              "    </tr>\n",
              "    <tr>\n",
              "      <th>8</th>\n",
              "      <td>A店</td>\n",
              "      <td>最低</td>\n",
              "      <td>3月</td>\n",
              "      <td>70</td>\n",
              "    </tr>\n",
              "    <tr>\n",
              "      <th>9</th>\n",
              "      <td>A店</td>\n",
              "      <td>最高</td>\n",
              "      <td>3月</td>\n",
              "      <td>90</td>\n",
              "    </tr>\n",
              "    <tr>\n",
              "      <th>10</th>\n",
              "      <td>B店</td>\n",
              "      <td>最低</td>\n",
              "      <td>3月</td>\n",
              "      <td>100</td>\n",
              "    </tr>\n",
              "    <tr>\n",
              "      <th>11</th>\n",
              "      <td>B店</td>\n",
              "      <td>最高</td>\n",
              "      <td>3月</td>\n",
              "      <td>110</td>\n",
              "    </tr>\n",
              "  </tbody>\n",
              "</table>\n",
              "</div>"
            ],
            "text/plain": [
              "   name type month  value\n",
              "0    A店   最低    1月     80\n",
              "1    A店   最高    1月    120\n",
              "2    B店   最低    1月     90\n",
              "3    B店   最高    1月    110\n",
              "4    A店   最低    2月    100\n",
              "5    A店   最高    2月    120\n",
              "6    B店   最低    2月     90\n",
              "7    B店   最高    2月    150\n",
              "8    A店   最低    3月     70\n",
              "9    A店   最高    3月     90\n",
              "10   B店   最低    3月    100\n",
              "11   B店   最高    3月    110"
            ]
          },
          "metadata": {
            "tags": []
          },
          "execution_count": 19
        }
      ]
    },
    {
      "cell_type": "markdown",
      "metadata": {
        "id": "H-6cQdCF1T4i",
        "colab_type": "text"
      },
      "source": [
        "▲ 程序清单 9.31 DataFrame 对象的 melt 方法"
      ]
    },
    {
      "cell_type": "code",
      "metadata": {
        "id": "h5ohJmhT1T4i",
        "colab_type": "code",
        "colab": {
          "base_uri": "https://localhost:8080/",
          "height": 228
        },
        "outputId": "78ca7ffd-f954-4684-c3f1-3a724d6cfa65"
      },
      "source": [
        "df_tidy = df_tidy.pivot_table(index=['name','month'],\n",
        "                              columns='type',\n",
        "                              values='value').reset_index()\n",
        "\n",
        "df_tidy"
      ],
      "execution_count": 20,
      "outputs": [
        {
          "output_type": "execute_result",
          "data": {
            "text/html": [
              "<div>\n",
              "<style scoped>\n",
              "    .dataframe tbody tr th:only-of-type {\n",
              "        vertical-align: middle;\n",
              "    }\n",
              "\n",
              "    .dataframe tbody tr th {\n",
              "        vertical-align: top;\n",
              "    }\n",
              "\n",
              "    .dataframe thead th {\n",
              "        text-align: right;\n",
              "    }\n",
              "</style>\n",
              "<table border=\"1\" class=\"dataframe\">\n",
              "  <thead>\n",
              "    <tr style=\"text-align: right;\">\n",
              "      <th>type</th>\n",
              "      <th>name</th>\n",
              "      <th>month</th>\n",
              "      <th>最低</th>\n",
              "      <th>最高</th>\n",
              "    </tr>\n",
              "  </thead>\n",
              "  <tbody>\n",
              "    <tr>\n",
              "      <th>0</th>\n",
              "      <td>A店</td>\n",
              "      <td>1月</td>\n",
              "      <td>80</td>\n",
              "      <td>120</td>\n",
              "    </tr>\n",
              "    <tr>\n",
              "      <th>1</th>\n",
              "      <td>A店</td>\n",
              "      <td>2月</td>\n",
              "      <td>100</td>\n",
              "      <td>120</td>\n",
              "    </tr>\n",
              "    <tr>\n",
              "      <th>2</th>\n",
              "      <td>A店</td>\n",
              "      <td>3月</td>\n",
              "      <td>70</td>\n",
              "      <td>90</td>\n",
              "    </tr>\n",
              "    <tr>\n",
              "      <th>3</th>\n",
              "      <td>B店</td>\n",
              "      <td>1月</td>\n",
              "      <td>90</td>\n",
              "      <td>110</td>\n",
              "    </tr>\n",
              "    <tr>\n",
              "      <th>4</th>\n",
              "      <td>B店</td>\n",
              "      <td>2月</td>\n",
              "      <td>90</td>\n",
              "      <td>150</td>\n",
              "    </tr>\n",
              "    <tr>\n",
              "      <th>5</th>\n",
              "      <td>B店</td>\n",
              "      <td>3月</td>\n",
              "      <td>100</td>\n",
              "      <td>110</td>\n",
              "    </tr>\n",
              "  </tbody>\n",
              "</table>\n",
              "</div>"
            ],
            "text/plain": [
              "type name month   最低   最高\n",
              "0      A店    1月   80  120\n",
              "1      A店    2月  100  120\n",
              "2      A店    3月   70   90\n",
              "3      B店    1月   90  110\n",
              "4      B店    2月   90  150\n",
              "5      B店    3月  100  110"
            ]
          },
          "metadata": {
            "tags": []
          },
          "execution_count": 20
        }
      ]
    },
    {
      "cell_type": "markdown",
      "metadata": {
        "id": "thOYMfXr1T4l",
        "colab_type": "text"
      },
      "source": [
        "▲ 程序清单 9.32 DataFrame 对象的 pivot_table 方法"
      ]
    },
    {
      "cell_type": "code",
      "metadata": {
        "id": "PLk7FcEx1T4m",
        "colab_type": "code",
        "colab": {
          "base_uri": "https://localhost:8080/",
          "height": 318
        },
        "outputId": "5fc12d3c-deca-4f60-ff8f-c077b1537b01"
      },
      "source": [
        "df = pd.read_csv('../data/ex20.csv', )\n",
        "df"
      ],
      "execution_count": 21,
      "outputs": [
        {
          "output_type": "execute_result",
          "data": {
            "text/html": [
              "<div>\n",
              "<style scoped>\n",
              "    .dataframe tbody tr th:only-of-type {\n",
              "        vertical-align: middle;\n",
              "    }\n",
              "\n",
              "    .dataframe tbody tr th {\n",
              "        vertical-align: top;\n",
              "    }\n",
              "\n",
              "    .dataframe thead th {\n",
              "        text-align: right;\n",
              "    }\n",
              "</style>\n",
              "<table border=\"1\" class=\"dataframe\">\n",
              "  <thead>\n",
              "    <tr style=\"text-align: right;\">\n",
              "      <th></th>\n",
              "      <th>name</th>\n",
              "      <th>category</th>\n",
              "      <th># of employees</th>\n",
              "      <th>city</th>\n",
              "      <th>month</th>\n",
              "      <th>sales</th>\n",
              "    </tr>\n",
              "  </thead>\n",
              "  <tbody>\n",
              "    <tr>\n",
              "      <th>0</th>\n",
              "      <td>A店</td>\n",
              "      <td>寿司</td>\n",
              "      <td>4</td>\n",
              "      <td>东京</td>\n",
              "      <td>1月</td>\n",
              "      <td>120</td>\n",
              "    </tr>\n",
              "    <tr>\n",
              "      <th>1</th>\n",
              "      <td>A店</td>\n",
              "      <td>寿司</td>\n",
              "      <td>4</td>\n",
              "      <td>东京</td>\n",
              "      <td>2月</td>\n",
              "      <td>100</td>\n",
              "    </tr>\n",
              "    <tr>\n",
              "      <th>2</th>\n",
              "      <td>A店</td>\n",
              "      <td>寿司</td>\n",
              "      <td>4</td>\n",
              "      <td>东京</td>\n",
              "      <td>3月</td>\n",
              "      <td>90</td>\n",
              "    </tr>\n",
              "    <tr>\n",
              "      <th>3</th>\n",
              "      <td>B店</td>\n",
              "      <td>拉面</td>\n",
              "      <td>3</td>\n",
              "      <td>大阪</td>\n",
              "      <td>1月</td>\n",
              "      <td>80</td>\n",
              "    </tr>\n",
              "    <tr>\n",
              "      <th>4</th>\n",
              "      <td>B店</td>\n",
              "      <td>拉面</td>\n",
              "      <td>3</td>\n",
              "      <td>大阪</td>\n",
              "      <td>2月</td>\n",
              "      <td>120</td>\n",
              "    </tr>\n",
              "    <tr>\n",
              "      <th>5</th>\n",
              "      <td>B店</td>\n",
              "      <td>拉面</td>\n",
              "      <td>3</td>\n",
              "      <td>大阪</td>\n",
              "      <td>3月</td>\n",
              "      <td>70</td>\n",
              "    </tr>\n",
              "    <tr>\n",
              "      <th>6</th>\n",
              "      <td>C店</td>\n",
              "      <td>荞麦面</td>\n",
              "      <td>6</td>\n",
              "      <td>札幌</td>\n",
              "      <td>1月</td>\n",
              "      <td>90</td>\n",
              "    </tr>\n",
              "    <tr>\n",
              "      <th>7</th>\n",
              "      <td>C店</td>\n",
              "      <td>荞麦面</td>\n",
              "      <td>6</td>\n",
              "      <td>札幌</td>\n",
              "      <td>2月</td>\n",
              "      <td>150</td>\n",
              "    </tr>\n",
              "    <tr>\n",
              "      <th>8</th>\n",
              "      <td>C店</td>\n",
              "      <td>荞麦面</td>\n",
              "      <td>6</td>\n",
              "      <td>札幌</td>\n",
              "      <td>3月</td>\n",
              "      <td>110</td>\n",
              "    </tr>\n",
              "  </tbody>\n",
              "</table>\n",
              "</div>"
            ],
            "text/plain": [
              "  name category  # of employees city month  sales\n",
              "0   A店       寿司               4   东京    1月    120\n",
              "1   A店       寿司               4   东京    2月    100\n",
              "2   A店       寿司               4   东京    3月     90\n",
              "3   B店       拉面               3   大阪    1月     80\n",
              "4   B店       拉面               3   大阪    2月    120\n",
              "5   B店        拉面               3   大阪    3月     70\n",
              "6   C店       荞麦面               6   札幌    1月     90\n",
              "7   C店       荞麦面               6   札幌    2月    150\n",
              "8   C店       荞麦面               6   札幌    3月    110"
            ]
          },
          "metadata": {
            "tags": []
          },
          "execution_count": 21
        }
      ]
    },
    {
      "cell_type": "markdown",
      "metadata": {
        "id": "450wz8zr1T4o",
        "colab_type": "text"
      },
      "source": [
        "▲ 程序清单 9.33 ex20.csv 文件的读取"
      ]
    },
    {
      "cell_type": "code",
      "metadata": {
        "id": "FgCx3iJ31T4p",
        "colab_type": "code",
        "colab": {
          "base_uri": "https://localhost:8080/",
          "height": 138
        },
        "outputId": "abc729b4-461d-400a-e289-9d99822ed06a"
      },
      "source": [
        "cols = ['name', 'category', '# of employees', 'city']\n",
        "restaurant = df[cols].drop_duplicates().reset_index(drop=True)\n",
        "restaurant"
      ],
      "execution_count": 22,
      "outputs": [
        {
          "output_type": "execute_result",
          "data": {
            "text/html": [
              "<div>\n",
              "<style scoped>\n",
              "    .dataframe tbody tr th:only-of-type {\n",
              "        vertical-align: middle;\n",
              "    }\n",
              "\n",
              "    .dataframe tbody tr th {\n",
              "        vertical-align: top;\n",
              "    }\n",
              "\n",
              "    .dataframe thead th {\n",
              "        text-align: right;\n",
              "    }\n",
              "</style>\n",
              "<table border=\"1\" class=\"dataframe\">\n",
              "  <thead>\n",
              "    <tr style=\"text-align: right;\">\n",
              "      <th></th>\n",
              "      <th>name</th>\n",
              "      <th>category</th>\n",
              "      <th># of employees</th>\n",
              "      <th>city</th>\n",
              "    </tr>\n",
              "  </thead>\n",
              "  <tbody>\n",
              "    <tr>\n",
              "      <th>0</th>\n",
              "      <td>A店</td>\n",
              "      <td>寿司</td>\n",
              "      <td>4</td>\n",
              "      <td>东京</td>\n",
              "    </tr>\n",
              "    <tr>\n",
              "      <th>1</th>\n",
              "      <td>B店</td>\n",
              "      <td>拉面</td>\n",
              "      <td>3</td>\n",
              "      <td>大阪</td>\n",
              "    </tr>\n",
              "    <tr>\n",
              "      <th>2</th>\n",
              "      <td>C店</td>\n",
              "      <td>荞麦面</td>\n",
              "      <td>6</td>\n",
              "      <td>札幌</td>\n",
              "    </tr>\n",
              "  </tbody>\n",
              "</table>\n",
              "</div>"
            ],
            "text/plain": [
              "  name category  # of employees city\n",
              "0   A店       寿司               4   东京\n",
              "1   B店     拉面               3   大阪\n",
              "2   C店       荞麦面               6   札幌"
            ]
          },
          "metadata": {
            "tags": []
          },
          "execution_count": 22
        }
      ]
    },
    {
      "cell_type": "markdown",
      "metadata": {
        "id": "Sw8K9hLO1T4u",
        "colab_type": "text"
      },
      "source": [
        "▲ 程序清单 9.34 drop_duplicates 方法和 reset_index 方法"
      ]
    },
    {
      "cell_type": "code",
      "metadata": {
        "id": "huOMdc9A1T4u",
        "colab_type": "code",
        "colab": {
          "base_uri": "https://localhost:8080/",
          "height": 318
        },
        "outputId": "6e9f5208-de01-41af-c862-097a38e72ee5"
      },
      "source": [
        "sales = df[['name','month','sales']].copy()\n",
        "sales"
      ],
      "execution_count": 23,
      "outputs": [
        {
          "output_type": "execute_result",
          "data": {
            "text/html": [
              "<div>\n",
              "<style scoped>\n",
              "    .dataframe tbody tr th:only-of-type {\n",
              "        vertical-align: middle;\n",
              "    }\n",
              "\n",
              "    .dataframe tbody tr th {\n",
              "        vertical-align: top;\n",
              "    }\n",
              "\n",
              "    .dataframe thead th {\n",
              "        text-align: right;\n",
              "    }\n",
              "</style>\n",
              "<table border=\"1\" class=\"dataframe\">\n",
              "  <thead>\n",
              "    <tr style=\"text-align: right;\">\n",
              "      <th></th>\n",
              "      <th>name</th>\n",
              "      <th>month</th>\n",
              "      <th>sales</th>\n",
              "    </tr>\n",
              "  </thead>\n",
              "  <tbody>\n",
              "    <tr>\n",
              "      <th>0</th>\n",
              "      <td>A店</td>\n",
              "      <td>1月</td>\n",
              "      <td>120</td>\n",
              "    </tr>\n",
              "    <tr>\n",
              "      <th>1</th>\n",
              "      <td>A店</td>\n",
              "      <td>2月</td>\n",
              "      <td>100</td>\n",
              "    </tr>\n",
              "    <tr>\n",
              "      <th>2</th>\n",
              "      <td>A店</td>\n",
              "      <td>3月</td>\n",
              "      <td>90</td>\n",
              "    </tr>\n",
              "    <tr>\n",
              "      <th>3</th>\n",
              "      <td>B店</td>\n",
              "      <td>1月</td>\n",
              "      <td>80</td>\n",
              "    </tr>\n",
              "    <tr>\n",
              "      <th>4</th>\n",
              "      <td>B店</td>\n",
              "      <td>2月</td>\n",
              "      <td>120</td>\n",
              "    </tr>\n",
              "    <tr>\n",
              "      <th>5</th>\n",
              "      <td>B店</td>\n",
              "      <td>3月</td>\n",
              "      <td>70</td>\n",
              "    </tr>\n",
              "    <tr>\n",
              "      <th>6</th>\n",
              "      <td>C店</td>\n",
              "      <td>1月</td>\n",
              "      <td>90</td>\n",
              "    </tr>\n",
              "    <tr>\n",
              "      <th>7</th>\n",
              "      <td>C店</td>\n",
              "      <td>2月</td>\n",
              "      <td>150</td>\n",
              "    </tr>\n",
              "    <tr>\n",
              "      <th>8</th>\n",
              "      <td>C店</td>\n",
              "      <td>3月</td>\n",
              "      <td>110</td>\n",
              "    </tr>\n",
              "  </tbody>\n",
              "</table>\n",
              "</div>"
            ],
            "text/plain": [
              "  name month  sales\n",
              "0   A店    1月    120\n",
              "1   A店    2月    100\n",
              "2   A店    3月     90\n",
              "3   B店    1月     80\n",
              "4   B店    2月    120\n",
              "5   B店    3月     70\n",
              "6   C店    1月     90\n",
              "7   C店    2月    150\n",
              "8   C店    3月    110"
            ]
          },
          "metadata": {
            "tags": []
          },
          "execution_count": 23
        }
      ]
    },
    {
      "cell_type": "markdown",
      "metadata": {
        "id": "vr-WIo-o1T4x",
        "colab_type": "text"
      },
      "source": [
        "▲ 程序清单 9.35 特定列的引用和 copy 方法"
      ]
    }
  ]
}