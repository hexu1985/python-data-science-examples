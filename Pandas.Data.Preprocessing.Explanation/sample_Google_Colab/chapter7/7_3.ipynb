{
  "nbformat": 4,
  "nbformat_minor": 0,
  "metadata": {
    "kernelspec": {
      "display_name": "Python 3",
      "language": "python",
      "name": "python3"
    },
    "language_info": {
      "codemirror_mode": {
        "name": "ipython",
        "version": 3
      },
      "file_extension": ".py",
      "mimetype": "text/x-python",
      "name": "python",
      "nbconvert_exporter": "python",
      "pygments_lexer": "ipython3",
      "version": "3.6.7"
    },
    "colab": {
      "name": "7.3.ipynb",
      "provenance": [],
      "collapsed_sections": []
    }
  },
  "cells": [
    {
      "cell_type": "code",
      "metadata": {
        "id": "2Z6bLj6gsNzb",
        "colab_type": "code",
        "colab": {
          "base_uri": "https://localhost:8080/",
          "height": 274
        },
        "outputId": "5be68684-3d3a-41cb-c4e3-a7cdbbd5ddb7"
      },
      "source": [
        "!pip install pandas==0.22.0\n",
        "!pip install numpy==1.14.6\n",
        "!pip install matplotlib==2.1.2"
      ],
      "execution_count": 1,
      "outputs": [
        {
          "output_type": "stream",
          "text": [
            "Requirement already satisfied: pandas==0.22.0 in /usr/local/lib/python3.6/dist-packages (0.22.0)\n",
            "Requirement already satisfied: pytz>=2011k in /usr/local/lib/python3.6/dist-packages (from pandas==0.22.0) (2018.9)\n",
            "Requirement already satisfied: python-dateutil>=2 in /usr/local/lib/python3.6/dist-packages (from pandas==0.22.0) (2.6.1)\n",
            "Requirement already satisfied: numpy>=1.9.0 in /usr/local/lib/python3.6/dist-packages (from pandas==0.22.0) (1.14.6)\n",
            "Requirement already satisfied: six>=1.5 in /usr/local/lib/python3.6/dist-packages (from python-dateutil>=2->pandas==0.22.0) (1.12.0)\n",
            "Requirement already satisfied: numpy==1.14.6 in /usr/local/lib/python3.6/dist-packages (1.14.6)\n",
            "Requirement already satisfied: matplotlib==2.1.2 in /usr/local/lib/python3.6/dist-packages (2.1.2)\n",
            "Requirement already satisfied: python-dateutil>=2.1 in /usr/local/lib/python3.6/dist-packages (from matplotlib==2.1.2) (2.6.1)\n",
            "Requirement already satisfied: cycler>=0.10 in /usr/local/lib/python3.6/dist-packages (from matplotlib==2.1.2) (0.10.0)\n",
            "Requirement already satisfied: numpy>=1.7.1 in /usr/local/lib/python3.6/dist-packages (from matplotlib==2.1.2) (1.14.6)\n",
            "Requirement already satisfied: pytz in /usr/local/lib/python3.6/dist-packages (from matplotlib==2.1.2) (2018.9)\n",
            "Requirement already satisfied: pyparsing!=2.0.4,!=2.1.2,!=2.1.6,>=2.0.1 in /usr/local/lib/python3.6/dist-packages (from matplotlib==2.1.2) (2.4.6)\n",
            "Requirement already satisfied: six>=1.10 in /usr/local/lib/python3.6/dist-packages (from matplotlib==2.1.2) (1.12.0)\n"
          ],
          "name": "stdout"
        }
      ]
    },
    {
      "cell_type": "markdown",
      "metadata": {
        "id": "9tMpsn2fsPTd",
        "colab_type": "text"
      },
      "source": [
        "▲库的版本变更"
      ]
    },
    {
      "cell_type": "code",
      "metadata": {
        "id": "I_ckUyo2sQy7",
        "colab_type": "code",
        "colab": {
          "base_uri": "https://localhost:8080/",
          "height": 90
        },
        "outputId": "3e0d7867-8351-44df-f782-5ab6cfd450d0"
      },
      "source": [
        "import sys\n",
        "import pandas\n",
        "import numpy\n",
        "import matplotlib\n",
        "print('python version : ', sys.version_info[0:3])\n",
        "print('pandas version : ', pandas.__version__)\n",
        "print('numpy version : ', numpy.__version__)\n",
        "print('matplotlib version : ', matplotlib.__version__)"
      ],
      "execution_count": 2,
      "outputs": [
        {
          "output_type": "stream",
          "text": [
            "python version :  (3, 6, 9)\n",
            "pandas version :  0.22.0\n",
            "numpy version :  1.14.6\n",
            "matplotlib version :  2.1.2\n"
          ],
          "name": "stdout"
        }
      ]
    },
    {
      "cell_type": "markdown",
      "metadata": {
        "id": "JgTZ1zR2sSkh",
        "colab_type": "text"
      },
      "source": [
        "▲Python和库的版本输出"
      ]
    },
    {
      "cell_type": "code",
      "metadata": {
        "id": "7y27mexlsL1t",
        "colab_type": "code",
        "colab": {}
      },
      "source": [
        "import pandas as pd\n",
        "import numpy as np\n",
        "import matplotlib.pyplot as plt"
      ],
      "execution_count": 0,
      "outputs": []
    },
    {
      "cell_type": "markdown",
      "metadata": {
        "id": "xA-WbAnpsL1x",
        "colab_type": "text"
      },
      "source": [
        "▲预先执行的代码"
      ]
    },
    {
      "cell_type": "code",
      "metadata": {
        "id": "7dfkVqp1sn0b",
        "colab_type": "code",
        "colab": {
          "base_uri": "https://localhost:8080/",
          "height": 35
        },
        "outputId": "c7f3fea3-d3aa-4aaa-ecf4-0a0395bbf4db"
      },
      "source": [
        "ls"
      ],
      "execution_count": 5,
      "outputs": [
        {
          "output_type": "stream",
          "text": [
            "\u001b[0m\u001b[01;34msample_data\u001b[0m/\n"
          ],
          "name": "stdout"
        }
      ]
    },
    {
      "cell_type": "code",
      "metadata": {
        "id": "gwfz-n_fsrjA",
        "colab_type": "code",
        "colab": {
          "base_uri": "https://localhost:8080/",
          "height": 508
        },
        "outputId": "9fa25d03-5645-4c21-a725-5badd92cbb11"
      },
      "source": [
        "!unzip data.zip"
      ],
      "execution_count": 6,
      "outputs": [
        {
          "output_type": "stream",
          "text": [
            "Archive:  data.zip\n",
            "  inflating: data/adult.csv          \n",
            "  inflating: data/ex1.csv            \n",
            "  inflating: data/ex10.csv           \n",
            "  inflating: data/ex11.csv           \n",
            "  inflating: data/ex12.xlsx          \n",
            " extracting: data/ex13.json          \n",
            "  inflating: data/ex14.hdf5          \n",
            "  inflating: data/ex15.csv           \n",
            "  inflating: data/ex16.csv           \n",
            "  inflating: data/ex17.csv           \n",
            "  inflating: data/ex18.csv           \n",
            "  inflating: data/ex19.csv           \n",
            "  inflating: data/ex2.csv            \n",
            "  inflating: data/ex20.csv           \n",
            "  inflating: data/ex3.csv            \n",
            "  inflating: data/ex4.csv            \n",
            "  inflating: data/ex5.csv            \n",
            " extracting: data/ex6.csv            \n",
            "  inflating: data/ex7.csv            \n",
            "  inflating: data/ex8.csv            \n",
            "  inflating: data/ex9.csv            \n",
            " extracting: data/out1.csv           \n",
            " extracting: data/out2.csv           \n",
            " extracting: data/out3.csv           \n",
            "  inflating: data/out4.xlsx          \n",
            "  inflating: data/out5.json          \n"
          ],
          "name": "stdout"
        }
      ]
    },
    {
      "cell_type": "code",
      "metadata": {
        "id": "FT4r5UCAs8JA",
        "colab_type": "code",
        "colab": {
          "base_uri": "https://localhost:8080/",
          "height": 35
        },
        "outputId": "585ef239-fe59-4f02-f1a1-09d08d073bfc"
      },
      "source": [
        "ls"
      ],
      "execution_count": 7,
      "outputs": [
        {
          "output_type": "stream",
          "text": [
            "\u001b[0m\u001b[01;34mdata\u001b[0m/  data.zip  \u001b[01;34msample_data\u001b[0m/\n"
          ],
          "name": "stdout"
        }
      ]
    },
    {
      "cell_type": "code",
      "metadata": {
        "id": "gUAbeFjSs_WQ",
        "colab_type": "code",
        "colab": {
          "base_uri": "https://localhost:8080/",
          "height": 35
        },
        "outputId": "39b8dea4-76b3-442b-ce06-61b9f9438176"
      },
      "source": [
        "cd data"
      ],
      "execution_count": 8,
      "outputs": [
        {
          "output_type": "stream",
          "text": [
            "/content/data\n"
          ],
          "name": "stdout"
        }
      ]
    },
    {
      "cell_type": "code",
      "metadata": {
        "id": "gw83wfFStCAn",
        "colab_type": "code",
        "colab": {
          "base_uri": "https://localhost:8080/",
          "height": 90
        },
        "outputId": "032c0cf3-2601-4c23-8f19-0f1d29451199"
      },
      "source": [
        "ls"
      ],
      "execution_count": 9,
      "outputs": [
        {
          "output_type": "stream",
          "text": [
            "adult.csv  ex13.json  ex17.csv  ex20.csv  ex5.csv  ex9.csv   out4.xlsx\n",
            "ex10.csv   ex14.hdf5  ex18.csv  ex2.csv   ex6.csv  out1.csv  out5.json\n",
            "ex11.csv   ex15.csv   ex19.csv  ex3.csv   ex7.csv  out2.csv\n",
            "ex12.xlsx  ex16.csv   ex1.csv   ex4.csv   ex8.csv  out3.csv\n"
          ],
          "name": "stdout"
        }
      ]
    },
    {
      "cell_type": "markdown",
      "metadata": {
        "id": "3t6gYFwbtFYh",
        "colab_type": "text"
      },
      "source": [
        "▲Google Colaboratory的样本配置"
      ]
    },
    {
      "cell_type": "code",
      "metadata": {
        "id": "cFG8D57usL1y",
        "colab_type": "code",
        "colab": {
          "base_uri": "https://localhost:8080/",
          "height": 318
        },
        "outputId": "83856f1b-722d-4d6e-8126-5a1e97a80cd3"
      },
      "source": [
        "df = pd.read_csv('../data/ex15.csv')\n",
        "df"
      ],
      "execution_count": 10,
      "outputs": [
        {
          "output_type": "execute_result",
          "data": {
            "text/html": [
              "<div>\n",
              "<style scoped>\n",
              "    .dataframe tbody tr th:only-of-type {\n",
              "        vertical-align: middle;\n",
              "    }\n",
              "\n",
              "    .dataframe tbody tr th {\n",
              "        vertical-align: top;\n",
              "    }\n",
              "\n",
              "    .dataframe thead th {\n",
              "        text-align: right;\n",
              "    }\n",
              "</style>\n",
              "<table border=\"1\" class=\"dataframe\">\n",
              "  <thead>\n",
              "    <tr style=\"text-align: right;\">\n",
              "      <th></th>\n",
              "      <th>name</th>\n",
              "      <th>sex</th>\n",
              "      <th>club</th>\n",
              "      <th>math</th>\n",
              "      <th>eng</th>\n",
              "      <th>scie</th>\n",
              "    </tr>\n",
              "  </thead>\n",
              "  <tbody>\n",
              "    <tr>\n",
              "      <th>0</th>\n",
              "      <td>A</td>\n",
              "      <td>Male</td>\n",
              "      <td>soccer</td>\n",
              "      <td>81</td>\n",
              "      <td>79</td>\n",
              "      <td>91</td>\n",
              "    </tr>\n",
              "    <tr>\n",
              "      <th>1</th>\n",
              "      <td>B</td>\n",
              "      <td>Male</td>\n",
              "      <td>soccer</td>\n",
              "      <td>91</td>\n",
              "      <td>90</td>\n",
              "      <td>89</td>\n",
              "    </tr>\n",
              "    <tr>\n",
              "      <th>2</th>\n",
              "      <td>C</td>\n",
              "      <td>Female</td>\n",
              "      <td>volleyball</td>\n",
              "      <td>77</td>\n",
              "      <td>69</td>\n",
              "      <td>94</td>\n",
              "    </tr>\n",
              "    <tr>\n",
              "      <th>3</th>\n",
              "      <td>D</td>\n",
              "      <td>Female</td>\n",
              "      <td>tennis</td>\n",
              "      <td>88</td>\n",
              "      <td>85</td>\n",
              "      <td>81</td>\n",
              "    </tr>\n",
              "    <tr>\n",
              "      <th>4</th>\n",
              "      <td>E</td>\n",
              "      <td>Male</td>\n",
              "      <td>baseball</td>\n",
              "      <td>71</td>\n",
              "      <td>69</td>\n",
              "      <td>82</td>\n",
              "    </tr>\n",
              "    <tr>\n",
              "      <th>5</th>\n",
              "      <td>F</td>\n",
              "      <td>Male</td>\n",
              "      <td>tennis</td>\n",
              "      <td>69</td>\n",
              "      <td>75</td>\n",
              "      <td>84</td>\n",
              "    </tr>\n",
              "    <tr>\n",
              "      <th>6</th>\n",
              "      <td>G</td>\n",
              "      <td>Female</td>\n",
              "      <td>volleyball</td>\n",
              "      <td>91</td>\n",
              "      <td>93</td>\n",
              "      <td>89</td>\n",
              "    </tr>\n",
              "    <tr>\n",
              "      <th>7</th>\n",
              "      <td>H</td>\n",
              "      <td>Female</td>\n",
              "      <td>tennis</td>\n",
              "      <td>77</td>\n",
              "      <td>86</td>\n",
              "      <td>80</td>\n",
              "    </tr>\n",
              "    <tr>\n",
              "      <th>8</th>\n",
              "      <td>I</td>\n",
              "      <td>Male</td>\n",
              "      <td>baseball</td>\n",
              "      <td>88</td>\n",
              "      <td>76</td>\n",
              "      <td>72</td>\n",
              "    </tr>\n",
              "  </tbody>\n",
              "</table>\n",
              "</div>"
            ],
            "text/plain": [
              "  name     sex        club  math  eng  scie\n",
              "0    A    Male      soccer    81   79    91\n",
              "1    B    Male      soccer    91   90    89\n",
              "2    C  Female  volleyball    77   69    94\n",
              "3    D  Female      tennis    88   85    81\n",
              "4    E    Male    baseball    71   69    82\n",
              "5    F    Male      tennis    69   75    84\n",
              "6    G  Female  volleyball    91   93    89\n",
              "7    H  Female      tennis    77   86    80\n",
              "8    I    Male    baseball    88   76    72"
            ]
          },
          "metadata": {
            "tags": []
          },
          "execution_count": 10
        }
      ]
    },
    {
      "cell_type": "markdown",
      "metadata": {
        "id": "dNHI_WBOsL11",
        "colab_type": "text"
      },
      "source": [
        "▲ 程序清单 7.51 ex15.csv 文件的读取"
      ]
    },
    {
      "cell_type": "code",
      "metadata": {
        "id": "HI9TRsyVsL12",
        "colab_type": "code",
        "colab": {
          "base_uri": "https://localhost:8080/",
          "height": 35
        },
        "outputId": "94b8ed68-587a-40c9-be7a-c56c1056609d"
      },
      "source": [
        "grouped = df.groupby(\"sex\")\n",
        "grouped"
      ],
      "execution_count": 11,
      "outputs": [
        {
          "output_type": "execute_result",
          "data": {
            "text/plain": [
              "<pandas.core.groupby.DataFrameGroupBy object at 0x7fe37c374eb8>"
            ]
          },
          "metadata": {
            "tags": []
          },
          "execution_count": 11
        }
      ]
    },
    {
      "cell_type": "markdown",
      "metadata": {
        "id": "Y6hSnZgjsL15",
        "colab_type": "text"
      },
      "source": [
        "▲ 程序清单 7.52 DataFrame 对象的 groupby 方法"
      ]
    },
    {
      "cell_type": "code",
      "metadata": {
        "id": "rdrw3Ky8sL15",
        "colab_type": "code",
        "colab": {
          "base_uri": "https://localhost:8080/",
          "height": 54
        },
        "outputId": "9303e7a1-666e-4df4-bf35-104b7fde6dc5"
      },
      "source": [
        "grouped.groups"
      ],
      "execution_count": 12,
      "outputs": [
        {
          "output_type": "execute_result",
          "data": {
            "text/plain": [
              "{'Female': Int64Index([2, 3, 6, 7], dtype='int64'),\n",
              " 'Male': Int64Index([0, 1, 4, 5, 8], dtype='int64')}"
            ]
          },
          "metadata": {
            "tags": []
          },
          "execution_count": 12
        }
      ]
    },
    {
      "cell_type": "code",
      "metadata": {
        "id": "K76CZSeHsL19",
        "colab_type": "code",
        "colab": {
          "base_uri": "https://localhost:8080/",
          "height": 108
        },
        "outputId": "4edbdccb-96c1-4339-8ff8-0b0410705ca5"
      },
      "source": [
        "df.loc[[2,3,6,7],'sex']"
      ],
      "execution_count": 13,
      "outputs": [
        {
          "output_type": "execute_result",
          "data": {
            "text/plain": [
              "2    Female\n",
              "3    Female\n",
              "6    Female\n",
              "7    Female\n",
              "Name: sex, dtype: object"
            ]
          },
          "metadata": {
            "tags": []
          },
          "execution_count": 13
        }
      ]
    },
    {
      "cell_type": "markdown",
      "metadata": {
        "id": "xUcMhfnTsL2A",
        "colab_type": "text"
      },
      "source": [
        "▲ 程序清单 7.53 GroupBy 对象的 groups 属性"
      ]
    },
    {
      "cell_type": "code",
      "metadata": {
        "id": "LpBZmfJosL2A",
        "colab_type": "code",
        "colab": {
          "base_uri": "https://localhost:8080/",
          "height": 35
        },
        "outputId": "05dcd314-8ee8-4fa4-d6d8-60423b0f5170"
      },
      "source": [
        "grouped.indices"
      ],
      "execution_count": 14,
      "outputs": [
        {
          "output_type": "execute_result",
          "data": {
            "text/plain": [
              "{'Female': array([2, 3, 6, 7]), 'Male': array([0, 1, 4, 5, 8])}"
            ]
          },
          "metadata": {
            "tags": []
          },
          "execution_count": 14
        }
      ]
    },
    {
      "cell_type": "markdown",
      "metadata": {
        "id": "u9tlxviHsL2D",
        "colab_type": "text"
      },
      "source": [
        "▲ 程序清单 7.54 GroupBy 对象的 indices 属性"
      ]
    },
    {
      "cell_type": "code",
      "metadata": {
        "id": "YoAQlnplsL2D",
        "colab_type": "code",
        "colab": {
          "base_uri": "https://localhost:8080/",
          "height": 168
        },
        "outputId": "3dc5ee9a-82aa-4938-8871-e09128d16192"
      },
      "source": [
        "grouped.get_group('Female')"
      ],
      "execution_count": 15,
      "outputs": [
        {
          "output_type": "execute_result",
          "data": {
            "text/html": [
              "<div>\n",
              "<style scoped>\n",
              "    .dataframe tbody tr th:only-of-type {\n",
              "        vertical-align: middle;\n",
              "    }\n",
              "\n",
              "    .dataframe tbody tr th {\n",
              "        vertical-align: top;\n",
              "    }\n",
              "\n",
              "    .dataframe thead th {\n",
              "        text-align: right;\n",
              "    }\n",
              "</style>\n",
              "<table border=\"1\" class=\"dataframe\">\n",
              "  <thead>\n",
              "    <tr style=\"text-align: right;\">\n",
              "      <th></th>\n",
              "      <th>name</th>\n",
              "      <th>sex</th>\n",
              "      <th>club</th>\n",
              "      <th>math</th>\n",
              "      <th>eng</th>\n",
              "      <th>scie</th>\n",
              "    </tr>\n",
              "  </thead>\n",
              "  <tbody>\n",
              "    <tr>\n",
              "      <th>2</th>\n",
              "      <td>C</td>\n",
              "      <td>Female</td>\n",
              "      <td>volleyball</td>\n",
              "      <td>77</td>\n",
              "      <td>69</td>\n",
              "      <td>94</td>\n",
              "    </tr>\n",
              "    <tr>\n",
              "      <th>3</th>\n",
              "      <td>D</td>\n",
              "      <td>Female</td>\n",
              "      <td>tennis</td>\n",
              "      <td>88</td>\n",
              "      <td>85</td>\n",
              "      <td>81</td>\n",
              "    </tr>\n",
              "    <tr>\n",
              "      <th>6</th>\n",
              "      <td>G</td>\n",
              "      <td>Female</td>\n",
              "      <td>volleyball</td>\n",
              "      <td>91</td>\n",
              "      <td>93</td>\n",
              "      <td>89</td>\n",
              "    </tr>\n",
              "    <tr>\n",
              "      <th>7</th>\n",
              "      <td>H</td>\n",
              "      <td>Female</td>\n",
              "      <td>tennis</td>\n",
              "      <td>77</td>\n",
              "      <td>86</td>\n",
              "      <td>80</td>\n",
              "    </tr>\n",
              "  </tbody>\n",
              "</table>\n",
              "</div>"
            ],
            "text/plain": [
              "  name     sex        club  math  eng  scie\n",
              "2    C  Female  volleyball    77   69    94\n",
              "3    D  Female      tennis    88   85    81\n",
              "6    G  Female  volleyball    91   93    89\n",
              "7    H  Female      tennis    77   86    80"
            ]
          },
          "metadata": {
            "tags": []
          },
          "execution_count": 15
        }
      ]
    },
    {
      "cell_type": "markdown",
      "metadata": {
        "id": "cY-e7o0usL2F",
        "colab_type": "text"
      },
      "source": [
        "▲ 程序清单 7.55 GroupBy 对象的 get_group 方法"
      ]
    },
    {
      "cell_type": "code",
      "metadata": {
        "id": "orW4kBrTsL2G",
        "colab_type": "code",
        "colab": {
          "base_uri": "https://localhost:8080/",
          "height": 138
        },
        "outputId": "e066b919-5f5b-40a2-f8ef-391cb942dca5"
      },
      "source": [
        "grouped.mean()"
      ],
      "execution_count": 16,
      "outputs": [
        {
          "output_type": "execute_result",
          "data": {
            "text/html": [
              "<div>\n",
              "<style scoped>\n",
              "    .dataframe tbody tr th:only-of-type {\n",
              "        vertical-align: middle;\n",
              "    }\n",
              "\n",
              "    .dataframe tbody tr th {\n",
              "        vertical-align: top;\n",
              "    }\n",
              "\n",
              "    .dataframe thead th {\n",
              "        text-align: right;\n",
              "    }\n",
              "</style>\n",
              "<table border=\"1\" class=\"dataframe\">\n",
              "  <thead>\n",
              "    <tr style=\"text-align: right;\">\n",
              "      <th></th>\n",
              "      <th>math</th>\n",
              "      <th>eng</th>\n",
              "      <th>scie</th>\n",
              "    </tr>\n",
              "    <tr>\n",
              "      <th>sex</th>\n",
              "      <th></th>\n",
              "      <th></th>\n",
              "      <th></th>\n",
              "    </tr>\n",
              "  </thead>\n",
              "  <tbody>\n",
              "    <tr>\n",
              "      <th>Female</th>\n",
              "      <td>83.25</td>\n",
              "      <td>83.25</td>\n",
              "      <td>86.0</td>\n",
              "    </tr>\n",
              "    <tr>\n",
              "      <th>Male</th>\n",
              "      <td>80.00</td>\n",
              "      <td>77.80</td>\n",
              "      <td>83.6</td>\n",
              "    </tr>\n",
              "  </tbody>\n",
              "</table>\n",
              "</div>"
            ],
            "text/plain": [
              "         math    eng  scie\n",
              "sex                       \n",
              "Female  83.25  83.25  86.0\n",
              "Male    80.00  77.80  83.6"
            ]
          },
          "metadata": {
            "tags": []
          },
          "execution_count": 16
        }
      ]
    },
    {
      "cell_type": "markdown",
      "metadata": {
        "id": "hdhlXCMxsL2I",
        "colab_type": "text"
      },
      "source": [
        "▲ 程序清单 7.56 GroupBy 对象的 mean 方法"
      ]
    },
    {
      "cell_type": "code",
      "metadata": {
        "id": "1e_LbbWisL2J",
        "colab_type": "code",
        "colab": {
          "base_uri": "https://localhost:8080/",
          "height": 138
        },
        "outputId": "789fd80f-8f18-464e-94d2-210950163ccb"
      },
      "source": [
        "grouped.count()"
      ],
      "execution_count": 17,
      "outputs": [
        {
          "output_type": "execute_result",
          "data": {
            "text/html": [
              "<div>\n",
              "<style scoped>\n",
              "    .dataframe tbody tr th:only-of-type {\n",
              "        vertical-align: middle;\n",
              "    }\n",
              "\n",
              "    .dataframe tbody tr th {\n",
              "        vertical-align: top;\n",
              "    }\n",
              "\n",
              "    .dataframe thead th {\n",
              "        text-align: right;\n",
              "    }\n",
              "</style>\n",
              "<table border=\"1\" class=\"dataframe\">\n",
              "  <thead>\n",
              "    <tr style=\"text-align: right;\">\n",
              "      <th></th>\n",
              "      <th>name</th>\n",
              "      <th>club</th>\n",
              "      <th>math</th>\n",
              "      <th>eng</th>\n",
              "      <th>scie</th>\n",
              "    </tr>\n",
              "    <tr>\n",
              "      <th>sex</th>\n",
              "      <th></th>\n",
              "      <th></th>\n",
              "      <th></th>\n",
              "      <th></th>\n",
              "      <th></th>\n",
              "    </tr>\n",
              "  </thead>\n",
              "  <tbody>\n",
              "    <tr>\n",
              "      <th>Female</th>\n",
              "      <td>4</td>\n",
              "      <td>4</td>\n",
              "      <td>4</td>\n",
              "      <td>4</td>\n",
              "      <td>4</td>\n",
              "    </tr>\n",
              "    <tr>\n",
              "      <th>Male</th>\n",
              "      <td>5</td>\n",
              "      <td>5</td>\n",
              "      <td>5</td>\n",
              "      <td>5</td>\n",
              "      <td>5</td>\n",
              "    </tr>\n",
              "  </tbody>\n",
              "</table>\n",
              "</div>"
            ],
            "text/plain": [
              "        name  club  math  eng  scie\n",
              "sex                                \n",
              "Female     4     4     4    4     4\n",
              "Male       5     5     5    5     5"
            ]
          },
          "metadata": {
            "tags": []
          },
          "execution_count": 17
        }
      ]
    },
    {
      "cell_type": "markdown",
      "metadata": {
        "id": "DL6y_b4isL2L",
        "colab_type": "text"
      },
      "source": [
        "▲ 程序清单 7.57 GroupBy 对象的 count 方法"
      ]
    },
    {
      "cell_type": "code",
      "metadata": {
        "id": "Nb3bzaQJsL2M",
        "colab_type": "code",
        "colab": {
          "base_uri": "https://localhost:8080/",
          "height": 90
        },
        "outputId": "de8f205f-feeb-4d52-9a1b-ad4e9842f869"
      },
      "source": [
        "grouped['math'].mean()"
      ],
      "execution_count": 18,
      "outputs": [
        {
          "output_type": "execute_result",
          "data": {
            "text/plain": [
              "sex\n",
              "Female    83.25\n",
              "Male      80.00\n",
              "Name: math, dtype: float64"
            ]
          },
          "metadata": {
            "tags": []
          },
          "execution_count": 18
        }
      ]
    },
    {
      "cell_type": "markdown",
      "metadata": {
        "id": "AQwIv00msL2O",
        "colab_type": "text"
      },
      "source": [
        "▲ 程序清单 7.58 使用方括号（[ ]）对不同性别的 math 平均分数进行计算"
      ]
    },
    {
      "cell_type": "code",
      "metadata": {
        "id": "iHdOH744sL2P",
        "colab_type": "code",
        "colab": {
          "base_uri": "https://localhost:8080/",
          "height": 138
        },
        "outputId": "0ae7778a-be6c-4419-c7d5-1b98ed6a1368"
      },
      "source": [
        "grouped[['math','eng']].mean()"
      ],
      "execution_count": 19,
      "outputs": [
        {
          "output_type": "execute_result",
          "data": {
            "text/html": [
              "<div>\n",
              "<style scoped>\n",
              "    .dataframe tbody tr th:only-of-type {\n",
              "        vertical-align: middle;\n",
              "    }\n",
              "\n",
              "    .dataframe tbody tr th {\n",
              "        vertical-align: top;\n",
              "    }\n",
              "\n",
              "    .dataframe thead th {\n",
              "        text-align: right;\n",
              "    }\n",
              "</style>\n",
              "<table border=\"1\" class=\"dataframe\">\n",
              "  <thead>\n",
              "    <tr style=\"text-align: right;\">\n",
              "      <th></th>\n",
              "      <th>math</th>\n",
              "      <th>eng</th>\n",
              "    </tr>\n",
              "    <tr>\n",
              "      <th>sex</th>\n",
              "      <th></th>\n",
              "      <th></th>\n",
              "    </tr>\n",
              "  </thead>\n",
              "  <tbody>\n",
              "    <tr>\n",
              "      <th>Female</th>\n",
              "      <td>83.25</td>\n",
              "      <td>83.25</td>\n",
              "    </tr>\n",
              "    <tr>\n",
              "      <th>Male</th>\n",
              "      <td>80.00</td>\n",
              "      <td>77.80</td>\n",
              "    </tr>\n",
              "  </tbody>\n",
              "</table>\n",
              "</div>"
            ],
            "text/plain": [
              "         math    eng\n",
              "sex                 \n",
              "Female  83.25  83.25\n",
              "Male    80.00  77.80"
            ]
          },
          "metadata": {
            "tags": []
          },
          "execution_count": 19
        }
      ]
    },
    {
      "cell_type": "markdown",
      "metadata": {
        "id": "fYixtX76sL2R",
        "colab_type": "text"
      },
      "source": [
        "▲ 程序清单 7.59 使用方括号（[ ]）对列 math 和列 eng 的数据进行处理"
      ]
    },
    {
      "cell_type": "code",
      "metadata": {
        "id": "XQzlDYkMsL2S",
        "colab_type": "code",
        "colab": {
          "base_uri": "https://localhost:8080/",
          "height": 228
        },
        "outputId": "4b6a7c68-7a59-4c2a-e42b-652550cef2db"
      },
      "source": [
        "grouped = df.groupby(['sex','club'])\n",
        "grouped.mean()"
      ],
      "execution_count": 20,
      "outputs": [
        {
          "output_type": "execute_result",
          "data": {
            "text/html": [
              "<div>\n",
              "<style scoped>\n",
              "    .dataframe tbody tr th:only-of-type {\n",
              "        vertical-align: middle;\n",
              "    }\n",
              "\n",
              "    .dataframe tbody tr th {\n",
              "        vertical-align: top;\n",
              "    }\n",
              "\n",
              "    .dataframe thead th {\n",
              "        text-align: right;\n",
              "    }\n",
              "</style>\n",
              "<table border=\"1\" class=\"dataframe\">\n",
              "  <thead>\n",
              "    <tr style=\"text-align: right;\">\n",
              "      <th></th>\n",
              "      <th></th>\n",
              "      <th>math</th>\n",
              "      <th>eng</th>\n",
              "      <th>scie</th>\n",
              "    </tr>\n",
              "    <tr>\n",
              "      <th>sex</th>\n",
              "      <th>club</th>\n",
              "      <th></th>\n",
              "      <th></th>\n",
              "      <th></th>\n",
              "    </tr>\n",
              "  </thead>\n",
              "  <tbody>\n",
              "    <tr>\n",
              "      <th rowspan=\"2\" valign=\"top\">Female</th>\n",
              "      <th>tennis</th>\n",
              "      <td>82.5</td>\n",
              "      <td>85.5</td>\n",
              "      <td>80.5</td>\n",
              "    </tr>\n",
              "    <tr>\n",
              "      <th>volleyball</th>\n",
              "      <td>84.0</td>\n",
              "      <td>81.0</td>\n",
              "      <td>91.5</td>\n",
              "    </tr>\n",
              "    <tr>\n",
              "      <th rowspan=\"3\" valign=\"top\">Male</th>\n",
              "      <th>baseball</th>\n",
              "      <td>79.5</td>\n",
              "      <td>72.5</td>\n",
              "      <td>77.0</td>\n",
              "    </tr>\n",
              "    <tr>\n",
              "      <th>soccer</th>\n",
              "      <td>86.0</td>\n",
              "      <td>84.5</td>\n",
              "      <td>90.0</td>\n",
              "    </tr>\n",
              "    <tr>\n",
              "      <th>tennis</th>\n",
              "      <td>69.0</td>\n",
              "      <td>75.0</td>\n",
              "      <td>84.0</td>\n",
              "    </tr>\n",
              "  </tbody>\n",
              "</table>\n",
              "</div>"
            ],
            "text/plain": [
              "                   math   eng  scie\n",
              "sex    club                        \n",
              "Female tennis      82.5  85.5  80.5\n",
              "       volleyball  84.0  81.0  91.5\n",
              "Male   baseball    79.5  72.5  77.0\n",
              "       soccer      86.0  84.5  90.0\n",
              "       tennis      69.0  75.0  84.0"
            ]
          },
          "metadata": {
            "tags": []
          },
          "execution_count": 20
        }
      ]
    },
    {
      "cell_type": "markdown",
      "metadata": {
        "id": "a3r2_VxesL2V",
        "colab_type": "text"
      },
      "source": [
        "▲ 程序清单 7.60 基于多个键值的分组"
      ]
    },
    {
      "cell_type": "code",
      "metadata": {
        "id": "IvQbdgc5sL2W",
        "colab_type": "code",
        "colab": {
          "base_uri": "https://localhost:8080/",
          "height": 198
        },
        "outputId": "6e2cced6-9f1e-4c9f-c705-e62f8fd0f941"
      },
      "source": [
        "grouped = df.groupby(['sex','club'], as_index=False)\n",
        "grouped.mean()"
      ],
      "execution_count": 21,
      "outputs": [
        {
          "output_type": "execute_result",
          "data": {
            "text/html": [
              "<div>\n",
              "<style scoped>\n",
              "    .dataframe tbody tr th:only-of-type {\n",
              "        vertical-align: middle;\n",
              "    }\n",
              "\n",
              "    .dataframe tbody tr th {\n",
              "        vertical-align: top;\n",
              "    }\n",
              "\n",
              "    .dataframe thead th {\n",
              "        text-align: right;\n",
              "    }\n",
              "</style>\n",
              "<table border=\"1\" class=\"dataframe\">\n",
              "  <thead>\n",
              "    <tr style=\"text-align: right;\">\n",
              "      <th></th>\n",
              "      <th>sex</th>\n",
              "      <th>club</th>\n",
              "      <th>math</th>\n",
              "      <th>eng</th>\n",
              "      <th>scie</th>\n",
              "    </tr>\n",
              "  </thead>\n",
              "  <tbody>\n",
              "    <tr>\n",
              "      <th>0</th>\n",
              "      <td>Female</td>\n",
              "      <td>tennis</td>\n",
              "      <td>82.5</td>\n",
              "      <td>85.5</td>\n",
              "      <td>80.5</td>\n",
              "    </tr>\n",
              "    <tr>\n",
              "      <th>1</th>\n",
              "      <td>Female</td>\n",
              "      <td>volleyball</td>\n",
              "      <td>84.0</td>\n",
              "      <td>81.0</td>\n",
              "      <td>91.5</td>\n",
              "    </tr>\n",
              "    <tr>\n",
              "      <th>2</th>\n",
              "      <td>Male</td>\n",
              "      <td>baseball</td>\n",
              "      <td>79.5</td>\n",
              "      <td>72.5</td>\n",
              "      <td>77.0</td>\n",
              "    </tr>\n",
              "    <tr>\n",
              "      <th>3</th>\n",
              "      <td>Male</td>\n",
              "      <td>soccer</td>\n",
              "      <td>86.0</td>\n",
              "      <td>84.5</td>\n",
              "      <td>90.0</td>\n",
              "    </tr>\n",
              "    <tr>\n",
              "      <th>4</th>\n",
              "      <td>Male</td>\n",
              "      <td>tennis</td>\n",
              "      <td>69.0</td>\n",
              "      <td>75.0</td>\n",
              "      <td>84.0</td>\n",
              "    </tr>\n",
              "  </tbody>\n",
              "</table>\n",
              "</div>"
            ],
            "text/plain": [
              "      sex        club  math   eng  scie\n",
              "0  Female      tennis  82.5  85.5  80.5\n",
              "1  Female  volleyball  84.0  81.0  91.5\n",
              "2    Male    baseball  79.5  72.5  77.0\n",
              "3    Male      soccer  86.0  84.5  90.0\n",
              "4    Male      tennis  69.0  75.0  84.0"
            ]
          },
          "metadata": {
            "tags": []
          },
          "execution_count": 21
        }
      ]
    },
    {
      "cell_type": "markdown",
      "metadata": {
        "id": "Phswxv_ZsL2Y",
        "colab_type": "text"
      },
      "source": [
        "▲ 程序清单 7.61 groupby 方法和 as_index 参数"
      ]
    },
    {
      "cell_type": "code",
      "metadata": {
        "id": "zmr1x94MsL2Y",
        "colab_type": "code",
        "colab": {
          "base_uri": "https://localhost:8080/",
          "height": 35
        },
        "outputId": "1d947749-1672-4093-9a7f-cb5bf9cd74ff"
      },
      "source": [
        "classroom = ['1A'] * 2 + ['1B'] * 3 + ['1C'] * 2 + ['1A'] * 2\n",
        "classroom"
      ],
      "execution_count": 22,
      "outputs": [
        {
          "output_type": "execute_result",
          "data": {
            "text/plain": [
              "['1A', '1A', '1B', '1B', '1B', '1C', '1C', '1A', '1A']"
            ]
          },
          "metadata": {
            "tags": []
          },
          "execution_count": 22
        }
      ]
    },
    {
      "cell_type": "markdown",
      "metadata": {
        "id": "wB3aPRKpsL2a",
        "colab_type": "text"
      },
      "source": [
        "▲ 程序清单 7.62 创建包含类的数据列表"
      ]
    },
    {
      "cell_type": "code",
      "metadata": {
        "id": "ZXJDneS5sL2b",
        "colab_type": "code",
        "colab": {
          "base_uri": "https://localhost:8080/",
          "height": 258
        },
        "outputId": "74a01710-928e-4ebd-b7d1-099a24fc1133"
      },
      "source": [
        "grouped = df.groupby([classroom, 'sex'])\n",
        "grouped[['math','eng']].max()"
      ],
      "execution_count": 23,
      "outputs": [
        {
          "output_type": "execute_result",
          "data": {
            "text/html": [
              "<div>\n",
              "<style scoped>\n",
              "    .dataframe tbody tr th:only-of-type {\n",
              "        vertical-align: middle;\n",
              "    }\n",
              "\n",
              "    .dataframe tbody tr th {\n",
              "        vertical-align: top;\n",
              "    }\n",
              "\n",
              "    .dataframe thead th {\n",
              "        text-align: right;\n",
              "    }\n",
              "</style>\n",
              "<table border=\"1\" class=\"dataframe\">\n",
              "  <thead>\n",
              "    <tr style=\"text-align: right;\">\n",
              "      <th></th>\n",
              "      <th></th>\n",
              "      <th>math</th>\n",
              "      <th>eng</th>\n",
              "    </tr>\n",
              "    <tr>\n",
              "      <th></th>\n",
              "      <th>sex</th>\n",
              "      <th></th>\n",
              "      <th></th>\n",
              "    </tr>\n",
              "  </thead>\n",
              "  <tbody>\n",
              "    <tr>\n",
              "      <th rowspan=\"2\" valign=\"top\">1A</th>\n",
              "      <th>Female</th>\n",
              "      <td>77</td>\n",
              "      <td>86</td>\n",
              "    </tr>\n",
              "    <tr>\n",
              "      <th>Male</th>\n",
              "      <td>91</td>\n",
              "      <td>90</td>\n",
              "    </tr>\n",
              "    <tr>\n",
              "      <th rowspan=\"2\" valign=\"top\">1B</th>\n",
              "      <th>Female</th>\n",
              "      <td>88</td>\n",
              "      <td>85</td>\n",
              "    </tr>\n",
              "    <tr>\n",
              "      <th>Male</th>\n",
              "      <td>71</td>\n",
              "      <td>69</td>\n",
              "    </tr>\n",
              "    <tr>\n",
              "      <th rowspan=\"2\" valign=\"top\">1C</th>\n",
              "      <th>Female</th>\n",
              "      <td>91</td>\n",
              "      <td>93</td>\n",
              "    </tr>\n",
              "    <tr>\n",
              "      <th>Male</th>\n",
              "      <td>69</td>\n",
              "      <td>75</td>\n",
              "    </tr>\n",
              "  </tbody>\n",
              "</table>\n",
              "</div>"
            ],
            "text/plain": [
              "           math  eng\n",
              "   sex              \n",
              "1A Female    77   86\n",
              "   Male      91   90\n",
              "1B Female    88   85\n",
              "   Male      71   69\n",
              "1C Female    91   93\n",
              "   Male      69   75"
            ]
          },
          "metadata": {
            "tags": []
          },
          "execution_count": 23
        }
      ]
    },
    {
      "cell_type": "markdown",
      "metadata": {
        "id": "csmCrbRrsL2d",
        "colab_type": "text"
      },
      "source": [
        "▲ 程序清单 7.63 使用外部数据进行分组"
      ]
    },
    {
      "cell_type": "code",
      "metadata": {
        "id": "FeXgvnshsL2d",
        "colab_type": "code",
        "colab": {
          "base_uri": "https://localhost:8080/",
          "height": 348
        },
        "outputId": "97444125-9c81-42cf-a3ae-12950e7e987e"
      },
      "source": [
        "df2 = df.copy()\n",
        "df2 = df2.set_index('club')\n",
        "df2"
      ],
      "execution_count": 24,
      "outputs": [
        {
          "output_type": "execute_result",
          "data": {
            "text/html": [
              "<div>\n",
              "<style scoped>\n",
              "    .dataframe tbody tr th:only-of-type {\n",
              "        vertical-align: middle;\n",
              "    }\n",
              "\n",
              "    .dataframe tbody tr th {\n",
              "        vertical-align: top;\n",
              "    }\n",
              "\n",
              "    .dataframe thead th {\n",
              "        text-align: right;\n",
              "    }\n",
              "</style>\n",
              "<table border=\"1\" class=\"dataframe\">\n",
              "  <thead>\n",
              "    <tr style=\"text-align: right;\">\n",
              "      <th></th>\n",
              "      <th>name</th>\n",
              "      <th>sex</th>\n",
              "      <th>math</th>\n",
              "      <th>eng</th>\n",
              "      <th>scie</th>\n",
              "    </tr>\n",
              "    <tr>\n",
              "      <th>club</th>\n",
              "      <th></th>\n",
              "      <th></th>\n",
              "      <th></th>\n",
              "      <th></th>\n",
              "      <th></th>\n",
              "    </tr>\n",
              "  </thead>\n",
              "  <tbody>\n",
              "    <tr>\n",
              "      <th>soccer</th>\n",
              "      <td>A</td>\n",
              "      <td>Male</td>\n",
              "      <td>81</td>\n",
              "      <td>79</td>\n",
              "      <td>91</td>\n",
              "    </tr>\n",
              "    <tr>\n",
              "      <th>soccer</th>\n",
              "      <td>B</td>\n",
              "      <td>Male</td>\n",
              "      <td>91</td>\n",
              "      <td>90</td>\n",
              "      <td>89</td>\n",
              "    </tr>\n",
              "    <tr>\n",
              "      <th>volleyball</th>\n",
              "      <td>C</td>\n",
              "      <td>Female</td>\n",
              "      <td>77</td>\n",
              "      <td>69</td>\n",
              "      <td>94</td>\n",
              "    </tr>\n",
              "    <tr>\n",
              "      <th>tennis</th>\n",
              "      <td>D</td>\n",
              "      <td>Female</td>\n",
              "      <td>88</td>\n",
              "      <td>85</td>\n",
              "      <td>81</td>\n",
              "    </tr>\n",
              "    <tr>\n",
              "      <th>baseball</th>\n",
              "      <td>E</td>\n",
              "      <td>Male</td>\n",
              "      <td>71</td>\n",
              "      <td>69</td>\n",
              "      <td>82</td>\n",
              "    </tr>\n",
              "    <tr>\n",
              "      <th>tennis</th>\n",
              "      <td>F</td>\n",
              "      <td>Male</td>\n",
              "      <td>69</td>\n",
              "      <td>75</td>\n",
              "      <td>84</td>\n",
              "    </tr>\n",
              "    <tr>\n",
              "      <th>volleyball</th>\n",
              "      <td>G</td>\n",
              "      <td>Female</td>\n",
              "      <td>91</td>\n",
              "      <td>93</td>\n",
              "      <td>89</td>\n",
              "    </tr>\n",
              "    <tr>\n",
              "      <th>tennis</th>\n",
              "      <td>H</td>\n",
              "      <td>Female</td>\n",
              "      <td>77</td>\n",
              "      <td>86</td>\n",
              "      <td>80</td>\n",
              "    </tr>\n",
              "    <tr>\n",
              "      <th>baseball</th>\n",
              "      <td>I</td>\n",
              "      <td>Male</td>\n",
              "      <td>88</td>\n",
              "      <td>76</td>\n",
              "      <td>72</td>\n",
              "    </tr>\n",
              "  </tbody>\n",
              "</table>\n",
              "</div>"
            ],
            "text/plain": [
              "           name     sex  math  eng  scie\n",
              "club                                    \n",
              "soccer        A    Male    81   79    91\n",
              "soccer        B    Male    91   90    89\n",
              "volleyball    C  Female    77   69    94\n",
              "tennis        D  Female    88   85    81\n",
              "baseball      E    Male    71   69    82\n",
              "tennis        F    Male    69   75    84\n",
              "volleyball    G  Female    91   93    89\n",
              "tennis        H  Female    77   86    80\n",
              "baseball      I    Male    88   76    72"
            ]
          },
          "metadata": {
            "tags": []
          },
          "execution_count": 24
        }
      ]
    },
    {
      "cell_type": "markdown",
      "metadata": {
        "id": "9_XqHsnZsL2g",
        "colab_type": "text"
      },
      "source": [
        "▲ 程序清单 7.64 DataFrame 对象和 set_index 方法"
      ]
    },
    {
      "cell_type": "code",
      "metadata": {
        "id": "NAc39ODZsL2g",
        "colab_type": "code",
        "colab": {
          "base_uri": "https://localhost:8080/",
          "height": 198
        },
        "outputId": "4b4405ba-450d-4629-cda2-b3a1dd76c3e6"
      },
      "source": [
        "df2.groupby(by='club').mean()"
      ],
      "execution_count": 25,
      "outputs": [
        {
          "output_type": "execute_result",
          "data": {
            "text/html": [
              "<div>\n",
              "<style scoped>\n",
              "    .dataframe tbody tr th:only-of-type {\n",
              "        vertical-align: middle;\n",
              "    }\n",
              "\n",
              "    .dataframe tbody tr th {\n",
              "        vertical-align: top;\n",
              "    }\n",
              "\n",
              "    .dataframe thead th {\n",
              "        text-align: right;\n",
              "    }\n",
              "</style>\n",
              "<table border=\"1\" class=\"dataframe\">\n",
              "  <thead>\n",
              "    <tr style=\"text-align: right;\">\n",
              "      <th></th>\n",
              "      <th>math</th>\n",
              "      <th>eng</th>\n",
              "      <th>scie</th>\n",
              "    </tr>\n",
              "    <tr>\n",
              "      <th>club</th>\n",
              "      <th></th>\n",
              "      <th></th>\n",
              "      <th></th>\n",
              "    </tr>\n",
              "  </thead>\n",
              "  <tbody>\n",
              "    <tr>\n",
              "      <th>baseball</th>\n",
              "      <td>79.5</td>\n",
              "      <td>72.5</td>\n",
              "      <td>77.000000</td>\n",
              "    </tr>\n",
              "    <tr>\n",
              "      <th>soccer</th>\n",
              "      <td>86.0</td>\n",
              "      <td>84.5</td>\n",
              "      <td>90.000000</td>\n",
              "    </tr>\n",
              "    <tr>\n",
              "      <th>tennis</th>\n",
              "      <td>78.0</td>\n",
              "      <td>82.0</td>\n",
              "      <td>81.666667</td>\n",
              "    </tr>\n",
              "    <tr>\n",
              "      <th>volleyball</th>\n",
              "      <td>84.0</td>\n",
              "      <td>81.0</td>\n",
              "      <td>91.500000</td>\n",
              "    </tr>\n",
              "  </tbody>\n",
              "</table>\n",
              "</div>"
            ],
            "text/plain": [
              "            math   eng       scie\n",
              "club                             \n",
              "baseball    79.5  72.5  77.000000\n",
              "soccer      86.0  84.5  90.000000\n",
              "tennis      78.0  82.0  81.666667\n",
              "volleyball  84.0  81.0  91.500000"
            ]
          },
          "metadata": {
            "tags": []
          },
          "execution_count": 25
        }
      ]
    },
    {
      "cell_type": "markdown",
      "metadata": {
        "id": "wvbPM6A1sL2i",
        "colab_type": "text"
      },
      "source": [
        "▲ 程序清单 7.65 基于索引的 name 属性分组"
      ]
    },
    {
      "cell_type": "code",
      "metadata": {
        "id": "dseN74EUsL2j",
        "colab_type": "code",
        "colab": {
          "base_uri": "https://localhost:8080/",
          "height": 198
        },
        "outputId": "53a41cff-e63c-4e4a-da61-fef502cfc821"
      },
      "source": [
        "df2.groupby(level=0).mean()"
      ],
      "execution_count": 26,
      "outputs": [
        {
          "output_type": "execute_result",
          "data": {
            "text/html": [
              "<div>\n",
              "<style scoped>\n",
              "    .dataframe tbody tr th:only-of-type {\n",
              "        vertical-align: middle;\n",
              "    }\n",
              "\n",
              "    .dataframe tbody tr th {\n",
              "        vertical-align: top;\n",
              "    }\n",
              "\n",
              "    .dataframe thead th {\n",
              "        text-align: right;\n",
              "    }\n",
              "</style>\n",
              "<table border=\"1\" class=\"dataframe\">\n",
              "  <thead>\n",
              "    <tr style=\"text-align: right;\">\n",
              "      <th></th>\n",
              "      <th>math</th>\n",
              "      <th>eng</th>\n",
              "      <th>scie</th>\n",
              "    </tr>\n",
              "    <tr>\n",
              "      <th>club</th>\n",
              "      <th></th>\n",
              "      <th></th>\n",
              "      <th></th>\n",
              "    </tr>\n",
              "  </thead>\n",
              "  <tbody>\n",
              "    <tr>\n",
              "      <th>baseball</th>\n",
              "      <td>79.5</td>\n",
              "      <td>72.5</td>\n",
              "      <td>77.000000</td>\n",
              "    </tr>\n",
              "    <tr>\n",
              "      <th>soccer</th>\n",
              "      <td>86.0</td>\n",
              "      <td>84.5</td>\n",
              "      <td>90.000000</td>\n",
              "    </tr>\n",
              "    <tr>\n",
              "      <th>tennis</th>\n",
              "      <td>78.0</td>\n",
              "      <td>82.0</td>\n",
              "      <td>81.666667</td>\n",
              "    </tr>\n",
              "    <tr>\n",
              "      <th>volleyball</th>\n",
              "      <td>84.0</td>\n",
              "      <td>81.0</td>\n",
              "      <td>91.500000</td>\n",
              "    </tr>\n",
              "  </tbody>\n",
              "</table>\n",
              "</div>"
            ],
            "text/plain": [
              "            math   eng       scie\n",
              "club                             \n",
              "baseball    79.5  72.5  77.000000\n",
              "soccer      86.0  84.5  90.000000\n",
              "tennis      78.0  82.0  81.666667\n",
              "volleyball  84.0  81.0  91.500000"
            ]
          },
          "metadata": {
            "tags": []
          },
          "execution_count": 26
        }
      ]
    },
    {
      "cell_type": "markdown",
      "metadata": {
        "id": "VN0_ptVqsL2m",
        "colab_type": "text"
      },
      "source": [
        "▲ 程序清单 7.66 groupby 方法的 level 参数"
      ]
    },
    {
      "cell_type": "code",
      "metadata": {
        "id": "hQFoSkLbsL2n",
        "colab_type": "code",
        "colab": {
          "base_uri": "https://localhost:8080/",
          "height": 199
        },
        "outputId": "7e528c9f-aa41-44b6-e7de-aa0b419e2429"
      },
      "source": [
        "grouped = df.groupby('sex')\n",
        "\n",
        "for name, group in grouped:\n",
        "    print(name)\n",
        "    print(group[0:2], '\\n')"
      ],
      "execution_count": 27,
      "outputs": [
        {
          "output_type": "stream",
          "text": [
            "Female\n",
            "  name     sex        club  math  eng  scie\n",
            "2    C  Female  volleyball    77   69    94\n",
            "3    D  Female      tennis    88   85    81 \n",
            "\n",
            "Male\n",
            "  name   sex    club  math  eng  scie\n",
            "0    A  Male  soccer    81   79    91\n",
            "1    B  Male  soccer    91   90    89 \n",
            "\n"
          ],
          "name": "stdout"
        }
      ]
    },
    {
      "cell_type": "markdown",
      "metadata": {
        "id": "SqZvzgzrsL2p",
        "colab_type": "text"
      },
      "source": [
        "▲ 程序清单 7.67 GroupBy 对象的迭代"
      ]
    },
    {
      "cell_type": "code",
      "metadata": {
        "id": "tHDlSk2rsL2q",
        "colab_type": "code",
        "colab": {
          "base_uri": "https://localhost:8080/",
          "height": 108
        },
        "outputId": "79b74cc2-0144-4786-cf95-1acacd33128b"
      },
      "source": [
        "for (sex, club), group in df.groupby(['sex','club']):\n",
        "    print(sex, club)"
      ],
      "execution_count": 28,
      "outputs": [
        {
          "output_type": "stream",
          "text": [
            "Female tennis\n",
            "Female volleyball\n",
            "Male baseball\n",
            "Male soccer\n",
            "Male tennis\n"
          ],
          "name": "stdout"
        }
      ]
    },
    {
      "cell_type": "markdown",
      "metadata": {
        "id": "29F1zE84sL2s",
        "colab_type": "text"
      },
      "source": [
        "▲程序清单 7.68 GroupBy 对象的迭代（多个键）"
      ]
    },
    {
      "cell_type": "code",
      "metadata": {
        "id": "tjNDu838sL2t",
        "colab_type": "code",
        "colab": {
          "base_uri": "https://localhost:8080/",
          "height": 198
        },
        "outputId": "d27f6683-7462-44a4-d501-64fe93c504fb"
      },
      "source": [
        "grouped = df.groupby('club')\n",
        "grouped['math'].describe()"
      ],
      "execution_count": 29,
      "outputs": [
        {
          "output_type": "execute_result",
          "data": {
            "text/html": [
              "<div>\n",
              "<style scoped>\n",
              "    .dataframe tbody tr th:only-of-type {\n",
              "        vertical-align: middle;\n",
              "    }\n",
              "\n",
              "    .dataframe tbody tr th {\n",
              "        vertical-align: top;\n",
              "    }\n",
              "\n",
              "    .dataframe thead th {\n",
              "        text-align: right;\n",
              "    }\n",
              "</style>\n",
              "<table border=\"1\" class=\"dataframe\">\n",
              "  <thead>\n",
              "    <tr style=\"text-align: right;\">\n",
              "      <th></th>\n",
              "      <th>count</th>\n",
              "      <th>mean</th>\n",
              "      <th>std</th>\n",
              "      <th>min</th>\n",
              "      <th>25%</th>\n",
              "      <th>50%</th>\n",
              "      <th>75%</th>\n",
              "      <th>max</th>\n",
              "    </tr>\n",
              "    <tr>\n",
              "      <th>club</th>\n",
              "      <th></th>\n",
              "      <th></th>\n",
              "      <th></th>\n",
              "      <th></th>\n",
              "      <th></th>\n",
              "      <th></th>\n",
              "      <th></th>\n",
              "      <th></th>\n",
              "    </tr>\n",
              "  </thead>\n",
              "  <tbody>\n",
              "    <tr>\n",
              "      <th>baseball</th>\n",
              "      <td>2.0</td>\n",
              "      <td>79.5</td>\n",
              "      <td>12.020815</td>\n",
              "      <td>71.0</td>\n",
              "      <td>75.25</td>\n",
              "      <td>79.5</td>\n",
              "      <td>83.75</td>\n",
              "      <td>88.0</td>\n",
              "    </tr>\n",
              "    <tr>\n",
              "      <th>soccer</th>\n",
              "      <td>2.0</td>\n",
              "      <td>86.0</td>\n",
              "      <td>7.071068</td>\n",
              "      <td>81.0</td>\n",
              "      <td>83.50</td>\n",
              "      <td>86.0</td>\n",
              "      <td>88.50</td>\n",
              "      <td>91.0</td>\n",
              "    </tr>\n",
              "    <tr>\n",
              "      <th>tennis</th>\n",
              "      <td>3.0</td>\n",
              "      <td>78.0</td>\n",
              "      <td>9.539392</td>\n",
              "      <td>69.0</td>\n",
              "      <td>73.00</td>\n",
              "      <td>77.0</td>\n",
              "      <td>82.50</td>\n",
              "      <td>88.0</td>\n",
              "    </tr>\n",
              "    <tr>\n",
              "      <th>volleyball</th>\n",
              "      <td>2.0</td>\n",
              "      <td>84.0</td>\n",
              "      <td>9.899495</td>\n",
              "      <td>77.0</td>\n",
              "      <td>80.50</td>\n",
              "      <td>84.0</td>\n",
              "      <td>87.50</td>\n",
              "      <td>91.0</td>\n",
              "    </tr>\n",
              "  </tbody>\n",
              "</table>\n",
              "</div>"
            ],
            "text/plain": [
              "            count  mean        std   min    25%   50%    75%   max\n",
              "club                                                              \n",
              "baseball      2.0  79.5  12.020815  71.0  75.25  79.5  83.75  88.0\n",
              "soccer        2.0  86.0   7.071068  81.0  83.50  86.0  88.50  91.0\n",
              "tennis        3.0  78.0   9.539392  69.0  73.00  77.0  82.50  88.0\n",
              "volleyball    2.0  84.0   9.899495  77.0  80.50  84.0  87.50  91.0"
            ]
          },
          "metadata": {
            "tags": []
          },
          "execution_count": 29
        }
      ]
    },
    {
      "cell_type": "markdown",
      "metadata": {
        "id": "X3WqezUjsL2u",
        "colab_type": "text"
      },
      "source": [
        "▲ 程序清单 7.69 GroupBy 对象的 describe 方法"
      ]
    },
    {
      "cell_type": "code",
      "metadata": {
        "id": "a8OuYmp3sL2v",
        "colab_type": "code",
        "colab": {
          "base_uri": "https://localhost:8080/",
          "height": 168
        },
        "outputId": "4a3ef169-ef15-488a-d8de-a3749f8b361f"
      },
      "source": [
        "grouped.filter(lambda x: x['math'].mean() > 80)"
      ],
      "execution_count": 30,
      "outputs": [
        {
          "output_type": "execute_result",
          "data": {
            "text/html": [
              "<div>\n",
              "<style scoped>\n",
              "    .dataframe tbody tr th:only-of-type {\n",
              "        vertical-align: middle;\n",
              "    }\n",
              "\n",
              "    .dataframe tbody tr th {\n",
              "        vertical-align: top;\n",
              "    }\n",
              "\n",
              "    .dataframe thead th {\n",
              "        text-align: right;\n",
              "    }\n",
              "</style>\n",
              "<table border=\"1\" class=\"dataframe\">\n",
              "  <thead>\n",
              "    <tr style=\"text-align: right;\">\n",
              "      <th></th>\n",
              "      <th>name</th>\n",
              "      <th>sex</th>\n",
              "      <th>club</th>\n",
              "      <th>math</th>\n",
              "      <th>eng</th>\n",
              "      <th>scie</th>\n",
              "    </tr>\n",
              "  </thead>\n",
              "  <tbody>\n",
              "    <tr>\n",
              "      <th>0</th>\n",
              "      <td>A</td>\n",
              "      <td>Male</td>\n",
              "      <td>soccer</td>\n",
              "      <td>81</td>\n",
              "      <td>79</td>\n",
              "      <td>91</td>\n",
              "    </tr>\n",
              "    <tr>\n",
              "      <th>1</th>\n",
              "      <td>B</td>\n",
              "      <td>Male</td>\n",
              "      <td>soccer</td>\n",
              "      <td>91</td>\n",
              "      <td>90</td>\n",
              "      <td>89</td>\n",
              "    </tr>\n",
              "    <tr>\n",
              "      <th>2</th>\n",
              "      <td>C</td>\n",
              "      <td>Female</td>\n",
              "      <td>volleyball</td>\n",
              "      <td>77</td>\n",
              "      <td>69</td>\n",
              "      <td>94</td>\n",
              "    </tr>\n",
              "    <tr>\n",
              "      <th>6</th>\n",
              "      <td>G</td>\n",
              "      <td>Female</td>\n",
              "      <td>volleyball</td>\n",
              "      <td>91</td>\n",
              "      <td>93</td>\n",
              "      <td>89</td>\n",
              "    </tr>\n",
              "  </tbody>\n",
              "</table>\n",
              "</div>"
            ],
            "text/plain": [
              "  name     sex        club  math  eng  scie\n",
              "0    A    Male      soccer    81   79    91\n",
              "1    B    Male      soccer    91   90    89\n",
              "2    C  Female  volleyball    77   69    94\n",
              "6    G  Female  volleyball    91   93    89"
            ]
          },
          "metadata": {
            "tags": []
          },
          "execution_count": 30
        }
      ]
    },
    {
      "cell_type": "markdown",
      "metadata": {
        "id": "1XxlNvicsL2x",
        "colab_type": "text"
      },
      "source": [
        "▲ 程序清单 7.70 GroupBy 对象的 filter 方法"
      ]
    },
    {
      "cell_type": "code",
      "metadata": {
        "id": "R2LwG-UssL2y",
        "colab_type": "code",
        "colab": {
          "base_uri": "https://localhost:8080/",
          "height": 138
        },
        "outputId": "38870faf-502a-4572-b7ee-53a95654cddc"
      },
      "source": [
        "df.groupby('club').filter(lambda x: len(x) > 2)"
      ],
      "execution_count": 31,
      "outputs": [
        {
          "output_type": "execute_result",
          "data": {
            "text/html": [
              "<div>\n",
              "<style scoped>\n",
              "    .dataframe tbody tr th:only-of-type {\n",
              "        vertical-align: middle;\n",
              "    }\n",
              "\n",
              "    .dataframe tbody tr th {\n",
              "        vertical-align: top;\n",
              "    }\n",
              "\n",
              "    .dataframe thead th {\n",
              "        text-align: right;\n",
              "    }\n",
              "</style>\n",
              "<table border=\"1\" class=\"dataframe\">\n",
              "  <thead>\n",
              "    <tr style=\"text-align: right;\">\n",
              "      <th></th>\n",
              "      <th>name</th>\n",
              "      <th>sex</th>\n",
              "      <th>club</th>\n",
              "      <th>math</th>\n",
              "      <th>eng</th>\n",
              "      <th>scie</th>\n",
              "    </tr>\n",
              "  </thead>\n",
              "  <tbody>\n",
              "    <tr>\n",
              "      <th>3</th>\n",
              "      <td>D</td>\n",
              "      <td>Female</td>\n",
              "      <td>tennis</td>\n",
              "      <td>88</td>\n",
              "      <td>85</td>\n",
              "      <td>81</td>\n",
              "    </tr>\n",
              "    <tr>\n",
              "      <th>5</th>\n",
              "      <td>F</td>\n",
              "      <td>Male</td>\n",
              "      <td>tennis</td>\n",
              "      <td>69</td>\n",
              "      <td>75</td>\n",
              "      <td>84</td>\n",
              "    </tr>\n",
              "    <tr>\n",
              "      <th>7</th>\n",
              "      <td>H</td>\n",
              "      <td>Female</td>\n",
              "      <td>tennis</td>\n",
              "      <td>77</td>\n",
              "      <td>86</td>\n",
              "      <td>80</td>\n",
              "    </tr>\n",
              "  </tbody>\n",
              "</table>\n",
              "</div>"
            ],
            "text/plain": [
              "  name     sex    club  math  eng  scie\n",
              "3    D  Female  tennis    88   85    81\n",
              "5    F    Male  tennis    69   75    84\n",
              "7    H  Female  tennis    77   86    80"
            ]
          },
          "metadata": {
            "tags": []
          },
          "execution_count": 31
        }
      ]
    },
    {
      "cell_type": "markdown",
      "metadata": {
        "id": "lpwwIBRWsL20",
        "colab_type": "text"
      },
      "source": [
        "▲ 程序清单 7.71 GroupBy 对象的 filter 方法和 len 函数"
      ]
    },
    {
      "cell_type": "code",
      "metadata": {
        "id": "xAeTa2mksL21",
        "colab_type": "code",
        "colab": {
          "base_uri": "https://localhost:8080/",
          "height": 35
        },
        "outputId": "9c5f2bbe-274d-4845-ce12-51e691c04801"
      },
      "source": [
        "ser_grouped = df.groupby('sex')\n",
        "ser_grouped['math']"
      ],
      "execution_count": 32,
      "outputs": [
        {
          "output_type": "execute_result",
          "data": {
            "text/plain": [
              "<pandas.core.groupby.SeriesGroupBy object at 0x7fe37c337f60>"
            ]
          },
          "metadata": {
            "tags": []
          },
          "execution_count": 32
        }
      ]
    },
    {
      "cell_type": "markdown",
      "metadata": {
        "id": "KXGfwAhasL23",
        "colab_type": "text"
      },
      "source": [
        "▲ 程序清单 7.72 SeriesGroupBy 对象"
      ]
    },
    {
      "cell_type": "code",
      "metadata": {
        "id": "g2iXvaCXsL23",
        "colab_type": "code",
        "colab": {
          "base_uri": "https://localhost:8080/",
          "height": 181
        },
        "outputId": "8486df47-aa25-4c30-f224-b68ace4484e0"
      },
      "source": [
        "print(ser_grouped['math'].nlargest(n=1), '\\n')\n",
        "print(ser_grouped['math'].nsmallest(n=1))"
      ],
      "execution_count": 33,
      "outputs": [
        {
          "output_type": "stream",
          "text": [
            "sex      \n",
            "Female  6    91\n",
            "Male    1    91\n",
            "Name: math, dtype: int64 \n",
            "\n",
            "sex      \n",
            "Female  2    77\n",
            "Male    5    69\n",
            "Name: math, dtype: int64\n"
          ],
          "name": "stdout"
        }
      ]
    },
    {
      "cell_type": "markdown",
      "metadata": {
        "id": "W1xMjpvAsL26",
        "colab_type": "text"
      },
      "source": [
        "▲ 程序清单 7.73 SeriesGroupBy 对象的 nlargest 方法和 nsmallest 方法"
      ]
    },
    {
      "cell_type": "code",
      "metadata": {
        "id": "_e2o5Q9VsL26",
        "colab_type": "code",
        "colab": {
          "base_uri": "https://localhost:8080/",
          "height": 199
        },
        "outputId": "bb47eeee-b351-4397-eb79-216a0b43de2a"
      },
      "source": [
        "ser_grouped['math'].value_counts()"
      ],
      "execution_count": 34,
      "outputs": [
        {
          "output_type": "execute_result",
          "data": {
            "text/plain": [
              "sex     math\n",
              "Female  77      2\n",
              "        88      1\n",
              "        91      1\n",
              "Male    69      1\n",
              "        71      1\n",
              "        81      1\n",
              "        88      1\n",
              "        91      1\n",
              "Name: math, dtype: int64"
            ]
          },
          "metadata": {
            "tags": []
          },
          "execution_count": 34
        }
      ]
    },
    {
      "cell_type": "markdown",
      "metadata": {
        "id": "bLWKqcFMsL29",
        "colab_type": "text"
      },
      "source": [
        "▲ 程序清单 7.74 SeriesGroupBy 对象和 value_counts 方法"
      ]
    },
    {
      "cell_type": "code",
      "metadata": {
        "id": "PuSdNwoEsL29",
        "colab_type": "code",
        "colab": {
          "base_uri": "https://localhost:8080/",
          "height": 138
        },
        "outputId": "7f2e5bda-efd7-4e42-ca72-a1e112f156d5"
      },
      "source": [
        "grouped = df.groupby('sex')\n",
        "grouped.mean()"
      ],
      "execution_count": 35,
      "outputs": [
        {
          "output_type": "execute_result",
          "data": {
            "text/html": [
              "<div>\n",
              "<style scoped>\n",
              "    .dataframe tbody tr th:only-of-type {\n",
              "        vertical-align: middle;\n",
              "    }\n",
              "\n",
              "    .dataframe tbody tr th {\n",
              "        vertical-align: top;\n",
              "    }\n",
              "\n",
              "    .dataframe thead th {\n",
              "        text-align: right;\n",
              "    }\n",
              "</style>\n",
              "<table border=\"1\" class=\"dataframe\">\n",
              "  <thead>\n",
              "    <tr style=\"text-align: right;\">\n",
              "      <th></th>\n",
              "      <th>math</th>\n",
              "      <th>eng</th>\n",
              "      <th>scie</th>\n",
              "    </tr>\n",
              "    <tr>\n",
              "      <th>sex</th>\n",
              "      <th></th>\n",
              "      <th></th>\n",
              "      <th></th>\n",
              "    </tr>\n",
              "  </thead>\n",
              "  <tbody>\n",
              "    <tr>\n",
              "      <th>Female</th>\n",
              "      <td>83.25</td>\n",
              "      <td>83.25</td>\n",
              "      <td>86.0</td>\n",
              "    </tr>\n",
              "    <tr>\n",
              "      <th>Male</th>\n",
              "      <td>80.00</td>\n",
              "      <td>77.80</td>\n",
              "      <td>83.6</td>\n",
              "    </tr>\n",
              "  </tbody>\n",
              "</table>\n",
              "</div>"
            ],
            "text/plain": [
              "         math    eng  scie\n",
              "sex                       \n",
              "Female  83.25  83.25  86.0\n",
              "Male    80.00  77.80  83.6"
            ]
          },
          "metadata": {
            "tags": []
          },
          "execution_count": 35
        }
      ]
    },
    {
      "cell_type": "code",
      "metadata": {
        "id": "i1vTnJpjsL2_",
        "colab_type": "code",
        "colab": {
          "base_uri": "https://localhost:8080/",
          "height": 138
        },
        "outputId": "8a9ae08b-515b-443d-c272-561221aec73e"
      },
      "source": [
        "grouped.agg('mean')"
      ],
      "execution_count": 36,
      "outputs": [
        {
          "output_type": "execute_result",
          "data": {
            "text/html": [
              "<div>\n",
              "<style scoped>\n",
              "    .dataframe tbody tr th:only-of-type {\n",
              "        vertical-align: middle;\n",
              "    }\n",
              "\n",
              "    .dataframe tbody tr th {\n",
              "        vertical-align: top;\n",
              "    }\n",
              "\n",
              "    .dataframe thead th {\n",
              "        text-align: right;\n",
              "    }\n",
              "</style>\n",
              "<table border=\"1\" class=\"dataframe\">\n",
              "  <thead>\n",
              "    <tr style=\"text-align: right;\">\n",
              "      <th></th>\n",
              "      <th>math</th>\n",
              "      <th>eng</th>\n",
              "      <th>scie</th>\n",
              "    </tr>\n",
              "    <tr>\n",
              "      <th>sex</th>\n",
              "      <th></th>\n",
              "      <th></th>\n",
              "      <th></th>\n",
              "    </tr>\n",
              "  </thead>\n",
              "  <tbody>\n",
              "    <tr>\n",
              "      <th>Female</th>\n",
              "      <td>83.25</td>\n",
              "      <td>83.25</td>\n",
              "      <td>86.0</td>\n",
              "    </tr>\n",
              "    <tr>\n",
              "      <th>Male</th>\n",
              "      <td>80.00</td>\n",
              "      <td>77.80</td>\n",
              "      <td>83.6</td>\n",
              "    </tr>\n",
              "  </tbody>\n",
              "</table>\n",
              "</div>"
            ],
            "text/plain": [
              "         math    eng  scie\n",
              "sex                       \n",
              "Female  83.25  83.25  86.0\n",
              "Male    80.00  77.80  83.6"
            ]
          },
          "metadata": {
            "tags": []
          },
          "execution_count": 36
        }
      ]
    },
    {
      "cell_type": "markdown",
      "metadata": {
        "id": "ZibmCd4gsL3B",
        "colab_type": "text"
      },
      "source": [
        "▲程序清单 7.75 GroupBy 对象的 agg 方法"
      ]
    },
    {
      "cell_type": "code",
      "metadata": {
        "id": "rGO0nBb1sL3B",
        "colab_type": "code",
        "colab": {
          "base_uri": "https://localhost:8080/",
          "height": 138
        },
        "outputId": "6297f237-bf57-42e7-ea49-d51ba7b1c30c"
      },
      "source": [
        "grouped.agg(np.mean)"
      ],
      "execution_count": 37,
      "outputs": [
        {
          "output_type": "execute_result",
          "data": {
            "text/html": [
              "<div>\n",
              "<style scoped>\n",
              "    .dataframe tbody tr th:only-of-type {\n",
              "        vertical-align: middle;\n",
              "    }\n",
              "\n",
              "    .dataframe tbody tr th {\n",
              "        vertical-align: top;\n",
              "    }\n",
              "\n",
              "    .dataframe thead th {\n",
              "        text-align: right;\n",
              "    }\n",
              "</style>\n",
              "<table border=\"1\" class=\"dataframe\">\n",
              "  <thead>\n",
              "    <tr style=\"text-align: right;\">\n",
              "      <th></th>\n",
              "      <th>math</th>\n",
              "      <th>eng</th>\n",
              "      <th>scie</th>\n",
              "    </tr>\n",
              "    <tr>\n",
              "      <th>sex</th>\n",
              "      <th></th>\n",
              "      <th></th>\n",
              "      <th></th>\n",
              "    </tr>\n",
              "  </thead>\n",
              "  <tbody>\n",
              "    <tr>\n",
              "      <th>Female</th>\n",
              "      <td>83.25</td>\n",
              "      <td>83.25</td>\n",
              "      <td>86.0</td>\n",
              "    </tr>\n",
              "    <tr>\n",
              "      <th>Male</th>\n",
              "      <td>80.00</td>\n",
              "      <td>77.80</td>\n",
              "      <td>83.6</td>\n",
              "    </tr>\n",
              "  </tbody>\n",
              "</table>\n",
              "</div>"
            ],
            "text/plain": [
              "         math    eng  scie\n",
              "sex                       \n",
              "Female  83.25  83.25  86.0\n",
              "Male    80.00  77.80  83.6"
            ]
          },
          "metadata": {
            "tags": []
          },
          "execution_count": 37
        }
      ]
    },
    {
      "cell_type": "markdown",
      "metadata": {
        "id": "CvSgf7hisL3D",
        "colab_type": "text"
      },
      "source": [
        "▲ 程序清单 7.76 agg 方法和 NumPy 数组的 mean 函数"
      ]
    },
    {
      "cell_type": "code",
      "metadata": {
        "id": "vwApgWRzsL3E",
        "colab_type": "code",
        "colab": {
          "base_uri": "https://localhost:8080/",
          "height": 168
        },
        "outputId": "aade0c29-904c-4ed4-a8c2-2654734f551c"
      },
      "source": [
        "grouped[['math','eng']].agg([np.max,np.min])"
      ],
      "execution_count": 38,
      "outputs": [
        {
          "output_type": "execute_result",
          "data": {
            "text/html": [
              "<div>\n",
              "<style scoped>\n",
              "    .dataframe tbody tr th:only-of-type {\n",
              "        vertical-align: middle;\n",
              "    }\n",
              "\n",
              "    .dataframe tbody tr th {\n",
              "        vertical-align: top;\n",
              "    }\n",
              "\n",
              "    .dataframe thead tr th {\n",
              "        text-align: left;\n",
              "    }\n",
              "\n",
              "    .dataframe thead tr:last-of-type th {\n",
              "        text-align: right;\n",
              "    }\n",
              "</style>\n",
              "<table border=\"1\" class=\"dataframe\">\n",
              "  <thead>\n",
              "    <tr>\n",
              "      <th></th>\n",
              "      <th colspan=\"2\" halign=\"left\">math</th>\n",
              "      <th colspan=\"2\" halign=\"left\">eng</th>\n",
              "    </tr>\n",
              "    <tr>\n",
              "      <th></th>\n",
              "      <th>amax</th>\n",
              "      <th>amin</th>\n",
              "      <th>amax</th>\n",
              "      <th>amin</th>\n",
              "    </tr>\n",
              "    <tr>\n",
              "      <th>sex</th>\n",
              "      <th></th>\n",
              "      <th></th>\n",
              "      <th></th>\n",
              "      <th></th>\n",
              "    </tr>\n",
              "  </thead>\n",
              "  <tbody>\n",
              "    <tr>\n",
              "      <th>Female</th>\n",
              "      <td>91</td>\n",
              "      <td>77</td>\n",
              "      <td>93</td>\n",
              "      <td>69</td>\n",
              "    </tr>\n",
              "    <tr>\n",
              "      <th>Male</th>\n",
              "      <td>91</td>\n",
              "      <td>69</td>\n",
              "      <td>90</td>\n",
              "      <td>69</td>\n",
              "    </tr>\n",
              "  </tbody>\n",
              "</table>\n",
              "</div>"
            ],
            "text/plain": [
              "       math       eng     \n",
              "       amax amin amax amin\n",
              "sex                       \n",
              "Female   91   77   93   69\n",
              "Male     91   69   90   69"
            ]
          },
          "metadata": {
            "tags": []
          },
          "execution_count": 38
        }
      ]
    },
    {
      "cell_type": "markdown",
      "metadata": {
        "id": "H7_nsnlvsL3F",
        "colab_type": "text"
      },
      "source": [
        "▲ 程序清单 7.77 agg 方法和多个函数"
      ]
    },
    {
      "cell_type": "code",
      "metadata": {
        "id": "7yO0Xh_zsL3G",
        "colab_type": "code",
        "colab": {
          "base_uri": "https://localhost:8080/",
          "height": 168
        },
        "outputId": "34a7368b-efa7-4438-8060-7a08032077f7"
      },
      "source": [
        "grouped[['math','eng']].agg([('最大值', np.max),('最小值',np.min)])"
      ],
      "execution_count": 39,
      "outputs": [
        {
          "output_type": "execute_result",
          "data": {
            "text/html": [
              "<div>\n",
              "<style scoped>\n",
              "    .dataframe tbody tr th:only-of-type {\n",
              "        vertical-align: middle;\n",
              "    }\n",
              "\n",
              "    .dataframe tbody tr th {\n",
              "        vertical-align: top;\n",
              "    }\n",
              "\n",
              "    .dataframe thead tr th {\n",
              "        text-align: left;\n",
              "    }\n",
              "\n",
              "    .dataframe thead tr:last-of-type th {\n",
              "        text-align: right;\n",
              "    }\n",
              "</style>\n",
              "<table border=\"1\" class=\"dataframe\">\n",
              "  <thead>\n",
              "    <tr>\n",
              "      <th></th>\n",
              "      <th colspan=\"2\" halign=\"left\">math</th>\n",
              "      <th colspan=\"2\" halign=\"left\">eng</th>\n",
              "    </tr>\n",
              "    <tr>\n",
              "      <th></th>\n",
              "      <th>最大值</th>\n",
              "      <th>最小值</th>\n",
              "      <th>最大值</th>\n",
              "      <th>最小值</th>\n",
              "    </tr>\n",
              "    <tr>\n",
              "      <th>sex</th>\n",
              "      <th></th>\n",
              "      <th></th>\n",
              "      <th></th>\n",
              "      <th></th>\n",
              "    </tr>\n",
              "  </thead>\n",
              "  <tbody>\n",
              "    <tr>\n",
              "      <th>Female</th>\n",
              "      <td>91</td>\n",
              "      <td>77</td>\n",
              "      <td>93</td>\n",
              "      <td>69</td>\n",
              "    </tr>\n",
              "    <tr>\n",
              "      <th>Male</th>\n",
              "      <td>91</td>\n",
              "      <td>69</td>\n",
              "      <td>90</td>\n",
              "      <td>69</td>\n",
              "    </tr>\n",
              "  </tbody>\n",
              "</table>\n",
              "</div>"
            ],
            "text/plain": [
              "       math     eng    \n",
              "        最大值 最小値 最大值 最小值\n",
              "sex                    \n",
              "Female   91  77  93  69\n",
              "Male     91  69  90  69"
            ]
          },
          "metadata": {
            "tags": []
          },
          "execution_count": 39
        }
      ]
    },
    {
      "cell_type": "markdown",
      "metadata": {
        "id": "3nBUPe0NsL3I",
        "colab_type": "text"
      },
      "source": [
        "▲ 程序清单 7.78 agg 方法和元组"
      ]
    },
    {
      "cell_type": "code",
      "metadata": {
        "id": "9cDl1URnsL3I",
        "colab_type": "code",
        "colab": {
          "base_uri": "https://localhost:8080/",
          "height": 138
        },
        "outputId": "acb4a2b3-ba03-434a-a397-bd420a09f6df"
      },
      "source": [
        "grouped.agg({'math':np.mean,\n",
        "             'eng':np.max,\n",
        "             'scie':np.min})"
      ],
      "execution_count": 40,
      "outputs": [
        {
          "output_type": "execute_result",
          "data": {
            "text/html": [
              "<div>\n",
              "<style scoped>\n",
              "    .dataframe tbody tr th:only-of-type {\n",
              "        vertical-align: middle;\n",
              "    }\n",
              "\n",
              "    .dataframe tbody tr th {\n",
              "        vertical-align: top;\n",
              "    }\n",
              "\n",
              "    .dataframe thead th {\n",
              "        text-align: right;\n",
              "    }\n",
              "</style>\n",
              "<table border=\"1\" class=\"dataframe\">\n",
              "  <thead>\n",
              "    <tr style=\"text-align: right;\">\n",
              "      <th></th>\n",
              "      <th>math</th>\n",
              "      <th>eng</th>\n",
              "      <th>scie</th>\n",
              "    </tr>\n",
              "    <tr>\n",
              "      <th>sex</th>\n",
              "      <th></th>\n",
              "      <th></th>\n",
              "      <th></th>\n",
              "    </tr>\n",
              "  </thead>\n",
              "  <tbody>\n",
              "    <tr>\n",
              "      <th>Female</th>\n",
              "      <td>83.25</td>\n",
              "      <td>93</td>\n",
              "      <td>80</td>\n",
              "    </tr>\n",
              "    <tr>\n",
              "      <th>Male</th>\n",
              "      <td>80.00</td>\n",
              "      <td>90</td>\n",
              "      <td>72</td>\n",
              "    </tr>\n",
              "  </tbody>\n",
              "</table>\n",
              "</div>"
            ],
            "text/plain": [
              "         math  eng  scie\n",
              "sex                     \n",
              "Female  83.25   93    80\n",
              "Male    80.00   90    72"
            ]
          },
          "metadata": {
            "tags": []
          },
          "execution_count": 40
        }
      ]
    },
    {
      "cell_type": "markdown",
      "metadata": {
        "id": "Fn29Q5JLsL3L",
        "colab_type": "text"
      },
      "source": [
        "▲ 程序清单 7.79 agg 方法和字典"
      ]
    },
    {
      "cell_type": "code",
      "metadata": {
        "id": "f1h4CRrGsL3M",
        "colab_type": "code",
        "colab": {}
      },
      "source": [
        "def max_min(g):\n",
        "    return g.max() - g.min()"
      ],
      "execution_count": 0,
      "outputs": []
    },
    {
      "cell_type": "code",
      "metadata": {
        "id": "V8KBu7_dsL3P",
        "colab_type": "code",
        "colab": {
          "base_uri": "https://localhost:8080/",
          "height": 138
        },
        "outputId": "de7deec9-2a0a-4a98-8c2b-804e1580c19a"
      },
      "source": [
        "grouped.agg(max_min)"
      ],
      "execution_count": 42,
      "outputs": [
        {
          "output_type": "execute_result",
          "data": {
            "text/html": [
              "<div>\n",
              "<style scoped>\n",
              "    .dataframe tbody tr th:only-of-type {\n",
              "        vertical-align: middle;\n",
              "    }\n",
              "\n",
              "    .dataframe tbody tr th {\n",
              "        vertical-align: top;\n",
              "    }\n",
              "\n",
              "    .dataframe thead th {\n",
              "        text-align: right;\n",
              "    }\n",
              "</style>\n",
              "<table border=\"1\" class=\"dataframe\">\n",
              "  <thead>\n",
              "    <tr style=\"text-align: right;\">\n",
              "      <th></th>\n",
              "      <th>math</th>\n",
              "      <th>eng</th>\n",
              "      <th>scie</th>\n",
              "    </tr>\n",
              "    <tr>\n",
              "      <th>sex</th>\n",
              "      <th></th>\n",
              "      <th></th>\n",
              "      <th></th>\n",
              "    </tr>\n",
              "  </thead>\n",
              "  <tbody>\n",
              "    <tr>\n",
              "      <th>Female</th>\n",
              "      <td>14</td>\n",
              "      <td>24</td>\n",
              "      <td>14</td>\n",
              "    </tr>\n",
              "    <tr>\n",
              "      <th>Male</th>\n",
              "      <td>22</td>\n",
              "      <td>21</td>\n",
              "      <td>19</td>\n",
              "    </tr>\n",
              "  </tbody>\n",
              "</table>\n",
              "</div>"
            ],
            "text/plain": [
              "        math  eng  scie\n",
              "sex                    \n",
              "Female    14   24    14\n",
              "Male      22   21    19"
            ]
          },
          "metadata": {
            "tags": []
          },
          "execution_count": 42
        }
      ]
    },
    {
      "cell_type": "markdown",
      "metadata": {
        "id": "uDdedug6sL3Q",
        "colab_type": "text"
      },
      "source": [
        "▲ 程序清单 7.80 agg 方法和用户自定义函数"
      ]
    },
    {
      "cell_type": "code",
      "metadata": {
        "id": "I3_BY3LJsL3R",
        "colab_type": "code",
        "colab": {
          "base_uri": "https://localhost:8080/",
          "height": 228
        },
        "outputId": "9e910232-fe60-46c8-c5f3-f6ef0fe4969c"
      },
      "source": [
        "df.groupby(['sex','club']).agg(['mean','sum'])['math']"
      ],
      "execution_count": 43,
      "outputs": [
        {
          "output_type": "execute_result",
          "data": {
            "text/html": [
              "<div>\n",
              "<style scoped>\n",
              "    .dataframe tbody tr th:only-of-type {\n",
              "        vertical-align: middle;\n",
              "    }\n",
              "\n",
              "    .dataframe tbody tr th {\n",
              "        vertical-align: top;\n",
              "    }\n",
              "\n",
              "    .dataframe thead th {\n",
              "        text-align: right;\n",
              "    }\n",
              "</style>\n",
              "<table border=\"1\" class=\"dataframe\">\n",
              "  <thead>\n",
              "    <tr style=\"text-align: right;\">\n",
              "      <th></th>\n",
              "      <th></th>\n",
              "      <th>mean</th>\n",
              "      <th>sum</th>\n",
              "    </tr>\n",
              "    <tr>\n",
              "      <th>sex</th>\n",
              "      <th>club</th>\n",
              "      <th></th>\n",
              "      <th></th>\n",
              "    </tr>\n",
              "  </thead>\n",
              "  <tbody>\n",
              "    <tr>\n",
              "      <th rowspan=\"2\" valign=\"top\">Female</th>\n",
              "      <th>tennis</th>\n",
              "      <td>82.5</td>\n",
              "      <td>165</td>\n",
              "    </tr>\n",
              "    <tr>\n",
              "      <th>volleyball</th>\n",
              "      <td>84.0</td>\n",
              "      <td>168</td>\n",
              "    </tr>\n",
              "    <tr>\n",
              "      <th rowspan=\"3\" valign=\"top\">Male</th>\n",
              "      <th>baseball</th>\n",
              "      <td>79.5</td>\n",
              "      <td>159</td>\n",
              "    </tr>\n",
              "    <tr>\n",
              "      <th>soccer</th>\n",
              "      <td>86.0</td>\n",
              "      <td>172</td>\n",
              "    </tr>\n",
              "    <tr>\n",
              "      <th>tennis</th>\n",
              "      <td>69.0</td>\n",
              "      <td>69</td>\n",
              "    </tr>\n",
              "  </tbody>\n",
              "</table>\n",
              "</div>"
            ],
            "text/plain": [
              "                   mean  sum\n",
              "sex    club                 \n",
              "Female tennis      82.5  165\n",
              "       volleyball  84.0  168\n",
              "Male   baseball    79.5  159\n",
              "       soccer      86.0  172\n",
              "       tennis      69.0   69"
            ]
          },
          "metadata": {
            "tags": []
          },
          "execution_count": 43
        }
      ]
    },
    {
      "cell_type": "markdown",
      "metadata": {
        "id": "2F8zkDJssL3Y",
        "colab_type": "text"
      },
      "source": [
        "▲ 程序清单 7.81 agg 方法和多个分组键"
      ]
    },
    {
      "cell_type": "code",
      "metadata": {
        "id": "JIC02FMnsL3Z",
        "colab_type": "code",
        "colab": {
          "base_uri": "https://localhost:8080/",
          "height": 258
        },
        "outputId": "96dfe13f-979d-420f-bab7-6abd827e8f73"
      },
      "source": [
        "df = pd.read_csv('../data/ex16.csv')\n",
        "df"
      ],
      "execution_count": 44,
      "outputs": [
        {
          "output_type": "execute_result",
          "data": {
            "text/html": [
              "<div>\n",
              "<style scoped>\n",
              "    .dataframe tbody tr th:only-of-type {\n",
              "        vertical-align: middle;\n",
              "    }\n",
              "\n",
              "    .dataframe tbody tr th {\n",
              "        vertical-align: top;\n",
              "    }\n",
              "\n",
              "    .dataframe thead th {\n",
              "        text-align: right;\n",
              "    }\n",
              "</style>\n",
              "<table border=\"1\" class=\"dataframe\">\n",
              "  <thead>\n",
              "    <tr style=\"text-align: right;\">\n",
              "      <th></th>\n",
              "      <th>name</th>\n",
              "      <th>category</th>\n",
              "      <th>sales</th>\n",
              "    </tr>\n",
              "  </thead>\n",
              "  <tbody>\n",
              "    <tr>\n",
              "      <th>0</th>\n",
              "      <td>A</td>\n",
              "      <td>Ramen</td>\n",
              "      <td>120000</td>\n",
              "    </tr>\n",
              "    <tr>\n",
              "      <th>1</th>\n",
              "      <td>B</td>\n",
              "      <td>Chinese</td>\n",
              "      <td>100000</td>\n",
              "    </tr>\n",
              "    <tr>\n",
              "      <th>2</th>\n",
              "      <td>C</td>\n",
              "      <td>Chinese</td>\n",
              "      <td>320000</td>\n",
              "    </tr>\n",
              "    <tr>\n",
              "      <th>3</th>\n",
              "      <td>D</td>\n",
              "      <td>Sushi</td>\n",
              "      <td>120000</td>\n",
              "    </tr>\n",
              "    <tr>\n",
              "      <th>4</th>\n",
              "      <td>E</td>\n",
              "      <td>Sushi</td>\n",
              "      <td>290000</td>\n",
              "    </tr>\n",
              "    <tr>\n",
              "      <th>5</th>\n",
              "      <td>F</td>\n",
              "      <td>Ramen</td>\n",
              "      <td>80000</td>\n",
              "    </tr>\n",
              "    <tr>\n",
              "      <th>6</th>\n",
              "      <td>G</td>\n",
              "      <td>Sushi</td>\n",
              "      <td>610000</td>\n",
              "    </tr>\n",
              "  </tbody>\n",
              "</table>\n",
              "</div>"
            ],
            "text/plain": [
              "  name category   sales\n",
              "0    A    Ramen  120000\n",
              "1    B  Chinese  100000\n",
              "2    C  Chinese  320000\n",
              "3    D    Sushi  120000\n",
              "4    E    Sushi  290000\n",
              "5    F    Ramen   80000\n",
              "6    G    Sushi  610000"
            ]
          },
          "metadata": {
            "tags": []
          },
          "execution_count": 44
        }
      ]
    },
    {
      "cell_type": "markdown",
      "metadata": {
        "id": "J0ceo7o7sL3b",
        "colab_type": "text"
      },
      "source": [
        "▲ 程序清单 7.82 ex16.csv 文件的读取"
      ]
    },
    {
      "cell_type": "code",
      "metadata": {
        "id": "da8tigsesL3c",
        "colab_type": "code",
        "colab": {
          "base_uri": "https://localhost:8080/",
          "height": 108
        },
        "outputId": "2c159c73-1916-4d60-9882-cfcf374a1132"
      },
      "source": [
        "grouped = df.groupby('category')\n",
        "grouped['sales'].agg(lambda x: x.mean())"
      ],
      "execution_count": 45,
      "outputs": [
        {
          "output_type": "execute_result",
          "data": {
            "text/plain": [
              "category\n",
              "Chinese    210000\n",
              "Ramen      100000\n",
              "Sushi      340000\n",
              "Name: sales, dtype: int64"
            ]
          },
          "metadata": {
            "tags": []
          },
          "execution_count": 45
        }
      ]
    },
    {
      "cell_type": "markdown",
      "metadata": {
        "id": "pq68_9LcsL3e",
        "colab_type": "text"
      },
      "source": [
        "▲ 程序清单 7.83 agg 方法和匿名函数"
      ]
    },
    {
      "cell_type": "code",
      "metadata": {
        "id": "EejziKe4sL3e",
        "colab_type": "code",
        "colab": {
          "base_uri": "https://localhost:8080/",
          "height": 163
        },
        "outputId": "578e8c92-3c90-42f5-c109-ab33da325b21"
      },
      "source": [
        "grouped['sales'].transform(lambda x: x.mean())"
      ],
      "execution_count": 46,
      "outputs": [
        {
          "output_type": "execute_result",
          "data": {
            "text/plain": [
              "0    100000\n",
              "1    210000\n",
              "2    210000\n",
              "3    340000\n",
              "4    340000\n",
              "5    100000\n",
              "6    340000\n",
              "Name: sales, dtype: int64"
            ]
          },
          "metadata": {
            "tags": []
          },
          "execution_count": 46
        }
      ]
    },
    {
      "cell_type": "markdown",
      "metadata": {
        "id": "PnmWJyqhsL3i",
        "colab_type": "text"
      },
      "source": [
        "▲ 程序清单 7.84 GroupBy 对象和 transform 方法"
      ]
    },
    {
      "cell_type": "code",
      "metadata": {
        "id": "MP8tlXtUsL3i",
        "colab_type": "code",
        "colab": {
          "base_uri": "https://localhost:8080/",
          "height": 258
        },
        "outputId": "fcbb47b9-1d41-4d34-c7c1-743931ccc41e"
      },
      "source": [
        "df2 = df.copy()\n",
        "df2['不同分类的平均'] = grouped.transform(lambda x: x.mean())\n",
        "df2"
      ],
      "execution_count": 47,
      "outputs": [
        {
          "output_type": "execute_result",
          "data": {
            "text/html": [
              "<div>\n",
              "<style scoped>\n",
              "    .dataframe tbody tr th:only-of-type {\n",
              "        vertical-align: middle;\n",
              "    }\n",
              "\n",
              "    .dataframe tbody tr th {\n",
              "        vertical-align: top;\n",
              "    }\n",
              "\n",
              "    .dataframe thead th {\n",
              "        text-align: right;\n",
              "    }\n",
              "</style>\n",
              "<table border=\"1\" class=\"dataframe\">\n",
              "  <thead>\n",
              "    <tr style=\"text-align: right;\">\n",
              "      <th></th>\n",
              "      <th>name</th>\n",
              "      <th>category</th>\n",
              "      <th>sales</th>\n",
              "      <th>不同分类的平均</th>\n",
              "    </tr>\n",
              "  </thead>\n",
              "  <tbody>\n",
              "    <tr>\n",
              "      <th>0</th>\n",
              "      <td>A</td>\n",
              "      <td>Ramen</td>\n",
              "      <td>120000</td>\n",
              "      <td>100000</td>\n",
              "    </tr>\n",
              "    <tr>\n",
              "      <th>1</th>\n",
              "      <td>B</td>\n",
              "      <td>Chinese</td>\n",
              "      <td>100000</td>\n",
              "      <td>210000</td>\n",
              "    </tr>\n",
              "    <tr>\n",
              "      <th>2</th>\n",
              "      <td>C</td>\n",
              "      <td>Chinese</td>\n",
              "      <td>320000</td>\n",
              "      <td>210000</td>\n",
              "    </tr>\n",
              "    <tr>\n",
              "      <th>3</th>\n",
              "      <td>D</td>\n",
              "      <td>Sushi</td>\n",
              "      <td>120000</td>\n",
              "      <td>340000</td>\n",
              "    </tr>\n",
              "    <tr>\n",
              "      <th>4</th>\n",
              "      <td>E</td>\n",
              "      <td>Sushi</td>\n",
              "      <td>290000</td>\n",
              "      <td>340000</td>\n",
              "    </tr>\n",
              "    <tr>\n",
              "      <th>5</th>\n",
              "      <td>F</td>\n",
              "      <td>Ramen</td>\n",
              "      <td>80000</td>\n",
              "      <td>100000</td>\n",
              "    </tr>\n",
              "    <tr>\n",
              "      <th>6</th>\n",
              "      <td>G</td>\n",
              "      <td>Sushi</td>\n",
              "      <td>610000</td>\n",
              "      <td>340000</td>\n",
              "    </tr>\n",
              "  </tbody>\n",
              "</table>\n",
              "</div>"
            ],
            "text/plain": [
              "  name category   sales  不同分类的平均\n",
              "0    A    Ramen  120000   100000\n",
              "1    B  Chinese  100000   210000\n",
              "2    C  Chinese  320000   210000\n",
              "3    D    Sushi  120000   340000\n",
              "4    E    Sushi  290000   340000\n",
              "5    F    Ramen   80000   100000\n",
              "6    G    Sushi  610000   340000"
            ]
          },
          "metadata": {
            "tags": []
          },
          "execution_count": 47
        }
      ]
    },
    {
      "cell_type": "markdown",
      "metadata": {
        "id": "LkASMp8FsL3k",
        "colab_type": "text"
      },
      "source": [
        "▲ 程序清单 7.86 指定的函数与原始 DataFrame 对象大小相同时"
      ]
    },
    {
      "cell_type": "code",
      "metadata": {
        "id": "xG-hko_esL3k",
        "colab_type": "code",
        "colab": {
          "base_uri": "https://localhost:8080/",
          "height": 258
        },
        "outputId": "ec358ecc-4f95-4220-93cf-496b56205ec4"
      },
      "source": [
        "df2['万'] = grouped.transform(lambda x: x / 10000)\n",
        "df2"
      ],
      "execution_count": 48,
      "outputs": [
        {
          "output_type": "execute_result",
          "data": {
            "text/html": [
              "<div>\n",
              "<style scoped>\n",
              "    .dataframe tbody tr th:only-of-type {\n",
              "        vertical-align: middle;\n",
              "    }\n",
              "\n",
              "    .dataframe tbody tr th {\n",
              "        vertical-align: top;\n",
              "    }\n",
              "\n",
              "    .dataframe thead th {\n",
              "        text-align: right;\n",
              "    }\n",
              "</style>\n",
              "<table border=\"1\" class=\"dataframe\">\n",
              "  <thead>\n",
              "    <tr style=\"text-align: right;\">\n",
              "      <th></th>\n",
              "      <th>name</th>\n",
              "      <th>category</th>\n",
              "      <th>sales</th>\n",
              "      <th>不同分类的平均</th>\n",
              "      <th>万</th>\n",
              "    </tr>\n",
              "  </thead>\n",
              "  <tbody>\n",
              "    <tr>\n",
              "      <th>0</th>\n",
              "      <td>A</td>\n",
              "      <td>Ramen</td>\n",
              "      <td>120000</td>\n",
              "      <td>100000</td>\n",
              "      <td>12</td>\n",
              "    </tr>\n",
              "    <tr>\n",
              "      <th>1</th>\n",
              "      <td>B</td>\n",
              "      <td>Chinese</td>\n",
              "      <td>100000</td>\n",
              "      <td>210000</td>\n",
              "      <td>10</td>\n",
              "    </tr>\n",
              "    <tr>\n",
              "      <th>2</th>\n",
              "      <td>C</td>\n",
              "      <td>Chinese</td>\n",
              "      <td>320000</td>\n",
              "      <td>210000</td>\n",
              "      <td>32</td>\n",
              "    </tr>\n",
              "    <tr>\n",
              "      <th>3</th>\n",
              "      <td>D</td>\n",
              "      <td>Sushi</td>\n",
              "      <td>120000</td>\n",
              "      <td>340000</td>\n",
              "      <td>12</td>\n",
              "    </tr>\n",
              "    <tr>\n",
              "      <th>4</th>\n",
              "      <td>E</td>\n",
              "      <td>Sushi</td>\n",
              "      <td>290000</td>\n",
              "      <td>340000</td>\n",
              "      <td>29</td>\n",
              "    </tr>\n",
              "    <tr>\n",
              "      <th>5</th>\n",
              "      <td>F</td>\n",
              "      <td>Ramen</td>\n",
              "      <td>80000</td>\n",
              "      <td>100000</td>\n",
              "      <td>8</td>\n",
              "    </tr>\n",
              "    <tr>\n",
              "      <th>6</th>\n",
              "      <td>G</td>\n",
              "      <td>Sushi</td>\n",
              "      <td>610000</td>\n",
              "      <td>340000</td>\n",
              "      <td>61</td>\n",
              "    </tr>\n",
              "  </tbody>\n",
              "</table>\n",
              "</div>"
            ],
            "text/plain": [
              "  name category   sales  不同分类的平均   万\n",
              "0    A    Ramen  120000   100000  12\n",
              "1    B  Chinese  100000   210000  10\n",
              "2    C  Chinese  320000   210000  32\n",
              "3    D    Sushi  120000   340000  12\n",
              "4    E    Sushi  290000   340000  29\n",
              "5    F    Ramen   80000   100000   8\n",
              "6    G    Sushi  610000   340000  61"
            ]
          },
          "metadata": {
            "tags": []
          },
          "execution_count": 48
        }
      ]
    },
    {
      "cell_type": "markdown",
      "metadata": {
        "id": "nIaaLyHosL3m",
        "colab_type": "text"
      },
      "source": [
        "▲程序清单 7.86 指定的函数与原始 DataFrame 对象大小相同时"
      ]
    },
    {
      "cell_type": "code",
      "metadata": {
        "id": "cZxBeVRGsL3m",
        "colab_type": "code",
        "colab": {
          "base_uri": "https://localhost:8080/",
          "height": 168
        },
        "outputId": "af8709f9-b22e-45a1-cc8f-d0493939bb26"
      },
      "source": [
        "df2 = df.copy()\n",
        "cat_total = df2.groupby('category').sum()\n",
        "cat_total.columns = ['cat_total']\n",
        "cat_total"
      ],
      "execution_count": 49,
      "outputs": [
        {
          "output_type": "execute_result",
          "data": {
            "text/html": [
              "<div>\n",
              "<style scoped>\n",
              "    .dataframe tbody tr th:only-of-type {\n",
              "        vertical-align: middle;\n",
              "    }\n",
              "\n",
              "    .dataframe tbody tr th {\n",
              "        vertical-align: top;\n",
              "    }\n",
              "\n",
              "    .dataframe thead th {\n",
              "        text-align: right;\n",
              "    }\n",
              "</style>\n",
              "<table border=\"1\" class=\"dataframe\">\n",
              "  <thead>\n",
              "    <tr style=\"text-align: right;\">\n",
              "      <th></th>\n",
              "      <th>cat_total</th>\n",
              "    </tr>\n",
              "    <tr>\n",
              "      <th>category</th>\n",
              "      <th></th>\n",
              "    </tr>\n",
              "  </thead>\n",
              "  <tbody>\n",
              "    <tr>\n",
              "      <th>Chinese</th>\n",
              "      <td>420000</td>\n",
              "    </tr>\n",
              "    <tr>\n",
              "      <th>Ramen</th>\n",
              "      <td>200000</td>\n",
              "    </tr>\n",
              "    <tr>\n",
              "      <th>Sushi</th>\n",
              "      <td>1020000</td>\n",
              "    </tr>\n",
              "  </tbody>\n",
              "</table>\n",
              "</div>"
            ],
            "text/plain": [
              "          cat_total\n",
              "category           \n",
              "Chinese      420000\n",
              "Ramen        200000\n",
              "Sushi       1020000"
            ]
          },
          "metadata": {
            "tags": []
          },
          "execution_count": 49
        }
      ]
    },
    {
      "cell_type": "markdown",
      "metadata": {
        "id": "1M-a6fd9sL3q",
        "colab_type": "text"
      },
      "source": [
        "▲ 程序清单 7.87 GroupBy 对象和 sum 方法"
      ]
    },
    {
      "cell_type": "code",
      "metadata": {
        "id": "Y0UjK18VsL3q",
        "colab_type": "code",
        "colab": {
          "base_uri": "https://localhost:8080/",
          "height": 258
        },
        "outputId": "772bed95-3649-4687-96d7-0fd8c69cafae"
      },
      "source": [
        "df2 = df2.merge(cat_total, left_on='category', right_index=True)\n",
        "df2['pct'] = df2['sales'] / df2['cat_total']\n",
        "df2"
      ],
      "execution_count": 50,
      "outputs": [
        {
          "output_type": "execute_result",
          "data": {
            "text/html": [
              "<div>\n",
              "<style scoped>\n",
              "    .dataframe tbody tr th:only-of-type {\n",
              "        vertical-align: middle;\n",
              "    }\n",
              "\n",
              "    .dataframe tbody tr th {\n",
              "        vertical-align: top;\n",
              "    }\n",
              "\n",
              "    .dataframe thead th {\n",
              "        text-align: right;\n",
              "    }\n",
              "</style>\n",
              "<table border=\"1\" class=\"dataframe\">\n",
              "  <thead>\n",
              "    <tr style=\"text-align: right;\">\n",
              "      <th></th>\n",
              "      <th>name</th>\n",
              "      <th>category</th>\n",
              "      <th>sales</th>\n",
              "      <th>cat_total</th>\n",
              "      <th>pct</th>\n",
              "    </tr>\n",
              "  </thead>\n",
              "  <tbody>\n",
              "    <tr>\n",
              "      <th>0</th>\n",
              "      <td>A</td>\n",
              "      <td>Ramen</td>\n",
              "      <td>120000</td>\n",
              "      <td>200000</td>\n",
              "      <td>0.600000</td>\n",
              "    </tr>\n",
              "    <tr>\n",
              "      <th>5</th>\n",
              "      <td>F</td>\n",
              "      <td>Ramen</td>\n",
              "      <td>80000</td>\n",
              "      <td>200000</td>\n",
              "      <td>0.400000</td>\n",
              "    </tr>\n",
              "    <tr>\n",
              "      <th>1</th>\n",
              "      <td>B</td>\n",
              "      <td>Chinese</td>\n",
              "      <td>100000</td>\n",
              "      <td>420000</td>\n",
              "      <td>0.238095</td>\n",
              "    </tr>\n",
              "    <tr>\n",
              "      <th>2</th>\n",
              "      <td>C</td>\n",
              "      <td>Chinese</td>\n",
              "      <td>320000</td>\n",
              "      <td>420000</td>\n",
              "      <td>0.761905</td>\n",
              "    </tr>\n",
              "    <tr>\n",
              "      <th>3</th>\n",
              "      <td>D</td>\n",
              "      <td>Sushi</td>\n",
              "      <td>120000</td>\n",
              "      <td>1020000</td>\n",
              "      <td>0.117647</td>\n",
              "    </tr>\n",
              "    <tr>\n",
              "      <th>4</th>\n",
              "      <td>E</td>\n",
              "      <td>Sushi</td>\n",
              "      <td>290000</td>\n",
              "      <td>1020000</td>\n",
              "      <td>0.284314</td>\n",
              "    </tr>\n",
              "    <tr>\n",
              "      <th>6</th>\n",
              "      <td>G</td>\n",
              "      <td>Sushi</td>\n",
              "      <td>610000</td>\n",
              "      <td>1020000</td>\n",
              "      <td>0.598039</td>\n",
              "    </tr>\n",
              "  </tbody>\n",
              "</table>\n",
              "</div>"
            ],
            "text/plain": [
              "  name category   sales  cat_total       pct\n",
              "0    A    Ramen  120000     200000  0.600000\n",
              "5    F    Ramen   80000     200000  0.400000\n",
              "1    B  Chinese  100000     420000  0.238095\n",
              "2    C  Chinese  320000     420000  0.761905\n",
              "3    D    Sushi  120000    1020000  0.117647\n",
              "4    E    Sushi  290000    1020000  0.284314\n",
              "6    G    Sushi  610000    1020000  0.598039"
            ]
          },
          "metadata": {
            "tags": []
          },
          "execution_count": 50
        }
      ]
    },
    {
      "cell_type": "markdown",
      "metadata": {
        "id": "wR9QbezqsL3s",
        "colab_type": "text"
      },
      "source": [
        "▲程序清单 7.88 计算每个类别的销售额比率"
      ]
    },
    {
      "cell_type": "code",
      "metadata": {
        "id": "ub3UlmkfsL3s",
        "colab_type": "code",
        "colab": {
          "base_uri": "https://localhost:8080/",
          "height": 258
        },
        "outputId": "c41d14cb-f168-453b-982d-1e586064a82a"
      },
      "source": [
        "df['pct'] = grouped['sales'].transform(lambda x: x / x.sum())\n",
        "df"
      ],
      "execution_count": 51,
      "outputs": [
        {
          "output_type": "execute_result",
          "data": {
            "text/html": [
              "<div>\n",
              "<style scoped>\n",
              "    .dataframe tbody tr th:only-of-type {\n",
              "        vertical-align: middle;\n",
              "    }\n",
              "\n",
              "    .dataframe tbody tr th {\n",
              "        vertical-align: top;\n",
              "    }\n",
              "\n",
              "    .dataframe thead th {\n",
              "        text-align: right;\n",
              "    }\n",
              "</style>\n",
              "<table border=\"1\" class=\"dataframe\">\n",
              "  <thead>\n",
              "    <tr style=\"text-align: right;\">\n",
              "      <th></th>\n",
              "      <th>name</th>\n",
              "      <th>category</th>\n",
              "      <th>sales</th>\n",
              "      <th>pct</th>\n",
              "    </tr>\n",
              "  </thead>\n",
              "  <tbody>\n",
              "    <tr>\n",
              "      <th>0</th>\n",
              "      <td>A</td>\n",
              "      <td>Ramen</td>\n",
              "      <td>120000</td>\n",
              "      <td>0.600000</td>\n",
              "    </tr>\n",
              "    <tr>\n",
              "      <th>1</th>\n",
              "      <td>B</td>\n",
              "      <td>Chinese</td>\n",
              "      <td>100000</td>\n",
              "      <td>0.238095</td>\n",
              "    </tr>\n",
              "    <tr>\n",
              "      <th>2</th>\n",
              "      <td>C</td>\n",
              "      <td>Chinese</td>\n",
              "      <td>320000</td>\n",
              "      <td>0.761905</td>\n",
              "    </tr>\n",
              "    <tr>\n",
              "      <th>3</th>\n",
              "      <td>D</td>\n",
              "      <td>Sushi</td>\n",
              "      <td>120000</td>\n",
              "      <td>0.117647</td>\n",
              "    </tr>\n",
              "    <tr>\n",
              "      <th>4</th>\n",
              "      <td>E</td>\n",
              "      <td>Sushi</td>\n",
              "      <td>290000</td>\n",
              "      <td>0.284314</td>\n",
              "    </tr>\n",
              "    <tr>\n",
              "      <th>5</th>\n",
              "      <td>F</td>\n",
              "      <td>Ramen</td>\n",
              "      <td>80000</td>\n",
              "      <td>0.400000</td>\n",
              "    </tr>\n",
              "    <tr>\n",
              "      <th>6</th>\n",
              "      <td>G</td>\n",
              "      <td>Sushi</td>\n",
              "      <td>610000</td>\n",
              "      <td>0.598039</td>\n",
              "    </tr>\n",
              "  </tbody>\n",
              "</table>\n",
              "</div>"
            ],
            "text/plain": [
              "  name category   sales       pct\n",
              "0    A    Ramen  120000  0.600000\n",
              "1    B  Chinese  100000  0.238095\n",
              "2    C  Chinese  320000  0.761905\n",
              "3    D    Sushi  120000  0.117647\n",
              "4    E    Sushi  290000  0.284314\n",
              "5    F    Ramen   80000  0.400000\n",
              "6    G    Sushi  610000  0.598039"
            ]
          },
          "metadata": {
            "tags": []
          },
          "execution_count": 51
        }
      ]
    },
    {
      "cell_type": "markdown",
      "metadata": {
        "id": "Et-Em1ZXsL3u",
        "colab_type": "text"
      },
      "source": [
        "▲ 程序清单 7.89 使用 transform 方法计算每个分类的销售额比率"
      ]
    },
    {
      "cell_type": "code",
      "metadata": {
        "id": "12MxHRSBsL3u",
        "colab_type": "code",
        "colab": {
          "base_uri": "https://localhost:8080/",
          "height": 318
        },
        "outputId": "171e9f5e-e116-46a0-a2d0-2e7ad11ac68b"
      },
      "source": [
        "df = pd.read_csv('../data/ex15.csv')\n",
        "df"
      ],
      "execution_count": 52,
      "outputs": [
        {
          "output_type": "execute_result",
          "data": {
            "text/html": [
              "<div>\n",
              "<style scoped>\n",
              "    .dataframe tbody tr th:only-of-type {\n",
              "        vertical-align: middle;\n",
              "    }\n",
              "\n",
              "    .dataframe tbody tr th {\n",
              "        vertical-align: top;\n",
              "    }\n",
              "\n",
              "    .dataframe thead th {\n",
              "        text-align: right;\n",
              "    }\n",
              "</style>\n",
              "<table border=\"1\" class=\"dataframe\">\n",
              "  <thead>\n",
              "    <tr style=\"text-align: right;\">\n",
              "      <th></th>\n",
              "      <th>name</th>\n",
              "      <th>sex</th>\n",
              "      <th>club</th>\n",
              "      <th>math</th>\n",
              "      <th>eng</th>\n",
              "      <th>scie</th>\n",
              "    </tr>\n",
              "  </thead>\n",
              "  <tbody>\n",
              "    <tr>\n",
              "      <th>0</th>\n",
              "      <td>A</td>\n",
              "      <td>Male</td>\n",
              "      <td>soccer</td>\n",
              "      <td>81</td>\n",
              "      <td>79</td>\n",
              "      <td>91</td>\n",
              "    </tr>\n",
              "    <tr>\n",
              "      <th>1</th>\n",
              "      <td>B</td>\n",
              "      <td>Male</td>\n",
              "      <td>soccer</td>\n",
              "      <td>91</td>\n",
              "      <td>90</td>\n",
              "      <td>89</td>\n",
              "    </tr>\n",
              "    <tr>\n",
              "      <th>2</th>\n",
              "      <td>C</td>\n",
              "      <td>Female</td>\n",
              "      <td>volleyball</td>\n",
              "      <td>77</td>\n",
              "      <td>69</td>\n",
              "      <td>94</td>\n",
              "    </tr>\n",
              "    <tr>\n",
              "      <th>3</th>\n",
              "      <td>D</td>\n",
              "      <td>Female</td>\n",
              "      <td>tennis</td>\n",
              "      <td>88</td>\n",
              "      <td>85</td>\n",
              "      <td>81</td>\n",
              "    </tr>\n",
              "    <tr>\n",
              "      <th>4</th>\n",
              "      <td>E</td>\n",
              "      <td>Male</td>\n",
              "      <td>baseball</td>\n",
              "      <td>71</td>\n",
              "      <td>69</td>\n",
              "      <td>82</td>\n",
              "    </tr>\n",
              "    <tr>\n",
              "      <th>5</th>\n",
              "      <td>F</td>\n",
              "      <td>Male</td>\n",
              "      <td>tennis</td>\n",
              "      <td>69</td>\n",
              "      <td>75</td>\n",
              "      <td>84</td>\n",
              "    </tr>\n",
              "    <tr>\n",
              "      <th>6</th>\n",
              "      <td>G</td>\n",
              "      <td>Female</td>\n",
              "      <td>volleyball</td>\n",
              "      <td>91</td>\n",
              "      <td>93</td>\n",
              "      <td>89</td>\n",
              "    </tr>\n",
              "    <tr>\n",
              "      <th>7</th>\n",
              "      <td>H</td>\n",
              "      <td>Female</td>\n",
              "      <td>tennis</td>\n",
              "      <td>77</td>\n",
              "      <td>86</td>\n",
              "      <td>80</td>\n",
              "    </tr>\n",
              "    <tr>\n",
              "      <th>8</th>\n",
              "      <td>I</td>\n",
              "      <td>Male</td>\n",
              "      <td>baseball</td>\n",
              "      <td>88</td>\n",
              "      <td>76</td>\n",
              "      <td>72</td>\n",
              "    </tr>\n",
              "  </tbody>\n",
              "</table>\n",
              "</div>"
            ],
            "text/plain": [
              "  name     sex        club  math  eng  scie\n",
              "0    A    Male      soccer    81   79    91\n",
              "1    B    Male      soccer    91   90    89\n",
              "2    C  Female  volleyball    77   69    94\n",
              "3    D  Female      tennis    88   85    81\n",
              "4    E    Male    baseball    71   69    82\n",
              "5    F    Male      tennis    69   75    84\n",
              "6    G  Female  volleyball    91   93    89\n",
              "7    H  Female      tennis    77   86    80\n",
              "8    I    Male    baseball    88   76    72"
            ]
          },
          "metadata": {
            "tags": []
          },
          "execution_count": 52
        }
      ]
    },
    {
      "cell_type": "markdown",
      "metadata": {
        "id": "ymbg3BJ0sL3v",
        "colab_type": "text"
      },
      "source": [
        "▲程序清单 7.90 ex15.csv 文件的读取"
      ]
    },
    {
      "cell_type": "code",
      "metadata": {
        "id": "saaQUgDCsL3w",
        "colab_type": "code",
        "colab": {
          "base_uri": "https://localhost:8080/",
          "height": 54
        },
        "outputId": "a6e0c312-eeef-4261-ccf9-aac81fee73dc"
      },
      "source": [
        "%timeit df.groupby('sex').apply(lambda x: x.mean())\n",
        "%timeit df.groupby('sex').mean()"
      ],
      "execution_count": 53,
      "outputs": [
        {
          "output_type": "stream",
          "text": [
            "100 loops, best of 3: 6.45 ms per loop\n",
            "1000 loops, best of 3: 1.21 ms per loop\n"
          ],
          "name": "stdout"
        }
      ]
    },
    {
      "cell_type": "markdown",
      "metadata": {
        "id": "6WffivOSsL3x",
        "colab_type": "text"
      },
      "source": [
        "▲程序清单 7.91 apply 方法和 mean 方法的比较"
      ]
    },
    {
      "cell_type": "code",
      "metadata": {
        "id": "0sDVrxo0sL3x",
        "colab_type": "code",
        "colab": {}
      },
      "source": [
        "def ssc(df, col=None):\n",
        "    temp = (df[col] - df[col].mean()) / df[col].std(ddof=0)\n",
        "    df['score'] = round(50 + 10 * temp)\n",
        "    df = df[['name','sex','club',col,'score']]\n",
        "    return df.sort_values(by='score', ascending=False)"
      ],
      "execution_count": 0,
      "outputs": []
    },
    {
      "cell_type": "markdown",
      "metadata": {
        "id": "28u2-0IksL3z",
        "colab_type": "text"
      },
      "source": [
        "▲ 程序清单 7.92 计算偏差值的 ssc 函数的定义"
      ]
    },
    {
      "cell_type": "code",
      "metadata": {
        "id": "UB79dW3HsL3z",
        "colab_type": "code",
        "colab": {
          "base_uri": "https://localhost:8080/",
          "height": 318
        },
        "outputId": "96186fb7-f58b-4883-dff5-cb15ff8d77b4"
      },
      "source": [
        "df2 = df.copy()\n",
        "ssc(df2, col='math')"
      ],
      "execution_count": 55,
      "outputs": [
        {
          "output_type": "execute_result",
          "data": {
            "text/html": [
              "<div>\n",
              "<style scoped>\n",
              "    .dataframe tbody tr th:only-of-type {\n",
              "        vertical-align: middle;\n",
              "    }\n",
              "\n",
              "    .dataframe tbody tr th {\n",
              "        vertical-align: top;\n",
              "    }\n",
              "\n",
              "    .dataframe thead th {\n",
              "        text-align: right;\n",
              "    }\n",
              "</style>\n",
              "<table border=\"1\" class=\"dataframe\">\n",
              "  <thead>\n",
              "    <tr style=\"text-align: right;\">\n",
              "      <th></th>\n",
              "      <th>name</th>\n",
              "      <th>sex</th>\n",
              "      <th>club</th>\n",
              "      <th>math</th>\n",
              "      <th>score</th>\n",
              "    </tr>\n",
              "  </thead>\n",
              "  <tbody>\n",
              "    <tr>\n",
              "      <th>1</th>\n",
              "      <td>B</td>\n",
              "      <td>Male</td>\n",
              "      <td>soccer</td>\n",
              "      <td>91</td>\n",
              "      <td>62.0</td>\n",
              "    </tr>\n",
              "    <tr>\n",
              "      <th>6</th>\n",
              "      <td>G</td>\n",
              "      <td>Female</td>\n",
              "      <td>volleyball</td>\n",
              "      <td>91</td>\n",
              "      <td>62.0</td>\n",
              "    </tr>\n",
              "    <tr>\n",
              "      <th>3</th>\n",
              "      <td>D</td>\n",
              "      <td>Female</td>\n",
              "      <td>tennis</td>\n",
              "      <td>88</td>\n",
              "      <td>58.0</td>\n",
              "    </tr>\n",
              "    <tr>\n",
              "      <th>8</th>\n",
              "      <td>I</td>\n",
              "      <td>Male</td>\n",
              "      <td>baseball</td>\n",
              "      <td>88</td>\n",
              "      <td>58.0</td>\n",
              "    </tr>\n",
              "    <tr>\n",
              "      <th>0</th>\n",
              "      <td>A</td>\n",
              "      <td>Male</td>\n",
              "      <td>soccer</td>\n",
              "      <td>81</td>\n",
              "      <td>49.0</td>\n",
              "    </tr>\n",
              "    <tr>\n",
              "      <th>2</th>\n",
              "      <td>C</td>\n",
              "      <td>Female</td>\n",
              "      <td>volleyball</td>\n",
              "      <td>77</td>\n",
              "      <td>44.0</td>\n",
              "    </tr>\n",
              "    <tr>\n",
              "      <th>7</th>\n",
              "      <td>H</td>\n",
              "      <td>Female</td>\n",
              "      <td>tennis</td>\n",
              "      <td>77</td>\n",
              "      <td>44.0</td>\n",
              "    </tr>\n",
              "    <tr>\n",
              "      <th>4</th>\n",
              "      <td>E</td>\n",
              "      <td>Male</td>\n",
              "      <td>baseball</td>\n",
              "      <td>71</td>\n",
              "      <td>37.0</td>\n",
              "    </tr>\n",
              "    <tr>\n",
              "      <th>5</th>\n",
              "      <td>F</td>\n",
              "      <td>Male</td>\n",
              "      <td>tennis</td>\n",
              "      <td>69</td>\n",
              "      <td>34.0</td>\n",
              "    </tr>\n",
              "  </tbody>\n",
              "</table>\n",
              "</div>"
            ],
            "text/plain": [
              "  name     sex        club  math  score\n",
              "1    B    Male      soccer    91   62.0\n",
              "6    G  Female  volleyball    91   62.0\n",
              "3    D  Female      tennis    88   58.0\n",
              "8    I    Male    baseball    88   58.0\n",
              "0    A    Male      soccer    81   49.0\n",
              "2    C  Female  volleyball    77   44.0\n",
              "7    H  Female      tennis    77   44.0\n",
              "4    E    Male    baseball    71   37.0\n",
              "5    F    Male      tennis    69   34.0"
            ]
          },
          "metadata": {
            "tags": []
          },
          "execution_count": 55
        }
      ]
    },
    {
      "cell_type": "markdown",
      "metadata": {
        "id": "o9FIVGVpsL30",
        "colab_type": "text"
      },
      "source": [
        "▲ 程序清单 7.93 计算列 math 的偏差值"
      ]
    },
    {
      "cell_type": "code",
      "metadata": {
        "id": "uVZhcs3CsL32",
        "colab_type": "code",
        "colab": {
          "base_uri": "https://localhost:8080/",
          "height": 348
        },
        "outputId": "2c48a3a2-c51e-4ef3-e5b3-5621d7ecee1f"
      },
      "source": [
        "df2 = df.copy()\n",
        "df2.groupby('sex').apply(ssc, col='math')"
      ],
      "execution_count": 56,
      "outputs": [
        {
          "output_type": "execute_result",
          "data": {
            "text/html": [
              "<div>\n",
              "<style scoped>\n",
              "    .dataframe tbody tr th:only-of-type {\n",
              "        vertical-align: middle;\n",
              "    }\n",
              "\n",
              "    .dataframe tbody tr th {\n",
              "        vertical-align: top;\n",
              "    }\n",
              "\n",
              "    .dataframe thead th {\n",
              "        text-align: right;\n",
              "    }\n",
              "</style>\n",
              "<table border=\"1\" class=\"dataframe\">\n",
              "  <thead>\n",
              "    <tr style=\"text-align: right;\">\n",
              "      <th></th>\n",
              "      <th></th>\n",
              "      <th>name</th>\n",
              "      <th>sex</th>\n",
              "      <th>club</th>\n",
              "      <th>math</th>\n",
              "      <th>score</th>\n",
              "    </tr>\n",
              "    <tr>\n",
              "      <th>sex</th>\n",
              "      <th></th>\n",
              "      <th></th>\n",
              "      <th></th>\n",
              "      <th></th>\n",
              "      <th></th>\n",
              "      <th></th>\n",
              "    </tr>\n",
              "  </thead>\n",
              "  <tbody>\n",
              "    <tr>\n",
              "      <th rowspan=\"4\" valign=\"top\">Female</th>\n",
              "      <th>6</th>\n",
              "      <td>G</td>\n",
              "      <td>Female</td>\n",
              "      <td>volleyball</td>\n",
              "      <td>91</td>\n",
              "      <td>62.0</td>\n",
              "    </tr>\n",
              "    <tr>\n",
              "      <th>3</th>\n",
              "      <td>D</td>\n",
              "      <td>Female</td>\n",
              "      <td>tennis</td>\n",
              "      <td>88</td>\n",
              "      <td>57.0</td>\n",
              "    </tr>\n",
              "    <tr>\n",
              "      <th>2</th>\n",
              "      <td>C</td>\n",
              "      <td>Female</td>\n",
              "      <td>volleyball</td>\n",
              "      <td>77</td>\n",
              "      <td>40.0</td>\n",
              "    </tr>\n",
              "    <tr>\n",
              "      <th>7</th>\n",
              "      <td>H</td>\n",
              "      <td>Female</td>\n",
              "      <td>tennis</td>\n",
              "      <td>77</td>\n",
              "      <td>40.0</td>\n",
              "    </tr>\n",
              "    <tr>\n",
              "      <th rowspan=\"5\" valign=\"top\">Male</th>\n",
              "      <th>1</th>\n",
              "      <td>B</td>\n",
              "      <td>Male</td>\n",
              "      <td>soccer</td>\n",
              "      <td>91</td>\n",
              "      <td>62.0</td>\n",
              "    </tr>\n",
              "    <tr>\n",
              "      <th>8</th>\n",
              "      <td>I</td>\n",
              "      <td>Male</td>\n",
              "      <td>baseball</td>\n",
              "      <td>88</td>\n",
              "      <td>59.0</td>\n",
              "    </tr>\n",
              "    <tr>\n",
              "      <th>0</th>\n",
              "      <td>A</td>\n",
              "      <td>Male</td>\n",
              "      <td>soccer</td>\n",
              "      <td>81</td>\n",
              "      <td>51.0</td>\n",
              "    </tr>\n",
              "    <tr>\n",
              "      <th>4</th>\n",
              "      <td>E</td>\n",
              "      <td>Male</td>\n",
              "      <td>baseball</td>\n",
              "      <td>71</td>\n",
              "      <td>40.0</td>\n",
              "    </tr>\n",
              "    <tr>\n",
              "      <th>5</th>\n",
              "      <td>F</td>\n",
              "      <td>Male</td>\n",
              "      <td>tennis</td>\n",
              "      <td>69</td>\n",
              "      <td>38.0</td>\n",
              "    </tr>\n",
              "  </tbody>\n",
              "</table>\n",
              "</div>"
            ],
            "text/plain": [
              "         name     sex        club  math  score\n",
              "sex                                           \n",
              "Female 6    G  Female  volleyball    91   62.0\n",
              "       3    D  Female      tennis    88   57.0\n",
              "       2    C  Female  volleyball    77   40.0\n",
              "       7    H  Female      tennis    77   40.0\n",
              "Male   1    B    Male      soccer    91   62.0\n",
              "       8    I    Male    baseball    88   59.0\n",
              "       0    A    Male      soccer    81   51.0\n",
              "       4    E    Male    baseball    71   40.0\n",
              "       5    F    Male      tennis    69   38.0"
            ]
          },
          "metadata": {
            "tags": []
          },
          "execution_count": 56
        }
      ]
    },
    {
      "cell_type": "markdown",
      "metadata": {
        "id": "-ZRtfpxhsL34",
        "colab_type": "text"
      },
      "source": [
        "▲ 程序清单 7.94 GroupBy 对象和 apply 方法"
      ]
    },
    {
      "cell_type": "code",
      "metadata": {
        "id": "JqIO1_46sL34",
        "colab_type": "code",
        "colab": {
          "base_uri": "https://localhost:8080/",
          "height": 348
        },
        "outputId": "a148c135-9d9d-4bd3-dccb-4b10bb534020"
      },
      "source": [
        "df2 = df.copy()\n",
        "df2.groupby('club').apply(ssc, col='eng')"
      ],
      "execution_count": 57,
      "outputs": [
        {
          "output_type": "execute_result",
          "data": {
            "text/html": [
              "<div>\n",
              "<style scoped>\n",
              "    .dataframe tbody tr th:only-of-type {\n",
              "        vertical-align: middle;\n",
              "    }\n",
              "\n",
              "    .dataframe tbody tr th {\n",
              "        vertical-align: top;\n",
              "    }\n",
              "\n",
              "    .dataframe thead th {\n",
              "        text-align: right;\n",
              "    }\n",
              "</style>\n",
              "<table border=\"1\" class=\"dataframe\">\n",
              "  <thead>\n",
              "    <tr style=\"text-align: right;\">\n",
              "      <th></th>\n",
              "      <th></th>\n",
              "      <th>name</th>\n",
              "      <th>sex</th>\n",
              "      <th>club</th>\n",
              "      <th>eng</th>\n",
              "      <th>score</th>\n",
              "    </tr>\n",
              "    <tr>\n",
              "      <th>club</th>\n",
              "      <th></th>\n",
              "      <th></th>\n",
              "      <th></th>\n",
              "      <th></th>\n",
              "      <th></th>\n",
              "      <th></th>\n",
              "    </tr>\n",
              "  </thead>\n",
              "  <tbody>\n",
              "    <tr>\n",
              "      <th rowspan=\"2\" valign=\"top\">baseball</th>\n",
              "      <th>8</th>\n",
              "      <td>I</td>\n",
              "      <td>Male</td>\n",
              "      <td>baseball</td>\n",
              "      <td>76</td>\n",
              "      <td>60.0</td>\n",
              "    </tr>\n",
              "    <tr>\n",
              "      <th>4</th>\n",
              "      <td>E</td>\n",
              "      <td>Male</td>\n",
              "      <td>baseball</td>\n",
              "      <td>69</td>\n",
              "      <td>40.0</td>\n",
              "    </tr>\n",
              "    <tr>\n",
              "      <th rowspan=\"2\" valign=\"top\">soccer</th>\n",
              "      <th>1</th>\n",
              "      <td>B</td>\n",
              "      <td>Male</td>\n",
              "      <td>soccer</td>\n",
              "      <td>90</td>\n",
              "      <td>60.0</td>\n",
              "    </tr>\n",
              "    <tr>\n",
              "      <th>0</th>\n",
              "      <td>A</td>\n",
              "      <td>Male</td>\n",
              "      <td>soccer</td>\n",
              "      <td>79</td>\n",
              "      <td>40.0</td>\n",
              "    </tr>\n",
              "    <tr>\n",
              "      <th rowspan=\"3\" valign=\"top\">tennis</th>\n",
              "      <th>7</th>\n",
              "      <td>H</td>\n",
              "      <td>Female</td>\n",
              "      <td>tennis</td>\n",
              "      <td>86</td>\n",
              "      <td>58.0</td>\n",
              "    </tr>\n",
              "    <tr>\n",
              "      <th>3</th>\n",
              "      <td>D</td>\n",
              "      <td>Female</td>\n",
              "      <td>tennis</td>\n",
              "      <td>85</td>\n",
              "      <td>56.0</td>\n",
              "    </tr>\n",
              "    <tr>\n",
              "      <th>5</th>\n",
              "      <td>F</td>\n",
              "      <td>Male</td>\n",
              "      <td>tennis</td>\n",
              "      <td>75</td>\n",
              "      <td>36.0</td>\n",
              "    </tr>\n",
              "    <tr>\n",
              "      <th rowspan=\"2\" valign=\"top\">volleyball</th>\n",
              "      <th>6</th>\n",
              "      <td>G</td>\n",
              "      <td>Female</td>\n",
              "      <td>volleyball</td>\n",
              "      <td>93</td>\n",
              "      <td>60.0</td>\n",
              "    </tr>\n",
              "    <tr>\n",
              "      <th>2</th>\n",
              "      <td>C</td>\n",
              "      <td>Female</td>\n",
              "      <td>volleyball</td>\n",
              "      <td>69</td>\n",
              "      <td>40.0</td>\n",
              "    </tr>\n",
              "  </tbody>\n",
              "</table>\n",
              "</div>"
            ],
            "text/plain": [
              "             name     sex        club  eng  score\n",
              "club                                             \n",
              "baseball   8    I    Male    baseball   76   60.0\n",
              "           4    E    Male    baseball   69   40.0\n",
              "soccer     1    B    Male      soccer   90   60.0\n",
              "           0    A    Male      soccer   79   40.0\n",
              "tennis     7    H  Female      tennis   86   58.0\n",
              "           3    D  Female      tennis   85   56.0\n",
              "           5    F    Male      tennis   75   36.0\n",
              "volleyball 6    G  Female  volleyball   93   60.0\n",
              "           2    C  Female  volleyball   69   40.0"
            ]
          },
          "metadata": {
            "tags": []
          },
          "execution_count": 57
        }
      ]
    },
    {
      "cell_type": "markdown",
      "metadata": {
        "id": "yzH2oKG6sL35",
        "colab_type": "text"
      },
      "source": [
        "▲程序清单 7.95 GroupBy 对象的 apply 方法"
      ]
    },
    {
      "cell_type": "code",
      "metadata": {
        "id": "tACM0v2ksL36",
        "colab_type": "code",
        "colab": {}
      },
      "source": [
        "df2 = df.copy()\n",
        "df2.loc[3:5,'math'] = np.nan\n",
        "df2.loc[[0,6,8],'eng'] = np.nan\n",
        "df2.loc[[1,7],'scie'] = np.nan"
      ],
      "execution_count": 0,
      "outputs": []
    },
    {
      "cell_type": "markdown",
      "metadata": {
        "id": "2ooT6Q-XsL37",
        "colab_type": "text"
      },
      "source": [
        "▲程序清单 7.96 在 DataFrame 对象中代入缺失值"
      ]
    },
    {
      "cell_type": "code",
      "metadata": {
        "id": "UDnlrtPFsL37",
        "colab_type": "code",
        "colab": {
          "base_uri": "https://localhost:8080/",
          "height": 90
        },
        "outputId": "a02a9c76-7260-48e7-c102-616e68b45202"
      },
      "source": [
        "mean = round(df2.mean())\n",
        "mean"
      ],
      "execution_count": 59,
      "outputs": [
        {
          "output_type": "execute_result",
          "data": {
            "text/plain": [
              "math    84.0\n",
              "eng     79.0\n",
              "scie    85.0\n",
              "dtype: float64"
            ]
          },
          "metadata": {
            "tags": []
          },
          "execution_count": 59
        }
      ]
    },
    {
      "cell_type": "code",
      "metadata": {
        "id": "6bvEw7hpsL39",
        "colab_type": "code",
        "colab": {
          "base_uri": "https://localhost:8080/",
          "height": 318
        },
        "outputId": "4a60054a-dd64-4375-fd5b-2cf0be3499e7"
      },
      "source": [
        "df2.fillna(mean)"
      ],
      "execution_count": 60,
      "outputs": [
        {
          "output_type": "execute_result",
          "data": {
            "text/html": [
              "<div>\n",
              "<style scoped>\n",
              "    .dataframe tbody tr th:only-of-type {\n",
              "        vertical-align: middle;\n",
              "    }\n",
              "\n",
              "    .dataframe tbody tr th {\n",
              "        vertical-align: top;\n",
              "    }\n",
              "\n",
              "    .dataframe thead th {\n",
              "        text-align: right;\n",
              "    }\n",
              "</style>\n",
              "<table border=\"1\" class=\"dataframe\">\n",
              "  <thead>\n",
              "    <tr style=\"text-align: right;\">\n",
              "      <th></th>\n",
              "      <th>name</th>\n",
              "      <th>sex</th>\n",
              "      <th>club</th>\n",
              "      <th>math</th>\n",
              "      <th>eng</th>\n",
              "      <th>scie</th>\n",
              "    </tr>\n",
              "  </thead>\n",
              "  <tbody>\n",
              "    <tr>\n",
              "      <th>0</th>\n",
              "      <td>A</td>\n",
              "      <td>Male</td>\n",
              "      <td>soccer</td>\n",
              "      <td>81.0</td>\n",
              "      <td>79.0</td>\n",
              "      <td>91.0</td>\n",
              "    </tr>\n",
              "    <tr>\n",
              "      <th>1</th>\n",
              "      <td>B</td>\n",
              "      <td>Male</td>\n",
              "      <td>soccer</td>\n",
              "      <td>91.0</td>\n",
              "      <td>90.0</td>\n",
              "      <td>85.0</td>\n",
              "    </tr>\n",
              "    <tr>\n",
              "      <th>2</th>\n",
              "      <td>C</td>\n",
              "      <td>Female</td>\n",
              "      <td>volleyball</td>\n",
              "      <td>77.0</td>\n",
              "      <td>69.0</td>\n",
              "      <td>94.0</td>\n",
              "    </tr>\n",
              "    <tr>\n",
              "      <th>3</th>\n",
              "      <td>D</td>\n",
              "      <td>Female</td>\n",
              "      <td>tennis</td>\n",
              "      <td>84.0</td>\n",
              "      <td>85.0</td>\n",
              "      <td>81.0</td>\n",
              "    </tr>\n",
              "    <tr>\n",
              "      <th>4</th>\n",
              "      <td>E</td>\n",
              "      <td>Male</td>\n",
              "      <td>baseball</td>\n",
              "      <td>84.0</td>\n",
              "      <td>69.0</td>\n",
              "      <td>82.0</td>\n",
              "    </tr>\n",
              "    <tr>\n",
              "      <th>5</th>\n",
              "      <td>F</td>\n",
              "      <td>Male</td>\n",
              "      <td>tennis</td>\n",
              "      <td>84.0</td>\n",
              "      <td>75.0</td>\n",
              "      <td>84.0</td>\n",
              "    </tr>\n",
              "    <tr>\n",
              "      <th>6</th>\n",
              "      <td>G</td>\n",
              "      <td>Female</td>\n",
              "      <td>volleyball</td>\n",
              "      <td>91.0</td>\n",
              "      <td>79.0</td>\n",
              "      <td>89.0</td>\n",
              "    </tr>\n",
              "    <tr>\n",
              "      <th>7</th>\n",
              "      <td>H</td>\n",
              "      <td>Female</td>\n",
              "      <td>tennis</td>\n",
              "      <td>77.0</td>\n",
              "      <td>86.0</td>\n",
              "      <td>85.0</td>\n",
              "    </tr>\n",
              "    <tr>\n",
              "      <th>8</th>\n",
              "      <td>I</td>\n",
              "      <td>Male</td>\n",
              "      <td>baseball</td>\n",
              "      <td>88.0</td>\n",
              "      <td>79.0</td>\n",
              "      <td>72.0</td>\n",
              "    </tr>\n",
              "  </tbody>\n",
              "</table>\n",
              "</div>"
            ],
            "text/plain": [
              "  name     sex        club  math   eng  scie\n",
              "0    A    Male      soccer  81.0  79.0  91.0\n",
              "1    B    Male      soccer  91.0  90.0  85.0\n",
              "2    C  Female  volleyball  77.0  69.0  94.0\n",
              "3    D  Female      tennis  84.0  85.0  81.0\n",
              "4    E    Male    baseball  84.0  69.0  82.0\n",
              "5    F    Male      tennis  84.0  75.0  84.0\n",
              "6    G  Female  volleyball  91.0  79.0  89.0\n",
              "7    H  Female      tennis  77.0  86.0  85.0\n",
              "8    I    Male    baseball  88.0  79.0  72.0"
            ]
          },
          "metadata": {
            "tags": []
          },
          "execution_count": 60
        }
      ]
    },
    {
      "cell_type": "markdown",
      "metadata": {
        "id": "tflBXSpNsL3_",
        "colab_type": "text"
      },
      "source": [
        "▲ 程序清单 7.97 mean 方法和 fillna 方法"
      ]
    },
    {
      "cell_type": "code",
      "metadata": {
        "id": "c9kt3hKEsL4A",
        "colab_type": "code",
        "colab": {
          "base_uri": "https://localhost:8080/",
          "height": 198
        },
        "outputId": "5c87f7b6-9762-46f7-adfe-e825d5a32436"
      },
      "source": [
        "df2.groupby('club').mean()"
      ],
      "execution_count": 61,
      "outputs": [
        {
          "output_type": "execute_result",
          "data": {
            "text/html": [
              "<div>\n",
              "<style scoped>\n",
              "    .dataframe tbody tr th:only-of-type {\n",
              "        vertical-align: middle;\n",
              "    }\n",
              "\n",
              "    .dataframe tbody tr th {\n",
              "        vertical-align: top;\n",
              "    }\n",
              "\n",
              "    .dataframe thead th {\n",
              "        text-align: right;\n",
              "    }\n",
              "</style>\n",
              "<table border=\"1\" class=\"dataframe\">\n",
              "  <thead>\n",
              "    <tr style=\"text-align: right;\">\n",
              "      <th></th>\n",
              "      <th>math</th>\n",
              "      <th>eng</th>\n",
              "      <th>scie</th>\n",
              "    </tr>\n",
              "    <tr>\n",
              "      <th>club</th>\n",
              "      <th></th>\n",
              "      <th></th>\n",
              "      <th></th>\n",
              "    </tr>\n",
              "  </thead>\n",
              "  <tbody>\n",
              "    <tr>\n",
              "      <th>baseball</th>\n",
              "      <td>88.0</td>\n",
              "      <td>69.0</td>\n",
              "      <td>77.0</td>\n",
              "    </tr>\n",
              "    <tr>\n",
              "      <th>soccer</th>\n",
              "      <td>86.0</td>\n",
              "      <td>90.0</td>\n",
              "      <td>91.0</td>\n",
              "    </tr>\n",
              "    <tr>\n",
              "      <th>tennis</th>\n",
              "      <td>77.0</td>\n",
              "      <td>82.0</td>\n",
              "      <td>82.5</td>\n",
              "    </tr>\n",
              "    <tr>\n",
              "      <th>volleyball</th>\n",
              "      <td>84.0</td>\n",
              "      <td>69.0</td>\n",
              "      <td>91.5</td>\n",
              "    </tr>\n",
              "  </tbody>\n",
              "</table>\n",
              "</div>"
            ],
            "text/plain": [
              "            math   eng  scie\n",
              "club                        \n",
              "baseball    88.0  69.0  77.0\n",
              "soccer      86.0  90.0  91.0\n",
              "tennis      77.0  82.0  82.5\n",
              "volleyball  84.0  69.0  91.5"
            ]
          },
          "metadata": {
            "tags": []
          },
          "execution_count": 61
        }
      ]
    },
    {
      "cell_type": "markdown",
      "metadata": {
        "id": "1_dsp0fGsL4B",
        "colab_type": "text"
      },
      "source": [
        "▲ 程序清单 7.98 groupby 方法和 mean 方法"
      ]
    },
    {
      "cell_type": "code",
      "metadata": {
        "id": "_qANS0IhsL4C",
        "colab_type": "code",
        "colab": {
          "base_uri": "https://localhost:8080/",
          "height": 348
        },
        "outputId": "3ade9835-502c-4e91-ee2d-80b63dce4a3b"
      },
      "source": [
        "grouped = df2.groupby('club')\n",
        "grouped.apply(lambda x: x.fillna(x.mean()))"
      ],
      "execution_count": 62,
      "outputs": [
        {
          "output_type": "execute_result",
          "data": {
            "text/html": [
              "<div>\n",
              "<style scoped>\n",
              "    .dataframe tbody tr th:only-of-type {\n",
              "        vertical-align: middle;\n",
              "    }\n",
              "\n",
              "    .dataframe tbody tr th {\n",
              "        vertical-align: top;\n",
              "    }\n",
              "\n",
              "    .dataframe thead th {\n",
              "        text-align: right;\n",
              "    }\n",
              "</style>\n",
              "<table border=\"1\" class=\"dataframe\">\n",
              "  <thead>\n",
              "    <tr style=\"text-align: right;\">\n",
              "      <th></th>\n",
              "      <th></th>\n",
              "      <th>name</th>\n",
              "      <th>sex</th>\n",
              "      <th>club</th>\n",
              "      <th>math</th>\n",
              "      <th>eng</th>\n",
              "      <th>scie</th>\n",
              "    </tr>\n",
              "    <tr>\n",
              "      <th>club</th>\n",
              "      <th></th>\n",
              "      <th></th>\n",
              "      <th></th>\n",
              "      <th></th>\n",
              "      <th></th>\n",
              "      <th></th>\n",
              "      <th></th>\n",
              "    </tr>\n",
              "  </thead>\n",
              "  <tbody>\n",
              "    <tr>\n",
              "      <th rowspan=\"2\" valign=\"top\">baseball</th>\n",
              "      <th>4</th>\n",
              "      <td>E</td>\n",
              "      <td>Male</td>\n",
              "      <td>baseball</td>\n",
              "      <td>88.0</td>\n",
              "      <td>69.0</td>\n",
              "      <td>82.0</td>\n",
              "    </tr>\n",
              "    <tr>\n",
              "      <th>8</th>\n",
              "      <td>I</td>\n",
              "      <td>Male</td>\n",
              "      <td>baseball</td>\n",
              "      <td>88.0</td>\n",
              "      <td>69.0</td>\n",
              "      <td>72.0</td>\n",
              "    </tr>\n",
              "    <tr>\n",
              "      <th rowspan=\"2\" valign=\"top\">soccer</th>\n",
              "      <th>0</th>\n",
              "      <td>A</td>\n",
              "      <td>Male</td>\n",
              "      <td>soccer</td>\n",
              "      <td>81.0</td>\n",
              "      <td>90.0</td>\n",
              "      <td>91.0</td>\n",
              "    </tr>\n",
              "    <tr>\n",
              "      <th>1</th>\n",
              "      <td>B</td>\n",
              "      <td>Male</td>\n",
              "      <td>soccer</td>\n",
              "      <td>91.0</td>\n",
              "      <td>90.0</td>\n",
              "      <td>91.0</td>\n",
              "    </tr>\n",
              "    <tr>\n",
              "      <th rowspan=\"3\" valign=\"top\">tennis</th>\n",
              "      <th>3</th>\n",
              "      <td>D</td>\n",
              "      <td>Female</td>\n",
              "      <td>tennis</td>\n",
              "      <td>77.0</td>\n",
              "      <td>85.0</td>\n",
              "      <td>81.0</td>\n",
              "    </tr>\n",
              "    <tr>\n",
              "      <th>5</th>\n",
              "      <td>F</td>\n",
              "      <td>Male</td>\n",
              "      <td>tennis</td>\n",
              "      <td>77.0</td>\n",
              "      <td>75.0</td>\n",
              "      <td>84.0</td>\n",
              "    </tr>\n",
              "    <tr>\n",
              "      <th>7</th>\n",
              "      <td>H</td>\n",
              "      <td>Female</td>\n",
              "      <td>tennis</td>\n",
              "      <td>77.0</td>\n",
              "      <td>86.0</td>\n",
              "      <td>82.5</td>\n",
              "    </tr>\n",
              "    <tr>\n",
              "      <th rowspan=\"2\" valign=\"top\">volleyball</th>\n",
              "      <th>2</th>\n",
              "      <td>C</td>\n",
              "      <td>Female</td>\n",
              "      <td>volleyball</td>\n",
              "      <td>77.0</td>\n",
              "      <td>69.0</td>\n",
              "      <td>94.0</td>\n",
              "    </tr>\n",
              "    <tr>\n",
              "      <th>6</th>\n",
              "      <td>G</td>\n",
              "      <td>Female</td>\n",
              "      <td>volleyball</td>\n",
              "      <td>91.0</td>\n",
              "      <td>69.0</td>\n",
              "      <td>89.0</td>\n",
              "    </tr>\n",
              "  </tbody>\n",
              "</table>\n",
              "</div>"
            ],
            "text/plain": [
              "             name     sex        club  math   eng  scie\n",
              "club                                                   \n",
              "baseball   4    E    Male    baseball  88.0  69.0  82.0\n",
              "           8    I    Male    baseball  88.0  69.0  72.0\n",
              "soccer     0    A    Male      soccer  81.0  90.0  91.0\n",
              "           1    B    Male      soccer  91.0  90.0  91.0\n",
              "tennis     3    D  Female      tennis  77.0  85.0  81.0\n",
              "           5    F    Male      tennis  77.0  75.0  84.0\n",
              "           7    H  Female      tennis  77.0  86.0  82.5\n",
              "volleyball 2    C  Female  volleyball  77.0  69.0  94.0\n",
              "           6    G  Female  volleyball  91.0  69.0  89.0"
            ]
          },
          "metadata": {
            "tags": []
          },
          "execution_count": 62
        }
      ]
    },
    {
      "cell_type": "markdown",
      "metadata": {
        "id": "nZhcRnSZsL4E",
        "colab_type": "text"
      },
      "source": [
        "▲ 程序清单 7.99 使用 apply 方法和匿名函数对缺失值进行置换"
      ]
    }
  ]
}