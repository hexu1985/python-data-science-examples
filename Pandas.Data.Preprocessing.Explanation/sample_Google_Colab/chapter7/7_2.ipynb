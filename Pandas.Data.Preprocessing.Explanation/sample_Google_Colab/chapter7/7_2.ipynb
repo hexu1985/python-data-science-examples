{
  "nbformat": 4,
  "nbformat_minor": 0,
  "metadata": {
    "kernelspec": {
      "display_name": "Python 3",
      "language": "python",
      "name": "python3"
    },
    "language_info": {
      "codemirror_mode": {
        "name": "ipython",
        "version": 3
      },
      "file_extension": ".py",
      "mimetype": "text/x-python",
      "name": "python",
      "nbconvert_exporter": "python",
      "pygments_lexer": "ipython3",
      "version": "3.6.7"
    },
    "colab": {
      "name": "7.2.ipynb",
      "provenance": [],
      "collapsed_sections": []
    }
  },
  "cells": [
    {
      "cell_type": "code",
      "metadata": {
        "id": "ZuNMLPg4rhYO",
        "colab_type": "code",
        "colab": {
          "base_uri": "https://localhost:8080/",
          "height": 254
        },
        "outputId": "681f7626-44bf-4c3a-f0ad-221aadeea28d"
      },
      "source": [
        "!pip install pandas==0.22.0\n",
        "!pip install numpy==1.14.6\n",
        "!pip install matplotlib==2.1.2"
      ],
      "execution_count": 1,
      "outputs": [
        {
          "output_type": "stream",
          "text": [
            "Requirement already satisfied: pandas==0.22.0 in /usr/local/lib/python3.6/dist-packages (0.22.0)\n",
            "Requirement already satisfied: python-dateutil>=2 in /usr/local/lib/python3.6/dist-packages (from pandas==0.22.0) (2.6.1)\n",
            "Requirement already satisfied: pytz>=2011k in /usr/local/lib/python3.6/dist-packages (from pandas==0.22.0) (2018.9)\n",
            "Requirement already satisfied: numpy>=1.9.0 in /usr/local/lib/python3.6/dist-packages (from pandas==0.22.0) (1.14.6)\n",
            "Requirement already satisfied: six>=1.5 in /usr/local/lib/python3.6/dist-packages (from python-dateutil>=2->pandas==0.22.0) (1.12.0)\n",
            "Requirement already satisfied: numpy==1.14.6 in /usr/local/lib/python3.6/dist-packages (1.14.6)\n",
            "Requirement already satisfied: matplotlib==2.1.2 in /usr/local/lib/python3.6/dist-packages (2.1.2)\n",
            "Requirement already satisfied: python-dateutil>=2.1 in /usr/local/lib/python3.6/dist-packages (from matplotlib==2.1.2) (2.6.1)\n",
            "Requirement already satisfied: six>=1.10 in /usr/local/lib/python3.6/dist-packages (from matplotlib==2.1.2) (1.12.0)\n",
            "Requirement already satisfied: cycler>=0.10 in /usr/local/lib/python3.6/dist-packages (from matplotlib==2.1.2) (0.10.0)\n",
            "Requirement already satisfied: pyparsing!=2.0.4,!=2.1.2,!=2.1.6,>=2.0.1 in /usr/local/lib/python3.6/dist-packages (from matplotlib==2.1.2) (2.4.6)\n",
            "Requirement already satisfied: pytz in /usr/local/lib/python3.6/dist-packages (from matplotlib==2.1.2) (2018.9)\n",
            "Requirement already satisfied: numpy>=1.7.1 in /usr/local/lib/python3.6/dist-packages (from matplotlib==2.1.2) (1.14.6)\n"
          ],
          "name": "stdout"
        }
      ]
    },
    {
      "cell_type": "markdown",
      "metadata": {
        "id": "n7N-papfrjJh",
        "colab_type": "text"
      },
      "source": [
        "▲库的版本变更"
      ]
    },
    {
      "cell_type": "code",
      "metadata": {
        "id": "R3XtHW3wrkom",
        "colab_type": "code",
        "colab": {
          "base_uri": "https://localhost:8080/",
          "height": 90
        },
        "outputId": "67097449-1579-4828-a2a4-749027cb9e76"
      },
      "source": [
        "import sys\n",
        "import pandas\n",
        "import numpy\n",
        "import matplotlib\n",
        "print('python version : ', sys.version_info[0:3])\n",
        "print('pandas version : ', pandas.__version__)\n",
        "print('numpy version : ', numpy.__version__)\n",
        "print('matplotlib version : ', matplotlib.__version__)"
      ],
      "execution_count": 2,
      "outputs": [
        {
          "output_type": "stream",
          "text": [
            "python version :  (3, 6, 9)\n",
            "pandas version :  0.22.0\n",
            "numpy version :  1.14.6\n",
            "matplotlib version :  2.1.2\n"
          ],
          "name": "stdout"
        }
      ]
    },
    {
      "cell_type": "markdown",
      "metadata": {
        "id": "4gHJJqe1rmML",
        "colab_type": "text"
      },
      "source": [
        "▲Python和库的版本输出"
      ]
    },
    {
      "cell_type": "code",
      "metadata": {
        "id": "U1NpyzzLrge5",
        "colab_type": "code",
        "colab": {}
      },
      "source": [
        "import pandas as pd\n",
        "import numpy as np\n",
        "import matplotlib.pyplot as plt"
      ],
      "execution_count": 0,
      "outputs": []
    },
    {
      "cell_type": "markdown",
      "metadata": {
        "id": "COYklJfyrgfO",
        "colab_type": "text"
      },
      "source": [
        "▲预先执行的代码"
      ]
    },
    {
      "cell_type": "code",
      "metadata": {
        "id": "8YF8YMaqrgfP",
        "colab_type": "code",
        "colab": {
          "base_uri": "https://localhost:8080/",
          "height": 126
        },
        "outputId": "48bc2c96-f598-4876-f963-2cb4e4c8799c"
      },
      "source": [
        "ser = pd.Series([0,1,2,3,4], index=list('abcde'))\n",
        "ser"
      ],
      "execution_count": 4,
      "outputs": [
        {
          "output_type": "execute_result",
          "data": {
            "text/plain": [
              "a    0\n",
              "b    1\n",
              "c    2\n",
              "d    3\n",
              "e    4\n",
              "dtype: int64"
            ]
          },
          "metadata": {
            "tags": []
          },
          "execution_count": 4
        }
      ]
    },
    {
      "cell_type": "markdown",
      "metadata": {
        "id": "NJ3PvazrrgfS",
        "colab_type": "text"
      },
      "source": [
        "▲ 程序清单 7.30 Series 对象的创建"
      ]
    },
    {
      "cell_type": "code",
      "metadata": {
        "id": "PA5COGiPrgfT",
        "colab_type": "code",
        "colab": {
          "base_uri": "https://localhost:8080/",
          "height": 108
        },
        "outputId": "c00e711a-5523-4540-cb41-cd5e35556a25"
      },
      "source": [
        "for val in ser:\n",
        "    print(val)"
      ],
      "execution_count": 5,
      "outputs": [
        {
          "output_type": "stream",
          "text": [
            "0\n",
            "1\n",
            "2\n",
            "3\n",
            "4\n"
          ],
          "name": "stdout"
        }
      ]
    },
    {
      "cell_type": "markdown",
      "metadata": {
        "id": "V_3OoSVGrgfW",
        "colab_type": "text"
      },
      "source": [
        "▲ 程序清单 7.31 Series 对象和 for 语句"
      ]
    },
    {
      "cell_type": "code",
      "metadata": {
        "id": "abj0tzuMrgfW",
        "colab_type": "code",
        "colab": {
          "base_uri": "https://localhost:8080/",
          "height": 108
        },
        "outputId": "6b4ff6b1-724f-421a-edc8-ba5a83160b4f"
      },
      "source": [
        "for idx in ser.index:\n",
        "    print(idx)"
      ],
      "execution_count": 6,
      "outputs": [
        {
          "output_type": "stream",
          "text": [
            "a\n",
            "b\n",
            "c\n",
            "d\n",
            "e\n"
          ],
          "name": "stdout"
        }
      ]
    },
    {
      "cell_type": "markdown",
      "metadata": {
        "id": "Tne8OeRNrgfZ",
        "colab_type": "text"
      },
      "source": [
        "▲ 程序清单 7.32 index 属性和 for 语句"
      ]
    },
    {
      "cell_type": "code",
      "metadata": {
        "id": "sDmvvinkrgfZ",
        "colab_type": "code",
        "colab": {
          "base_uri": "https://localhost:8080/",
          "height": 108
        },
        "outputId": "af7b4310-28b6-4070-ddb9-4f9ec8eee9cc"
      },
      "source": [
        "for idx, val in ser.iteritems():\n",
        "    print(idx, val)"
      ],
      "execution_count": 7,
      "outputs": [
        {
          "output_type": "stream",
          "text": [
            "a 0\n",
            "b 1\n",
            "c 2\n",
            "d 3\n",
            "e 4\n"
          ],
          "name": "stdout"
        }
      ]
    },
    {
      "cell_type": "markdown",
      "metadata": {
        "id": "HxbSS9yMrgfd",
        "colab_type": "text"
      },
      "source": [
        "▲程序清单 7.33 Series 对象的 iteritems 方法"
      ]
    },
    {
      "cell_type": "code",
      "metadata": {
        "id": "AK_QFWjlrgfd",
        "colab_type": "code",
        "colab": {
          "base_uri": "https://localhost:8080/",
          "height": 72
        },
        "outputId": "c27055ff-463b-404f-8bf5-0fa467951324"
      },
      "source": [
        "for idx, val in ser.iteritems():\n",
        "    if val < 3:\n",
        "        print(idx)"
      ],
      "execution_count": 8,
      "outputs": [
        {
          "output_type": "stream",
          "text": [
            "a\n",
            "b\n",
            "c\n"
          ],
          "name": "stdout"
        }
      ]
    },
    {
      "cell_type": "markdown",
      "metadata": {
        "id": "MGXvIpK1rgfg",
        "colab_type": "text"
      },
      "source": [
        "▲ 程序清单 7.34 Series 对象的 iteritems 方法和 if 语句"
      ]
    },
    {
      "cell_type": "code",
      "metadata": {
        "id": "0lWVNM1urgfg",
        "colab_type": "code",
        "colab": {
          "base_uri": "https://localhost:8080/",
          "height": 108
        },
        "outputId": "1e85c8d8-d825-4c28-bdf4-20bf493dfbe7"
      },
      "source": [
        "val = [[81,79],[91,90]]\n",
        "df = pd.DataFrame(val, columns=['math','eng'], index=list('AB'))\n",
        "df"
      ],
      "execution_count": 9,
      "outputs": [
        {
          "output_type": "execute_result",
          "data": {
            "text/html": [
              "<div>\n",
              "<style scoped>\n",
              "    .dataframe tbody tr th:only-of-type {\n",
              "        vertical-align: middle;\n",
              "    }\n",
              "\n",
              "    .dataframe tbody tr th {\n",
              "        vertical-align: top;\n",
              "    }\n",
              "\n",
              "    .dataframe thead th {\n",
              "        text-align: right;\n",
              "    }\n",
              "</style>\n",
              "<table border=\"1\" class=\"dataframe\">\n",
              "  <thead>\n",
              "    <tr style=\"text-align: right;\">\n",
              "      <th></th>\n",
              "      <th>math</th>\n",
              "      <th>eng</th>\n",
              "    </tr>\n",
              "  </thead>\n",
              "  <tbody>\n",
              "    <tr>\n",
              "      <th>A</th>\n",
              "      <td>81</td>\n",
              "      <td>79</td>\n",
              "    </tr>\n",
              "    <tr>\n",
              "      <th>B</th>\n",
              "      <td>91</td>\n",
              "      <td>90</td>\n",
              "    </tr>\n",
              "  </tbody>\n",
              "</table>\n",
              "</div>"
            ],
            "text/plain": [
              "   math  eng\n",
              "A    81   79\n",
              "B    91   90"
            ]
          },
          "metadata": {
            "tags": []
          },
          "execution_count": 9
        }
      ]
    },
    {
      "cell_type": "code",
      "metadata": {
        "id": "FP8T_KMurgfi",
        "colab_type": "code",
        "colab": {
          "base_uri": "https://localhost:8080/",
          "height": 54
        },
        "outputId": "9bf34cd7-67f4-41ed-fa77-92591bf51521"
      },
      "source": [
        "for col in df:\n",
        "    print(col)"
      ],
      "execution_count": 10,
      "outputs": [
        {
          "output_type": "stream",
          "text": [
            "math\n",
            "eng\n"
          ],
          "name": "stdout"
        }
      ]
    },
    {
      "cell_type": "markdown",
      "metadata": {
        "id": "PG3mzlTFrgfl",
        "colab_type": "text"
      },
      "source": [
        "▲ 程序清单 7.35 DataFrame 对象和 for 语句"
      ]
    },
    {
      "cell_type": "code",
      "metadata": {
        "id": "_UyKF-4Krgfm",
        "colab_type": "code",
        "colab": {
          "base_uri": "https://localhost:8080/",
          "height": 54
        },
        "outputId": "270524b5-7e81-49f1-e853-b25f3a5210e9"
      },
      "source": [
        "for col in df.columns:\n",
        "    print(col)"
      ],
      "execution_count": 11,
      "outputs": [
        {
          "output_type": "stream",
          "text": [
            "math\n",
            "eng\n"
          ],
          "name": "stdout"
        }
      ]
    },
    {
      "cell_type": "code",
      "metadata": {
        "id": "em-7XU6Lrgfo",
        "colab_type": "code",
        "colab": {
          "base_uri": "https://localhost:8080/",
          "height": 54
        },
        "outputId": "46bcb8da-3360-4186-d9ce-19e9a6c0f225"
      },
      "source": [
        "for idx in df.index:\n",
        "    print(idx)"
      ],
      "execution_count": 12,
      "outputs": [
        {
          "output_type": "stream",
          "text": [
            "A\n",
            "B\n"
          ],
          "name": "stdout"
        }
      ]
    },
    {
      "cell_type": "markdown",
      "metadata": {
        "id": "qxgXlkAXrgfq",
        "colab_type": "text"
      },
      "source": [
        "▲ 程序清单 7.36 columns 属性、index 属性和 for 语句"
      ]
    },
    {
      "cell_type": "code",
      "metadata": {
        "id": "Ng_dEa17rgfq",
        "colab_type": "code",
        "colab": {
          "base_uri": "https://localhost:8080/",
          "height": 199
        },
        "outputId": "694da05c-c8ed-4d13-cb24-e9b18d45a83b"
      },
      "source": [
        "for idx,val in df.iterrows():\n",
        "    print(idx)\n",
        "    print(val, '\\n')"
      ],
      "execution_count": 13,
      "outputs": [
        {
          "output_type": "stream",
          "text": [
            "A\n",
            "math    81\n",
            "eng     79\n",
            "Name: A, dtype: int64 \n",
            "\n",
            "B\n",
            "math    91\n",
            "eng     90\n",
            "Name: B, dtype: int64 \n",
            "\n"
          ],
          "name": "stdout"
        }
      ]
    },
    {
      "cell_type": "markdown",
      "metadata": {
        "id": "HUZgYuK7rgfs",
        "colab_type": "text"
      },
      "source": [
        "▲ 程序清单 7.37 DataFrame 对象的 iterrows 方法"
      ]
    },
    {
      "cell_type": "code",
      "metadata": {
        "id": "1HtcFQ5-rgft",
        "colab_type": "code",
        "colab": {
          "base_uri": "https://localhost:8080/",
          "height": 72
        },
        "outputId": "0f99d705-3d82-4254-a3dc-7ce73ae9caa8"
      },
      "source": [
        "df2 = df.copy()\n",
        "df2['math'] = [81.0, 91.0]\n",
        "df2.dtypes"
      ],
      "execution_count": 14,
      "outputs": [
        {
          "output_type": "execute_result",
          "data": {
            "text/plain": [
              "math    float64\n",
              "eng       int64\n",
              "dtype: object"
            ]
          },
          "metadata": {
            "tags": []
          },
          "execution_count": 14
        }
      ]
    },
    {
      "cell_type": "markdown",
      "metadata": {
        "id": "PX1Jh8Yyrgfv",
        "colab_type": "text"
      },
      "source": [
        "▲ 程序清单 7.38 数据类型的确认"
      ]
    },
    {
      "cell_type": "code",
      "metadata": {
        "id": "QfZk7PHtrgfw",
        "colab_type": "code",
        "colab": {
          "base_uri": "https://localhost:8080/",
          "height": 72
        },
        "outputId": "20e6d4ad-7dd6-40e0-dd41-4e842919a449"
      },
      "source": [
        "row = next(df2.iterrows())[1]\n",
        "row"
      ],
      "execution_count": 15,
      "outputs": [
        {
          "output_type": "execute_result",
          "data": {
            "text/plain": [
              "math    81.0\n",
              "eng     79.0\n",
              "Name: A, dtype: float64"
            ]
          },
          "metadata": {
            "tags": []
          },
          "execution_count": 15
        }
      ]
    },
    {
      "cell_type": "markdown",
      "metadata": {
        "id": "i6CbwcoIrgfy",
        "colab_type": "text"
      },
      "source": [
        "▲ 程序清单 7.39 Python 内置函数 next"
      ]
    },
    {
      "cell_type": "code",
      "metadata": {
        "id": "rvskVMDrrgfz",
        "colab_type": "code",
        "colab": {
          "base_uri": "https://localhost:8080/",
          "height": 54
        },
        "outputId": "fbc679b8-2d95-4020-ce1b-38bb6862b898"
      },
      "source": [
        "print(df2['eng'].dtype)\n",
        "print(row['eng'].dtype)"
      ],
      "execution_count": 16,
      "outputs": [
        {
          "output_type": "stream",
          "text": [
            "int64\n",
            "float64\n"
          ],
          "name": "stdout"
        }
      ]
    },
    {
      "cell_type": "markdown",
      "metadata": {
        "id": "oa1_JXf0rgf1",
        "colab_type": "text"
      },
      "source": [
        "▲程序清单 7.40 数据类型的确认 "
      ]
    },
    {
      "cell_type": "code",
      "metadata": {
        "id": "mIeZFKksrgf2",
        "colab_type": "code",
        "colab": {}
      },
      "source": [
        "for idx, value in df2.iterrows():\n",
        "    value['math'] = 'a'"
      ],
      "execution_count": 0,
      "outputs": []
    },
    {
      "cell_type": "code",
      "metadata": {
        "id": "4nSE9a4_rgf5",
        "colab_type": "code",
        "colab": {
          "base_uri": "https://localhost:8080/",
          "height": 108
        },
        "outputId": "6886e5d4-f2fd-4aa3-cd27-bbe947ee452e"
      },
      "source": [
        "df2"
      ],
      "execution_count": 18,
      "outputs": [
        {
          "output_type": "execute_result",
          "data": {
            "text/html": [
              "<div>\n",
              "<style scoped>\n",
              "    .dataframe tbody tr th:only-of-type {\n",
              "        vertical-align: middle;\n",
              "    }\n",
              "\n",
              "    .dataframe tbody tr th {\n",
              "        vertical-align: top;\n",
              "    }\n",
              "\n",
              "    .dataframe thead th {\n",
              "        text-align: right;\n",
              "    }\n",
              "</style>\n",
              "<table border=\"1\" class=\"dataframe\">\n",
              "  <thead>\n",
              "    <tr style=\"text-align: right;\">\n",
              "      <th></th>\n",
              "      <th>math</th>\n",
              "      <th>eng</th>\n",
              "    </tr>\n",
              "  </thead>\n",
              "  <tbody>\n",
              "    <tr>\n",
              "      <th>A</th>\n",
              "      <td>81.0</td>\n",
              "      <td>79</td>\n",
              "    </tr>\n",
              "    <tr>\n",
              "      <th>B</th>\n",
              "      <td>91.0</td>\n",
              "      <td>90</td>\n",
              "    </tr>\n",
              "  </tbody>\n",
              "</table>\n",
              "</div>"
            ],
            "text/plain": [
              "   math  eng\n",
              "A  81.0   79\n",
              "B  91.0   90"
            ]
          },
          "metadata": {
            "tags": []
          },
          "execution_count": 18
        }
      ]
    },
    {
      "cell_type": "markdown",
      "metadata": {
        "id": "JUaC4yVRrgf7",
        "colab_type": "text"
      },
      "source": [
        "▲ 程序清单 7.41 基于循环处理对值进行更新"
      ]
    },
    {
      "cell_type": "code",
      "metadata": {
        "id": "vGs_aOaqrgf8",
        "colab_type": "code",
        "colab": {}
      },
      "source": [
        "for idx, value in df2.iterrows():\n",
        "    df2.loc[idx, 'math'] = 'a'"
      ],
      "execution_count": 0,
      "outputs": []
    },
    {
      "cell_type": "code",
      "metadata": {
        "id": "gk8nOEjrrgf-",
        "colab_type": "code",
        "colab": {
          "base_uri": "https://localhost:8080/",
          "height": 108
        },
        "outputId": "dded9a0b-d369-4b37-cdca-b881a2efc19b"
      },
      "source": [
        "df2"
      ],
      "execution_count": 20,
      "outputs": [
        {
          "output_type": "execute_result",
          "data": {
            "text/html": [
              "<div>\n",
              "<style scoped>\n",
              "    .dataframe tbody tr th:only-of-type {\n",
              "        vertical-align: middle;\n",
              "    }\n",
              "\n",
              "    .dataframe tbody tr th {\n",
              "        vertical-align: top;\n",
              "    }\n",
              "\n",
              "    .dataframe thead th {\n",
              "        text-align: right;\n",
              "    }\n",
              "</style>\n",
              "<table border=\"1\" class=\"dataframe\">\n",
              "  <thead>\n",
              "    <tr style=\"text-align: right;\">\n",
              "      <th></th>\n",
              "      <th>math</th>\n",
              "      <th>eng</th>\n",
              "    </tr>\n",
              "  </thead>\n",
              "  <tbody>\n",
              "    <tr>\n",
              "      <th>A</th>\n",
              "      <td>a</td>\n",
              "      <td>79</td>\n",
              "    </tr>\n",
              "    <tr>\n",
              "      <th>B</th>\n",
              "      <td>a</td>\n",
              "      <td>90</td>\n",
              "    </tr>\n",
              "  </tbody>\n",
              "</table>\n",
              "</div>"
            ],
            "text/plain": [
              "  math  eng\n",
              "A    a   79\n",
              "B    a   90"
            ]
          },
          "metadata": {
            "tags": []
          },
          "execution_count": 20
        }
      ]
    },
    {
      "cell_type": "markdown",
      "metadata": {
        "id": "ABrUCm52rggA",
        "colab_type": "text"
      },
      "source": [
        "▲ 程序清单 7.42 基于循环处理对值进行更新（DataFrame 对象）"
      ]
    },
    {
      "cell_type": "code",
      "metadata": {
        "id": "Qj9sRezvrggB",
        "colab_type": "code",
        "colab": {
          "base_uri": "https://localhost:8080/",
          "height": 108
        },
        "outputId": "9ccead27-3fb9-4894-a082-b05c8eea5fc1"
      },
      "source": [
        "for idx, value in df2.iterrows():\n",
        "    if idx == 'A':\n",
        "        df2.loc[idx, 'math'] = 81\n",
        "    else:\n",
        "        df2.loc[idx, 'math'] = 91\n",
        "\n",
        "df2"
      ],
      "execution_count": 21,
      "outputs": [
        {
          "output_type": "execute_result",
          "data": {
            "text/html": [
              "<div>\n",
              "<style scoped>\n",
              "    .dataframe tbody tr th:only-of-type {\n",
              "        vertical-align: middle;\n",
              "    }\n",
              "\n",
              "    .dataframe tbody tr th {\n",
              "        vertical-align: top;\n",
              "    }\n",
              "\n",
              "    .dataframe thead th {\n",
              "        text-align: right;\n",
              "    }\n",
              "</style>\n",
              "<table border=\"1\" class=\"dataframe\">\n",
              "  <thead>\n",
              "    <tr style=\"text-align: right;\">\n",
              "      <th></th>\n",
              "      <th>math</th>\n",
              "      <th>eng</th>\n",
              "    </tr>\n",
              "  </thead>\n",
              "  <tbody>\n",
              "    <tr>\n",
              "      <th>A</th>\n",
              "      <td>81</td>\n",
              "      <td>79</td>\n",
              "    </tr>\n",
              "    <tr>\n",
              "      <th>B</th>\n",
              "      <td>91</td>\n",
              "      <td>90</td>\n",
              "    </tr>\n",
              "  </tbody>\n",
              "</table>\n",
              "</div>"
            ],
            "text/plain": [
              "   math  eng\n",
              "A    81   79\n",
              "B    91   90"
            ]
          },
          "metadata": {
            "tags": []
          },
          "execution_count": 21
        }
      ]
    },
    {
      "cell_type": "markdown",
      "metadata": {
        "id": "cRYzt86YrggD",
        "colab_type": "text"
      },
      "source": [
        "▲程序清单 7.43 基于循环处理和 if 语句的条件分支"
      ]
    },
    {
      "cell_type": "code",
      "metadata": {
        "id": "lWmCFN5wrggD",
        "colab_type": "code",
        "colab": {
          "base_uri": "https://localhost:8080/",
          "height": 199
        },
        "outputId": "bb4079d2-3548-4d19-af05-bd1ea4e8febe"
      },
      "source": [
        "for col, val in df.iteritems():\n",
        "    print(col)\n",
        "    print(val, '\\n')"
      ],
      "execution_count": 22,
      "outputs": [
        {
          "output_type": "stream",
          "text": [
            "math\n",
            "A    81\n",
            "B    91\n",
            "Name: math, dtype: int64 \n",
            "\n",
            "eng\n",
            "A    79\n",
            "B    90\n",
            "Name: eng, dtype: int64 \n",
            "\n"
          ],
          "name": "stdout"
        }
      ]
    },
    {
      "cell_type": "markdown",
      "metadata": {
        "id": "2nYs5hkWrggF",
        "colab_type": "text"
      },
      "source": [
        "▲ 程序清单 7.44 DataFrame 对象的 iteritems 方法"
      ]
    },
    {
      "cell_type": "code",
      "metadata": {
        "id": "MazWbTw-rggG",
        "colab_type": "code",
        "colab": {
          "base_uri": "https://localhost:8080/",
          "height": 54
        },
        "outputId": "db994369-0a63-41cb-9c5a-e0a2b7d7a0e5"
      },
      "source": [
        "for col, val in df.iteritems():\n",
        "    mean = val.mean()\n",
        "    print(col, '的平均值是', mean)"
      ],
      "execution_count": 23,
      "outputs": [
        {
          "output_type": "stream",
          "text": [
            "math 的平均值是 86.0\n",
            "eng 的平均值是84.5\n"
          ],
          "name": "stdout"
        }
      ]
    },
    {
      "cell_type": "markdown",
      "metadata": {
        "id": "REWMx7x9rggI",
        "colab_type": "text"
      },
      "source": [
        "▲ 程序清单 7.45 iteritems 方法和 mean 方法"
      ]
    },
    {
      "cell_type": "code",
      "metadata": {
        "id": "JWLyY5WArggI",
        "colab_type": "code",
        "colab": {
          "base_uri": "https://localhost:8080/",
          "height": 54
        },
        "outputId": "d70ca65d-1470-4e11-8c50-e4b410704c5b"
      },
      "source": [
        "for row in df.itertuples():\n",
        "    print(row)"
      ],
      "execution_count": 24,
      "outputs": [
        {
          "output_type": "stream",
          "text": [
            "Pandas(Index='A', math=81, eng=79)\n",
            "Pandas(Index='B', math=91, eng=90)\n"
          ],
          "name": "stdout"
        }
      ]
    },
    {
      "cell_type": "markdown",
      "metadata": {
        "id": "9pt4U9MhrggK",
        "colab_type": "text"
      },
      "source": [
        "▲ 程序清单 7.46 DataFrame 对象的 itertuples 方法"
      ]
    },
    {
      "cell_type": "code",
      "metadata": {
        "id": "JnrEMSKKrggL",
        "colab_type": "code",
        "colab": {
          "base_uri": "https://localhost:8080/",
          "height": 54
        },
        "outputId": "71ce7dd1-d54d-4199-accf-2f4c2c32438c"
      },
      "source": [
        "for row in df.itertuples(index=False):\n",
        "    print(row)"
      ],
      "execution_count": 25,
      "outputs": [
        {
          "output_type": "stream",
          "text": [
            "Pandas(math=81, eng=79)\n",
            "Pandas(math=91, eng=90)\n"
          ],
          "name": "stdout"
        }
      ]
    },
    {
      "cell_type": "markdown",
      "metadata": {
        "id": "npP34Q5RrggN",
        "colab_type": "text"
      },
      "source": [
        "▲ 程序清单 7.47 itertuples 方法和 index 参数"
      ]
    },
    {
      "cell_type": "code",
      "metadata": {
        "id": "1oynkIoyrggO",
        "colab_type": "code",
        "colab": {
          "base_uri": "https://localhost:8080/",
          "height": 54
        },
        "outputId": "1b7e6473-4d01-43cf-9f90-8e2df64ec64d"
      },
      "source": [
        "for row in df.itertuples():\n",
        "    print('index:', row[0], 'math :', row[1], 'eng :', row.eng)"
      ],
      "execution_count": 26,
      "outputs": [
        {
          "output_type": "stream",
          "text": [
            "index: A math : 81 eng : 79\n",
            "index: B math : 91 eng : 90\n"
          ],
          "name": "stdout"
        }
      ]
    },
    {
      "cell_type": "markdown",
      "metadata": {
        "id": "3vO63s8krggQ",
        "colab_type": "text"
      },
      "source": [
        "▲程序清单 7.48 命名元组的数据引用"
      ]
    },
    {
      "cell_type": "code",
      "metadata": {
        "id": "R9XQ8nq-rggR",
        "colab_type": "code",
        "colab": {
          "base_uri": "https://localhost:8080/",
          "height": 54
        },
        "outputId": "03a7f8eb-5ccb-4624-9ee0-0ee3a8975c79"
      },
      "source": [
        "for row in df.itertuples(name=None):\n",
        "    print(row)"
      ],
      "execution_count": 27,
      "outputs": [
        {
          "output_type": "stream",
          "text": [
            "('A', 81, 79)\n",
            "('B', 91, 90)\n"
          ],
          "name": "stdout"
        }
      ]
    },
    {
      "cell_type": "markdown",
      "metadata": {
        "id": "F_Q8B38TrggT",
        "colab_type": "text"
      },
      "source": [
        "▲ 程序清单 7.49 itertuples 方法和 name 参数"
      ]
    },
    {
      "cell_type": "code",
      "metadata": {
        "id": "yiPcM6eNrggU",
        "colab_type": "code",
        "colab": {
          "base_uri": "https://localhost:8080/",
          "height": 108
        },
        "outputId": "d987fc5f-f794-401a-e712-4146565a021c"
      },
      "source": [
        "df2 = df.copy()\n",
        "df2['math'] = [81.0, 91.0]\n",
        "df2"
      ],
      "execution_count": 28,
      "outputs": [
        {
          "output_type": "execute_result",
          "data": {
            "text/html": [
              "<div>\n",
              "<style scoped>\n",
              "    .dataframe tbody tr th:only-of-type {\n",
              "        vertical-align: middle;\n",
              "    }\n",
              "\n",
              "    .dataframe tbody tr th {\n",
              "        vertical-align: top;\n",
              "    }\n",
              "\n",
              "    .dataframe thead th {\n",
              "        text-align: right;\n",
              "    }\n",
              "</style>\n",
              "<table border=\"1\" class=\"dataframe\">\n",
              "  <thead>\n",
              "    <tr style=\"text-align: right;\">\n",
              "      <th></th>\n",
              "      <th>math</th>\n",
              "      <th>eng</th>\n",
              "    </tr>\n",
              "  </thead>\n",
              "  <tbody>\n",
              "    <tr>\n",
              "      <th>A</th>\n",
              "      <td>81.0</td>\n",
              "      <td>79</td>\n",
              "    </tr>\n",
              "    <tr>\n",
              "      <th>B</th>\n",
              "      <td>91.0</td>\n",
              "      <td>90</td>\n",
              "    </tr>\n",
              "  </tbody>\n",
              "</table>\n",
              "</div>"
            ],
            "text/plain": [
              "   math  eng\n",
              "A  81.0   79\n",
              "B  91.0   90"
            ]
          },
          "metadata": {
            "tags": []
          },
          "execution_count": 28
        }
      ]
    },
    {
      "cell_type": "code",
      "metadata": {
        "id": "EH0j_U33rggW",
        "colab_type": "code",
        "colab": {
          "base_uri": "https://localhost:8080/",
          "height": 35
        },
        "outputId": "d761a51e-51e3-425c-fa08-abcdacd7f3f0"
      },
      "source": [
        "row = next(df2.itertuples())\n",
        "row"
      ],
      "execution_count": 29,
      "outputs": [
        {
          "output_type": "execute_result",
          "data": {
            "text/plain": [
              "Pandas(Index='A', math=81.0, eng=79)"
            ]
          },
          "metadata": {
            "tags": []
          },
          "execution_count": 29
        }
      ]
    },
    {
      "cell_type": "code",
      "metadata": {
        "id": "Qc5kMMc3rggY",
        "colab_type": "code",
        "colab": {
          "base_uri": "https://localhost:8080/",
          "height": 54
        },
        "outputId": "2163c3a4-e28b-4294-a153-2a120311ff3a"
      },
      "source": [
        "print(df2.loc['A','eng'], 'dtype = ', type(df2.loc['A','eng']))\n",
        "print(row[2], 'dtype = ', type(row[2]))"
      ],
      "execution_count": 30,
      "outputs": [
        {
          "output_type": "stream",
          "text": [
            "79 dtype =  <class 'numpy.int64'>\n",
            "79 dtype =  <class 'int'>\n"
          ],
          "name": "stdout"
        }
      ]
    },
    {
      "cell_type": "markdown",
      "metadata": {
        "id": "lst0cK3hrggZ",
        "colab_type": "text"
      },
      "source": [
        "▲ 程序清单 7.50 数据类型的确认
      ]
    }
  ]
}