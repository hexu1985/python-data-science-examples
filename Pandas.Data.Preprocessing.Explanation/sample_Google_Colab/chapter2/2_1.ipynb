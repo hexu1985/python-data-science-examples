{
 "cells": [
  {
   "cell_type": "code",
   "execution_count": 1,
   "metadata": {
    "colab": {
     "base_uri": "https://localhost:8080/",
     "height": 254
    },
    "colab_type": "code",
    "id": "ha-pQY4bU1N1",
    "outputId": "ac1c8b42-4826-4027-d96e-483f79f65e51"
   },
   "outputs": [
    {
     "name": "stdout",
     "output_type": "stream",
     "text": [
      "Requirement already satisfied: pandas==0.22.0 in /usr/local/lib/python3.6/dist-packages (0.22.0)\n",
      "Requirement already satisfied: python-dateutil>=2 in /usr/local/lib/python3.6/dist-packages (from pandas==0.22.0) (2.6.1)\n",
      "Requirement already satisfied: pytz>=2011k in /usr/local/lib/python3.6/dist-packages (from pandas==0.22.0) (2018.9)\n",
      "Requirement already satisfied: numpy>=1.9.0 in /usr/local/lib/python3.6/dist-packages (from pandas==0.22.0) (1.14.6)\n",
      "Requirement already satisfied: six>=1.5 in /usr/local/lib/python3.6/dist-packages (from python-dateutil>=2->pandas==0.22.0) (1.12.0)\n",
      "Requirement already satisfied: numpy==1.14.6 in /usr/local/lib/python3.6/dist-packages (1.14.6)\n",
      "Requirement already satisfied: matplotlib==2.1.2 in /usr/local/lib/python3.6/dist-packages (2.1.2)\n",
      "Requirement already satisfied: cycler>=0.10 in /usr/local/lib/python3.6/dist-packages (from matplotlib==2.1.2) (0.10.0)\n",
      "Requirement already satisfied: six>=1.10 in /usr/local/lib/python3.6/dist-packages (from matplotlib==2.1.2) (1.12.0)\n",
      "Requirement already satisfied: pyparsing!=2.0.4,!=2.1.2,!=2.1.6,>=2.0.1 in /usr/local/lib/python3.6/dist-packages (from matplotlib==2.1.2) (2.4.6)\n",
      "Requirement already satisfied: numpy>=1.7.1 in /usr/local/lib/python3.6/dist-packages (from matplotlib==2.1.2) (1.14.6)\n",
      "Requirement already satisfied: pytz in /usr/local/lib/python3.6/dist-packages (from matplotlib==2.1.2) (2018.9)\n",
      "Requirement already satisfied: python-dateutil>=2.1 in /usr/local/lib/python3.6/dist-packages (from matplotlib==2.1.2) (2.6.1)\n"
     ]
    }
   ],
   "source": [
    "!pip install pandas==0.22.0\n",
    "!pip install numpy==1.14.6\n",
    "!pip install matplotlib==2.1.2"
   ]
  },
  {
   "cell_type": "markdown",
   "metadata": {
    "colab_type": "text",
    "id": "nnV972vDU2iV"
   },
   "source": [
    "▲库的版本变更"
   ]
  },
  {
   "cell_type": "code",
   "execution_count": 2,
   "metadata": {
    "colab": {
     "base_uri": "https://localhost:8080/",
     "height": 90
    },
    "colab_type": "code",
    "id": "mDpER6nKU5lj",
    "outputId": "1393d1f1-32ae-4620-d998-d2d20093123f"
   },
   "outputs": [
    {
     "name": "stdout",
     "output_type": "stream",
     "text": [
      "python version :  (3, 6, 9)\n",
      "pandas version :  0.22.0\n",
      "numpy version :  1.14.6\n",
      "matplotlib version :  2.1.2\n"
     ]
    }
   ],
   "source": [
    "import sys\n",
    "import pandas\n",
    "import numpy\n",
    "import matplotlib\n",
    "print('python version : ', sys.version_info[0:3])\n",
    "print('pandas version : ', pandas.__version__)\n",
    "print('numpy version : ', numpy.__version__)\n",
    "print('matplotlib version : ', matplotlib.__version__)"
   ]
  },
  {
   "cell_type": "markdown",
   "metadata": {
    "colab_type": "text",
    "id": "2wfP6pBEU7_L"
   },
   "source": [
    "▲Python和库的版本输出"
   ]
  },
  {
   "cell_type": "code",
   "execution_count": 0,
   "metadata": {
    "colab": {},
    "colab_type": "code",
    "id": "XJ5z-TqtUx0U"
   },
   "outputs": [],
   "source": [
    "import pandas as pd\n",
    "import numpy as np\n",
    "import matplotlib.pyplot as plt"
   ]
  },
  {
   "cell_type": "markdown",
   "metadata": {
    "colab_type": "text",
    "id": "vjoHlUNQUx0Y"
   },
   "source": [
    "▲预先执行的代码"
   ]
  },
  {
   "cell_type": "code",
   "execution_count": 4,
   "metadata": {
    "colab": {
     "base_uri": "https://localhost:8080/",
     "height": 145
    },
    "colab_type": "code",
    "id": "tQ-lB1-RUx0Z",
    "outputId": "9838f0e0-3256-4efe-f061-927a242f6d4c"
   },
   "outputs": [
    {
     "name": "stdout",
     "output_type": "stream",
     "text": [
      "0    185\n",
      "1    162\n",
      "2    171\n",
      "3    155\n",
      "4    191\n",
      "5    166\n",
      "dtype: int64\n"
     ]
    }
   ],
   "source": [
    "height_list = [185,162,171,155,191,166]\n",
    "height_series = pd.Series(height_list)\n",
    "print(height_series)"
   ]
  },
  {
   "cell_type": "markdown",
   "metadata": {
    "colab_type": "text",
    "id": "c_6fMOvLUx0c"
   },
   "source": [
    "▲ 程序清单 2.1 使用列表创建 Series 对象"
   ]
  },
  {
   "cell_type": "code",
   "execution_count": 5,
   "metadata": {
    "colab": {
     "base_uri": "https://localhost:8080/",
     "height": 145
    },
    "colab_type": "code",
    "id": "A-ggX1dEUx0d",
    "outputId": "c54e6a9e-b371-4706-f745-887ec09dd2f6"
   },
   "outputs": [
    {
     "name": "stdout",
     "output_type": "stream",
     "text": [
      "0    72\n",
      "1    51\n",
      "2    69\n",
      "3    55\n",
      "4    87\n",
      "5    78\n",
      "dtype: int64\n"
     ]
    }
   ],
   "source": [
    "weight_arr = np.array([72,51,69,55,87,78])\n",
    "weight_series = pd.Series(weight_arr)\n",
    "print(weight_series)"
   ]
  },
  {
   "cell_type": "markdown",
   "metadata": {
    "colab_type": "text",
    "id": "6Pil52onUx0f"
   },
   "source": [
    "▲ 程序清单 2.2 使用 NumPy 数组创建 Series 对象"
   ]
  },
  {
   "cell_type": "code",
   "execution_count": 6,
   "metadata": {
    "colab": {
     "base_uri": "https://localhost:8080/",
     "height": 90
    },
    "colab_type": "code",
    "id": "QGAJWgVpUx0g",
    "outputId": "949fdd2f-7d11-495a-8f74-b894c1d37e25"
   },
   "outputs": [
    {
     "name": "stdout",
     "output_type": "stream",
     "text": [
      "0    1\n",
      "1    2\n",
      "2    3\n",
      "Name: some series, dtype: int64\n"
     ]
    }
   ],
   "source": [
    "ser = pd.Series([1,2,3], name='some series')\n",
    "print(ser)"
   ]
  },
  {
   "cell_type": "markdown",
   "metadata": {
    "colab_type": "text",
    "id": "5Hqp7cs5Ux0j"
   },
   "source": [
    "▲ 程序清单 2.3 指定 Series 类的 name 属性"
   ]
  },
  {
   "cell_type": "code",
   "execution_count": 7,
   "metadata": {
    "colab": {
     "base_uri": "https://localhost:8080/",
     "height": 126
    },
    "colab_type": "code",
    "id": "WUioE64zUx0j",
    "outputId": "9cc15b5b-9936-48f2-8b49-e4f868fd5973"
   },
   "outputs": [
    {
     "name": "stdout",
     "output_type": "stream",
     "text": [
      "a    1\n",
      "a    2\n",
      "c    3\n",
      "d    4\n",
      "f    5\n",
      "dtype: int64\n"
     ]
    }
   ],
   "source": [
    "val = [1,2,3,4,5]\n",
    "labels = ['a','a','c','d','f']\n",
    "ser = pd.Series(val, index=labels)\n",
    "print(ser)"
   ]
  },
  {
   "cell_type": "markdown",
   "metadata": {
    "colab_type": "text",
    "id": "kF0lT9UHUx0m"
   },
   "source": [
    "▲ 程序清单 2.4 指定参数 index 创建 Series 对象"
   ]
  },
  {
   "cell_type": "code",
   "execution_count": 8,
   "metadata": {
    "colab": {
     "base_uri": "https://localhost:8080/",
     "height": 35
    },
    "colab_type": "code",
    "id": "jClJO8aPUx0n",
    "outputId": "81f792de-11bc-4c6f-ec8c-31d0e96da9ee"
   },
   "outputs": [
    {
     "name": "stdout",
     "output_type": "stream",
     "text": [
      "Index(['a', 'a', 'c', 'd', 'f'], dtype='object')\n"
     ]
    }
   ],
   "source": [
    "print(ser.index)"
   ]
  },
  {
   "cell_type": "markdown",
   "metadata": {
    "colab_type": "text",
    "id": "MDn5TL9hUx0p"
   },
   "source": [
    "▲ 程序清单 2.5 通过 Series 对象的 index 属性查看索引标签"
   ]
  },
  {
   "cell_type": "code",
   "execution_count": 9,
   "metadata": {
    "colab": {
     "base_uri": "https://localhost:8080/",
     "height": 145
    },
    "colab_type": "code",
    "id": "M9MspdDwUx0q",
    "outputId": "f25f7679-2d44-4f2d-c02b-8873d049a902"
   },
   "outputs": [
    {
     "name": "stdout",
     "output_type": "stream",
     "text": [
      "B    171\n",
      "H    162\n",
      "M    191\n",
      "R    155\n",
      "S    166\n",
      "T    185\n",
      "dtype: int64\n"
     ]
    }
   ],
   "source": [
    "dic = {'T':185, 'H':162, 'B':171, 'R':155, 'M':191, 'S':166}\n",
    "ser = pd.Series(dic)\n",
    "print(ser)"
   ]
  },
  {
   "cell_type": "markdown",
   "metadata": {
    "colab_type": "text",
    "id": "qD2Gl075Ux0t"
   },
   "source": [
    "▲程序清单 2.6 使用字典创建 Series 对象"
   ]
  },
  {
   "cell_type": "code",
   "execution_count": 10,
   "metadata": {
    "colab": {
     "base_uri": "https://localhost:8080/",
     "height": 108
    },
    "colab_type": "code",
    "id": "iE27ndT6Ux0t",
    "outputId": "da157d44-f305-486a-dda7-1766accdb3f7"
   },
   "outputs": [
    {
     "name": "stdout",
     "output_type": "stream",
     "text": [
      "a    0.0\n",
      "b    1.0\n",
      "c    2.0\n",
      "d    NaN\n",
      "dtype: float64\n"
     ]
    }
   ],
   "source": [
    "dic = {'a':0,'b':1,'c':2}\n",
    "a = pd.Series(dic, index=['a','b','c','d'])\n",
    "print(a)"
   ]
  },
  {
   "cell_type": "markdown",
   "metadata": {
    "colab_type": "text",
    "id": "jxZC8VhSUx0w"
   },
   "source": [
    "▲ 程序清单 2.7 字典与参数 index 的指定"
   ]
  },
  {
   "cell_type": "code",
   "execution_count": 11,
   "metadata": {
    "colab": {
     "base_uri": "https://localhost:8080/",
     "height": 90
    },
    "colab_type": "code",
    "id": "WWX9cSbDUx0x",
    "outputId": "9cf2844b-d978-49c4-cd21-1b5f4836e918"
   },
   "outputs": [
    {
     "data": {
      "text/plain": [
       "A    10\n",
       "B    10\n",
       "C    10\n",
       "dtype: int64"
      ]
     },
     "execution_count": 11,
     "metadata": {
      "tags": []
     },
     "output_type": "execute_result"
    }
   ],
   "source": [
    "pd.Series(10, index=['A','B','C'])"
   ]
  },
  {
   "cell_type": "markdown",
   "metadata": {
    "colab_type": "text",
    "id": "i6hTCFdnUx0z"
   },
   "source": [
    "▲程序清单 2.8 使用标量值创建 Series 对象"
   ]
  },
  {
   "cell_type": "code",
   "execution_count": 12,
   "metadata": {
    "colab": {
     "base_uri": "https://localhost:8080/",
     "height": 126
    },
    "colab_type": "code",
    "id": "D4sHnptgUx00",
    "outputId": "7e5180a8-aff8-45b8-8306-494514ab29ba"
   },
   "outputs": [
    {
     "data": {
      "text/plain": [
       "啊    1\n",
       "咦    2\n",
       "唔    3\n",
       "呃    4\n",
       "哦    5\n",
       "dtype: int64"
      ]
     },
     "execution_count": 12,
     "metadata": {
      "tags": []
     },
     "output_type": "execute_result"
    }
   ],
   "source": [
    "val = [1,2,3,4,5]\n",
    "ser = pd.Series(val, index=list('あいうえお'))\n",
    "ser"
   ]
  },
  {
   "cell_type": "markdown",
   "metadata": {
    "colab_type": "text",
    "id": "RMxU-jvrUx03"
   },
   "source": [
    "▲ 程序清单 2.9 Series 对象的创建"
   ]
  },
  {
   "cell_type": "code",
   "execution_count": 13,
   "metadata": {
    "colab": {
     "base_uri": "https://localhost:8080/",
     "height": 35
    },
    "colab_type": "code",
    "id": "Xm77gHH-Ux04",
    "outputId": "8a2d956a-e2f1-4c8a-9c8c-0069567de240"
   },
   "outputs": [
    {
     "data": {
      "text/plain": [
       "1"
      ]
     },
     "execution_count": 13,
     "metadata": {
      "tags": []
     },
     "output_type": "execute_result"
    }
   ],
   "source": [
    "ser['啊']"
   ]
  },
  {
   "cell_type": "markdown",
   "metadata": {
    "colab_type": "text",
    "id": "SmpDF-lTUx06"
   },
   "source": [
    "▲ 程序清单 2.10 使用方括号（[ ]）进行索引引用"
   ]
  },
  {
   "cell_type": "code",
   "execution_count": 14,
   "metadata": {
    "colab": {
     "base_uri": "https://localhost:8080/",
     "height": 108
    },
    "colab_type": "code",
    "id": "hUSxLrXJUx07",
    "outputId": "2cfc12af-33f2-4850-a94a-d36d2f7ac339"
   },
   "outputs": [
    {
     "data": {
      "text/plain": [
       "啊    1\n",
       "咦    2\n",
       "唔    3\n",
       "呃    4\n",
       "dtype: int64"
      ]
     },
     "execution_count": 14,
     "metadata": {
      "tags": []
     },
     "output_type": "execute_result"
    }
   ],
   "source": [
    "ser['啊':'呃']"
   ]
  },
  {
   "cell_type": "markdown",
   "metadata": {
    "colab_type": "text",
    "id": "6dGLpoHBUx09"
   },
   "source": [
    "▲ 程序清单 2.11 使用切片进行索引引用"
   ]
  },
  {
   "cell_type": "code",
   "execution_count": 15,
   "metadata": {
    "colab": {
     "base_uri": "https://localhost:8080/",
     "height": 54
    },
    "colab_type": "code",
    "id": "ILPKZh2KUx0-",
    "outputId": "1ef39ac2-3622-4ce0-9b68-4fc3c56252de"
   },
   "outputs": [
    {
     "name": "stdout",
     "output_type": "stream",
     "text": [
      "1\n",
      "1\n"
     ]
    }
   ],
   "source": [
    "print(ser['啊'])\n",
    "print(ser.iloc[0])"
   ]
  },
  {
   "cell_type": "markdown",
   "metadata": {
    "colab_type": "text",
    "id": "tHKwwPAHUx1A"
   },
   "source": [
    "▲ 程序清单 2.12 索引标签与位置索引"
   ]
  },
  {
   "cell_type": "code",
   "execution_count": 16,
   "metadata": {
    "colab": {
     "base_uri": "https://localhost:8080/",
     "height": 72
    },
    "colab_type": "code",
    "id": "6c0nLhh1Ux1B",
    "outputId": "658eb556-87c6-4465-ddf5-bcceaea9d6bb"
   },
   "outputs": [
    {
     "data": {
      "text/plain": [
       "呃    4\n",
       "哦    5\n",
       "dtype: int64"
      ]
     },
     "execution_count": 16,
     "metadata": {
      "tags": []
     },
     "output_type": "execute_result"
    }
   ],
   "source": [
    "ser[ser > 3]"
   ]
  },
  {
   "cell_type": "markdown",
   "metadata": {
    "colab_type": "text",
    "id": "xlKtm_onUx1D"
   },
   "source": [
    "▲ 程序清单 2.13 对满足指定条件的进行索引引用"
   ]
  },
  {
   "cell_type": "code",
   "execution_count": 17,
   "metadata": {
    "colab": {
     "base_uri": "https://localhost:8080/",
     "height": 126
    },
    "colab_type": "code",
    "id": "xbnIvGd2Ux1D",
    "outputId": "852c14d5-f9b6-4268-e399-7a9aa2944301"
   },
   "outputs": [
    {
     "data": {
      "text/plain": [
       "啊    3\n",
       "咦    4\n",
       "唔    5\n",
       "呃    6\n",
       "哦    7\n",
       "dtype: int64"
      ]
     },
     "execution_count": 17,
     "metadata": {
      "tags": []
     },
     "output_type": "execute_result"
    }
   ],
   "source": [
    "ser + 2"
   ]
  },
  {
   "cell_type": "markdown",
   "metadata": {
    "colab_type": "text",
    "id": "CmDpvNj-Ux1F"
   },
   "source": [
    "▲ 程序清单 2.14 Series 对象与运算符“+”"
   ]
  },
  {
   "cell_type": "code",
   "execution_count": 18,
   "metadata": {
    "colab": {
     "base_uri": "https://localhost:8080/",
     "height": 35
    },
    "colab_type": "code",
    "id": "ltP3xTnIUx1G",
    "outputId": "0697cc25-f061-4a3b-a923-817da9252200"
   },
   "outputs": [
    {
     "data": {
      "text/plain": [
       "[1, 2, 3, 4, 5, 2]"
      ]
     },
     "execution_count": 18,
     "metadata": {
      "tags": []
     },
     "output_type": "execute_result"
    }
   ],
   "source": [
    "mylist = [1,2,3,4,5]\n",
    "mylist + [2]"
   ]
  },
  {
   "cell_type": "markdown",
   "metadata": {
    "colab_type": "text",
    "id": "S-EzlNhwUx1I"
   },
   "source": [
    "▲ 程序清单 2.15 列表与运算符“+”"
   ]
  },
  {
   "cell_type": "code",
   "execution_count": 19,
   "metadata": {
    "colab": {
     "base_uri": "https://localhost:8080/",
     "height": 35
    },
    "colab_type": "code",
    "id": "XylKCZMbUx1J",
    "outputId": "bf4b196e-d450-45ec-a188-ffeffa3f5538"
   },
   "outputs": [
    {
     "name": "stdout",
     "output_type": "stream",
     "text": [
      "[3, 4, 5, 6, 7]\n"
     ]
    }
   ],
   "source": [
    "for i in range(5):\n",
    "    mylist[i] += 2\n",
    "    \n",
    "print(mylist)"
   ]
  },
  {
   "cell_type": "markdown",
   "metadata": {
    "colab_type": "text",
    "id": "fx8eat_9Ux1L"
   },
   "source": [
    "▲ 程序清单 2.16 对列表的元素进行加法运算"
   ]
  },
  {
   "cell_type": "code",
   "execution_count": 20,
   "metadata": {
    "colab": {
     "base_uri": "https://localhost:8080/",
     "height": 126
    },
    "colab_type": "code",
    "id": "YUJaqXhpUx1L",
    "outputId": "741faac8-ce7a-47d9-d2db-96a8f61ae293"
   },
   "outputs": [
    {
     "data": {
      "text/plain": [
       "啊     2\n",
       "咦     4\n",
       "唔     6\n",
       "呃     8\n",
       "哦    10\n",
       "dtype: int64"
      ]
     },
     "execution_count": 20,
     "metadata": {
      "tags": []
     },
     "output_type": "execute_result"
    }
   ],
   "source": [
    "ser * 2"
   ]
  },
  {
   "cell_type": "code",
   "execution_count": 21,
   "metadata": {
    "colab": {
     "base_uri": "https://localhost:8080/",
     "height": 126
    },
    "colab_type": "code",
    "id": "fvp5GSA7Ux1N",
    "outputId": "4bb08799-c162-472d-897b-b0b3b69aee9f"
   },
   "outputs": [
    {
     "data": {
      "text/plain": [
       "啊    0.5\n",
       "咦    1.0\n",
       "唔    1.5\n",
       "呃    2.0\n",
       "哦    2.5\n",
       "dtype: float64"
      ]
     },
     "execution_count": 21,
     "metadata": {
      "tags": []
     },
     "output_type": "execute_result"
    }
   ],
   "source": [
    "ser / 2"
   ]
  },
  {
   "cell_type": "markdown",
   "metadata": {
    "colab_type": "text",
    "id": "gAcVtLOpUx1P"
   },
   "source": [
    "▲ 程序清单 2.17 Series 对象中每个元素的乘法和除法运算"
   ]
  },
  {
   "cell_type": "code",
   "execution_count": 22,
   "metadata": {
    "colab": {
     "base_uri": "https://localhost:8080/",
     "height": 145
    },
    "colab_type": "code",
    "id": "jeeKxw00Ux1Q",
    "outputId": "eae7860a-7147-4f91-f89a-e083311bcd73"
   },
   "outputs": [
    {
     "name": "stdout",
     "output_type": "stream",
     "text": [
      "啊     7.0\n",
      "咦     9.0\n",
      "唔    11.0\n",
      "呃    13.0\n",
      "哦     NaN\n",
      "嘎    NaN\n",
      "dtype: float64\n"
     ]
    }
   ],
   "source": [
    "ser2 = pd.Series([6,7,8,9,10], index=list('啊 咦 唔 呃 嘎'))\n",
    "ser3 = ser + ser2 \n",
    "print(ser3)"
   ]
  },
  {
   "cell_type": "markdown",
   "metadata": {
    "colab_type": "text",
    "id": "SHMdpzy7Ux1S"
   },
   "source": [
    "▲程序清单 2.18 Series 对象之间的运算"
   ]
  },
  {
   "cell_type": "code",
   "execution_count": 23,
   "metadata": {
    "colab": {
     "base_uri": "https://localhost:8080/",
     "height": 72
    },
    "colab_type": "code",
    "id": "e9n-52nnUx1T",
    "outputId": "8e54523f-ceb7-4c70-8b6b-00c5e6d0ad27"
   },
   "outputs": [
    {
     "name": "stdout",
     "output_type": "stream",
     "text": [
      "RangeIndex(start=0, stop=5, step=1)\n",
      "Int64Index([0, 1, 2, 3, 4], dtype='int64')\n",
      "Index(['a', 'b', 'c', 'd', 'e'], dtype='object')\n"
     ]
    }
   ],
   "source": [
    "val = [1,2,3,4,5]\n",
    "a = pd.Series(val)\n",
    "b = pd.Series(val, index=[0,1,2,3,4])\n",
    "c = pd.Series(val, index=list('abcde'))\n",
    "print(a.index)\n",
    "print(b.index)\n",
    "print(c.index)"
   ]
  },
  {
   "cell_type": "markdown",
   "metadata": {
    "colab_type": "text",
    "id": "druDKm7dUx1V"
   },
   "source": [
    "▲程序清单 2.19 Series 对象的 index 属性"
   ]
  },
  {
   "cell_type": "code",
   "execution_count": 24,
   "metadata": {
    "colab": {
     "base_uri": "https://localhost:8080/",
     "height": 35
    },
    "colab_type": "code",
    "id": "rTOut8d0Ux1V",
    "outputId": "d0e78965-3cb1-4d62-f565-357663035dfc"
   },
   "outputs": [
    {
     "name": "stdout",
     "output_type": "stream",
     "text": [
      "object int64 float64 bool object\n"
     ]
    }
   ],
   "source": [
    "a = pd.Series(['a','b','c'])\n",
    "b = pd.Series([1,2,3])\n",
    "c = pd.Series([1.0,2.0,3.0])\n",
    "d = pd.Series([True,False,True])\n",
    "e = pd.Series(['a',1,True])\n",
    "\n",
    "print(a.dtype, b.dtype, c.dtype, d.dtype, e.dtype )"
   ]
  },
  {
   "cell_type": "markdown",
   "metadata": {
    "colab_type": "text",
    "id": "ZXt4Oo5rUx1X"
   },
   "source": [
    "▲ 程序清单 2.20 Series 对象的 dtype 属性"
   ]
  },
  {
   "cell_type": "code",
   "execution_count": 25,
   "metadata": {
    "colab": {
     "base_uri": "https://localhost:8080/",
     "height": 90
    },
    "colab_type": "code",
    "id": "KIEeyyYIUx1Y",
    "outputId": "3e64556e-a2e2-4e1a-f3da-c50380b9c07f"
   },
   "outputs": [
    {
     "data": {
      "text/plain": [
       "1    1\n",
       "2    2\n",
       "3    3\n",
       "dtype: int64"
      ]
     },
     "execution_count": 25,
     "metadata": {
      "tags": []
     },
     "output_type": "execute_result"
    }
   ],
   "source": [
    "a = pd.Series([1,2,3], index=[1,2,3])\n",
    "a"
   ]
  },
  {
   "cell_type": "code",
   "execution_count": 26,
   "metadata": {
    "colab": {
     "base_uri": "https://localhost:8080/",
     "height": 90
    },
    "colab_type": "code",
    "id": "JlxfhnHqUx1a",
    "outputId": "7277ba86-7f1c-4003-be79-436daae0f29a"
   },
   "outputs": [
    {
     "data": {
      "text/plain": [
       "a    1\n",
       "b    2\n",
       "c    3\n",
       "dtype: int64"
      ]
     },
     "execution_count": 26,
     "metadata": {
      "tags": []
     },
     "output_type": "execute_result"
    }
   ],
   "source": [
    "b = pd.Series([1,2,3], index=list('abc'))\n",
    "b"
   ]
  },
  {
   "cell_type": "markdown",
   "metadata": {
    "colab_type": "text",
    "id": "eQn69SW5Ux1c"
   },
   "source": [
    "▲ 程序清单 2.21 创建包含不同索引标签的 Series 对象"
   ]
  },
  {
   "cell_type": "code",
   "execution_count": 27,
   "metadata": {
    "colab": {
     "base_uri": "https://localhost:8080/",
     "height": 54
    },
    "colab_type": "code",
    "id": "k33peAmyUx1d",
    "outputId": "7dd88621-da7f-437d-d40d-f82fa8541f42"
   },
   "outputs": [
    {
     "name": "stdout",
     "output_type": "stream",
     "text": [
      "1\n",
      "1\n"
     ]
    }
   ],
   "source": [
    "print(a.loc[1])\n",
    "print(b.loc['a'])"
   ]
  },
  {
   "cell_type": "markdown",
   "metadata": {
    "colab_type": "text",
    "id": "PCo5Z9_2Ux1f"
   },
   "source": [
    "▲ 程序清单 2.22 使用 Series 对象的 loc 属性进行索引引用"
   ]
  },
  {
   "cell_type": "code",
   "execution_count": 28,
   "metadata": {
    "colab": {
     "base_uri": "https://localhost:8080/",
     "height": 54
    },
    "colab_type": "code",
    "id": "JX2CFg-RUx1g",
    "outputId": "338988aa-fbee-457c-e99f-541af1edea4c"
   },
   "outputs": [
    {
     "name": "stdout",
     "output_type": "stream",
     "text": [
      "1\n",
      "1\n"
     ]
    }
   ],
   "source": [
    "print(a.iloc[0])\n",
    "print(b.iloc[0])"
   ]
  },
  {
   "cell_type": "markdown",
   "metadata": {
    "colab_type": "text",
    "id": "EvS37aBJUx1j"
   },
   "source": [
    "▲ 程序清单 2.23 使用 Series 对象的 iloc 属性进行索引引用"
   ]
  },
  {
   "cell_type": "code",
   "execution_count": 29,
   "metadata": {
    "colab": {
     "base_uri": "https://localhost:8080/",
     "height": 54
    },
    "colab_type": "code",
    "id": "C7jfi2EEUx1k",
    "outputId": "a376c435-527a-42fe-8085-18d731aabc69"
   },
   "outputs": [
    {
     "data": {
      "text/plain": [
       "1    1\n",
       "dtype: int64"
      ]
     },
     "execution_count": 29,
     "metadata": {
      "tags": []
     },
     "output_type": "execute_result"
    }
   ],
   "source": [
    "a.iloc[0:1]"
   ]
  },
  {
   "cell_type": "code",
   "execution_count": 30,
   "metadata": {
    "colab": {
     "base_uri": "https://localhost:8080/",
     "height": 72
    },
    "colab_type": "code",
    "id": "4Np3T_qIUx1m",
    "outputId": "bfa9d3c0-dbd3-4ddb-8db1-c11b316aabec"
   },
   "outputs": [
    {
     "data": {
      "text/plain": [
       "a    1\n",
       "b    2\n",
       "dtype: int64"
      ]
     },
     "execution_count": 30,
     "metadata": {
      "tags": []
     },
     "output_type": "execute_result"
    }
   ],
   "source": [
    "b.loc['a':'b']"
   ]
  },
  {
   "cell_type": "markdown",
   "metadata": {
    "colab_type": "text",
    "id": "-O-LnprzUx1o"
   },
   "source": [
    "▲ 程序清单 2.24 loc 属性和 iloc 属性的切片"
   ]
  },
  {
   "cell_type": "code",
   "execution_count": 31,
   "metadata": {
    "colab": {
     "base_uri": "https://localhost:8080/",
     "height": 35
    },
    "colab_type": "code",
    "id": "FdDUs19AUx1p",
    "outputId": "862c11f7-680e-485a-8daf-b0a84a8293f9"
   },
   "outputs": [
    {
     "name": "stdout",
     "output_type": "stream",
     "text": [
      "5\n"
     ]
    }
   ],
   "source": [
    "ser = pd.Series([1,1,3,4,'a'])\n",
    "print(ser.size)"
   ]
  },
  {
   "cell_type": "markdown",
   "metadata": {
    "colab_type": "text",
    "id": "CKwGujh2Ux1r"
   },
   "source": [
    "▲ 程序清单 2.25 Series 对象的 size 属性"
   ]
  },
  {
   "cell_type": "code",
   "execution_count": 32,
   "metadata": {
    "colab": {
     "base_uri": "https://localhost:8080/",
     "height": 54
    },
    "colab_type": "code",
    "id": "lc03XwqpUx1s",
    "outputId": "b491854c-97c3-47ae-b2fd-cb5e3105719d"
   },
   "outputs": [
    {
     "name": "stdout",
     "output_type": "stream",
     "text": [
      "True\n",
      "False\n"
     ]
    }
   ],
   "source": [
    "a = pd.Series([1,2,3])\n",
    "b = pd.Series([1,1,3])\n",
    "print(a.is_unique)\n",
    "print(b.is_unique)"
   ]
  },
  {
   "cell_type": "markdown",
   "metadata": {
    "colab_type": "text",
    "id": "8D09UZhNUx1t"
   },
   "source": [
    "▲ 程序清单 2.26 Series 对象的 is_unique 属性"
   ]
  },
  {
   "cell_type": "code",
   "execution_count": 33,
   "metadata": {
    "colab": {
     "base_uri": "https://localhost:8080/",
     "height": 90
    },
    "colab_type": "code",
    "id": "GuL8MuE8Ux1u",
    "outputId": "e7bf3e46-8e4f-4bcc-92a1-61ba02c4cef8"
   },
   "outputs": [
    {
     "name": "stdout",
     "output_type": "stream",
     "text": [
      "<class 'numpy.ndarray'> [1 2 3]\n",
      "<class 'numpy.ndarray'> ['a' 'b' 'c']\n",
      "<class 'pandas.core.categorical.Categorical'> [a, a, b]\n",
      "Categories (2, object): [a, b]\n"
     ]
    }
   ],
   "source": [
    "a = pd.Series([1,2,3])\n",
    "b = pd.Series(['a','b','c'])\n",
    "c = pd.Series(['a','a','b'], dtype='category')\n",
    "\n",
    "print(type(a.values), a.values)\n",
    "print(type(b.values), b.values)\n",
    "print(type(c.values), c.values)"
   ]
  },
  {
   "cell_type": "markdown",
   "metadata": {
    "colab_type": "text",
    "id": "F_9-2Bn7Ux1w"
   },
   "source": [
    "▲ 程序清单 2.27 Series 对象的 values 属性"
   ]
  },
  {
   "cell_type": "code",
   "execution_count": 34,
   "metadata": {
    "colab": {
     "base_uri": "https://localhost:8080/",
     "height": 126
    },
    "colab_type": "code",
    "id": "y6FkpE-0Ux1x",
    "outputId": "15b74b18-47f9-44af-d47a-5ca9da8ec59d"
   },
   "outputs": [
    {
     "name": "stdout",
     "output_type": "stream",
     "text": [
      "a    1\n",
      "b    2\n",
      "c    3\n",
      "d    4\n",
      "e    5\n",
      "dtype: int64\n"
     ]
    }
   ],
   "source": [
    "ser = pd.Series([1,2,3,4,5], index=list('abcde'))\n",
    "print(ser)"
   ]
  },
  {
   "cell_type": "markdown",
   "metadata": {
    "colab_type": "text",
    "id": "Lb-M2tyPUx1z"
   },
   "source": [
    "▲ 程序清单 2.28 Series 对象的创建"
   ]
  },
  {
   "cell_type": "code",
   "execution_count": 35,
   "metadata": {
    "colab": {
     "base_uri": "https://localhost:8080/",
     "height": 126
    },
    "colab_type": "code",
    "id": "KvC-YFWnUx10",
    "outputId": "de238164-ad50-4d0a-b64b-ca800dcbe1ff"
   },
   "outputs": [
    {
     "name": "stdout",
     "output_type": "stream",
     "text": [
      "a    6\n",
      "b    7\n",
      "c    7\n",
      "d    7\n",
      "e    5\n",
      "dtype: int64\n"
     ]
    }
   ],
   "source": [
    "ser['a'] = 6\n",
    "ser['b':'d'] = 7\n",
    "print(ser)"
   ]
  },
  {
   "cell_type": "markdown",
   "metadata": {
    "colab_type": "text",
    "id": "I2z-AfBLUx13"
   },
   "source": [
    "▲ 程序清单 2.29 变更 Series 元素值"
   ]
  },
  {
   "cell_type": "code",
   "execution_count": 36,
   "metadata": {
    "colab": {
     "base_uri": "https://localhost:8080/",
     "height": 145
    },
    "colab_type": "code",
    "id": "Yz56ki6HUx14",
    "outputId": "46505d0c-bc06-4ad5-c4db-8d34b7306466"
   },
   "outputs": [
    {
     "name": "stdout",
     "output_type": "stream",
     "text": [
      "a    6\n",
      "b    7\n",
      "c    7\n",
      "d    7\n",
      "e    5\n",
      "啊    4\n",
      "dtype: int64\n"
     ]
    }
   ],
   "source": [
    "ser['啊'] = 4\n",
    "print(ser)"
   ]
  },
  {
   "cell_type": "markdown",
   "metadata": {
    "colab_type": "text",
    "id": "IppTMRciUx16"
   },
   "source": [
    "▲ 程序清单 2.30 向 Series 对象中添加元素"
   ]
  },
  {
   "cell_type": "code",
   "execution_count": 37,
   "metadata": {
    "colab": {
     "base_uri": "https://localhost:8080/",
     "height": 181
    },
    "colab_type": "code",
    "id": "PyVAI1aFUx16",
    "outputId": "b9fceb2e-0ac1-4c92-fbd1-5e23ec7a737c"
   },
   "outputs": [
    {
     "data": {
      "text/plain": [
       "a    6\n",
       "b    7\n",
       "c    7\n",
       "d    7\n",
       "e    5\n",
       "啊    4\n",
       "咦    5\n",
       "唔    6\n",
       "dtype: int64"
      ]
     },
     "execution_count": 37,
     "metadata": {
      "tags": []
     },
     "output_type": "execute_result"
    }
   ],
   "source": [
    "ser2 = pd.Series([5, 6], index=['咦','唔'])\n",
    "ser.append(ser2)"
   ]
  },
  {
   "cell_type": "markdown",
   "metadata": {
    "colab_type": "text",
    "id": "0NoQ3FK9Ux1-"
   },
   "source": [
    "▲ 程序清单 2.31 使用 Series 对象的 append 方法连接对象"
   ]
  },
  {
   "cell_type": "code",
   "execution_count": 38,
   "metadata": {
    "colab": {
     "base_uri": "https://localhost:8080/",
     "height": 181
    },
    "colab_type": "code",
    "id": "k6i9rXvCUx1-",
    "outputId": "546922b6-0c66-4f88-a967-e1c251998cbd"
   },
   "outputs": [
    {
     "data": {
      "text/plain": [
       "0    6\n",
       "1    7\n",
       "2    7\n",
       "3    7\n",
       "4    5\n",
       "5    4\n",
       "6    5\n",
       "7    6\n",
       "dtype: int64"
      ]
     },
     "execution_count": 38,
     "metadata": {
      "tags": []
     },
     "output_type": "execute_result"
    }
   ],
   "source": [
    "ser.append(ser2, ignore_index=True)"
   ]
  },
  {
   "cell_type": "markdown",
   "metadata": {
    "colab_type": "text",
    "id": "-YaFA0M1Ux2A"
   },
   "source": [
    "▲ 程序清单 2.32 使用 append 方法的 ignore_index 参数重新分配索引标签"
   ]
  },
  {
   "cell_type": "code",
   "execution_count": 39,
   "metadata": {
    "colab": {
     "base_uri": "https://localhost:8080/",
     "height": 72
    },
    "colab_type": "code",
    "id": "-ZhV4SnPUx2A",
    "outputId": "4c0c9ba3-3ed4-4d0c-ae71-330ec8f45daa"
   },
   "outputs": [
    {
     "data": {
      "text/plain": [
       "b    2\n",
       "c    3\n",
       "dtype: int64"
      ]
     },
     "execution_count": 39,
     "metadata": {
      "tags": []
     },
     "output_type": "execute_result"
    }
   ],
   "source": [
    "ser = pd.Series([1,2,3],index=list('abc'))\n",
    "del ser['a']\n",
    "ser"
   ]
  },
  {
   "cell_type": "markdown",
   "metadata": {
    "colab_type": "text",
    "id": "m4joF2E3Ux2C"
   },
   "source": [
    "▲程序清单 2.33 使用 del 语句删除 Series 对象中的元素"
   ]
  },
  {
   "cell_type": "code",
   "execution_count": 40,
   "metadata": {
    "colab": {
     "base_uri": "https://localhost:8080/",
     "height": 54
    },
    "colab_type": "code",
    "id": "6cGQeyS2Ux2C",
    "outputId": "edca5a44-d757-4785-898d-116c15595327"
   },
   "outputs": [
    {
     "name": "stdout",
     "output_type": "stream",
     "text": [
      "c    3\n",
      "dtype: int64\n"
     ]
    }
   ],
   "source": [
    "ser.drop(index='b', inplace=True)\n",
    "print(ser)"
   ]
  },
  {
   "cell_type": "markdown",
   "metadata": {
    "colab_type": "text",
    "id": "ovG8ccx5Ux2F"
   },
   "source": [
    "▲ 程序清单 2.34 使用 drop 方法删除 Series 对象的元素"
   ]
  },
  {
   "cell_type": "code",
   "execution_count": 41,
   "metadata": {
    "colab": {
     "base_uri": "https://localhost:8080/",
     "height": 145
    },
    "colab_type": "code",
    "id": "R2uuxXZfUx2G",
    "outputId": "d7fc0c59-bcfe-4956-e446-816645d5cfd5"
   },
   "outputs": [
    {
     "data": {
      "text/plain": [
       "a    1\n",
       "b    1\n",
       "c    2\n",
       "d    2\n",
       "e    2\n",
       "f    3\n",
       "dtype: int64"
      ]
     },
     "execution_count": 41,
     "metadata": {
      "tags": []
     },
     "output_type": "execute_result"
    }
   ],
   "source": [
    "ser = pd.Series([1,1,2,2,2,3], index=list('abcdef'))\n",
    "ser"
   ]
  },
  {
   "cell_type": "code",
   "execution_count": 42,
   "metadata": {
    "colab": {
     "base_uri": "https://localhost:8080/",
     "height": 90
    },
    "colab_type": "code",
    "id": "PJbK37y-Ux2H",
    "outputId": "ecd18451-546e-4c96-c1b8-22b4a3e27f87"
   },
   "outputs": [
    {
     "data": {
      "text/plain": [
       "a    1\n",
       "c    2\n",
       "f    3\n",
       "dtype: int64"
      ]
     },
     "execution_count": 42,
     "metadata": {
      "tags": []
     },
     "output_type": "execute_result"
    }
   ],
   "source": [
    "ser.drop_duplicates(keep='first')"
   ]
  },
  {
   "cell_type": "markdown",
   "metadata": {
    "colab_type": "text",
    "id": "5dBVZ-gfUx2J"
   },
   "source": [
    "▲程序清单 2.35 Series 对象的 drop_duplicates 方法"
   ]
  },
  {
   "cell_type": "code",
   "execution_count": 43,
   "metadata": {
    "colab": {
     "base_uri": "https://localhost:8080/",
     "height": 54
    },
    "colab_type": "code",
    "id": "0rm67X-wUx2J",
    "outputId": "3494c756-238d-495e-99d5-aa01b65448d4"
   },
   "outputs": [
    {
     "data": {
      "text/plain": [
       "f    3\n",
       "dtype: int64"
      ]
     },
     "execution_count": 43,
     "metadata": {
      "tags": []
     },
     "output_type": "execute_result"
    }
   ],
   "source": [
    "ser.drop_duplicates(keep=False)"
   ]
  },
  {
   "cell_type": "markdown",
   "metadata": {
    "colab_type": "text",
    "id": "T97bKmU5Ux2L"
   },
   "source": [
    "▲ 程序清单 2.36 drop_duplicates 方法的 keep 参数"
   ]
  },
  {
   "cell_type": "code",
   "execution_count": 44,
   "metadata": {
    "colab": {
     "base_uri": "https://localhost:8080/",
     "height": 126
    },
    "colab_type": "code",
    "id": "VjeGnUnuUx2M",
    "outputId": "331b484c-b292-4d67-97ce-1de37f357f09"
   },
   "outputs": [
    {
     "name": "stdout",
     "output_type": "stream",
     "text": [
      "a    1.0\n",
      "b    NaN\n",
      "c    3.0\n",
      "d    4.0\n",
      "e    NaN\n",
      "dtype: float64\n"
     ]
    }
   ],
   "source": [
    "ser = pd.Series([1,np.nan,3,4,np.nan], index=list('abcde'))\n",
    "print(ser)"
   ]
  },
  {
   "cell_type": "markdown",
   "metadata": {
    "colab_type": "text",
    "id": "eosY5WrxUx2N"
   },
   "source": [
    "▲ 程序清单 2.37 创建包含缺失数据的 Series 对象"
   ]
  },
  {
   "cell_type": "code",
   "execution_count": 45,
   "metadata": {
    "colab": {
     "base_uri": "https://localhost:8080/",
     "height": 126
    },
    "colab_type": "code",
    "id": "VMVEK9x6Ux2O",
    "outputId": "e2e80b1d-bcc9-4293-c48d-dd634729ce37"
   },
   "outputs": [
    {
     "data": {
      "text/plain": [
       "a    False\n",
       "b     True\n",
       "c    False\n",
       "d    False\n",
       "e     True\n",
       "dtype: bool"
      ]
     },
     "execution_count": 45,
     "metadata": {
      "tags": []
     },
     "output_type": "execute_result"
    }
   ],
   "source": [
    "ser.isna()"
   ]
  },
  {
   "cell_type": "markdown",
   "metadata": {
    "colab_type": "text",
    "id": "Hnq0hn8AUx2P"
   },
   "source": [
    "▲ 程序清单 2.38 Series 对象的 isna 方法"
   ]
  },
  {
   "cell_type": "code",
   "execution_count": 46,
   "metadata": {
    "colab": {
     "base_uri": "https://localhost:8080/",
     "height": 72
    },
    "colab_type": "code",
    "id": "mNRKIp1IUx2S",
    "outputId": "d48af931-cee2-4a14-b8ca-558c7c43b071"
   },
   "outputs": [
    {
     "data": {
      "text/plain": [
       "b   NaN\n",
       "e   NaN\n",
       "dtype: float64"
      ]
     },
     "execution_count": 46,
     "metadata": {
      "tags": []
     },
     "output_type": "execute_result"
    }
   ],
   "source": [
    "ser[ser.isna()]"
   ]
  },
  {
   "cell_type": "markdown",
   "metadata": {
    "colab_type": "text",
    "id": "nGNSN6JJUx2T"
   },
   "source": [
    "▲ 程序清单 2.39 使用 isna 方法提取缺失值"
   ]
  },
  {
   "cell_type": "code",
   "execution_count": 47,
   "metadata": {
    "colab": {
     "base_uri": "https://localhost:8080/",
     "height": 90
    },
    "colab_type": "code",
    "id": "vMHjxvPuUx2T",
    "outputId": "401fc130-da0d-4854-8ce7-458da0425982"
   },
   "outputs": [
    {
     "data": {
      "text/plain": [
       "a    1.0\n",
       "c    3.0\n",
       "d    4.0\n",
       "dtype: float64"
      ]
     },
     "execution_count": 47,
     "metadata": {
      "tags": []
     },
     "output_type": "execute_result"
    }
   ],
   "source": [
    "ser.dropna()"
   ]
  },
  {
   "cell_type": "markdown",
   "metadata": {
    "colab_type": "text",
    "id": "jg3UUjGHUx2V"
   },
   "source": [
    "▲ 程序清单 2.40 Series 对象的 dropna 方法"
   ]
  }
 ],
 "metadata": {
  "colab": {
   "collapsed_sections": [],
   "name": "2.1.ipynb",
   "provenance": []
  },
  "kernelspec": {
   "display_name": "Python 3",
   "language": "python",
   "name": "python3"
  },
  "language_info": {
   "codemirror_mode": {
    "name": "ipython",
    "version": 3
   },
   "file_extension": ".py",
   "mimetype": "text/x-python",
   "name": "python",
   "nbconvert_exporter": "python",
   "pygments_lexer": "ipython3",
   "version": "3.6.7"
  }
 },
 "nbformat": 4,
 "nbformat_minor": 1
}
