{
  "nbformat": 4,
  "nbformat_minor": 0,
  "metadata": {
    "kernelspec": {
      "display_name": "Python 3",
      "language": "python",
      "name": "python3"
    },
    "language_info": {
      "codemirror_mode": {
        "name": "ipython",
        "version": 3
      },
      "file_extension": ".py",
      "mimetype": "text/x-python",
      "name": "python",
      "nbconvert_exporter": "python",
      "pygments_lexer": "ipython3",
      "version": "3.6.7"
    },
    "colab": {
      "name": "4.1.ipynb",
      "provenance": [],
      "collapsed_sections": []
    }
  },
  "cells": [
    {
      "cell_type": "code",
      "metadata": {
        "id": "GcPZp0N4gC47",
        "colab_type": "code",
        "colab": {
          "base_uri": "https://localhost:8080/",
          "height": 274
        },
        "outputId": "5a3d99c5-09b2-4894-a333-cbc6b417f1ea"
      },
      "source": [
        "In\n",
        "!pip install pandas==0.22.0\n",
        "!pip install numpy==1.14.6\n",
        "!pip install matplotlib==2.1.2"
      ],
      "execution_count": 1,
      "outputs": [
        {
          "output_type": "stream",
          "text": [
            "Requirement already satisfied: pandas==0.22.0 in /usr/local/lib/python3.6/dist-packages (0.22.0)\n",
            "Requirement already satisfied: python-dateutil>=2 in /usr/local/lib/python3.6/dist-packages (from pandas==0.22.0) (2.6.1)\n",
            "Requirement already satisfied: numpy>=1.9.0 in /usr/local/lib/python3.6/dist-packages (from pandas==0.22.0) (1.14.6)\n",
            "Requirement already satisfied: pytz>=2011k in /usr/local/lib/python3.6/dist-packages (from pandas==0.22.0) (2018.9)\n",
            "Requirement already satisfied: six>=1.5 in /usr/local/lib/python3.6/dist-packages (from python-dateutil>=2->pandas==0.22.0) (1.12.0)\n",
            "Requirement already satisfied: numpy==1.14.6 in /usr/local/lib/python3.6/dist-packages (1.14.6)\n",
            "Requirement already satisfied: matplotlib==2.1.2 in /usr/local/lib/python3.6/dist-packages (2.1.2)\n",
            "Requirement already satisfied: cycler>=0.10 in /usr/local/lib/python3.6/dist-packages (from matplotlib==2.1.2) (0.10.0)\n",
            "Requirement already satisfied: six>=1.10 in /usr/local/lib/python3.6/dist-packages (from matplotlib==2.1.2) (1.12.0)\n",
            "Requirement already satisfied: pyparsing!=2.0.4,!=2.1.2,!=2.1.6,>=2.0.1 in /usr/local/lib/python3.6/dist-packages (from matplotlib==2.1.2) (2.4.6)\n",
            "Requirement already satisfied: numpy>=1.7.1 in /usr/local/lib/python3.6/dist-packages (from matplotlib==2.1.2) (1.14.6)\n",
            "Requirement already satisfied: pytz in /usr/local/lib/python3.6/dist-packages (from matplotlib==2.1.2) (2018.9)\n",
            "Requirement already satisfied: python-dateutil>=2.1 in /usr/local/lib/python3.6/dist-packages (from matplotlib==2.1.2) (2.6.1)\n"
          ],
          "name": "stdout"
        }
      ]
    },
    {
      "cell_type": "markdown",
      "metadata": {
        "id": "hD9780TpgFEt",
        "colab_type": "text"
      },
      "source": [
        "▲库的版本变更"
      ]
    },
    {
      "cell_type": "code",
      "metadata": {
        "id": "N7WHaUv-gK2v",
        "colab_type": "code",
        "colab": {
          "base_uri": "https://localhost:8080/",
          "height": 90
        },
        "outputId": "6fc8a9d0-90db-4a6a-8b82-5936e31ac36d"
      },
      "source": [
        "import sys\n",
        "import pandas\n",
        "import numpy\n",
        "import matplotlib\n",
        "print('python version : ', sys.version_info[0:3])\n",
        "print('pandas version : ', pandas.__version__)\n",
        "print('numpy version : ', numpy.__version__)\n",
        "print('matplotlib version : ', matplotlib.__version__)"
      ],
      "execution_count": 2,
      "outputs": [
        {
          "output_type": "stream",
          "text": [
            "python version :  (3, 6, 9)\n",
            "pandas version :  0.22.0\n",
            "numpy version :  1.14.6\n",
            "matplotlib version :  2.1.2\n"
          ],
          "name": "stdout"
        }
      ]
    },
    {
      "cell_type": "markdown",
      "metadata": {
        "id": "hI-Yt-8rgNis",
        "colab_type": "text"
      },
      "source": [
        "▲Python和库的版本输出"
      ]
    },
    {
      "cell_type": "code",
      "metadata": {
        "id": "pFkap5Scf7co",
        "colab_type": "code",
        "colab": {}
      },
      "source": [
        "import pandas as pd\n",
        "import numpy as np\n",
        "import matplotlib.pyplot as plt"
      ],
      "execution_count": 0,
      "outputs": []
    },
    {
      "cell_type": "markdown",
      "metadata": {
        "id": "eOHLyM_Lf7ct",
        "colab_type": "text"
      },
      "source": [
        "▲预先执行的代码"
      ]
    },
    {
      "cell_type": "code",
      "metadata": {
        "id": "XI00O6hSgfw9",
        "colab_type": "code",
        "colab": {
          "base_uri": "https://localhost:8080/",
          "height": 35
        },
        "outputId": "03e39f93-35d3-425c-db4e-a9a85ab10fb8"
      },
      "source": [
        "ls"
      ],
      "execution_count": 4,
      "outputs": [
        {
          "output_type": "stream",
          "text": [
            "\u001b[0m\u001b[01;34msample_data\u001b[0m/\n"
          ],
          "name": "stdout"
        }
      ]
    },
    {
      "cell_type": "code",
      "metadata": {
        "id": "I_ufXFFIgk1G",
        "colab_type": "code",
        "colab": {
          "base_uri": "https://localhost:8080/",
          "height": 508
        },
        "outputId": "f228879e-2745-462d-8ff2-43f9ef50ca33"
      },
      "source": [
        "!unzip data.zip"
      ],
      "execution_count": 5,
      "outputs": [
        {
          "output_type": "stream",
          "text": [
            "Archive:  data.zip\n",
            "  inflating: data/adult.csv          \n",
            "  inflating: data/ex1.csv            \n",
            "  inflating: data/ex10.csv           \n",
            "  inflating: data/ex11.csv           \n",
            "  inflating: data/ex12.xlsx          \n",
            " extracting: data/ex13.json          \n",
            "  inflating: data/ex14.hdf5          \n",
            "  inflating: data/ex15.csv           \n",
            "  inflating: data/ex16.csv           \n",
            "  inflating: data/ex17.csv           \n",
            "  inflating: data/ex18.csv           \n",
            "  inflating: data/ex19.csv           \n",
            "  inflating: data/ex2.csv            \n",
            "  inflating: data/ex20.csv           \n",
            "  inflating: data/ex3.csv            \n",
            "  inflating: data/ex4.csv            \n",
            "  inflating: data/ex5.csv            \n",
            " extracting: data/ex6.csv            \n",
            "  inflating: data/ex7.csv            \n",
            "  inflating: data/ex8.csv            \n",
            "  inflating: data/ex9.csv            \n",
            " extracting: data/out1.csv           \n",
            " extracting: data/out2.csv           \n",
            " extracting: data/out3.csv           \n",
            "  inflating: data/out4.xlsx          \n",
            "  inflating: data/out5.json          \n"
          ],
          "name": "stdout"
        }
      ]
    },
    {
      "cell_type": "code",
      "metadata": {
        "id": "ryyI8etxg6B3",
        "colab_type": "code",
        "colab": {
          "base_uri": "https://localhost:8080/",
          "height": 35
        },
        "outputId": "44641440-3ad7-47b4-b95d-5ca3a7820b42"
      },
      "source": [
        "ls"
      ],
      "execution_count": 6,
      "outputs": [
        {
          "output_type": "stream",
          "text": [
            "\u001b[0m\u001b[01;34mdata\u001b[0m/  data.zip  \u001b[01;34msample_data\u001b[0m/\n"
          ],
          "name": "stdout"
        }
      ]
    },
    {
      "cell_type": "code",
      "metadata": {
        "id": "zSBTJm1Kg9T0",
        "colab_type": "code",
        "colab": {
          "base_uri": "https://localhost:8080/",
          "height": 35
        },
        "outputId": "b959067b-03a1-4168-ae1f-015681f52d31"
      },
      "source": [
        "cd data"
      ],
      "execution_count": 7,
      "outputs": [
        {
          "output_type": "stream",
          "text": [
            "/content/data\n"
          ],
          "name": "stdout"
        }
      ]
    },
    {
      "cell_type": "code",
      "metadata": {
        "id": "bOM_CHydg-1p",
        "colab_type": "code",
        "colab": {
          "base_uri": "https://localhost:8080/",
          "height": 90
        },
        "outputId": "b5ac6b3e-a7b9-4aad-b6b7-f8535e64c7e4"
      },
      "source": [
        "ls"
      ],
      "execution_count": 8,
      "outputs": [
        {
          "output_type": "stream",
          "text": [
            "adult.csv  ex13.json  ex17.csv  ex20.csv  ex5.csv  ex9.csv   out4.xlsx\n",
            "ex10.csv   ex14.hdf5  ex18.csv  ex2.csv   ex6.csv  out1.csv  out5.json\n",
            "ex11.csv   ex15.csv   ex19.csv  ex3.csv   ex7.csv  out2.csv\n",
            "ex12.xlsx  ex16.csv   ex1.csv   ex4.csv   ex8.csv  out3.csv\n"
          ],
          "name": "stdout"
        }
      ]
    },
    {
      "cell_type": "markdown",
      "metadata": {
        "id": "_7OcDG_ahzNn",
        "colab_type": "text"
      },
      "source": [
        "▲Google Colaboratory的样本配置"
      ]
    },
    {
      "cell_type": "code",
      "metadata": {
        "id": "zMlzUaUcf7cu",
        "colab_type": "code",
        "colab": {
          "base_uri": "https://localhost:8080/",
          "height": 54
        },
        "outputId": "94438c87-f8de-4a12-c78a-c595dfcf42bc"
      },
      "source": [
        "ser = pd.Series([0,1,2,3,4])\n",
        "print('最小值', ser.min())\n",
        "print('最大值', ser.max())"
      ],
      "execution_count": 9,
      "outputs": [
        {
          "output_type": "stream",
          "text": [
            "最小值 0\n",
            "最大值 4\n"
          ],
          "name": "stdout"
        }
      ]
    },
    {
      "cell_type": "markdown",
      "metadata": {
        "id": "UISR0rWkf7cx",
        "colab_type": "text"
      },
      "source": [
        "▲ 程序清单 4.1 Series 类的 min 方法和 max 方法"
      ]
    },
    {
      "cell_type": "code",
      "metadata": {
        "id": "3tjXue08f7cy",
        "colab_type": "code",
        "colab": {
          "base_uri": "https://localhost:8080/",
          "height": 138
        },
        "outputId": "a379f84a-f231-42b5-b56e-bd79af90d408"
      },
      "source": [
        "val = np.arange(0,9).reshape(3,3)\n",
        "df = pd.DataFrame(val, index=list('edf'), columns=list('abc'))\n",
        "df"
      ],
      "execution_count": 10,
      "outputs": [
        {
          "output_type": "execute_result",
          "data": {
            "text/html": [
              "<div>\n",
              "<style scoped>\n",
              "    .dataframe tbody tr th:only-of-type {\n",
              "        vertical-align: middle;\n",
              "    }\n",
              "\n",
              "    .dataframe tbody tr th {\n",
              "        vertical-align: top;\n",
              "    }\n",
              "\n",
              "    .dataframe thead th {\n",
              "        text-align: right;\n",
              "    }\n",
              "</style>\n",
              "<table border=\"1\" class=\"dataframe\">\n",
              "  <thead>\n",
              "    <tr style=\"text-align: right;\">\n",
              "      <th></th>\n",
              "      <th>a</th>\n",
              "      <th>b</th>\n",
              "      <th>c</th>\n",
              "    </tr>\n",
              "  </thead>\n",
              "  <tbody>\n",
              "    <tr>\n",
              "      <th>e</th>\n",
              "      <td>0</td>\n",
              "      <td>1</td>\n",
              "      <td>2</td>\n",
              "    </tr>\n",
              "    <tr>\n",
              "      <th>d</th>\n",
              "      <td>3</td>\n",
              "      <td>4</td>\n",
              "      <td>5</td>\n",
              "    </tr>\n",
              "    <tr>\n",
              "      <th>f</th>\n",
              "      <td>6</td>\n",
              "      <td>7</td>\n",
              "      <td>8</td>\n",
              "    </tr>\n",
              "  </tbody>\n",
              "</table>\n",
              "</div>"
            ],
            "text/plain": [
              "   a  b  c\n",
              "e  0  1  2\n",
              "d  3  4  5\n",
              "f  6  7  8"
            ]
          },
          "metadata": {
            "tags": []
          },
          "execution_count": 10
        }
      ]
    },
    {
      "cell_type": "code",
      "metadata": {
        "id": "yDiq2gSaf7c0",
        "colab_type": "code",
        "colab": {
          "base_uri": "https://localhost:8080/",
          "height": 90
        },
        "outputId": "783ccc27-5451-45ab-d4ec-82645aafaf2e"
      },
      "source": [
        "df.min(axis=0)"
      ],
      "execution_count": 11,
      "outputs": [
        {
          "output_type": "execute_result",
          "data": {
            "text/plain": [
              "a    0\n",
              "b    1\n",
              "c    2\n",
              "dtype: int64"
            ]
          },
          "metadata": {
            "tags": []
          },
          "execution_count": 11
        }
      ]
    },
    {
      "cell_type": "code",
      "metadata": {
        "id": "itV2oZ9Of7c3",
        "colab_type": "code",
        "colab": {
          "base_uri": "https://localhost:8080/",
          "height": 90
        },
        "outputId": "2906b131-a0a4-4fd5-9574-b99335b491e4"
      },
      "source": [
        "df.min(axis=1)"
      ],
      "execution_count": 12,
      "outputs": [
        {
          "output_type": "execute_result",
          "data": {
            "text/plain": [
              "e    0\n",
              "d    3\n",
              "f    6\n",
              "dtype: int64"
            ]
          },
          "metadata": {
            "tags": []
          },
          "execution_count": 12
        }
      ]
    },
    {
      "cell_type": "markdown",
      "metadata": {
        "id": "tu98uyk1f7c5",
        "colab_type": "text"
      },
      "source": [
        "▲ 程序清单 4.2 DataFrame 类的 min 方法"
      ]
    },
    {
      "cell_type": "code",
      "metadata": {
        "id": "Hj2vDlAff7c6",
        "colab_type": "code",
        "colab": {
          "base_uri": "https://localhost:8080/",
          "height": 90
        },
        "outputId": "f6aaa28c-f9f4-46f2-fdcf-5788514ade3a"
      },
      "source": [
        "df.max(axis=0)"
      ],
      "execution_count": 13,
      "outputs": [
        {
          "output_type": "execute_result",
          "data": {
            "text/plain": [
              "a    6\n",
              "b    7\n",
              "c    8\n",
              "dtype: int64"
            ]
          },
          "metadata": {
            "tags": []
          },
          "execution_count": 13
        }
      ]
    },
    {
      "cell_type": "code",
      "metadata": {
        "scrolled": true,
        "id": "kr7h4ltHf7c9",
        "colab_type": "code",
        "colab": {
          "base_uri": "https://localhost:8080/",
          "height": 90
        },
        "outputId": "4b92a9ff-f10d-4555-f974-130a02537e4f"
      },
      "source": [
        "df.max(axis=1)"
      ],
      "execution_count": 14,
      "outputs": [
        {
          "output_type": "execute_result",
          "data": {
            "text/plain": [
              "e    2\n",
              "d    5\n",
              "f    8\n",
              "dtype: int64"
            ]
          },
          "metadata": {
            "tags": []
          },
          "execution_count": 14
        }
      ]
    },
    {
      "cell_type": "markdown",
      "metadata": {
        "id": "xC8EXV2Rf7c_",
        "colab_type": "text"
      },
      "source": [
        "▲ 程序清单 4.3 DataFrame 类的 max 方法"
      ]
    },
    {
      "cell_type": "code",
      "metadata": {
        "id": "Izp993_hf7c_",
        "colab_type": "code",
        "colab": {
          "base_uri": "https://localhost:8080/",
          "height": 90
        },
        "outputId": "2f89f9ca-3b77-4c28-c1bd-9c57e32ee0a2"
      },
      "source": [
        "df.mean(axis=1)"
      ],
      "execution_count": 15,
      "outputs": [
        {
          "output_type": "execute_result",
          "data": {
            "text/plain": [
              "e    1.0\n",
              "d    4.0\n",
              "f    7.0\n",
              "dtype: float64"
            ]
          },
          "metadata": {
            "tags": []
          },
          "execution_count": 15
        }
      ]
    },
    {
      "cell_type": "code",
      "metadata": {
        "id": "LyL9nq8Ef7dD",
        "colab_type": "code",
        "colab": {
          "base_uri": "https://localhost:8080/",
          "height": 90
        },
        "outputId": "9f6fe277-c230-47b3-da91-5ff3efc4e77d"
      },
      "source": [
        "df.mean(axis=0)"
      ],
      "execution_count": 16,
      "outputs": [
        {
          "output_type": "execute_result",
          "data": {
            "text/plain": [
              "a    3.0\n",
              "b    4.0\n",
              "c    5.0\n",
              "dtype: float64"
            ]
          },
          "metadata": {
            "tags": []
          },
          "execution_count": 16
        }
      ]
    },
    {
      "cell_type": "markdown",
      "metadata": {
        "id": "-ssLUjYJf7dG",
        "colab_type": "text"
      },
      "source": [
        "▲ 程序清单 4.4 DataFrame 类的 mean 方法"
      ]
    },
    {
      "cell_type": "code",
      "metadata": {
        "id": "fwFvXAD9f7dH",
        "colab_type": "code",
        "colab": {
          "base_uri": "https://localhost:8080/",
          "height": 78
        },
        "outputId": "7a54b0db-1aca-4e03-b8be-3b6ba73be9f2"
      },
      "source": [
        "df = pd.DataFrame([[1,3,100,102,106,115,110]])\n",
        "df"
      ],
      "execution_count": 17,
      "outputs": [
        {
          "output_type": "execute_result",
          "data": {
            "text/html": [
              "<div>\n",
              "<style scoped>\n",
              "    .dataframe tbody tr th:only-of-type {\n",
              "        vertical-align: middle;\n",
              "    }\n",
              "\n",
              "    .dataframe tbody tr th {\n",
              "        vertical-align: top;\n",
              "    }\n",
              "\n",
              "    .dataframe thead th {\n",
              "        text-align: right;\n",
              "    }\n",
              "</style>\n",
              "<table border=\"1\" class=\"dataframe\">\n",
              "  <thead>\n",
              "    <tr style=\"text-align: right;\">\n",
              "      <th></th>\n",
              "      <th>0</th>\n",
              "      <th>1</th>\n",
              "      <th>2</th>\n",
              "      <th>3</th>\n",
              "      <th>4</th>\n",
              "      <th>5</th>\n",
              "      <th>6</th>\n",
              "    </tr>\n",
              "  </thead>\n",
              "  <tbody>\n",
              "    <tr>\n",
              "      <th>0</th>\n",
              "      <td>1</td>\n",
              "      <td>3</td>\n",
              "      <td>100</td>\n",
              "      <td>102</td>\n",
              "      <td>106</td>\n",
              "      <td>115</td>\n",
              "      <td>110</td>\n",
              "    </tr>\n",
              "  </tbody>\n",
              "</table>\n",
              "</div>"
            ],
            "text/plain": [
              "   0  1    2    3    4    5    6\n",
              "0  1  3  100  102  106  115  110"
            ]
          },
          "metadata": {
            "tags": []
          },
          "execution_count": 17
        }
      ]
    },
    {
      "cell_type": "code",
      "metadata": {
        "id": "eufdU7cCf7dL",
        "colab_type": "code",
        "colab": {
          "base_uri": "https://localhost:8080/",
          "height": 54
        },
        "outputId": "be0d9215-0631-440d-e7d5-113c69239ae3"
      },
      "source": [
        "df.median(axis=1)"
      ],
      "execution_count": 18,
      "outputs": [
        {
          "output_type": "execute_result",
          "data": {
            "text/plain": [
              "0    102.0\n",
              "dtype: float64"
            ]
          },
          "metadata": {
            "tags": []
          },
          "execution_count": 18
        }
      ]
    },
    {
      "cell_type": "markdown",
      "metadata": {
        "id": "UF-BQvVUf7dN",
        "colab_type": "text"
      },
      "source": [
        "▲ 程序清单 4.5 DataFrame 类的 median 方法"
      ]
    },
    {
      "cell_type": "code",
      "metadata": {
        "id": "bMyUkHCVf7dO",
        "colab_type": "code",
        "colab": {
          "base_uri": "https://localhost:8080/",
          "height": 78
        },
        "outputId": "77fcd64a-d1ca-4cde-e05d-ddafaee99d29"
      },
      "source": [
        "df[7] = 120\n",
        "df"
      ],
      "execution_count": 19,
      "outputs": [
        {
          "output_type": "execute_result",
          "data": {
            "text/html": [
              "<div>\n",
              "<style scoped>\n",
              "    .dataframe tbody tr th:only-of-type {\n",
              "        vertical-align: middle;\n",
              "    }\n",
              "\n",
              "    .dataframe tbody tr th {\n",
              "        vertical-align: top;\n",
              "    }\n",
              "\n",
              "    .dataframe thead th {\n",
              "        text-align: right;\n",
              "    }\n",
              "</style>\n",
              "<table border=\"1\" class=\"dataframe\">\n",
              "  <thead>\n",
              "    <tr style=\"text-align: right;\">\n",
              "      <th></th>\n",
              "      <th>0</th>\n",
              "      <th>1</th>\n",
              "      <th>2</th>\n",
              "      <th>3</th>\n",
              "      <th>4</th>\n",
              "      <th>5</th>\n",
              "      <th>6</th>\n",
              "      <th>7</th>\n",
              "    </tr>\n",
              "  </thead>\n",
              "  <tbody>\n",
              "    <tr>\n",
              "      <th>0</th>\n",
              "      <td>1</td>\n",
              "      <td>3</td>\n",
              "      <td>100</td>\n",
              "      <td>102</td>\n",
              "      <td>106</td>\n",
              "      <td>115</td>\n",
              "      <td>110</td>\n",
              "      <td>120</td>\n",
              "    </tr>\n",
              "  </tbody>\n",
              "</table>\n",
              "</div>"
            ],
            "text/plain": [
              "   0  1    2    3    4    5    6    7\n",
              "0  1  3  100  102  106  115  110  120"
            ]
          },
          "metadata": {
            "tags": []
          },
          "execution_count": 19
        }
      ]
    },
    {
      "cell_type": "markdown",
      "metadata": {
        "id": "o9uZ414Ef7dQ",
        "colab_type": "text"
      },
      "source": [
        "▲ 程序清单 4.6 向 DataFrame 对象添加元素"
      ]
    },
    {
      "cell_type": "code",
      "metadata": {
        "id": "1ekhMpENf7dQ",
        "colab_type": "code",
        "colab": {
          "base_uri": "https://localhost:8080/",
          "height": 54
        },
        "outputId": "a707aa81-701b-4b67-b614-b8eb565ef532"
      },
      "source": [
        "df.median(axis=1)"
      ],
      "execution_count": 20,
      "outputs": [
        {
          "output_type": "execute_result",
          "data": {
            "text/plain": [
              "0    104.0\n",
              "dtype: float64"
            ]
          },
          "metadata": {
            "tags": []
          },
          "execution_count": 20
        }
      ]
    },
    {
      "cell_type": "markdown",
      "metadata": {
        "id": "R8r8335If7dT",
        "colab_type": "text"
      },
      "source": [
        "▲ 程序清单 4.7 DataFrame 类的 median 方法"
      ]
    },
    {
      "cell_type": "code",
      "metadata": {
        "id": "LAnPJgh-f7dU",
        "colab_type": "code",
        "colab": {
          "base_uri": "https://localhost:8080/",
          "height": 54
        },
        "outputId": "4cdb01f3-449b-478a-ac7d-847bc5a0b2ca"
      },
      "source": [
        "df.mean(axis=1)"
      ],
      "execution_count": 21,
      "outputs": [
        {
          "output_type": "execute_result",
          "data": {
            "text/plain": [
              "0    82.125\n",
              "dtype: float64"
            ]
          },
          "metadata": {
            "tags": []
          },
          "execution_count": 21
        }
      ]
    },
    {
      "cell_type": "markdown",
      "metadata": {
        "id": "fc7oFc8Pf7dW",
        "colab_type": "text"
      },
      "source": [
        "▲ 程序清单 4.8 DataFrame 类的 mean 方法"
      ]
    },
    {
      "cell_type": "code",
      "metadata": {
        "id": "8uRe4H72f7dX",
        "colab_type": "code",
        "colab": {
          "base_uri": "https://localhost:8080/",
          "height": 78
        },
        "outputId": "8f50e196-b32e-48e2-de28-65e5b995c4b0"
      },
      "source": [
        "df = pd.DataFrame([[1,1,2,3,4]])\n",
        "df"
      ],
      "execution_count": 22,
      "outputs": [
        {
          "output_type": "execute_result",
          "data": {
            "text/html": [
              "<div>\n",
              "<style scoped>\n",
              "    .dataframe tbody tr th:only-of-type {\n",
              "        vertical-align: middle;\n",
              "    }\n",
              "\n",
              "    .dataframe tbody tr th {\n",
              "        vertical-align: top;\n",
              "    }\n",
              "\n",
              "    .dataframe thead th {\n",
              "        text-align: right;\n",
              "    }\n",
              "</style>\n",
              "<table border=\"1\" class=\"dataframe\">\n",
              "  <thead>\n",
              "    <tr style=\"text-align: right;\">\n",
              "      <th></th>\n",
              "      <th>0</th>\n",
              "      <th>1</th>\n",
              "      <th>2</th>\n",
              "      <th>3</th>\n",
              "      <th>4</th>\n",
              "    </tr>\n",
              "  </thead>\n",
              "  <tbody>\n",
              "    <tr>\n",
              "      <th>0</th>\n",
              "      <td>1</td>\n",
              "      <td>1</td>\n",
              "      <td>2</td>\n",
              "      <td>3</td>\n",
              "      <td>4</td>\n",
              "    </tr>\n",
              "  </tbody>\n",
              "</table>\n",
              "</div>"
            ],
            "text/plain": [
              "   0  1  2  3  4\n",
              "0  1  1  2  3  4"
            ]
          },
          "metadata": {
            "tags": []
          },
          "execution_count": 22
        }
      ]
    },
    {
      "cell_type": "code",
      "metadata": {
        "id": "GgEu08vif7dZ",
        "colab_type": "code",
        "colab": {
          "base_uri": "https://localhost:8080/",
          "height": 78
        },
        "outputId": "822ad77a-3e93-486d-a896-1816c55879ad"
      },
      "source": [
        "df.mode(axis=1)"
      ],
      "execution_count": 23,
      "outputs": [
        {
          "output_type": "execute_result",
          "data": {
            "text/html": [
              "<div>\n",
              "<style scoped>\n",
              "    .dataframe tbody tr th:only-of-type {\n",
              "        vertical-align: middle;\n",
              "    }\n",
              "\n",
              "    .dataframe tbody tr th {\n",
              "        vertical-align: top;\n",
              "    }\n",
              "\n",
              "    .dataframe thead th {\n",
              "        text-align: right;\n",
              "    }\n",
              "</style>\n",
              "<table border=\"1\" class=\"dataframe\">\n",
              "  <thead>\n",
              "    <tr style=\"text-align: right;\">\n",
              "      <th></th>\n",
              "      <th>0</th>\n",
              "    </tr>\n",
              "  </thead>\n",
              "  <tbody>\n",
              "    <tr>\n",
              "      <th>0</th>\n",
              "      <td>1</td>\n",
              "    </tr>\n",
              "  </tbody>\n",
              "</table>\n",
              "</div>"
            ],
            "text/plain": [
              "   0\n",
              "0  1"
            ]
          },
          "metadata": {
            "tags": []
          },
          "execution_count": 23
        }
      ]
    },
    {
      "cell_type": "markdown",
      "metadata": {
        "id": "o0JwgwVmf7db",
        "colab_type": "text"
      },
      "source": [
        "▲ 程序清单 4.9 DataFrame 类的 mode 方法"
      ]
    },
    {
      "cell_type": "code",
      "metadata": {
        "id": "7CtMYpPwf7db",
        "colab_type": "code",
        "colab": {
          "base_uri": "https://localhost:8080/",
          "height": 78
        },
        "outputId": "962bf23f-12aa-4ca0-e65f-b3e3138d0199"
      },
      "source": [
        "df = pd.DataFrame([[5,6,7,8]])\n",
        "df.mode(axis=1)"
      ],
      "execution_count": 24,
      "outputs": [
        {
          "output_type": "execute_result",
          "data": {
            "text/html": [
              "<div>\n",
              "<style scoped>\n",
              "    .dataframe tbody tr th:only-of-type {\n",
              "        vertical-align: middle;\n",
              "    }\n",
              "\n",
              "    .dataframe tbody tr th {\n",
              "        vertical-align: top;\n",
              "    }\n",
              "\n",
              "    .dataframe thead th {\n",
              "        text-align: right;\n",
              "    }\n",
              "</style>\n",
              "<table border=\"1\" class=\"dataframe\">\n",
              "  <thead>\n",
              "    <tr style=\"text-align: right;\">\n",
              "      <th></th>\n",
              "      <th>0</th>\n",
              "      <th>1</th>\n",
              "      <th>2</th>\n",
              "      <th>3</th>\n",
              "    </tr>\n",
              "  </thead>\n",
              "  <tbody>\n",
              "    <tr>\n",
              "      <th>0</th>\n",
              "      <td>5</td>\n",
              "      <td>6</td>\n",
              "      <td>7</td>\n",
              "      <td>8</td>\n",
              "    </tr>\n",
              "  </tbody>\n",
              "</table>\n",
              "</div>"
            ],
            "text/plain": [
              "   0  1  2  3\n",
              "0  5  6  7  8"
            ]
          },
          "metadata": {
            "tags": []
          },
          "execution_count": 24
        }
      ]
    },
    {
      "cell_type": "markdown",
      "metadata": {
        "id": "-wCJONTmf7dd",
        "colab_type": "text"
      },
      "source": [
        "▲ 程序清单 4.10 DataFrame 类的 mode 方法"
      ]
    },
    {
      "cell_type": "code",
      "metadata": {
        "id": "OseND1-Sf7de",
        "colab_type": "code",
        "colab": {
          "base_uri": "https://localhost:8080/",
          "height": 54
        },
        "outputId": "4c8a8e17-8545-4048-9b8b-c1d74e96d83e"
      },
      "source": [
        "table_a = pd.DataFrame([[152,151,150,147,181,190,187,149,196]])\n",
        "table_a.mean(axis=1)"
      ],
      "execution_count": 25,
      "outputs": [
        {
          "output_type": "execute_result",
          "data": {
            "text/plain": [
              "0    167.0\n",
              "dtype: float64"
            ]
          },
          "metadata": {
            "tags": []
          },
          "execution_count": 25
        }
      ]
    },
    {
      "cell_type": "code",
      "metadata": {
        "id": "aBX-sDi-f7dg",
        "colab_type": "code",
        "colab": {
          "base_uri": "https://localhost:8080/",
          "height": 54
        },
        "outputId": "4e59f790-e38a-4811-86f4-ac6a96359972"
      },
      "source": [
        "table_b = pd.DataFrame([[162,161,165,147,161,175,187,175,170]])\n",
        "table_b.mean(axis=1)"
      ],
      "execution_count": 26,
      "outputs": [
        {
          "output_type": "execute_result",
          "data": {
            "text/plain": [
              "0    167.0\n",
              "dtype: float64"
            ]
          },
          "metadata": {
            "tags": []
          },
          "execution_count": 26
        }
      ]
    },
    {
      "cell_type": "markdown",
      "metadata": {
        "id": "0vEIqTeFf7di",
        "colab_type": "text"
      },
      "source": [
        "▲ 程序清单 4.11 DataFrame 类的 mean 方法"
      ]
    },
    {
      "cell_type": "code",
      "metadata": {
        "id": "u_cp9Fwjf7di",
        "colab_type": "code",
        "colab": {
          "base_uri": "https://localhost:8080/",
          "height": 35
        },
        "outputId": "fe56072e-e262-4f3b-f62d-c264a51aa2be"
      },
      "source": [
        "mean = table_a.mean(axis=1).values[0]\n",
        "mean"
      ],
      "execution_count": 27,
      "outputs": [
        {
          "output_type": "execute_result",
          "data": {
            "text/plain": [
              "167.0"
            ]
          },
          "metadata": {
            "tags": []
          },
          "execution_count": 27
        }
      ]
    },
    {
      "cell_type": "code",
      "metadata": {
        "id": "B_U1xbndf7dk",
        "colab_type": "code",
        "colab": {
          "base_uri": "https://localhost:8080/",
          "height": 35
        },
        "outputId": "3ab4ef70-9ee1-48ae-9950-0fe713dec958"
      },
      "source": [
        "data = table_a.values[0]\n",
        "data"
      ],
      "execution_count": 28,
      "outputs": [
        {
          "output_type": "execute_result",
          "data": {
            "text/plain": [
              "array([152, 151, 150, 147, 181, 190, 187, 149, 196])"
            ]
          },
          "metadata": {
            "tags": []
          },
          "execution_count": 28
        }
      ]
    },
    {
      "cell_type": "code",
      "metadata": {
        "id": "7NAo52Tdf7dm",
        "colab_type": "code",
        "colab": {
          "base_uri": "https://localhost:8080/",
          "height": 35
        },
        "outputId": "a356e653-27da-45db-8d94-ec12e2df0361"
      },
      "source": [
        "n = table_a.shape[1]\n",
        "n"
      ],
      "execution_count": 29,
      "outputs": [
        {
          "output_type": "execute_result",
          "data": {
            "text/plain": [
              "9"
            ]
          },
          "metadata": {
            "tags": []
          },
          "execution_count": 29
        }
      ]
    },
    {
      "cell_type": "markdown",
      "metadata": {
        "id": "IwjhWKiof7do",
        "colab_type": "text"
      },
      "source": [
        "▲ 程序清单 4.12 将表 4.1 的平均值、每个值、数据的个数保存到相应变量中"
      ]
    },
    {
      "cell_type": "code",
      "metadata": {
        "id": "t88HUa9Pf7dp",
        "colab_type": "code",
        "colab": {}
      },
      "source": [
        "def standard_deviation(data, mean, n):\n",
        "    std = 0\n",
        "    for num in data:\n",
        "        std += (num - mean) ** 2\n",
        "        if num == data[n-1]:\n",
        "            std = (1/n) * std\n",
        "            std = np.sqrt(std)\n",
        "            print(std)"
      ],
      "execution_count": 0,
      "outputs": []
    },
    {
      "cell_type": "markdown",
      "metadata": {
        "id": "rRPO-fxwf7dq",
        "colab_type": "text"
      },
      "source": [
        "▲ 程序清单 4.13 求取标准差的函数"
      ]
    },
    {
      "cell_type": "code",
      "metadata": {
        "id": "lpCUluOEf7dr",
        "colab_type": "code",
        "colab": {
          "base_uri": "https://localhost:8080/",
          "height": 35
        },
        "outputId": "aa2bd639-f267-4358-af4b-17968cc6ca6b"
      },
      "source": [
        "standard_deviation(data,mean,n)"
      ],
      "execution_count": 31,
      "outputs": [
        {
          "output_type": "stream",
          "text": [
            "19.60725489313699\n"
          ],
          "name": "stdout"
        }
      ]
    },
    {
      "cell_type": "markdown",
      "metadata": {
        "id": "ODwJaEtbf7dt",
        "colab_type": "text"
      },
      "source": [
        "▲ 程序清单 4.14 使用 standard_deviation 函数计算表 4.1 的标准差"
      ]
    },
    {
      "cell_type": "code",
      "metadata": {
        "id": "Y4y23ETYf7du",
        "colab_type": "code",
        "colab": {
          "base_uri": "https://localhost:8080/",
          "height": 35
        },
        "outputId": "653ae64c-8e35-46b5-b735-bac0d18aef79"
      },
      "source": [
        "data = table_b.values[0]\n",
        "mean = table_b.mean(axis=1)[0]\n",
        "n = table_b.shape[1]\n",
        "\n",
        "standard_deviation(data, mean, n)"
      ],
      "execution_count": 32,
      "outputs": [
        {
          "output_type": "stream",
          "text": [
            "10.739335795724674\n"
          ],
          "name": "stdout"
        }
      ]
    },
    {
      "cell_type": "markdown",
      "metadata": {
        "id": "4BwAKlI1f7dv",
        "colab_type": "text"
      },
      "source": [
        "▲ 程序清单 4.15 使用 standard_deviation 函数计算表 4.2 的标准差"
      ]
    },
    {
      "cell_type": "code",
      "metadata": {
        "id": "L2KWmoh4f7dw",
        "colab_type": "code",
        "colab": {
          "base_uri": "https://localhost:8080/",
          "height": 54
        },
        "outputId": "98eea901-676a-4b1e-c6ad-f1162edd391b"
      },
      "source": [
        "print('table_a : ', table_a.std(axis=1, ddof=0)[0])\n",
        "print('table_b : ', table_b.std(axis=1, ddof=0)[0])"
      ],
      "execution_count": 33,
      "outputs": [
        {
          "output_type": "stream",
          "text": [
            "table_a :  19.60725489313699\n",
            "table_b :  10.739335795724674\n"
          ],
          "name": "stdout"
        }
      ]
    },
    {
      "cell_type": "markdown",
      "metadata": {
        "id": "6Uy4ugx8f7d0",
        "colab_type": "text"
      },
      "source": [
        "▲ 程序清单 4.16 DataFrame 类的 std 方法"
      ]
    },
    {
      "cell_type": "code",
      "metadata": {
        "id": "rnrssSz9f7d1",
        "colab_type": "code",
        "colab": {
          "base_uri": "https://localhost:8080/",
          "height": 54
        },
        "outputId": "365d171a-b7eb-40eb-ec13-616e029cf7db"
      },
      "source": [
        "print('table_a : ', table_a.std(axis=1, ddof=1)[0])\n",
        "print('table_b : ', table_b.std(axis=1, ddof=1)[0])"
      ],
      "execution_count": 34,
      "outputs": [
        {
          "output_type": "stream",
          "text": [
            "table_a :  20.796634343085422\n",
            "table_b :  11.390785749894517\n"
          ],
          "name": "stdout"
        }
      ]
    },
    {
      "cell_type": "markdown",
      "metadata": {
        "id": "7oYa92Hbf7d3",
        "colab_type": "text"
      },
      "source": [
        "▲ 程序清单 4.17 std 方法和 ddof 参数"
      ]
    },
    {
      "cell_type": "code",
      "metadata": {
        "id": "lmjwPlKEf7d4",
        "colab_type": "code",
        "colab": {
          "base_uri": "https://localhost:8080/",
          "height": 90
        },
        "outputId": "93ee3334-c495-452f-ab57-61028176199f"
      },
      "source": [
        "df = pd.DataFrame([[1,2,3,4,5,6,7,8,9,10]])\n",
        "print(df.quantile(q=0.5, axis=1))\n",
        "print(df.median(axis=1))"
      ],
      "execution_count": 35,
      "outputs": [
        {
          "output_type": "stream",
          "text": [
            "0    5.5\n",
            "Name: 0.5, dtype: float64\n",
            "0    5.5\n",
            "dtype: float64\n"
          ],
          "name": "stdout"
        }
      ]
    },
    {
      "cell_type": "markdown",
      "metadata": {
        "id": "rrVuqyxMf7d6",
        "colab_type": "text"
      },
      "source": [
        "▲程序清单 4.18 DataFrame 类的 quantile 方法"
      ]
    },
    {
      "cell_type": "code",
      "metadata": {
        "id": "GNS5CKvff7d7",
        "colab_type": "code",
        "colab": {
          "base_uri": "https://localhost:8080/",
          "height": 138
        },
        "outputId": "6daecf39-9d58-4375-997a-9908f789cbdd"
      },
      "source": [
        "df.quantile(q=[0.25,0.5,0.75], axis=1)"
      ],
      "execution_count": 36,
      "outputs": [
        {
          "output_type": "execute_result",
          "data": {
            "text/html": [
              "<div>\n",
              "<style scoped>\n",
              "    .dataframe tbody tr th:only-of-type {\n",
              "        vertical-align: middle;\n",
              "    }\n",
              "\n",
              "    .dataframe tbody tr th {\n",
              "        vertical-align: top;\n",
              "    }\n",
              "\n",
              "    .dataframe thead th {\n",
              "        text-align: right;\n",
              "    }\n",
              "</style>\n",
              "<table border=\"1\" class=\"dataframe\">\n",
              "  <thead>\n",
              "    <tr style=\"text-align: right;\">\n",
              "      <th></th>\n",
              "      <th>0</th>\n",
              "    </tr>\n",
              "  </thead>\n",
              "  <tbody>\n",
              "    <tr>\n",
              "      <th>0.25</th>\n",
              "      <td>3.25</td>\n",
              "    </tr>\n",
              "    <tr>\n",
              "      <th>0.50</th>\n",
              "      <td>5.50</td>\n",
              "    </tr>\n",
              "    <tr>\n",
              "      <th>0.75</th>\n",
              "      <td>7.75</td>\n",
              "    </tr>\n",
              "  </tbody>\n",
              "</table>\n",
              "</div>"
            ],
            "text/plain": [
              "         0\n",
              "0.25  3.25\n",
              "0.50  5.50\n",
              "0.75  7.75"
            ]
          },
          "metadata": {
            "tags": []
          },
          "execution_count": 36
        }
      ]
    },
    {
      "cell_type": "markdown",
      "metadata": {
        "id": "EmvmYaOvf7d9",
        "colab_type": "text"
      },
      "source": [
        "▲ 程序清单 4.19 quantile 方法和 q 参数"
      ]
    },
    {
      "cell_type": "code",
      "metadata": {
        "id": "S-g4aPNPf7d-",
        "colab_type": "code",
        "colab": {
          "base_uri": "https://localhost:8080/",
          "height": 54
        },
        "outputId": "abf931ff-1ea0-4e7d-d182-5ff741726ba4"
      },
      "source": [
        "df.quantile(q=0.25, axis=1, interpolation='linear')"
      ],
      "execution_count": 37,
      "outputs": [
        {
          "output_type": "execute_result",
          "data": {
            "text/plain": [
              "0    3.25\n",
              "Name: 0.25, dtype: float64"
            ]
          },
          "metadata": {
            "tags": []
          },
          "execution_count": 37
        }
      ]
    },
    {
      "cell_type": "markdown",
      "metadata": {
        "id": "QxyVSySff7eA",
        "colab_type": "text"
      },
      "source": [
        "▲ 程序清单 4.20 quantile 方法的 interpolation 参数（linear）"
      ]
    },
    {
      "cell_type": "code",
      "metadata": {
        "id": "YOjT6epnf7eA",
        "colab_type": "code",
        "colab": {
          "base_uri": "https://localhost:8080/",
          "height": 35
        },
        "outputId": "33eb451b-ed9b-4279-8ea9-bef236631d0a"
      },
      "source": [
        "n = df.shape[1]\n",
        "print(n)"
      ],
      "execution_count": 38,
      "outputs": [
        {
          "output_type": "stream",
          "text": [
            "10\n"
          ],
          "name": "stdout"
        }
      ]
    },
    {
      "cell_type": "code",
      "metadata": {
        "id": "XTj3y2sdf7eD",
        "colab_type": "code",
        "colab": {
          "base_uri": "https://localhost:8080/",
          "height": 54
        },
        "outputId": "d16c1753-0f5e-4ea7-e455-197bcd9c78e7"
      },
      "source": [
        "import math\n",
        "frac, num = math.modf((n-1)*0.25)\n",
        "print('frac = ',frac)\n",
        "print('num = ',num)"
      ],
      "execution_count": 39,
      "outputs": [
        {
          "output_type": "stream",
          "text": [
            "frac =  0.25\n",
            "num =  2.0\n"
          ],
          "name": "stdout"
        }
      ]
    },
    {
      "cell_type": "markdown",
      "metadata": {
        "id": "vHmt-4Qqf7eF",
        "colab_type": "text"
      },
      "source": [
        "▲ 程序清单 4.21 手动计算分位数"
      ]
    },
    {
      "cell_type": "code",
      "metadata": {
        "id": "QIX1LTx1f7eF",
        "colab_type": "code",
        "colab": {
          "base_uri": "https://localhost:8080/",
          "height": 35
        },
        "outputId": "d76a1816-8825-401b-9534-7a722e7ea002"
      },
      "source": [
        "i, j = 3, 4\n",
        "print(i + (j-i)*frac)"
      ],
      "execution_count": 40,
      "outputs": [
        {
          "output_type": "stream",
          "text": [
            "3.25\n"
          ],
          "name": "stdout"
        }
      ]
    },
    {
      "cell_type": "markdown",
      "metadata": {
        "id": "3M2Q_BLgf7eH",
        "colab_type": "text"
      },
      "source": [
        "▲ 程序清单 4.22 手动计算分位数"
      ]
    },
    {
      "cell_type": "code",
      "metadata": {
        "id": "ZQgImmiJf7eI",
        "colab_type": "code",
        "colab": {
          "base_uri": "https://localhost:8080/",
          "height": 54
        },
        "outputId": "5b9d9642-f4ce-4791-b3ee-478bc8e422b7"
      },
      "source": [
        "df.quantile(q=0.25, axis=1, interpolation='lower')"
      ],
      "execution_count": 41,
      "outputs": [
        {
          "output_type": "execute_result",
          "data": {
            "text/plain": [
              "0    3\n",
              "Name: 0.25, dtype: int64"
            ]
          },
          "metadata": {
            "tags": []
          },
          "execution_count": 41
        }
      ]
    },
    {
      "cell_type": "code",
      "metadata": {
        "id": "FK2KHTORf7eL",
        "colab_type": "code",
        "colab": {
          "base_uri": "https://localhost:8080/",
          "height": 54
        },
        "outputId": "0959226c-dfc4-466d-a744-ead170450de7"
      },
      "source": [
        "df.quantile(q=0.25, axis=1, interpolation='higher')"
      ],
      "execution_count": 42,
      "outputs": [
        {
          "output_type": "execute_result",
          "data": {
            "text/plain": [
              "0    4\n",
              "Name: 0.25, dtype: int64"
            ]
          },
          "metadata": {
            "tags": []
          },
          "execution_count": 42
        }
      ]
    },
    {
      "cell_type": "markdown",
      "metadata": {
        "id": "krWGhA9kf7eO",
        "colab_type": "text"
      },
      "source": [
        "▲ 程序清单 4.23 interpolation 参数的 lower 和 higher"
      ]
    },
    {
      "cell_type": "code",
      "metadata": {
        "id": "05YqUggEf7eO",
        "colab_type": "code",
        "colab": {
          "base_uri": "https://localhost:8080/",
          "height": 54
        },
        "outputId": "61542416-4509-4c4b-b820-43124bddc07c"
      },
      "source": [
        "df.quantile(q=0.25, axis=1, interpolation='nearest')"
      ],
      "execution_count": 43,
      "outputs": [
        {
          "output_type": "execute_result",
          "data": {
            "text/plain": [
              "0    3\n",
              "Name: 0.25, dtype: int64"
            ]
          },
          "metadata": {
            "tags": []
          },
          "execution_count": 43
        }
      ]
    },
    {
      "cell_type": "markdown",
      "metadata": {
        "id": "JV40o9Cwf7eR",
        "colab_type": "text"
      },
      "source": [
        "▲ 程序清单 4.24 interpolation 参数的 nearest"
      ]
    },
    {
      "cell_type": "code",
      "metadata": {
        "id": "TjzMJa4Xf7eS",
        "colab_type": "code",
        "colab": {
          "base_uri": "https://localhost:8080/",
          "height": 54
        },
        "outputId": "2f0201b5-22c5-4471-8219-8faffe2ad01a"
      },
      "source": [
        "df.quantile(q=0.25, axis=1, interpolation='midpoint')"
      ],
      "execution_count": 44,
      "outputs": [
        {
          "output_type": "execute_result",
          "data": {
            "text/plain": [
              "0    3.5\n",
              "Name: 0.25, dtype: float64"
            ]
          },
          "metadata": {
            "tags": []
          },
          "execution_count": 44
        }
      ]
    },
    {
      "cell_type": "markdown",
      "metadata": {
        "id": "AmWud9f0f7eW",
        "colab_type": "text"
      },
      "source": [
        "▲ 程序清单 4.25 interpolation 参数的 midpoint"
      ]
    },
    {
      "cell_type": "code",
      "metadata": {
        "id": "dXwlI8o0f7eW",
        "colab_type": "code",
        "colab": {
          "base_uri": "https://localhost:8080/",
          "height": 138
        },
        "outputId": "74505ee4-213a-4714-c5cb-7dffab2731e7"
      },
      "source": [
        "val = np.arange(0,9).reshape(3, 3)\n",
        "df = pd.DataFrame(val, index=list('def'), columns=list('abc'))\n",
        "df"
      ],
      "execution_count": 45,
      "outputs": [
        {
          "output_type": "execute_result",
          "data": {
            "text/html": [
              "<div>\n",
              "<style scoped>\n",
              "    .dataframe tbody tr th:only-of-type {\n",
              "        vertical-align: middle;\n",
              "    }\n",
              "\n",
              "    .dataframe tbody tr th {\n",
              "        vertical-align: top;\n",
              "    }\n",
              "\n",
              "    .dataframe thead th {\n",
              "        text-align: right;\n",
              "    }\n",
              "</style>\n",
              "<table border=\"1\" class=\"dataframe\">\n",
              "  <thead>\n",
              "    <tr style=\"text-align: right;\">\n",
              "      <th></th>\n",
              "      <th>a</th>\n",
              "      <th>b</th>\n",
              "      <th>c</th>\n",
              "    </tr>\n",
              "  </thead>\n",
              "  <tbody>\n",
              "    <tr>\n",
              "      <th>d</th>\n",
              "      <td>0</td>\n",
              "      <td>1</td>\n",
              "      <td>2</td>\n",
              "    </tr>\n",
              "    <tr>\n",
              "      <th>e</th>\n",
              "      <td>3</td>\n",
              "      <td>4</td>\n",
              "      <td>5</td>\n",
              "    </tr>\n",
              "    <tr>\n",
              "      <th>f</th>\n",
              "      <td>6</td>\n",
              "      <td>7</td>\n",
              "      <td>8</td>\n",
              "    </tr>\n",
              "  </tbody>\n",
              "</table>\n",
              "</div>"
            ],
            "text/plain": [
              "   a  b  c\n",
              "d  0  1  2\n",
              "e  3  4  5\n",
              "f  6  7  8"
            ]
          },
          "metadata": {
            "tags": []
          },
          "execution_count": 45
        }
      ]
    },
    {
      "cell_type": "markdown",
      "metadata": {
        "id": "eNANJd_tf7eY",
        "colab_type": "text"
      },
      "source": [
        "▲ 程序清单 4.26 DataFrame 对象的创建"
      ]
    },
    {
      "cell_type": "code",
      "metadata": {
        "id": "Fvov5x33f7eZ",
        "colab_type": "code",
        "colab": {
          "base_uri": "https://localhost:8080/",
          "height": 138
        },
        "outputId": "74d54d73-1b3e-471f-b363-26192b2eb74f"
      },
      "source": [
        "df.cumsum(axis=0)"
      ],
      "execution_count": 46,
      "outputs": [
        {
          "output_type": "execute_result",
          "data": {
            "text/html": [
              "<div>\n",
              "<style scoped>\n",
              "    .dataframe tbody tr th:only-of-type {\n",
              "        vertical-align: middle;\n",
              "    }\n",
              "\n",
              "    .dataframe tbody tr th {\n",
              "        vertical-align: top;\n",
              "    }\n",
              "\n",
              "    .dataframe thead th {\n",
              "        text-align: right;\n",
              "    }\n",
              "</style>\n",
              "<table border=\"1\" class=\"dataframe\">\n",
              "  <thead>\n",
              "    <tr style=\"text-align: right;\">\n",
              "      <th></th>\n",
              "      <th>a</th>\n",
              "      <th>b</th>\n",
              "      <th>c</th>\n",
              "    </tr>\n",
              "  </thead>\n",
              "  <tbody>\n",
              "    <tr>\n",
              "      <th>d</th>\n",
              "      <td>0</td>\n",
              "      <td>1</td>\n",
              "      <td>2</td>\n",
              "    </tr>\n",
              "    <tr>\n",
              "      <th>e</th>\n",
              "      <td>3</td>\n",
              "      <td>5</td>\n",
              "      <td>7</td>\n",
              "    </tr>\n",
              "    <tr>\n",
              "      <th>f</th>\n",
              "      <td>9</td>\n",
              "      <td>12</td>\n",
              "      <td>15</td>\n",
              "    </tr>\n",
              "  </tbody>\n",
              "</table>\n",
              "</div>"
            ],
            "text/plain": [
              "   a   b   c\n",
              "d  0   1   2\n",
              "e  3   5   7\n",
              "f  9  12  15"
            ]
          },
          "metadata": {
            "tags": []
          },
          "execution_count": 46
        }
      ]
    },
    {
      "cell_type": "markdown",
      "metadata": {
        "id": "7G2pgH3Zf7eb",
        "colab_type": "text"
      },
      "source": [
        "▲ 程序清单 4.27 DataFrame 类的 cumsum 方法"
      ]
    },
    {
      "cell_type": "code",
      "metadata": {
        "id": "cXKOGFpvf7ec",
        "colab_type": "code",
        "colab": {
          "base_uri": "https://localhost:8080/",
          "height": 138
        },
        "outputId": "b83ba5e8-9095-49b2-b46c-6c17b0ed73d9"
      },
      "source": [
        "df.cumsum(axis=1)"
      ],
      "execution_count": 47,
      "outputs": [
        {
          "output_type": "execute_result",
          "data": {
            "text/html": [
              "<div>\n",
              "<style scoped>\n",
              "    .dataframe tbody tr th:only-of-type {\n",
              "        vertical-align: middle;\n",
              "    }\n",
              "\n",
              "    .dataframe tbody tr th {\n",
              "        vertical-align: top;\n",
              "    }\n",
              "\n",
              "    .dataframe thead th {\n",
              "        text-align: right;\n",
              "    }\n",
              "</style>\n",
              "<table border=\"1\" class=\"dataframe\">\n",
              "  <thead>\n",
              "    <tr style=\"text-align: right;\">\n",
              "      <th></th>\n",
              "      <th>a</th>\n",
              "      <th>b</th>\n",
              "      <th>c</th>\n",
              "    </tr>\n",
              "  </thead>\n",
              "  <tbody>\n",
              "    <tr>\n",
              "      <th>d</th>\n",
              "      <td>0</td>\n",
              "      <td>1</td>\n",
              "      <td>3</td>\n",
              "    </tr>\n",
              "    <tr>\n",
              "      <th>e</th>\n",
              "      <td>3</td>\n",
              "      <td>7</td>\n",
              "      <td>12</td>\n",
              "    </tr>\n",
              "    <tr>\n",
              "      <th>f</th>\n",
              "      <td>6</td>\n",
              "      <td>13</td>\n",
              "      <td>21</td>\n",
              "    </tr>\n",
              "  </tbody>\n",
              "</table>\n",
              "</div>"
            ],
            "text/plain": [
              "   a   b   c\n",
              "d  0   1   3\n",
              "e  3   7  12\n",
              "f  6  13  21"
            ]
          },
          "metadata": {
            "tags": []
          },
          "execution_count": 47
        }
      ]
    },
    {
      "cell_type": "markdown",
      "metadata": {
        "id": "BaOei8myf7ef",
        "colab_type": "text"
      },
      "source": [
        "▲ 程序清单 4.28 DataFrame 类的 cumsum 方法（axis=1）"
      ]
    },
    {
      "cell_type": "code",
      "metadata": {
        "id": "NADvcWYFf7ef",
        "colab_type": "code",
        "colab": {}
      },
      "source": [
        "df.loc['e','a'] = np.nan\n",
        "df.loc['f','b'] = np.nan"
      ],
      "execution_count": 0,
      "outputs": []
    },
    {
      "cell_type": "code",
      "metadata": {
        "id": "pAzVBwlFf7eh",
        "colab_type": "code",
        "colab": {
          "base_uri": "https://localhost:8080/",
          "height": 138
        },
        "outputId": "ba07e0d6-13d0-486e-f9a7-49990f82f3d4"
      },
      "source": [
        "df.cumsum(axis=1, skipna=False)"
      ],
      "execution_count": 49,
      "outputs": [
        {
          "output_type": "execute_result",
          "data": {
            "text/html": [
              "<div>\n",
              "<style scoped>\n",
              "    .dataframe tbody tr th:only-of-type {\n",
              "        vertical-align: middle;\n",
              "    }\n",
              "\n",
              "    .dataframe tbody tr th {\n",
              "        vertical-align: top;\n",
              "    }\n",
              "\n",
              "    .dataframe thead th {\n",
              "        text-align: right;\n",
              "    }\n",
              "</style>\n",
              "<table border=\"1\" class=\"dataframe\">\n",
              "  <thead>\n",
              "    <tr style=\"text-align: right;\">\n",
              "      <th></th>\n",
              "      <th>a</th>\n",
              "      <th>b</th>\n",
              "      <th>c</th>\n",
              "    </tr>\n",
              "  </thead>\n",
              "  <tbody>\n",
              "    <tr>\n",
              "      <th>d</th>\n",
              "      <td>0.0</td>\n",
              "      <td>1.0</td>\n",
              "      <td>3.0</td>\n",
              "    </tr>\n",
              "    <tr>\n",
              "      <th>e</th>\n",
              "      <td>NaN</td>\n",
              "      <td>NaN</td>\n",
              "      <td>NaN</td>\n",
              "    </tr>\n",
              "    <tr>\n",
              "      <th>f</th>\n",
              "      <td>6.0</td>\n",
              "      <td>NaN</td>\n",
              "      <td>NaN</td>\n",
              "    </tr>\n",
              "  </tbody>\n",
              "</table>\n",
              "</div>"
            ],
            "text/plain": [
              "     a    b    c\n",
              "d  0.0  1.0  3.0\n",
              "e  NaN  NaN  NaN\n",
              "f  6.0  NaN  NaN"
            ]
          },
          "metadata": {
            "tags": []
          },
          "execution_count": 49
        }
      ]
    },
    {
      "cell_type": "markdown",
      "metadata": {
        "id": "lYB1da1Yf7ej",
        "colab_type": "text"
      },
      "source": [
        "▲ 程序清单 4.29 cumsum 方法的 skipna 参数"
      ]
    },
    {
      "cell_type": "code",
      "metadata": {
        "id": "TgE1Imtnf7ek",
        "colab_type": "code",
        "colab": {
          "base_uri": "https://localhost:8080/",
          "height": 138
        },
        "outputId": "5cb22120-a34d-43c9-c71a-09ffa6789c0c"
      },
      "source": [
        "df.cumprod(axis=1)"
      ],
      "execution_count": 50,
      "outputs": [
        {
          "output_type": "execute_result",
          "data": {
            "text/html": [
              "<div>\n",
              "<style scoped>\n",
              "    .dataframe tbody tr th:only-of-type {\n",
              "        vertical-align: middle;\n",
              "    }\n",
              "\n",
              "    .dataframe tbody tr th {\n",
              "        vertical-align: top;\n",
              "    }\n",
              "\n",
              "    .dataframe thead th {\n",
              "        text-align: right;\n",
              "    }\n",
              "</style>\n",
              "<table border=\"1\" class=\"dataframe\">\n",
              "  <thead>\n",
              "    <tr style=\"text-align: right;\">\n",
              "      <th></th>\n",
              "      <th>a</th>\n",
              "      <th>b</th>\n",
              "      <th>c</th>\n",
              "    </tr>\n",
              "  </thead>\n",
              "  <tbody>\n",
              "    <tr>\n",
              "      <th>d</th>\n",
              "      <td>0.0</td>\n",
              "      <td>0.0</td>\n",
              "      <td>0.0</td>\n",
              "    </tr>\n",
              "    <tr>\n",
              "      <th>e</th>\n",
              "      <td>NaN</td>\n",
              "      <td>4.0</td>\n",
              "      <td>20.0</td>\n",
              "    </tr>\n",
              "    <tr>\n",
              "      <th>f</th>\n",
              "      <td>6.0</td>\n",
              "      <td>NaN</td>\n",
              "      <td>48.0</td>\n",
              "    </tr>\n",
              "  </tbody>\n",
              "</table>\n",
              "</div>"
            ],
            "text/plain": [
              "     a    b     c\n",
              "d  0.0  0.0   0.0\n",
              "e  NaN  4.0  20.0\n",
              "f  6.0  NaN  48.0"
            ]
          },
          "metadata": {
            "tags": []
          },
          "execution_count": 50
        }
      ]
    },
    {
      "cell_type": "code",
      "metadata": {
        "id": "ePAcRgUVf7em",
        "colab_type": "code",
        "colab": {
          "base_uri": "https://localhost:8080/",
          "height": 138
        },
        "outputId": "38bb4fdd-c6cf-45e5-fd1e-b9bdb87cd797"
      },
      "source": [
        "df.cumprod(axis=0)"
      ],
      "execution_count": 51,
      "outputs": [
        {
          "output_type": "execute_result",
          "data": {
            "text/html": [
              "<div>\n",
              "<style scoped>\n",
              "    .dataframe tbody tr th:only-of-type {\n",
              "        vertical-align: middle;\n",
              "    }\n",
              "\n",
              "    .dataframe tbody tr th {\n",
              "        vertical-align: top;\n",
              "    }\n",
              "\n",
              "    .dataframe thead th {\n",
              "        text-align: right;\n",
              "    }\n",
              "</style>\n",
              "<table border=\"1\" class=\"dataframe\">\n",
              "  <thead>\n",
              "    <tr style=\"text-align: right;\">\n",
              "      <th></th>\n",
              "      <th>a</th>\n",
              "      <th>b</th>\n",
              "      <th>c</th>\n",
              "    </tr>\n",
              "  </thead>\n",
              "  <tbody>\n",
              "    <tr>\n",
              "      <th>d</th>\n",
              "      <td>0.0</td>\n",
              "      <td>1.0</td>\n",
              "      <td>2.0</td>\n",
              "    </tr>\n",
              "    <tr>\n",
              "      <th>e</th>\n",
              "      <td>NaN</td>\n",
              "      <td>4.0</td>\n",
              "      <td>10.0</td>\n",
              "    </tr>\n",
              "    <tr>\n",
              "      <th>f</th>\n",
              "      <td>0.0</td>\n",
              "      <td>NaN</td>\n",
              "      <td>80.0</td>\n",
              "    </tr>\n",
              "  </tbody>\n",
              "</table>\n",
              "</div>"
            ],
            "text/plain": [
              "     a    b     c\n",
              "d  0.0  1.0   2.0\n",
              "e  NaN  4.0  10.0\n",
              "f  0.0  NaN  80.0"
            ]
          },
          "metadata": {
            "tags": []
          },
          "execution_count": 51
        }
      ]
    },
    {
      "cell_type": "code",
      "metadata": {
        "id": "8K1Z78f6f7eo",
        "colab_type": "code",
        "colab": {
          "base_uri": "https://localhost:8080/",
          "height": 138
        },
        "outputId": "9f2c5b87-377e-45fe-f261-5234df47b8bb"
      },
      "source": [
        "df.cumprod(axis=0, skipna=False)"
      ],
      "execution_count": 52,
      "outputs": [
        {
          "output_type": "execute_result",
          "data": {
            "text/html": [
              "<div>\n",
              "<style scoped>\n",
              "    .dataframe tbody tr th:only-of-type {\n",
              "        vertical-align: middle;\n",
              "    }\n",
              "\n",
              "    .dataframe tbody tr th {\n",
              "        vertical-align: top;\n",
              "    }\n",
              "\n",
              "    .dataframe thead th {\n",
              "        text-align: right;\n",
              "    }\n",
              "</style>\n",
              "<table border=\"1\" class=\"dataframe\">\n",
              "  <thead>\n",
              "    <tr style=\"text-align: right;\">\n",
              "      <th></th>\n",
              "      <th>a</th>\n",
              "      <th>b</th>\n",
              "      <th>c</th>\n",
              "    </tr>\n",
              "  </thead>\n",
              "  <tbody>\n",
              "    <tr>\n",
              "      <th>d</th>\n",
              "      <td>0.0</td>\n",
              "      <td>1.0</td>\n",
              "      <td>2.0</td>\n",
              "    </tr>\n",
              "    <tr>\n",
              "      <th>e</th>\n",
              "      <td>NaN</td>\n",
              "      <td>4.0</td>\n",
              "      <td>10.0</td>\n",
              "    </tr>\n",
              "    <tr>\n",
              "      <th>f</th>\n",
              "      <td>NaN</td>\n",
              "      <td>NaN</td>\n",
              "      <td>80.0</td>\n",
              "    </tr>\n",
              "  </tbody>\n",
              "</table>\n",
              "</div>"
            ],
            "text/plain": [
              "     a    b     c\n",
              "d  0.0  1.0   2.0\n",
              "e  NaN  4.0  10.0\n",
              "f  NaN  NaN  80.0"
            ]
          },
          "metadata": {
            "tags": []
          },
          "execution_count": 52
        }
      ]
    },
    {
      "cell_type": "markdown",
      "metadata": {
        "id": "-Tg6YVDIf7eq",
        "colab_type": "text"
      },
      "source": [
        "▲ 程序清单 4.30 DataFrame 类的 cumprod 方法"
      ]
    },
    {
      "cell_type": "code",
      "metadata": {
        "id": "m8Q5e8Lpf7er",
        "colab_type": "code",
        "colab": {
          "base_uri": "https://localhost:8080/",
          "height": 90
        },
        "outputId": "2f69323f-ad7b-499b-9900-afc39fb14892"
      },
      "source": [
        "ser = pd.Series([1,3,5])\n",
        "ser.cumsum()"
      ],
      "execution_count": 53,
      "outputs": [
        {
          "output_type": "execute_result",
          "data": {
            "text/plain": [
              "0    1\n",
              "1    4\n",
              "2    9\n",
              "dtype: int64"
            ]
          },
          "metadata": {
            "tags": []
          },
          "execution_count": 53
        }
      ]
    },
    {
      "cell_type": "code",
      "metadata": {
        "id": "EJll4wzYf7et",
        "colab_type": "code",
        "colab": {
          "base_uri": "https://localhost:8080/",
          "height": 90
        },
        "outputId": "32fe7de8-72a2-4036-c6e3-0a65f32da92f"
      },
      "source": [
        "ser.cumprod()"
      ],
      "execution_count": 54,
      "outputs": [
        {
          "output_type": "execute_result",
          "data": {
            "text/plain": [
              "0     1\n",
              "1     3\n",
              "2    15\n",
              "dtype: int64"
            ]
          },
          "metadata": {
            "tags": []
          },
          "execution_count": 54
        }
      ]
    },
    {
      "cell_type": "markdown",
      "metadata": {
        "id": "FeDOqIAcf7ev",
        "colab_type": "text"
      },
      "source": [
        "▲ 程序清单 4.31 Series 类的 cumsum 方法和 cumprod 方法"
      ]
    },
    {
      "cell_type": "code",
      "metadata": {
        "id": "LEGkdoBuf7ew",
        "colab_type": "code",
        "colab": {
          "base_uri": "https://localhost:8080/",
          "height": 181
        },
        "outputId": "da901849-3678-417a-d717-59fe60e10a19"
      },
      "source": [
        "age = pd.Series([12,14,26,28,30,32,44,58])\n",
        "age"
      ],
      "execution_count": 55,
      "outputs": [
        {
          "output_type": "execute_result",
          "data": {
            "text/plain": [
              "0    12\n",
              "1    14\n",
              "2    26\n",
              "3    28\n",
              "4    30\n",
              "5    32\n",
              "6    44\n",
              "7    58\n",
              "dtype: int64"
            ]
          },
          "metadata": {
            "tags": []
          },
          "execution_count": 55
        }
      ]
    },
    {
      "cell_type": "markdown",
      "metadata": {
        "id": "Lz12RnSCf7ex",
        "colab_type": "text"
      },
      "source": [
        "▲ 程序清单 4.32 Series 对象的创建"
      ]
    },
    {
      "cell_type": "code",
      "metadata": {
        "id": "hT_aS21df7ey",
        "colab_type": "code",
        "colab": {
          "base_uri": "https://localhost:8080/",
          "height": 199
        },
        "outputId": "5ce4fa0c-8d94-4194-d526-2da1278b013d"
      },
      "source": [
        "pd.cut(x=age, bins = [0,10,19,29,39,49,59])"
      ],
      "execution_count": 56,
      "outputs": [
        {
          "output_type": "execute_result",
          "data": {
            "text/plain": [
              "0    (10, 19]\n",
              "1    (10, 19]\n",
              "2    (19, 29]\n",
              "3    (19, 29]\n",
              "4    (29, 39]\n",
              "5    (29, 39]\n",
              "6    (39, 49]\n",
              "7    (49, 59]\n",
              "dtype: category\n",
              "Categories (6, interval[int64]): [(0, 10] < (10, 19] < (19, 29] < (29, 39] < (39, 49] < (49, 59]]"
            ]
          },
          "metadata": {
            "tags": []
          },
          "execution_count": 56
        }
      ]
    },
    {
      "cell_type": "markdown",
      "metadata": {
        "id": "Z7hk4RRLf7ez",
        "colab_type": "text"
      },
      "source": [
        "▲ 程序清单 4.33 cut 函数"
      ]
    },
    {
      "cell_type": "code",
      "metadata": {
        "id": "8WMFl-pEf7ez",
        "colab_type": "code",
        "colab": {
          "base_uri": "https://localhost:8080/",
          "height": 199
        },
        "outputId": "15d74650-ca7c-4a9a-ff0f-6cdfc24619f3"
      },
      "source": [
        "pd.cut(x=age, bins=[0,19,60])"
      ],
      "execution_count": 57,
      "outputs": [
        {
          "output_type": "execute_result",
          "data": {
            "text/plain": [
              "0     (0, 19]\n",
              "1     (0, 19]\n",
              "2    (19, 60]\n",
              "3    (19, 60]\n",
              "4    (19, 60]\n",
              "5    (19, 60]\n",
              "6    (19, 60]\n",
              "7    (19, 60]\n",
              "dtype: category\n",
              "Categories (2, interval[int64]): [(0, 19] < (19, 60]]"
            ]
          },
          "metadata": {
            "tags": []
          },
          "execution_count": 57
        }
      ]
    },
    {
      "cell_type": "markdown",
      "metadata": {
        "id": "TUEq-UkMf7e2",
        "colab_type": "text"
      },
      "source": [
        "▲程序清单 4.34 cut 函数的 bins 参数"
      ]
    },
    {
      "cell_type": "code",
      "metadata": {
        "id": "PuMcLqsKf7e3",
        "colab_type": "code",
        "colab": {
          "base_uri": "https://localhost:8080/",
          "height": 199
        },
        "outputId": "b34d6d71-b26c-4176-ddae-fbed84f8c171"
      },
      "source": [
        "pd.cut(x=age, bins=[0,19,60], labels=['non-adult','adult'])"
      ],
      "execution_count": 58,
      "outputs": [
        {
          "output_type": "execute_result",
          "data": {
            "text/plain": [
              "0    non-adult\n",
              "1    non-adult\n",
              "2        adult\n",
              "3        adult\n",
              "4        adult\n",
              "5        adult\n",
              "6        adult\n",
              "7        adult\n",
              "dtype: category\n",
              "Categories (2, object): [non-adult < adult]"
            ]
          },
          "metadata": {
            "tags": []
          },
          "execution_count": 58
        }
      ]
    },
    {
      "cell_type": "markdown",
      "metadata": {
        "id": "KJpS63uuf7e4",
        "colab_type": "text"
      },
      "source": [
        "▲ 程序清单 4.35 cut 函数的 labels 参数"
      ]
    },
    {
      "cell_type": "code",
      "metadata": {
        "id": "c7crLkVzf7e4",
        "colab_type": "code",
        "colab": {
          "base_uri": "https://localhost:8080/",
          "height": 199
        },
        "outputId": "0f94f75a-5798-4685-bda4-c60b7da75966"
      },
      "source": [
        "pd.cut(x=age, bins=[0,19,60], right=False)"
      ],
      "execution_count": 59,
      "outputs": [
        {
          "output_type": "execute_result",
          "data": {
            "text/plain": [
              "0     [0, 19)\n",
              "1     [0, 19)\n",
              "2    [19, 60)\n",
              "3    [19, 60)\n",
              "4    [19, 60)\n",
              "5    [19, 60)\n",
              "6    [19, 60)\n",
              "7    [19, 60)\n",
              "dtype: category\n",
              "Categories (2, interval[int64]): [[0, 19) < [19, 60)]"
            ]
          },
          "metadata": {
            "tags": []
          },
          "execution_count": 59
        }
      ]
    },
    {
      "cell_type": "markdown",
      "metadata": {
        "id": "-k-a9DDjf7e6",
        "colab_type": "text"
      },
      "source": [
        "▲ 程序清单 4.36 cut 函数的 right 参数"
      ]
    },
    {
      "cell_type": "code",
      "metadata": {
        "id": "1CvYEIqFf7e6",
        "colab_type": "code",
        "colab": {
          "base_uri": "https://localhost:8080/",
          "height": 72
        },
        "outputId": "8616894f-6be6-4fd7-c9a6-f8e7c2a63850"
      },
      "source": [
        "age_cat = pd.cut(x=age, bins=[0,19,60], labels=['non-adult','adult'])\n",
        "age_cat.value_counts()"
      ],
      "execution_count": 60,
      "outputs": [
        {
          "output_type": "execute_result",
          "data": {
            "text/plain": [
              "adult        6\n",
              "non-adult    2\n",
              "dtype: int64"
            ]
          },
          "metadata": {
            "tags": []
          },
          "execution_count": 60
        }
      ]
    },
    {
      "cell_type": "markdown",
      "metadata": {
        "id": "LDgRxtnjf7e8",
        "colab_type": "text"
      },
      "source": [
        "▲ 程序清单 4.37 cut 函数和 value_counts 方法"
      ]
    },
    {
      "cell_type": "code",
      "metadata": {
        "id": "M3w4z_J5f7e8",
        "colab_type": "code",
        "colab": {
          "base_uri": "https://localhost:8080/",
          "height": 199
        },
        "outputId": "1fa3938b-ab60-4969-ba1b-eb2e68c5adb0"
      },
      "source": [
        "age = pd.Series([12,14,26,28,30,32,44,58])\n",
        "pd.qcut(x=age, q=2)"
      ],
      "execution_count": 61,
      "outputs": [
        {
          "output_type": "execute_result",
          "data": {
            "text/plain": [
              "0    (11.999, 29.0]\n",
              "1    (11.999, 29.0]\n",
              "2    (11.999, 29.0]\n",
              "3    (11.999, 29.0]\n",
              "4      (29.0, 58.0]\n",
              "5      (29.0, 58.0]\n",
              "6      (29.0, 58.0]\n",
              "7      (29.0, 58.0]\n",
              "dtype: category\n",
              "Categories (2, interval[float64]): [(11.999, 29.0] < (29.0, 58.0]]"
            ]
          },
          "metadata": {
            "tags": []
          },
          "execution_count": 61
        }
      ]
    },
    {
      "cell_type": "code",
      "metadata": {
        "id": "ntDv9A2ef7e-",
        "colab_type": "code",
        "colab": {
          "base_uri": "https://localhost:8080/",
          "height": 199
        },
        "outputId": "54aadd42-95d1-4d6c-c67e-bc9ac4911a8c"
      },
      "source": [
        "pd.qcut(x=age, q=4)"
      ],
      "execution_count": 62,
      "outputs": [
        {
          "output_type": "execute_result",
          "data": {
            "text/plain": [
              "0    (11.999, 23.0]\n",
              "1    (11.999, 23.0]\n",
              "2      (23.0, 29.0]\n",
              "3      (23.0, 29.0]\n",
              "4      (29.0, 35.0]\n",
              "5      (29.0, 35.0]\n",
              "6      (35.0, 58.0]\n",
              "7      (35.0, 58.0]\n",
              "dtype: category\n",
              "Categories (4, interval[float64]): [(11.999, 23.0] < (23.0, 29.0] < (29.0, 35.0] < (35.0, 58.0]]"
            ]
          },
          "metadata": {
            "tags": []
          },
          "execution_count": 62
        }
      ]
    },
    {
      "cell_type": "markdown",
      "metadata": {
        "id": "d8irOc3Rf7fA",
        "colab_type": "text"
      },
      "source": [
        "▲ 程序清单 4.38 qcut 函数"
      ]
    },
    {
      "cell_type": "code",
      "metadata": {
        "id": "zoZcAU_3f7fB",
        "colab_type": "code",
        "colab": {
          "base_uri": "https://localhost:8080/",
          "height": 199
        },
        "outputId": "efe88812-9105-4d5d-9b92-86aa939f3778"
      },
      "source": [
        "pd.qcut(x=age, q=[0,0.25,0.5,0.75,1])"
      ],
      "execution_count": 63,
      "outputs": [
        {
          "output_type": "execute_result",
          "data": {
            "text/plain": [
              "0    (11.999, 23.0]\n",
              "1    (11.999, 23.0]\n",
              "2      (23.0, 29.0]\n",
              "3      (23.0, 29.0]\n",
              "4      (29.0, 35.0]\n",
              "5      (29.0, 35.0]\n",
              "6      (35.0, 58.0]\n",
              "7      (35.0, 58.0]\n",
              "dtype: category\n",
              "Categories (4, interval[float64]): [(11.999, 23.0] < (23.0, 29.0] < (29.0, 35.0] < (35.0, 58.0]]"
            ]
          },
          "metadata": {
            "tags": []
          },
          "execution_count": 63
        }
      ]
    },
    {
      "cell_type": "markdown",
      "metadata": {
        "id": "4iXa6srnf7fC",
        "colab_type": "text"
      },
      "source": [
        "▲ 程序清单 4.39 qcut 函数的 q 参数"
      ]
    },
    {
      "cell_type": "code",
      "metadata": {
        "id": "ZiQ2Fs-hf7fD",
        "colab_type": "code",
        "colab": {
          "base_uri": "https://localhost:8080/",
          "height": 199
        },
        "outputId": "cdbb5a89-1006-4489-8eea-f7f69cb5ed48"
      },
      "source": [
        "pd.qcut(x=age, q=2, labels=['younger','older'])"
      ],
      "execution_count": 64,
      "outputs": [
        {
          "output_type": "execute_result",
          "data": {
            "text/plain": [
              "0    younger\n",
              "1    younger\n",
              "2    younger\n",
              "3    younger\n",
              "4      older\n",
              "5      older\n",
              "6      older\n",
              "7      older\n",
              "dtype: category\n",
              "Categories (2, object): [younger < older]"
            ]
          },
          "metadata": {
            "tags": []
          },
          "execution_count": 64
        }
      ]
    },
    {
      "cell_type": "markdown",
      "metadata": {
        "id": "pjPVyac2f7fE",
        "colab_type": "text"
      },
      "source": [
        "▲ 程序清单 4.40 qcut 函数的 labels 参数"
      ]
    },
    {
      "cell_type": "code",
      "metadata": {
        "id": "1qaOdhItf7fE",
        "colab_type": "code",
        "colab": {}
      },
      "source": [
        "bins, labels = pd.qcut(x=age, q=2, retbins=True)"
      ],
      "execution_count": 0,
      "outputs": []
    },
    {
      "cell_type": "code",
      "metadata": {
        "id": "RXnokgdBf7fF",
        "colab_type": "code",
        "colab": {
          "base_uri": "https://localhost:8080/",
          "height": 199
        },
        "outputId": "b5a1082a-d4f6-4151-d7f7-c700f039a0f6"
      },
      "source": [
        "bins"
      ],
      "execution_count": 66,
      "outputs": [
        {
          "output_type": "execute_result",
          "data": {
            "text/plain": [
              "0    (11.999, 29.0]\n",
              "1    (11.999, 29.0]\n",
              "2    (11.999, 29.0]\n",
              "3    (11.999, 29.0]\n",
              "4      (29.0, 58.0]\n",
              "5      (29.0, 58.0]\n",
              "6      (29.0, 58.0]\n",
              "7      (29.0, 58.0]\n",
              "dtype: category\n",
              "Categories (2, interval[float64]): [(11.999, 29.0] < (29.0, 58.0]]"
            ]
          },
          "metadata": {
            "tags": []
          },
          "execution_count": 66
        }
      ]
    },
    {
      "cell_type": "code",
      "metadata": {
        "id": "j3TpgfYZf7fG",
        "colab_type": "code",
        "colab": {
          "base_uri": "https://localhost:8080/",
          "height": 35
        },
        "outputId": "96d203c9-8160-4f71-ee99-620cc6ca2411"
      },
      "source": [
        "labels"
      ],
      "execution_count": 67,
      "outputs": [
        {
          "output_type": "execute_result",
          "data": {
            "text/plain": [
              "array([12., 29., 58.])"
            ]
          },
          "metadata": {
            "tags": []
          },
          "execution_count": 67
        }
      ]
    },
    {
      "cell_type": "markdown",
      "metadata": {
        "id": "BDTq0-HHf7fI",
        "colab_type": "text"
      },
      "source": [
        "▲ 程序清单 4.41 qcut 函数的 retbins 参数"
      ]
    },
    {
      "cell_type": "code",
      "metadata": {
        "id": "4rn9IrpJf7fJ",
        "colab_type": "code",
        "colab": {
          "base_uri": "https://localhost:8080/",
          "height": 288
        },
        "outputId": "bcd87cdd-8b30-4c53-dcac-5236b83ece1a"
      },
      "source": [
        "np.random.seed(seed=1)\n",
        "val = np.random.randint(0,100,size=9).reshape(3,3)\n",
        "df = pd.DataFrame(val, columns=list('abc'))\n",
        "df.describe()"
      ],
      "execution_count": 68,
      "outputs": [
        {
          "output_type": "execute_result",
          "data": {
            "text/html": [
              "<div>\n",
              "<style scoped>\n",
              "    .dataframe tbody tr th:only-of-type {\n",
              "        vertical-align: middle;\n",
              "    }\n",
              "\n",
              "    .dataframe tbody tr th {\n",
              "        vertical-align: top;\n",
              "    }\n",
              "\n",
              "    .dataframe thead th {\n",
              "        text-align: right;\n",
              "    }\n",
              "</style>\n",
              "<table border=\"1\" class=\"dataframe\">\n",
              "  <thead>\n",
              "    <tr style=\"text-align: right;\">\n",
              "      <th></th>\n",
              "      <th>a</th>\n",
              "      <th>b</th>\n",
              "      <th>c</th>\n",
              "    </tr>\n",
              "  </thead>\n",
              "  <tbody>\n",
              "    <tr>\n",
              "      <th>count</th>\n",
              "      <td>3.000000</td>\n",
              "      <td>3.000000</td>\n",
              "      <td>3.000000</td>\n",
              "    </tr>\n",
              "    <tr>\n",
              "      <th>mean</th>\n",
              "      <td>41.666667</td>\n",
              "      <td>50.333333</td>\n",
              "      <td>31.000000</td>\n",
              "    </tr>\n",
              "    <tr>\n",
              "      <th>std</th>\n",
              "      <td>35.232561</td>\n",
              "      <td>33.650161</td>\n",
              "      <td>35.930488</td>\n",
              "    </tr>\n",
              "    <tr>\n",
              "      <th>min</th>\n",
              "      <td>9.000000</td>\n",
              "      <td>12.000000</td>\n",
              "      <td>5.000000</td>\n",
              "    </tr>\n",
              "    <tr>\n",
              "      <th>25%</th>\n",
              "      <td>23.000000</td>\n",
              "      <td>38.000000</td>\n",
              "      <td>10.500000</td>\n",
              "    </tr>\n",
              "    <tr>\n",
              "      <th>50%</th>\n",
              "      <td>37.000000</td>\n",
              "      <td>64.000000</td>\n",
              "      <td>16.000000</td>\n",
              "    </tr>\n",
              "    <tr>\n",
              "      <th>75%</th>\n",
              "      <td>58.000000</td>\n",
              "      <td>69.500000</td>\n",
              "      <td>44.000000</td>\n",
              "    </tr>\n",
              "    <tr>\n",
              "      <th>max</th>\n",
              "      <td>79.000000</td>\n",
              "      <td>75.000000</td>\n",
              "      <td>72.000000</td>\n",
              "    </tr>\n",
              "  </tbody>\n",
              "</table>\n",
              "</div>"
            ],
            "text/plain": [
              "               a          b          c\n",
              "count   3.000000   3.000000   3.000000\n",
              "mean   41.666667  50.333333  31.000000\n",
              "std    35.232561  33.650161  35.930488\n",
              "min     9.000000  12.000000   5.000000\n",
              "25%    23.000000  38.000000  10.500000\n",
              "50%    37.000000  64.000000  16.000000\n",
              "75%    58.000000  69.500000  44.000000\n",
              "max    79.000000  75.000000  72.000000"
            ]
          },
          "metadata": {
            "tags": []
          },
          "execution_count": 68
        }
      ]
    },
    {
      "cell_type": "markdown",
      "metadata": {
        "id": "JZj-qCwuf7fK",
        "colab_type": "text"
      },
      "source": [
        "▲ 程序清单 4.42 DataFrame 类的 describe 方法"
      ]
    },
    {
      "cell_type": "code",
      "metadata": {
        "id": "l0iwa2hRf7fK",
        "colab_type": "code",
        "colab": {
          "base_uri": "https://localhost:8080/",
          "height": 288
        },
        "outputId": "f0c582de-8345-424d-9cc9-c2724b65ac8e"
      },
      "source": [
        "df.loc[1,'a'] = np.nan\n",
        "df.describe()"
      ],
      "execution_count": 69,
      "outputs": [
        {
          "output_type": "execute_result",
          "data": {
            "text/html": [
              "<div>\n",
              "<style scoped>\n",
              "    .dataframe tbody tr th:only-of-type {\n",
              "        vertical-align: middle;\n",
              "    }\n",
              "\n",
              "    .dataframe tbody tr th {\n",
              "        vertical-align: top;\n",
              "    }\n",
              "\n",
              "    .dataframe thead th {\n",
              "        text-align: right;\n",
              "    }\n",
              "</style>\n",
              "<table border=\"1\" class=\"dataframe\">\n",
              "  <thead>\n",
              "    <tr style=\"text-align: right;\">\n",
              "      <th></th>\n",
              "      <th>a</th>\n",
              "      <th>b</th>\n",
              "      <th>c</th>\n",
              "    </tr>\n",
              "  </thead>\n",
              "  <tbody>\n",
              "    <tr>\n",
              "      <th>count</th>\n",
              "      <td>2.000000</td>\n",
              "      <td>3.000000</td>\n",
              "      <td>3.000000</td>\n",
              "    </tr>\n",
              "    <tr>\n",
              "      <th>mean</th>\n",
              "      <td>58.000000</td>\n",
              "      <td>50.333333</td>\n",
              "      <td>31.000000</td>\n",
              "    </tr>\n",
              "    <tr>\n",
              "      <th>std</th>\n",
              "      <td>29.698485</td>\n",
              "      <td>33.650161</td>\n",
              "      <td>35.930488</td>\n",
              "    </tr>\n",
              "    <tr>\n",
              "      <th>min</th>\n",
              "      <td>37.000000</td>\n",
              "      <td>12.000000</td>\n",
              "      <td>5.000000</td>\n",
              "    </tr>\n",
              "    <tr>\n",
              "      <th>25%</th>\n",
              "      <td>47.500000</td>\n",
              "      <td>38.000000</td>\n",
              "      <td>10.500000</td>\n",
              "    </tr>\n",
              "    <tr>\n",
              "      <th>50%</th>\n",
              "      <td>58.000000</td>\n",
              "      <td>64.000000</td>\n",
              "      <td>16.000000</td>\n",
              "    </tr>\n",
              "    <tr>\n",
              "      <th>75%</th>\n",
              "      <td>68.500000</td>\n",
              "      <td>69.500000</td>\n",
              "      <td>44.000000</td>\n",
              "    </tr>\n",
              "    <tr>\n",
              "      <th>max</th>\n",
              "      <td>79.000000</td>\n",
              "      <td>75.000000</td>\n",
              "      <td>72.000000</td>\n",
              "    </tr>\n",
              "  </tbody>\n",
              "</table>\n",
              "</div>"
            ],
            "text/plain": [
              "               a          b          c\n",
              "count   2.000000   3.000000   3.000000\n",
              "mean   58.000000  50.333333  31.000000\n",
              "std    29.698485  33.650161  35.930488\n",
              "min    37.000000  12.000000   5.000000\n",
              "25%    47.500000  38.000000  10.500000\n",
              "50%    58.000000  64.000000  16.000000\n",
              "75%    68.500000  69.500000  44.000000\n",
              "max    79.000000  75.000000  72.000000"
            ]
          },
          "metadata": {
            "tags": []
          },
          "execution_count": 69
        }
      ]
    },
    {
      "cell_type": "markdown",
      "metadata": {
        "id": "Y6aGUYTof7fM",
        "colab_type": "text"
      },
      "source": [
        "▲ 程序清单 4.43 使用 describe 方法处理缺失值"
      ]
    },
    {
      "cell_type": "code",
      "metadata": {
        "id": "Z1WOhEDzf7fM",
        "colab_type": "code",
        "colab": {
          "base_uri": "https://localhost:8080/",
          "height": 318
        },
        "outputId": "ee571811-577a-4aa8-c63c-a9dfa8c3aa46"
      },
      "source": [
        "df.describe(percentiles=[0.1,0.2,0.3])"
      ],
      "execution_count": 70,
      "outputs": [
        {
          "output_type": "execute_result",
          "data": {
            "text/html": [
              "<div>\n",
              "<style scoped>\n",
              "    .dataframe tbody tr th:only-of-type {\n",
              "        vertical-align: middle;\n",
              "    }\n",
              "\n",
              "    .dataframe tbody tr th {\n",
              "        vertical-align: top;\n",
              "    }\n",
              "\n",
              "    .dataframe thead th {\n",
              "        text-align: right;\n",
              "    }\n",
              "</style>\n",
              "<table border=\"1\" class=\"dataframe\">\n",
              "  <thead>\n",
              "    <tr style=\"text-align: right;\">\n",
              "      <th></th>\n",
              "      <th>a</th>\n",
              "      <th>b</th>\n",
              "      <th>c</th>\n",
              "    </tr>\n",
              "  </thead>\n",
              "  <tbody>\n",
              "    <tr>\n",
              "      <th>count</th>\n",
              "      <td>2.000000</td>\n",
              "      <td>3.000000</td>\n",
              "      <td>3.000000</td>\n",
              "    </tr>\n",
              "    <tr>\n",
              "      <th>mean</th>\n",
              "      <td>58.000000</td>\n",
              "      <td>50.333333</td>\n",
              "      <td>31.000000</td>\n",
              "    </tr>\n",
              "    <tr>\n",
              "      <th>std</th>\n",
              "      <td>29.698485</td>\n",
              "      <td>33.650161</td>\n",
              "      <td>35.930488</td>\n",
              "    </tr>\n",
              "    <tr>\n",
              "      <th>min</th>\n",
              "      <td>37.000000</td>\n",
              "      <td>12.000000</td>\n",
              "      <td>5.000000</td>\n",
              "    </tr>\n",
              "    <tr>\n",
              "      <th>10%</th>\n",
              "      <td>41.200000</td>\n",
              "      <td>22.400000</td>\n",
              "      <td>7.200000</td>\n",
              "    </tr>\n",
              "    <tr>\n",
              "      <th>20%</th>\n",
              "      <td>45.400000</td>\n",
              "      <td>32.800000</td>\n",
              "      <td>9.400000</td>\n",
              "    </tr>\n",
              "    <tr>\n",
              "      <th>30%</th>\n",
              "      <td>49.600000</td>\n",
              "      <td>43.200000</td>\n",
              "      <td>11.600000</td>\n",
              "    </tr>\n",
              "    <tr>\n",
              "      <th>50%</th>\n",
              "      <td>58.000000</td>\n",
              "      <td>64.000000</td>\n",
              "      <td>16.000000</td>\n",
              "    </tr>\n",
              "    <tr>\n",
              "      <th>max</th>\n",
              "      <td>79.000000</td>\n",
              "      <td>75.000000</td>\n",
              "      <td>72.000000</td>\n",
              "    </tr>\n",
              "  </tbody>\n",
              "</table>\n",
              "</div>"
            ],
            "text/plain": [
              "               a          b          c\n",
              "count   2.000000   3.000000   3.000000\n",
              "mean   58.000000  50.333333  31.000000\n",
              "std    29.698485  33.650161  35.930488\n",
              "min    37.000000  12.000000   5.000000\n",
              "10%    41.200000  22.400000   7.200000\n",
              "20%    45.400000  32.800000   9.400000\n",
              "30%    49.600000  43.200000  11.600000\n",
              "50%    58.000000  64.000000  16.000000\n",
              "max    79.000000  75.000000  72.000000"
            ]
          },
          "metadata": {
            "tags": []
          },
          "execution_count": 70
        }
      ]
    },
    {
      "cell_type": "markdown",
      "metadata": {
        "id": "7Mm5yemVf7fN",
        "colab_type": "text"
      },
      "source": [
        "▲ 程序清单 4.44 describe 方法的 percentiles 参数"
      ]
    },
    {
      "cell_type": "code",
      "metadata": {
        "id": "ZFPrkvntf7fN",
        "colab_type": "code",
        "colab": {
          "base_uri": "https://localhost:8080/",
          "height": 108
        },
        "outputId": "d0d9feac-1135-4cb8-d1c2-9451094a51c4"
      },
      "source": [
        "df['e'] = list('aba')\n",
        "df['e'].describe()"
      ],
      "execution_count": 71,
      "outputs": [
        {
          "output_type": "execute_result",
          "data": {
            "text/plain": [
              "count     3\n",
              "unique    2\n",
              "top       a\n",
              "freq      2\n",
              "Name: e, dtype: object"
            ]
          },
          "metadata": {
            "tags": []
          },
          "execution_count": 71
        }
      ]
    },
    {
      "cell_type": "markdown",
      "metadata": {
        "id": "BaKzmF3lf7fP",
        "colab_type": "text"
      },
      "source": [
        "▲ 程序清单 4.45 对象类型的概括统计量"
      ]
    },
    {
      "cell_type": "code",
      "metadata": {
        "id": "uKc8J5vwf7fR",
        "colab_type": "code",
        "colab": {
          "base_uri": "https://localhost:8080/",
          "height": 108
        },
        "outputId": "9f03228a-48c2-4e54-ff95-34d7c3816be0"
      },
      "source": [
        "df.loc[3, 'e'] = 'b'\n",
        "df['e'].describe()"
      ],
      "execution_count": 72,
      "outputs": [
        {
          "output_type": "execute_result",
          "data": {
            "text/plain": [
              "count     4\n",
              "unique    2\n",
              "top       a\n",
              "freq      2\n",
              "Name: e, dtype: object"
            ]
          },
          "metadata": {
            "tags": []
          },
          "execution_count": 72
        }
      ]
    },
    {
      "cell_type": "markdown",
      "metadata": {
        "id": "ibjufcWbf7fS",
        "colab_type": "text"
      },
      "source": [
        "▲程序清单 4.46 包含两个以上众数的 describe 方法"
      ]
    },
    {
      "cell_type": "code",
      "metadata": {
        "id": "bqG0NGq_f7fS",
        "colab_type": "code",
        "colab": {
          "base_uri": "https://localhost:8080/",
          "height": 198
        },
        "outputId": "994eb2bf-82cf-4027-c127-ac0afe893e6f"
      },
      "source": [
        "np.random.seed(seed=1)\n",
        "scores = np.random.randint(70,100,size=25).reshape(5, 5)\n",
        "subs = ['math','eng','scie','art','hist']\n",
        "df = pd.DataFrame(scores, columns=subs)\n",
        "df['club'] = ['soccer','tennis','tennis','soccer','tennis']\n",
        "df['sex'] = list('MMFMF')\n",
        "df"
      ],
      "execution_count": 73,
      "outputs": [
        {
          "output_type": "execute_result",
          "data": {
            "text/html": [
              "<div>\n",
              "<style scoped>\n",
              "    .dataframe tbody tr th:only-of-type {\n",
              "        vertical-align: middle;\n",
              "    }\n",
              "\n",
              "    .dataframe tbody tr th {\n",
              "        vertical-align: top;\n",
              "    }\n",
              "\n",
              "    .dataframe thead th {\n",
              "        text-align: right;\n",
              "    }\n",
              "</style>\n",
              "<table border=\"1\" class=\"dataframe\">\n",
              "  <thead>\n",
              "    <tr style=\"text-align: right;\">\n",
              "      <th></th>\n",
              "      <th>math</th>\n",
              "      <th>eng</th>\n",
              "      <th>scie</th>\n",
              "      <th>art</th>\n",
              "      <th>hist</th>\n",
              "      <th>club</th>\n",
              "      <th>sex</th>\n",
              "    </tr>\n",
              "  </thead>\n",
              "  <tbody>\n",
              "    <tr>\n",
              "      <th>0</th>\n",
              "      <td>75</td>\n",
              "      <td>81</td>\n",
              "      <td>82</td>\n",
              "      <td>78</td>\n",
              "      <td>79</td>\n",
              "      <td>soccer</td>\n",
              "      <td>M</td>\n",
              "    </tr>\n",
              "    <tr>\n",
              "      <th>1</th>\n",
              "      <td>81</td>\n",
              "      <td>75</td>\n",
              "      <td>85</td>\n",
              "      <td>70</td>\n",
              "      <td>86</td>\n",
              "      <td>tennis</td>\n",
              "      <td>M</td>\n",
              "    </tr>\n",
              "    <tr>\n",
              "      <th>2</th>\n",
              "      <td>71</td>\n",
              "      <td>82</td>\n",
              "      <td>77</td>\n",
              "      <td>83</td>\n",
              "      <td>98</td>\n",
              "      <td>tennis</td>\n",
              "      <td>F</td>\n",
              "    </tr>\n",
              "    <tr>\n",
              "      <th>3</th>\n",
              "      <td>76</td>\n",
              "      <td>95</td>\n",
              "      <td>88</td>\n",
              "      <td>90</td>\n",
              "      <td>75</td>\n",
              "      <td>soccer</td>\n",
              "      <td>M</td>\n",
              "    </tr>\n",
              "    <tr>\n",
              "      <th>4</th>\n",
              "      <td>88</td>\n",
              "      <td>90</td>\n",
              "      <td>81</td>\n",
              "      <td>98</td>\n",
              "      <td>80</td>\n",
              "      <td>tennis</td>\n",
              "      <td>F</td>\n",
              "    </tr>\n",
              "  </tbody>\n",
              "</table>\n",
              "</div>"
            ],
            "text/plain": [
              "   math  eng  scie  art  hist    club sex\n",
              "0    75   81    82   78    79  soccer   M\n",
              "1    81   75    85   70    86  tennis   M\n",
              "2    71   82    77   83    98  tennis   F\n",
              "3    76   95    88   90    75  soccer   M\n",
              "4    88   90    81   98    80  tennis   F"
            ]
          },
          "metadata": {
            "tags": []
          },
          "execution_count": 73
        }
      ]
    },
    {
      "cell_type": "markdown",
      "metadata": {
        "id": "onXjFaxef7fV",
        "colab_type": "text"
      },
      "source": [
        "▲ 程序清单 4.47 DataFrame 对象的创建"
      ]
    },
    {
      "cell_type": "code",
      "metadata": {
        "id": "uBMQU_gYf7fW",
        "colab_type": "code",
        "colab": {
          "base_uri": "https://localhost:8080/",
          "height": 138
        },
        "outputId": "1b631105-6b24-485c-f77c-c731da81832c"
      },
      "source": [
        "pd.pivot_table(df, index='sex', aggfunc=np.mean)"
      ],
      "execution_count": 74,
      "outputs": [
        {
          "output_type": "execute_result",
          "data": {
            "text/html": [
              "<div>\n",
              "<style scoped>\n",
              "    .dataframe tbody tr th:only-of-type {\n",
              "        vertical-align: middle;\n",
              "    }\n",
              "\n",
              "    .dataframe tbody tr th {\n",
              "        vertical-align: top;\n",
              "    }\n",
              "\n",
              "    .dataframe thead th {\n",
              "        text-align: right;\n",
              "    }\n",
              "</style>\n",
              "<table border=\"1\" class=\"dataframe\">\n",
              "  <thead>\n",
              "    <tr style=\"text-align: right;\">\n",
              "      <th></th>\n",
              "      <th>art</th>\n",
              "      <th>eng</th>\n",
              "      <th>hist</th>\n",
              "      <th>math</th>\n",
              "      <th>scie</th>\n",
              "    </tr>\n",
              "    <tr>\n",
              "      <th>sex</th>\n",
              "      <th></th>\n",
              "      <th></th>\n",
              "      <th></th>\n",
              "      <th></th>\n",
              "      <th></th>\n",
              "    </tr>\n",
              "  </thead>\n",
              "  <tbody>\n",
              "    <tr>\n",
              "      <th>F</th>\n",
              "      <td>90.500000</td>\n",
              "      <td>86.000000</td>\n",
              "      <td>89.0</td>\n",
              "      <td>79.500000</td>\n",
              "      <td>79.0</td>\n",
              "    </tr>\n",
              "    <tr>\n",
              "      <th>M</th>\n",
              "      <td>79.333333</td>\n",
              "      <td>83.666667</td>\n",
              "      <td>80.0</td>\n",
              "      <td>77.333333</td>\n",
              "      <td>85.0</td>\n",
              "    </tr>\n",
              "  </tbody>\n",
              "</table>\n",
              "</div>"
            ],
            "text/plain": [
              "           art        eng  hist       math  scie\n",
              "sex                                             \n",
              "F    90.500000  86.000000  89.0  79.500000  79.0\n",
              "M    79.333333  83.666667  80.0  77.333333  85.0"
            ]
          },
          "metadata": {
            "tags": []
          },
          "execution_count": 74
        }
      ]
    },
    {
      "cell_type": "markdown",
      "metadata": {
        "id": "0l1LqcLRf7fX",
        "colab_type": "text"
      },
      "source": [
        "▲ 程序清单 4.48 pivot_table 函数"
      ]
    },
    {
      "cell_type": "code",
      "metadata": {
        "id": "NK1eK0GLf7fX",
        "colab_type": "code",
        "colab": {
          "base_uri": "https://localhost:8080/",
          "height": 138
        },
        "outputId": "c616120b-bfc9-4d37-fa67-b6350928a95e"
      },
      "source": [
        "pd.pivot_table(df, index='sex',values='art')"
      ],
      "execution_count": 75,
      "outputs": [
        {
          "output_type": "execute_result",
          "data": {
            "text/html": [
              "<div>\n",
              "<style scoped>\n",
              "    .dataframe tbody tr th:only-of-type {\n",
              "        vertical-align: middle;\n",
              "    }\n",
              "\n",
              "    .dataframe tbody tr th {\n",
              "        vertical-align: top;\n",
              "    }\n",
              "\n",
              "    .dataframe thead th {\n",
              "        text-align: right;\n",
              "    }\n",
              "</style>\n",
              "<table border=\"1\" class=\"dataframe\">\n",
              "  <thead>\n",
              "    <tr style=\"text-align: right;\">\n",
              "      <th></th>\n",
              "      <th>art</th>\n",
              "    </tr>\n",
              "    <tr>\n",
              "      <th>sex</th>\n",
              "      <th></th>\n",
              "    </tr>\n",
              "  </thead>\n",
              "  <tbody>\n",
              "    <tr>\n",
              "      <th>F</th>\n",
              "      <td>90.500000</td>\n",
              "    </tr>\n",
              "    <tr>\n",
              "      <th>M</th>\n",
              "      <td>79.333333</td>\n",
              "    </tr>\n",
              "  </tbody>\n",
              "</table>\n",
              "</div>"
            ],
            "text/plain": [
              "           art\n",
              "sex           \n",
              "F    90.500000\n",
              "M    79.333333"
            ]
          },
          "metadata": {
            "tags": []
          },
          "execution_count": 75
        }
      ]
    },
    {
      "cell_type": "code",
      "metadata": {
        "id": "LZAJ-LFaf7fY",
        "colab_type": "code",
        "colab": {
          "base_uri": "https://localhost:8080/",
          "height": 138
        },
        "outputId": "1c1f3ee0-0ab5-4a20-8706-9e32f165c1f0"
      },
      "source": [
        "pd.pivot_table(df, index='sex',values=['art','eng'])"
      ],
      "execution_count": 76,
      "outputs": [
        {
          "output_type": "execute_result",
          "data": {
            "text/html": [
              "<div>\n",
              "<style scoped>\n",
              "    .dataframe tbody tr th:only-of-type {\n",
              "        vertical-align: middle;\n",
              "    }\n",
              "\n",
              "    .dataframe tbody tr th {\n",
              "        vertical-align: top;\n",
              "    }\n",
              "\n",
              "    .dataframe thead th {\n",
              "        text-align: right;\n",
              "    }\n",
              "</style>\n",
              "<table border=\"1\" class=\"dataframe\">\n",
              "  <thead>\n",
              "    <tr style=\"text-align: right;\">\n",
              "      <th></th>\n",
              "      <th>art</th>\n",
              "      <th>eng</th>\n",
              "    </tr>\n",
              "    <tr>\n",
              "      <th>sex</th>\n",
              "      <th></th>\n",
              "      <th></th>\n",
              "    </tr>\n",
              "  </thead>\n",
              "  <tbody>\n",
              "    <tr>\n",
              "      <th>F</th>\n",
              "      <td>90.500000</td>\n",
              "      <td>86.000000</td>\n",
              "    </tr>\n",
              "    <tr>\n",
              "      <th>M</th>\n",
              "      <td>79.333333</td>\n",
              "      <td>83.666667</td>\n",
              "    </tr>\n",
              "  </tbody>\n",
              "</table>\n",
              "</div>"
            ],
            "text/plain": [
              "           art        eng\n",
              "sex                      \n",
              "F    90.500000  86.000000\n",
              "M    79.333333  83.666667"
            ]
          },
          "metadata": {
            "tags": []
          },
          "execution_count": 76
        }
      ]
    },
    {
      "cell_type": "markdown",
      "metadata": {
        "id": "Uumr88lKf7fZ",
        "colab_type": "text"
      },
      "source": [
        "▲ 程序清单 4.49 pivot_table 函数的 values 参数"
      ]
    },
    {
      "cell_type": "code",
      "metadata": {
        "id": "P7HpXDqaf7fa",
        "colab_type": "code",
        "colab": {
          "base_uri": "https://localhost:8080/",
          "height": 168
        },
        "outputId": "701b4d47-e97d-4dbb-dc1e-fd8e022a5931"
      },
      "source": [
        "pd.pivot_table(df, index='club', columns='sex', aggfunc=np.mean)"
      ],
      "execution_count": 77,
      "outputs": [
        {
          "output_type": "execute_result",
          "data": {
            "text/html": [
              "<div>\n",
              "<style scoped>\n",
              "    .dataframe tbody tr th:only-of-type {\n",
              "        vertical-align: middle;\n",
              "    }\n",
              "\n",
              "    .dataframe tbody tr th {\n",
              "        vertical-align: top;\n",
              "    }\n",
              "\n",
              "    .dataframe thead tr th {\n",
              "        text-align: left;\n",
              "    }\n",
              "\n",
              "    .dataframe thead tr:last-of-type th {\n",
              "        text-align: right;\n",
              "    }\n",
              "</style>\n",
              "<table border=\"1\" class=\"dataframe\">\n",
              "  <thead>\n",
              "    <tr>\n",
              "      <th></th>\n",
              "      <th colspan=\"2\" halign=\"left\">art</th>\n",
              "      <th colspan=\"2\" halign=\"left\">eng</th>\n",
              "      <th colspan=\"2\" halign=\"left\">hist</th>\n",
              "      <th colspan=\"2\" halign=\"left\">math</th>\n",
              "      <th colspan=\"2\" halign=\"left\">scie</th>\n",
              "    </tr>\n",
              "    <tr>\n",
              "      <th>sex</th>\n",
              "      <th>F</th>\n",
              "      <th>M</th>\n",
              "      <th>F</th>\n",
              "      <th>M</th>\n",
              "      <th>F</th>\n",
              "      <th>M</th>\n",
              "      <th>F</th>\n",
              "      <th>M</th>\n",
              "      <th>F</th>\n",
              "      <th>M</th>\n",
              "    </tr>\n",
              "    <tr>\n",
              "      <th>club</th>\n",
              "      <th></th>\n",
              "      <th></th>\n",
              "      <th></th>\n",
              "      <th></th>\n",
              "      <th></th>\n",
              "      <th></th>\n",
              "      <th></th>\n",
              "      <th></th>\n",
              "      <th></th>\n",
              "      <th></th>\n",
              "    </tr>\n",
              "  </thead>\n",
              "  <tbody>\n",
              "    <tr>\n",
              "      <th>soccer</th>\n",
              "      <td>NaN</td>\n",
              "      <td>84.0</td>\n",
              "      <td>NaN</td>\n",
              "      <td>88.0</td>\n",
              "      <td>NaN</td>\n",
              "      <td>77.0</td>\n",
              "      <td>NaN</td>\n",
              "      <td>75.5</td>\n",
              "      <td>NaN</td>\n",
              "      <td>85.0</td>\n",
              "    </tr>\n",
              "    <tr>\n",
              "      <th>tennis</th>\n",
              "      <td>90.5</td>\n",
              "      <td>70.0</td>\n",
              "      <td>86.0</td>\n",
              "      <td>75.0</td>\n",
              "      <td>89.0</td>\n",
              "      <td>86.0</td>\n",
              "      <td>79.5</td>\n",
              "      <td>81.0</td>\n",
              "      <td>79.0</td>\n",
              "      <td>85.0</td>\n",
              "    </tr>\n",
              "  </tbody>\n",
              "</table>\n",
              "</div>"
            ],
            "text/plain": [
              "         art         eng        hist        math        scie      \n",
              "sex        F     M     F     M     F     M     F     M     F     M\n",
              "club                                                              \n",
              "soccer   NaN  84.0   NaN  88.0   NaN  77.0   NaN  75.5   NaN  85.0\n",
              "tennis  90.5  70.0  86.0  75.0  89.0  86.0  79.5  81.0  79.0  85.0"
            ]
          },
          "metadata": {
            "tags": []
          },
          "execution_count": 77
        }
      ]
    },
    {
      "cell_type": "markdown",
      "metadata": {
        "id": "ihdNHFlPf7fb",
        "colab_type": "text"
      },
      "source": [
        "▲ 程序清单 4.50 pivot_table 函数的 columns 参数"
      ]
    },
    {
      "cell_type": "code",
      "metadata": {
        "id": "KO21ztKqf7fb",
        "colab_type": "code",
        "colab": {
          "base_uri": "https://localhost:8080/",
          "height": 168
        },
        "outputId": "989290e0-4284-4f60-8411-84aea3ca0678"
      },
      "source": [
        "pd.pivot_table(df, index=['sex','club'], aggfunc=np.mean)"
      ],
      "execution_count": 78,
      "outputs": [
        {
          "output_type": "execute_result",
          "data": {
            "text/html": [
              "<div>\n",
              "<style scoped>\n",
              "    .dataframe tbody tr th:only-of-type {\n",
              "        vertical-align: middle;\n",
              "    }\n",
              "\n",
              "    .dataframe tbody tr th {\n",
              "        vertical-align: top;\n",
              "    }\n",
              "\n",
              "    .dataframe thead th {\n",
              "        text-align: right;\n",
              "    }\n",
              "</style>\n",
              "<table border=\"1\" class=\"dataframe\">\n",
              "  <thead>\n",
              "    <tr style=\"text-align: right;\">\n",
              "      <th></th>\n",
              "      <th></th>\n",
              "      <th>art</th>\n",
              "      <th>eng</th>\n",
              "      <th>hist</th>\n",
              "      <th>math</th>\n",
              "      <th>scie</th>\n",
              "    </tr>\n",
              "    <tr>\n",
              "      <th>sex</th>\n",
              "      <th>club</th>\n",
              "      <th></th>\n",
              "      <th></th>\n",
              "      <th></th>\n",
              "      <th></th>\n",
              "      <th></th>\n",
              "    </tr>\n",
              "  </thead>\n",
              "  <tbody>\n",
              "    <tr>\n",
              "      <th>F</th>\n",
              "      <th>tennis</th>\n",
              "      <td>90.5</td>\n",
              "      <td>86.0</td>\n",
              "      <td>89.0</td>\n",
              "      <td>79.5</td>\n",
              "      <td>79.0</td>\n",
              "    </tr>\n",
              "    <tr>\n",
              "      <th rowspan=\"2\" valign=\"top\">M</th>\n",
              "      <th>soccer</th>\n",
              "      <td>84.0</td>\n",
              "      <td>88.0</td>\n",
              "      <td>77.0</td>\n",
              "      <td>75.5</td>\n",
              "      <td>85.0</td>\n",
              "    </tr>\n",
              "    <tr>\n",
              "      <th>tennis</th>\n",
              "      <td>70.0</td>\n",
              "      <td>75.0</td>\n",
              "      <td>86.0</td>\n",
              "      <td>81.0</td>\n",
              "      <td>85.0</td>\n",
              "    </tr>\n",
              "  </tbody>\n",
              "</table>\n",
              "</div>"
            ],
            "text/plain": [
              "             art   eng  hist  math  scie\n",
              "sex club                                \n",
              "F   tennis  90.5  86.0  89.0  79.5  79.0\n",
              "M   soccer  84.0  88.0  77.0  75.5  85.0\n",
              "    tennis  70.0  75.0  86.0  81.0  85.0"
            ]
          },
          "metadata": {
            "tags": []
          },
          "execution_count": 78
        }
      ]
    },
    {
      "cell_type": "markdown",
      "metadata": {
        "id": "60v_sBs6f7fc",
        "colab_type": "text"
      },
      "source": [
        "▲ 程序清单 4.51 在 index 参数中指定多个标签"
      ]
    },
    {
      "cell_type": "code",
      "metadata": {
        "id": "RYUIGxDvf7fc",
        "colab_type": "code",
        "colab": {
          "base_uri": "https://localhost:8080/",
          "height": 198
        },
        "outputId": "a79687f2-8445-4e0e-c5fa-84e2b1446e3f"
      },
      "source": [
        "pd.pivot_table(\n",
        "    df,\n",
        "    index=['sex','club'],\n",
        "    values='eng',\n",
        "    aggfunc=[np.sum,np.max,np.min])"
      ],
      "execution_count": 79,
      "outputs": [
        {
          "output_type": "execute_result",
          "data": {
            "text/html": [
              "<div>\n",
              "<style scoped>\n",
              "    .dataframe tbody tr th:only-of-type {\n",
              "        vertical-align: middle;\n",
              "    }\n",
              "\n",
              "    .dataframe tbody tr th {\n",
              "        vertical-align: top;\n",
              "    }\n",
              "\n",
              "    .dataframe thead tr th {\n",
              "        text-align: left;\n",
              "    }\n",
              "\n",
              "    .dataframe thead tr:last-of-type th {\n",
              "        text-align: right;\n",
              "    }\n",
              "</style>\n",
              "<table border=\"1\" class=\"dataframe\">\n",
              "  <thead>\n",
              "    <tr>\n",
              "      <th></th>\n",
              "      <th></th>\n",
              "      <th>sum</th>\n",
              "      <th>amax</th>\n",
              "      <th>amin</th>\n",
              "    </tr>\n",
              "    <tr>\n",
              "      <th></th>\n",
              "      <th></th>\n",
              "      <th>eng</th>\n",
              "      <th>eng</th>\n",
              "      <th>eng</th>\n",
              "    </tr>\n",
              "    <tr>\n",
              "      <th>sex</th>\n",
              "      <th>club</th>\n",
              "      <th></th>\n",
              "      <th></th>\n",
              "      <th></th>\n",
              "    </tr>\n",
              "  </thead>\n",
              "  <tbody>\n",
              "    <tr>\n",
              "      <th>F</th>\n",
              "      <th>tennis</th>\n",
              "      <td>172</td>\n",
              "      <td>90</td>\n",
              "      <td>82</td>\n",
              "    </tr>\n",
              "    <tr>\n",
              "      <th rowspan=\"2\" valign=\"top\">M</th>\n",
              "      <th>soccer</th>\n",
              "      <td>176</td>\n",
              "      <td>95</td>\n",
              "      <td>81</td>\n",
              "    </tr>\n",
              "    <tr>\n",
              "      <th>tennis</th>\n",
              "      <td>75</td>\n",
              "      <td>75</td>\n",
              "      <td>75</td>\n",
              "    </tr>\n",
              "  </tbody>\n",
              "</table>\n",
              "</div>"
            ],
            "text/plain": [
              "            sum amax amin\n",
              "            eng  eng  eng\n",
              "sex club                 \n",
              "F   tennis  172   90   82\n",
              "M   soccer  176   95   81\n",
              "    tennis   75   75   75"
            ]
          },
          "metadata": {
            "tags": []
          },
          "execution_count": 79
        }
      ]
    },
    {
      "cell_type": "markdown",
      "metadata": {
        "id": "xY1AgXTxf7fe",
        "colab_type": "text"
      },
      "source": [
        "▲ 程序清单 4.52 在 aggfunc 参数中指定多个 NumPy 数组的函数"
      ]
    },
    {
      "cell_type": "code",
      "metadata": {
        "id": "1Xo_3A88f7fe",
        "colab_type": "code",
        "colab": {
          "base_uri": "https://localhost:8080/",
          "height": 168
        },
        "outputId": "e4824767-778d-4ac3-b677-c95f976baaa8"
      },
      "source": [
        "pd.pivot_table(\n",
        "    df,\n",
        "    index=['sex','club'],\n",
        "    aggfunc={'eng':np.max,'math':np.mean}\n",
        ")"
      ],
      "execution_count": 80,
      "outputs": [
        {
          "output_type": "execute_result",
          "data": {
            "text/html": [
              "<div>\n",
              "<style scoped>\n",
              "    .dataframe tbody tr th:only-of-type {\n",
              "        vertical-align: middle;\n",
              "    }\n",
              "\n",
              "    .dataframe tbody tr th {\n",
              "        vertical-align: top;\n",
              "    }\n",
              "\n",
              "    .dataframe thead th {\n",
              "        text-align: right;\n",
              "    }\n",
              "</style>\n",
              "<table border=\"1\" class=\"dataframe\">\n",
              "  <thead>\n",
              "    <tr style=\"text-align: right;\">\n",
              "      <th></th>\n",
              "      <th></th>\n",
              "      <th>eng</th>\n",
              "      <th>math</th>\n",
              "    </tr>\n",
              "    <tr>\n",
              "      <th>sex</th>\n",
              "      <th>club</th>\n",
              "      <th></th>\n",
              "      <th></th>\n",
              "    </tr>\n",
              "  </thead>\n",
              "  <tbody>\n",
              "    <tr>\n",
              "      <th>F</th>\n",
              "      <th>tennis</th>\n",
              "      <td>90</td>\n",
              "      <td>79.5</td>\n",
              "    </tr>\n",
              "    <tr>\n",
              "      <th rowspan=\"2\" valign=\"top\">M</th>\n",
              "      <th>soccer</th>\n",
              "      <td>95</td>\n",
              "      <td>75.5</td>\n",
              "    </tr>\n",
              "    <tr>\n",
              "      <th>tennis</th>\n",
              "      <td>75</td>\n",
              "      <td>81.0</td>\n",
              "    </tr>\n",
              "  </tbody>\n",
              "</table>\n",
              "</div>"
            ],
            "text/plain": [
              "            eng  math\n",
              "sex club             \n",
              "F   tennis   90  79.5\n",
              "M   soccer   95  75.5\n",
              "    tennis   75  81.0"
            ]
          },
          "metadata": {
            "tags": []
          },
          "execution_count": 80
        }
      ]
    },
    {
      "cell_type": "markdown",
      "metadata": {
        "id": "G79DBk_jf7ff",
        "colab_type": "text"
      },
      "source": [
        "▲程序清单 4.53 在 aggfunc 参数中指定字典"
      ]
    },
    {
      "cell_type": "code",
      "metadata": {
        "id": "oJDkGmVVf7ff",
        "colab_type": "code",
        "colab": {
          "base_uri": "https://localhost:8080/",
          "height": 198
        },
        "outputId": "418e9f18-d40a-4e0e-8ec0-2de315474886"
      },
      "source": [
        "df"
      ],
      "execution_count": 81,
      "outputs": [
        {
          "output_type": "execute_result",
          "data": {
            "text/html": [
              "<div>\n",
              "<style scoped>\n",
              "    .dataframe tbody tr th:only-of-type {\n",
              "        vertical-align: middle;\n",
              "    }\n",
              "\n",
              "    .dataframe tbody tr th {\n",
              "        vertical-align: top;\n",
              "    }\n",
              "\n",
              "    .dataframe thead th {\n",
              "        text-align: right;\n",
              "    }\n",
              "</style>\n",
              "<table border=\"1\" class=\"dataframe\">\n",
              "  <thead>\n",
              "    <tr style=\"text-align: right;\">\n",
              "      <th></th>\n",
              "      <th>math</th>\n",
              "      <th>eng</th>\n",
              "      <th>scie</th>\n",
              "      <th>art</th>\n",
              "      <th>hist</th>\n",
              "      <th>club</th>\n",
              "      <th>sex</th>\n",
              "    </tr>\n",
              "  </thead>\n",
              "  <tbody>\n",
              "    <tr>\n",
              "      <th>0</th>\n",
              "      <td>75</td>\n",
              "      <td>81</td>\n",
              "      <td>82</td>\n",
              "      <td>78</td>\n",
              "      <td>79</td>\n",
              "      <td>soccer</td>\n",
              "      <td>M</td>\n",
              "    </tr>\n",
              "    <tr>\n",
              "      <th>1</th>\n",
              "      <td>81</td>\n",
              "      <td>75</td>\n",
              "      <td>85</td>\n",
              "      <td>70</td>\n",
              "      <td>86</td>\n",
              "      <td>tennis</td>\n",
              "      <td>M</td>\n",
              "    </tr>\n",
              "    <tr>\n",
              "      <th>2</th>\n",
              "      <td>71</td>\n",
              "      <td>82</td>\n",
              "      <td>77</td>\n",
              "      <td>83</td>\n",
              "      <td>98</td>\n",
              "      <td>tennis</td>\n",
              "      <td>F</td>\n",
              "    </tr>\n",
              "    <tr>\n",
              "      <th>3</th>\n",
              "      <td>76</td>\n",
              "      <td>95</td>\n",
              "      <td>88</td>\n",
              "      <td>90</td>\n",
              "      <td>75</td>\n",
              "      <td>soccer</td>\n",
              "      <td>M</td>\n",
              "    </tr>\n",
              "    <tr>\n",
              "      <th>4</th>\n",
              "      <td>88</td>\n",
              "      <td>90</td>\n",
              "      <td>81</td>\n",
              "      <td>98</td>\n",
              "      <td>80</td>\n",
              "      <td>tennis</td>\n",
              "      <td>F</td>\n",
              "    </tr>\n",
              "  </tbody>\n",
              "</table>\n",
              "</div>"
            ],
            "text/plain": [
              "   math  eng  scie  art  hist    club sex\n",
              "0    75   81    82   78    79  soccer   M\n",
              "1    81   75    85   70    86  tennis   M\n",
              "2    71   82    77   83    98  tennis   F\n",
              "3    76   95    88   90    75  soccer   M\n",
              "4    88   90    81   98    80  tennis   F"
            ]
          },
          "metadata": {
            "tags": []
          },
          "execution_count": 81
        }
      ]
    },
    {
      "cell_type": "code",
      "metadata": {
        "id": "lBNWARFif7fh",
        "colab_type": "code",
        "colab": {
          "base_uri": "https://localhost:8080/",
          "height": 168
        },
        "outputId": "95fc3d82-48be-4386-e7b8-fe0478da31f1"
      },
      "source": [
        "pd.pivot_table(\n",
        "    df,\n",
        "    index='club',\n",
        "    values='math',\n",
        "    aggfunc=np.mean,\n",
        "    margins=True\n",
        ")"
      ],
      "execution_count": 82,
      "outputs": [
        {
          "output_type": "execute_result",
          "data": {
            "text/html": [
              "<div>\n",
              "<style scoped>\n",
              "    .dataframe tbody tr th:only-of-type {\n",
              "        vertical-align: middle;\n",
              "    }\n",
              "\n",
              "    .dataframe tbody tr th {\n",
              "        vertical-align: top;\n",
              "    }\n",
              "\n",
              "    .dataframe thead th {\n",
              "        text-align: right;\n",
              "    }\n",
              "</style>\n",
              "<table border=\"1\" class=\"dataframe\">\n",
              "  <thead>\n",
              "    <tr style=\"text-align: right;\">\n",
              "      <th></th>\n",
              "      <th>math</th>\n",
              "    </tr>\n",
              "    <tr>\n",
              "      <th>club</th>\n",
              "      <th></th>\n",
              "    </tr>\n",
              "  </thead>\n",
              "  <tbody>\n",
              "    <tr>\n",
              "      <th>soccer</th>\n",
              "      <td>75.5</td>\n",
              "    </tr>\n",
              "    <tr>\n",
              "      <th>tennis</th>\n",
              "      <td>80.0</td>\n",
              "    </tr>\n",
              "    <tr>\n",
              "      <th>All</th>\n",
              "      <td>78.2</td>\n",
              "    </tr>\n",
              "  </tbody>\n",
              "</table>\n",
              "</div>"
            ],
            "text/plain": [
              "        math\n",
              "club        \n",
              "soccer  75.5\n",
              "tennis  80.0\n",
              "All     78.2"
            ]
          },
          "metadata": {
            "tags": []
          },
          "execution_count": 82
        }
      ]
    },
    {
      "cell_type": "markdown",
      "metadata": {
        "id": "GyhGOGzCf7fj",
        "colab_type": "text"
      },
      "source": [
        "▲ 程序清单 4.54 pivot_table 函数的 margins 参数"
      ]
    },
    {
      "cell_type": "code",
      "metadata": {
        "id": "rDVbDM0Qf7fj",
        "colab_type": "code",
        "colab": {
          "base_uri": "https://localhost:8080/",
          "height": 168
        },
        "outputId": "b76c4e40-fa18-4470-87d7-2db3344c8e57"
      },
      "source": [
        "pd.pivot_table(\n",
        "    df,\n",
        "    index='club',\n",
        "    columns='sex',\n",
        "    values='math',\n",
        "    aggfunc=np.mean,\n",
        "    margins=True\n",
        ")"
      ],
      "execution_count": 83,
      "outputs": [
        {
          "output_type": "execute_result",
          "data": {
            "text/html": [
              "<div>\n",
              "<style scoped>\n",
              "    .dataframe tbody tr th:only-of-type {\n",
              "        vertical-align: middle;\n",
              "    }\n",
              "\n",
              "    .dataframe tbody tr th {\n",
              "        vertical-align: top;\n",
              "    }\n",
              "\n",
              "    .dataframe thead th {\n",
              "        text-align: right;\n",
              "    }\n",
              "</style>\n",
              "<table border=\"1\" class=\"dataframe\">\n",
              "  <thead>\n",
              "    <tr style=\"text-align: right;\">\n",
              "      <th>sex</th>\n",
              "      <th>F</th>\n",
              "      <th>M</th>\n",
              "      <th>All</th>\n",
              "    </tr>\n",
              "    <tr>\n",
              "      <th>club</th>\n",
              "      <th></th>\n",
              "      <th></th>\n",
              "      <th></th>\n",
              "    </tr>\n",
              "  </thead>\n",
              "  <tbody>\n",
              "    <tr>\n",
              "      <th>soccer</th>\n",
              "      <td>NaN</td>\n",
              "      <td>75.500000</td>\n",
              "      <td>75.5</td>\n",
              "    </tr>\n",
              "    <tr>\n",
              "      <th>tennis</th>\n",
              "      <td>79.5</td>\n",
              "      <td>81.000000</td>\n",
              "      <td>80.0</td>\n",
              "    </tr>\n",
              "    <tr>\n",
              "      <th>All</th>\n",
              "      <td>79.5</td>\n",
              "      <td>77.333333</td>\n",
              "      <td>78.2</td>\n",
              "    </tr>\n",
              "  </tbody>\n",
              "</table>\n",
              "</div>"
            ],
            "text/plain": [
              "sex        F          M   All\n",
              "club                         \n",
              "soccer   NaN  75.500000  75.5\n",
              "tennis  79.5  81.000000  80.0\n",
              "All     79.5  77.333333  78.2"
            ]
          },
          "metadata": {
            "tags": []
          },
          "execution_count": 83
        }
      ]
    },
    {
      "cell_type": "markdown",
      "metadata": {
        "id": "wUdqlp4pf7fl",
        "colab_type": "text"
      },
      "source": [
        "▲ 程序清单 4.55 pivot_table 函数的 margins 参数和 columns 参数"
      ]
    },
    {
      "cell_type": "code",
      "metadata": {
        "id": "mEmPaissf7fm",
        "colab_type": "code",
        "colab": {
          "base_uri": "https://localhost:8080/",
          "height": 348
        },
        "outputId": "b6821622-5f74-48ba-929b-c268fe7142d0"
      },
      "source": [
        "np.random.seed(seed=1)\n",
        "sex = np.random.choice(['M','F'], size=10)\n",
        "eva = np.random.randint(70, 100, size=10)\n",
        "city = np.random.choice(['Tokyo','Osaka','Sapporo'], size=10)\n",
        "div = np.random.choice(['sales','hr','marketing','dev'], size=10)\n",
        "dic = {'sex':sex, 'evaluation':eva, 'city':city, 'division':div}\n",
        "df = pd.DataFrame(dic)\n",
        "df"
      ],
      "execution_count": 84,
      "outputs": [
        {
          "output_type": "execute_result",
          "data": {
            "text/html": [
              "<div>\n",
              "<style scoped>\n",
              "    .dataframe tbody tr th:only-of-type {\n",
              "        vertical-align: middle;\n",
              "    }\n",
              "\n",
              "    .dataframe tbody tr th {\n",
              "        vertical-align: top;\n",
              "    }\n",
              "\n",
              "    .dataframe thead th {\n",
              "        text-align: right;\n",
              "    }\n",
              "</style>\n",
              "<table border=\"1\" class=\"dataframe\">\n",
              "  <thead>\n",
              "    <tr style=\"text-align: right;\">\n",
              "      <th></th>\n",
              "      <th>city</th>\n",
              "      <th>division</th>\n",
              "      <th>evaluation</th>\n",
              "      <th>sex</th>\n",
              "    </tr>\n",
              "  </thead>\n",
              "  <tbody>\n",
              "    <tr>\n",
              "      <th>0</th>\n",
              "      <td>Sapporo</td>\n",
              "      <td>sales</td>\n",
              "      <td>86</td>\n",
              "      <td>F</td>\n",
              "    </tr>\n",
              "    <tr>\n",
              "      <th>1</th>\n",
              "      <td>Osaka</td>\n",
              "      <td>dev</td>\n",
              "      <td>71</td>\n",
              "      <td>F</td>\n",
              "    </tr>\n",
              "    <tr>\n",
              "      <th>2</th>\n",
              "      <td>Sapporo</td>\n",
              "      <td>dev</td>\n",
              "      <td>82</td>\n",
              "      <td>M</td>\n",
              "    </tr>\n",
              "    <tr>\n",
              "      <th>3</th>\n",
              "      <td>Tokyo</td>\n",
              "      <td>hr</td>\n",
              "      <td>77</td>\n",
              "      <td>M</td>\n",
              "    </tr>\n",
              "    <tr>\n",
              "      <th>4</th>\n",
              "      <td>Tokyo</td>\n",
              "      <td>hr</td>\n",
              "      <td>83</td>\n",
              "      <td>F</td>\n",
              "    </tr>\n",
              "    <tr>\n",
              "      <th>5</th>\n",
              "      <td>Sapporo</td>\n",
              "      <td>dev</td>\n",
              "      <td>98</td>\n",
              "      <td>F</td>\n",
              "    </tr>\n",
              "    <tr>\n",
              "      <th>6</th>\n",
              "      <td>Tokyo</td>\n",
              "      <td>marketing</td>\n",
              "      <td>76</td>\n",
              "      <td>F</td>\n",
              "    </tr>\n",
              "    <tr>\n",
              "      <th>7</th>\n",
              "      <td>Osaka</td>\n",
              "      <td>sales</td>\n",
              "      <td>95</td>\n",
              "      <td>F</td>\n",
              "    </tr>\n",
              "    <tr>\n",
              "      <th>8</th>\n",
              "      <td>Sapporo</td>\n",
              "      <td>marketing</td>\n",
              "      <td>88</td>\n",
              "      <td>F</td>\n",
              "    </tr>\n",
              "    <tr>\n",
              "      <th>9</th>\n",
              "      <td>Sapporo</td>\n",
              "      <td>hr</td>\n",
              "      <td>90</td>\n",
              "      <td>M</td>\n",
              "    </tr>\n",
              "  </tbody>\n",
              "</table>\n",
              "</div>"
            ],
            "text/plain": [
              "      city   division  evaluation sex\n",
              "0  Sapporo      sales          86   F\n",
              "1    Osaka        dev          71   F\n",
              "2  Sapporo        dev          82   M\n",
              "3    Tokyo         hr          77   M\n",
              "4    Tokyo         hr          83   F\n",
              "5  Sapporo        dev          98   F\n",
              "6    Tokyo  marketing          76   F\n",
              "7    Osaka      sales          95   F\n",
              "8  Sapporo  marketing          88   F\n",
              "9  Sapporo         hr          90   M"
            ]
          },
          "metadata": {
            "tags": []
          },
          "execution_count": 84
        }
      ]
    },
    {
      "cell_type": "markdown",
      "metadata": {
        "id": "eqD4vFMFf7fn",
        "colab_type": "text"
      },
      "source": [
        "▲ 程序清单 4.56 DataFrame 对象的创建"
      ]
    },
    {
      "cell_type": "code",
      "metadata": {
        "id": "hpW6clKrf7fn",
        "colab_type": "code",
        "colab": {
          "base_uri": "https://localhost:8080/",
          "height": 138
        },
        "outputId": "4df6067a-6f89-437c-e0b5-246d04597ca5"
      },
      "source": [
        "pd.crosstab(index=df['sex'], columns=df['city'])"
      ],
      "execution_count": 85,
      "outputs": [
        {
          "output_type": "execute_result",
          "data": {
            "text/html": [
              "<div>\n",
              "<style scoped>\n",
              "    .dataframe tbody tr th:only-of-type {\n",
              "        vertical-align: middle;\n",
              "    }\n",
              "\n",
              "    .dataframe tbody tr th {\n",
              "        vertical-align: top;\n",
              "    }\n",
              "\n",
              "    .dataframe thead th {\n",
              "        text-align: right;\n",
              "    }\n",
              "</style>\n",
              "<table border=\"1\" class=\"dataframe\">\n",
              "  <thead>\n",
              "    <tr style=\"text-align: right;\">\n",
              "      <th>city</th>\n",
              "      <th>Osaka</th>\n",
              "      <th>Sapporo</th>\n",
              "      <th>Tokyo</th>\n",
              "    </tr>\n",
              "    <tr>\n",
              "      <th>sex</th>\n",
              "      <th></th>\n",
              "      <th></th>\n",
              "      <th></th>\n",
              "    </tr>\n",
              "  </thead>\n",
              "  <tbody>\n",
              "    <tr>\n",
              "      <th>F</th>\n",
              "      <td>2</td>\n",
              "      <td>3</td>\n",
              "      <td>2</td>\n",
              "    </tr>\n",
              "    <tr>\n",
              "      <th>M</th>\n",
              "      <td>0</td>\n",
              "      <td>2</td>\n",
              "      <td>1</td>\n",
              "    </tr>\n",
              "  </tbody>\n",
              "</table>\n",
              "</div>"
            ],
            "text/plain": [
              "city  Osaka  Sapporo  Tokyo\n",
              "sex                        \n",
              "F         2        3      2\n",
              "M         0        2      1"
            ]
          },
          "metadata": {
            "tags": []
          },
          "execution_count": 85
        }
      ]
    },
    {
      "cell_type": "markdown",
      "metadata": {
        "id": "oL6O18WHf7fo",
        "colab_type": "text"
      },
      "source": [
        "▲ 程序清单 4.57 crosstab 函数"
      ]
    },
    {
      "cell_type": "code",
      "metadata": {
        "id": "oc7p_X6nf7fo",
        "colab_type": "code",
        "colab": {
          "base_uri": "https://localhost:8080/",
          "height": 228
        },
        "outputId": "277fa39e-4af9-40b2-a8a3-f5c8ee51a999"
      },
      "source": [
        "pd.crosstab(index=[df['sex'], df['city']], columns=df['division'])"
      ],
      "execution_count": 86,
      "outputs": [
        {
          "output_type": "execute_result",
          "data": {
            "text/html": [
              "<div>\n",
              "<style scoped>\n",
              "    .dataframe tbody tr th:only-of-type {\n",
              "        vertical-align: middle;\n",
              "    }\n",
              "\n",
              "    .dataframe tbody tr th {\n",
              "        vertical-align: top;\n",
              "    }\n",
              "\n",
              "    .dataframe thead th {\n",
              "        text-align: right;\n",
              "    }\n",
              "</style>\n",
              "<table border=\"1\" class=\"dataframe\">\n",
              "  <thead>\n",
              "    <tr style=\"text-align: right;\">\n",
              "      <th></th>\n",
              "      <th>division</th>\n",
              "      <th>dev</th>\n",
              "      <th>hr</th>\n",
              "      <th>marketing</th>\n",
              "      <th>sales</th>\n",
              "    </tr>\n",
              "    <tr>\n",
              "      <th>sex</th>\n",
              "      <th>city</th>\n",
              "      <th></th>\n",
              "      <th></th>\n",
              "      <th></th>\n",
              "      <th></th>\n",
              "    </tr>\n",
              "  </thead>\n",
              "  <tbody>\n",
              "    <tr>\n",
              "      <th rowspan=\"3\" valign=\"top\">F</th>\n",
              "      <th>Osaka</th>\n",
              "      <td>1</td>\n",
              "      <td>0</td>\n",
              "      <td>0</td>\n",
              "      <td>1</td>\n",
              "    </tr>\n",
              "    <tr>\n",
              "      <th>Sapporo</th>\n",
              "      <td>1</td>\n",
              "      <td>0</td>\n",
              "      <td>1</td>\n",
              "      <td>1</td>\n",
              "    </tr>\n",
              "    <tr>\n",
              "      <th>Tokyo</th>\n",
              "      <td>0</td>\n",
              "      <td>1</td>\n",
              "      <td>1</td>\n",
              "      <td>0</td>\n",
              "    </tr>\n",
              "    <tr>\n",
              "      <th rowspan=\"2\" valign=\"top\">M</th>\n",
              "      <th>Sapporo</th>\n",
              "      <td>1</td>\n",
              "      <td>1</td>\n",
              "      <td>0</td>\n",
              "      <td>0</td>\n",
              "    </tr>\n",
              "    <tr>\n",
              "      <th>Tokyo</th>\n",
              "      <td>0</td>\n",
              "      <td>1</td>\n",
              "      <td>0</td>\n",
              "      <td>0</td>\n",
              "    </tr>\n",
              "  </tbody>\n",
              "</table>\n",
              "</div>"
            ],
            "text/plain": [
              "division     dev  hr  marketing  sales\n",
              "sex city                              \n",
              "F   Osaka      1   0          0      1\n",
              "    Sapporo    1   0          1      1\n",
              "    Tokyo      0   1          1      0\n",
              "M   Sapporo    1   1          0      0\n",
              "    Tokyo      0   1          0      0"
            ]
          },
          "metadata": {
            "tags": []
          },
          "execution_count": 86
        }
      ]
    },
    {
      "cell_type": "markdown",
      "metadata": {
        "id": "BFZQuNmkf7fp",
        "colab_type": "text"
      },
      "source": [
        "▲ 程序清单 4.58 crosstab 函数的 index 参数和 columns 参数"
      ]
    },
    {
      "cell_type": "code",
      "metadata": {
        "id": "kpbyYCHef7fp",
        "colab_type": "code",
        "colab": {
          "base_uri": "https://localhost:8080/",
          "height": 258
        },
        "outputId": "1328f717-adff-4425-ad1f-ac3d217b9b15"
      },
      "source": [
        "pd.crosstab(\n",
        "    index=[df['sex'], df['city']],\n",
        "    columns=df['division'],\n",
        "    margins=True\n",
        ")"
      ],
      "execution_count": 87,
      "outputs": [
        {
          "output_type": "execute_result",
          "data": {
            "text/html": [
              "<div>\n",
              "<style scoped>\n",
              "    .dataframe tbody tr th:only-of-type {\n",
              "        vertical-align: middle;\n",
              "    }\n",
              "\n",
              "    .dataframe tbody tr th {\n",
              "        vertical-align: top;\n",
              "    }\n",
              "\n",
              "    .dataframe thead th {\n",
              "        text-align: right;\n",
              "    }\n",
              "</style>\n",
              "<table border=\"1\" class=\"dataframe\">\n",
              "  <thead>\n",
              "    <tr style=\"text-align: right;\">\n",
              "      <th></th>\n",
              "      <th>division</th>\n",
              "      <th>dev</th>\n",
              "      <th>hr</th>\n",
              "      <th>marketing</th>\n",
              "      <th>sales</th>\n",
              "      <th>All</th>\n",
              "    </tr>\n",
              "    <tr>\n",
              "      <th>sex</th>\n",
              "      <th>city</th>\n",
              "      <th></th>\n",
              "      <th></th>\n",
              "      <th></th>\n",
              "      <th></th>\n",
              "      <th></th>\n",
              "    </tr>\n",
              "  </thead>\n",
              "  <tbody>\n",
              "    <tr>\n",
              "      <th rowspan=\"3\" valign=\"top\">F</th>\n",
              "      <th>Osaka</th>\n",
              "      <td>1</td>\n",
              "      <td>0</td>\n",
              "      <td>0</td>\n",
              "      <td>1</td>\n",
              "      <td>2</td>\n",
              "    </tr>\n",
              "    <tr>\n",
              "      <th>Sapporo</th>\n",
              "      <td>1</td>\n",
              "      <td>0</td>\n",
              "      <td>1</td>\n",
              "      <td>1</td>\n",
              "      <td>3</td>\n",
              "    </tr>\n",
              "    <tr>\n",
              "      <th>Tokyo</th>\n",
              "      <td>0</td>\n",
              "      <td>1</td>\n",
              "      <td>1</td>\n",
              "      <td>0</td>\n",
              "      <td>2</td>\n",
              "    </tr>\n",
              "    <tr>\n",
              "      <th rowspan=\"2\" valign=\"top\">M</th>\n",
              "      <th>Sapporo</th>\n",
              "      <td>1</td>\n",
              "      <td>1</td>\n",
              "      <td>0</td>\n",
              "      <td>0</td>\n",
              "      <td>2</td>\n",
              "    </tr>\n",
              "    <tr>\n",
              "      <th>Tokyo</th>\n",
              "      <td>0</td>\n",
              "      <td>1</td>\n",
              "      <td>0</td>\n",
              "      <td>0</td>\n",
              "      <td>1</td>\n",
              "    </tr>\n",
              "    <tr>\n",
              "      <th>All</th>\n",
              "      <th></th>\n",
              "      <td>3</td>\n",
              "      <td>3</td>\n",
              "      <td>2</td>\n",
              "      <td>2</td>\n",
              "      <td>10</td>\n",
              "    </tr>\n",
              "  </tbody>\n",
              "</table>\n",
              "</div>"
            ],
            "text/plain": [
              "division     dev  hr  marketing  sales  All\n",
              "sex city                                   \n",
              "F   Osaka      1   0          0      1    2\n",
              "    Sapporo    1   0          1      1    3\n",
              "    Tokyo      0   1          1      0    2\n",
              "M   Sapporo    1   1          0      0    2\n",
              "    Tokyo      0   1          0      0    1\n",
              "All            3   3          2      2   10"
            ]
          },
          "metadata": {
            "tags": []
          },
          "execution_count": 87
        }
      ]
    },
    {
      "cell_type": "markdown",
      "metadata": {
        "id": "CeJPPVVif7fr",
        "colab_type": "text"
      },
      "source": [
        "▲ 程序清单 4.59 crosstab 函数的 margins 参数"
      ]
    },
    {
      "cell_type": "code",
      "metadata": {
        "id": "dUv-2S-ef7fs",
        "colab_type": "code",
        "colab": {
          "base_uri": "https://localhost:8080/",
          "height": 138
        },
        "outputId": "59e91172-244f-45b8-f5c6-4f058e5954ee"
      },
      "source": [
        "pd.crosstab(\n",
        "    index=df['sex'],\n",
        "    columns=df['city'],\n",
        "    values=df['evaluation'],\n",
        "    aggfunc=np.mean\n",
        ")"
      ],
      "execution_count": 88,
      "outputs": [
        {
          "output_type": "execute_result",
          "data": {
            "text/html": [
              "<div>\n",
              "<style scoped>\n",
              "    .dataframe tbody tr th:only-of-type {\n",
              "        vertical-align: middle;\n",
              "    }\n",
              "\n",
              "    .dataframe tbody tr th {\n",
              "        vertical-align: top;\n",
              "    }\n",
              "\n",
              "    .dataframe thead th {\n",
              "        text-align: right;\n",
              "    }\n",
              "</style>\n",
              "<table border=\"1\" class=\"dataframe\">\n",
              "  <thead>\n",
              "    <tr style=\"text-align: right;\">\n",
              "      <th>city</th>\n",
              "      <th>Osaka</th>\n",
              "      <th>Sapporo</th>\n",
              "      <th>Tokyo</th>\n",
              "    </tr>\n",
              "    <tr>\n",
              "      <th>sex</th>\n",
              "      <th></th>\n",
              "      <th></th>\n",
              "      <th></th>\n",
              "    </tr>\n",
              "  </thead>\n",
              "  <tbody>\n",
              "    <tr>\n",
              "      <th>F</th>\n",
              "      <td>83.0</td>\n",
              "      <td>90.666667</td>\n",
              "      <td>79.5</td>\n",
              "    </tr>\n",
              "    <tr>\n",
              "      <th>M</th>\n",
              "      <td>NaN</td>\n",
              "      <td>86.000000</td>\n",
              "      <td>77.0</td>\n",
              "    </tr>\n",
              "  </tbody>\n",
              "</table>\n",
              "</div>"
            ],
            "text/plain": [
              "city  Osaka    Sapporo  Tokyo\n",
              "sex                          \n",
              "F      83.0  90.666667   79.5\n",
              "M       NaN  86.000000   77.0"
            ]
          },
          "metadata": {
            "tags": []
          },
          "execution_count": 88
        }
      ]
    },
    {
      "cell_type": "markdown",
      "metadata": {
        "id": "JADWVGSQf7fs",
        "colab_type": "text"
      },
      "source": [
        "▲ 程序清单 4.60 crosstab 函数的 aggfunc 参数"
      ]
    }
  ]
}