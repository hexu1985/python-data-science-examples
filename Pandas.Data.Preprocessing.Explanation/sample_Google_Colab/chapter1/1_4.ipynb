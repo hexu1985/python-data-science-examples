{
 "cells": [
  {
   "cell_type": "code",
   "execution_count": 1,
   "metadata": {
    "colab": {
     "base_uri": "https://localhost:8080/",
     "height": 254
    },
    "colab_type": "code",
    "id": "r10Paf_WSpPg",
    "outputId": "2c07d5fc-1c06-45be-8cf3-bc59166e2573"
   },
   "outputs": [
    {
     "name": "stdout",
     "output_type": "stream",
     "text": [
      "Requirement already satisfied: pandas==0.22.0 in /usr/local/lib/python3.6/dist-packages (0.22.0)\n",
      "Requirement already satisfied: pytz>=2011k in /usr/local/lib/python3.6/dist-packages (from pandas==0.22.0) (2018.9)\n",
      "Requirement already satisfied: numpy>=1.9.0 in /usr/local/lib/python3.6/dist-packages (from pandas==0.22.0) (1.14.6)\n",
      "Requirement already satisfied: python-dateutil>=2 in /usr/local/lib/python3.6/dist-packages (from pandas==0.22.0) (2.6.1)\n",
      "Requirement already satisfied: six>=1.5 in /usr/local/lib/python3.6/dist-packages (from python-dateutil>=2->pandas==0.22.0) (1.12.0)\n",
      "Requirement already satisfied: numpy==1.14.6 in /usr/local/lib/python3.6/dist-packages (1.14.6)\n",
      "Requirement already satisfied: matplotlib==2.1.2 in /usr/local/lib/python3.6/dist-packages (2.1.2)\n",
      "Requirement already satisfied: pytz in /usr/local/lib/python3.6/dist-packages (from matplotlib==2.1.2) (2018.9)\n",
      "Requirement already satisfied: pyparsing!=2.0.4,!=2.1.2,!=2.1.6,>=2.0.1 in /usr/local/lib/python3.6/dist-packages (from matplotlib==2.1.2) (2.4.6)\n",
      "Requirement already satisfied: numpy>=1.7.1 in /usr/local/lib/python3.6/dist-packages (from matplotlib==2.1.2) (1.14.6)\n",
      "Requirement already satisfied: python-dateutil>=2.1 in /usr/local/lib/python3.6/dist-packages (from matplotlib==2.1.2) (2.6.1)\n",
      "Requirement already satisfied: cycler>=0.10 in /usr/local/lib/python3.6/dist-packages (from matplotlib==2.1.2) (0.10.0)\n",
      "Requirement already satisfied: six>=1.10 in /usr/local/lib/python3.6/dist-packages (from matplotlib==2.1.2) (1.12.0)\n"
     ]
    }
   ],
   "source": [
    "!pip install pandas==0.22.0\n",
    "!pip install numpy==1.14.6\n",
    "!pip install matplotlib==2.1.2"
   ]
  },
  {
   "cell_type": "markdown",
   "metadata": {
    "colab_type": "text",
    "id": "ElhpLWGkSxWG"
   },
   "source": [
    "▲库的版本变更"
   ]
  },
  {
   "cell_type": "code",
   "execution_count": 2,
   "metadata": {
    "colab": {
     "base_uri": "https://localhost:8080/",
     "height": 90
    },
    "colab_type": "code",
    "id": "_6WhYjf7S6Lr",
    "outputId": "2fa55efa-dbba-4ba3-f2e6-2c6aa1336424"
   },
   "outputs": [
    {
     "name": "stdout",
     "output_type": "stream",
     "text": [
      "python version :  (3, 6, 9)\n",
      "pandas version :  0.22.0\n",
      "numpy version :  1.14.6\n",
      "matplotlib version :  2.1.2\n"
     ]
    }
   ],
   "source": [
    "import sys\n",
    "import pandas\n",
    "import numpy\n",
    "import matplotlib\n",
    "print('python version : ', sys.version_info[0:3])\n",
    "print('pandas version : ', pandas.__version__)\n",
    "print('numpy version : ', numpy.__version__)\n",
    "print('matplotlib version : ', matplotlib.__version__)"
   ]
  },
  {
   "cell_type": "markdown",
   "metadata": {
    "colab_type": "text",
    "id": "0JArna2LTKm7"
   },
   "source": [
    "▲ Python和库的版本输出"
   ]
  },
  {
   "cell_type": "code",
   "execution_count": 0,
   "metadata": {
    "colab": {},
    "colab_type": "code",
    "id": "A9gKDZHrShIV"
   },
   "outputs": [],
   "source": [
    "import pandas as pd\n",
    "import numpy as np\n",
    "import matplotlib.pyplot as plt"
   ]
  },
  {
   "cell_type": "markdown",
   "metadata": {
    "colab_type": "text",
    "id": "Dh2byQh6Slf_"
   },
   "source": [
    "▲预先执行的代码"
   ]
  },
  {
   "cell_type": "code",
   "execution_count": 4,
   "metadata": {
    "colab": {
     "base_uri": "https://localhost:8080/",
     "height": 72
    },
    "colab_type": "code",
    "id": "CXbzgCyLSfnc",
    "outputId": "e5887810-a357-4258-93e9-fb83ef65c52d"
   },
   "outputs": [
    {
     "name": "stdout",
     "output_type": "stream",
     "text": [
      "如果条件为True就会被执行的代码块\n",
      "5 为正的数\n",
      "代码块之外（单独执行）\n"
     ]
    }
   ],
   "source": [
    "num = 5\n",
    "\n",
    "if num > 0:\n",
    "    print('如果条件为True就会被执行的代码块')\n",
    "    print(num, '为正的数')\n",
    "print('代码块之外（单独执行）')"
   ]
  },
  {
   "cell_type": "markdown",
   "metadata": {
    "colab_type": "text",
    "id": "EB0q36mVSfnh"
   },
   "source": [
    "▲ 程序清单 1.41 if 语句条件表达式的返回值为 True 时的情况"
   ]
  },
  {
   "cell_type": "code",
   "execution_count": 5,
   "metadata": {
    "colab": {
     "base_uri": "https://localhost:8080/",
     "height": 35
    },
    "colab_type": "code",
    "id": "BvxKyHsESfni",
    "outputId": "48f552c8-1232-4b7c-a18e-3f2de84659b1"
   },
   "outputs": [
    {
     "name": "stdout",
     "output_type": "stream",
     "text": [
      "代码块之外（单独执行）\n"
     ]
    }
   ],
   "source": [
    "num = -5\n",
    "\n",
    "if num > 0:\n",
    "    print('如果条件为True就会被执行的代码块')\n",
    "    print(num, '为正的数')\n",
    "print('代码块之外（单独执行）')"
   ]
  },
  {
   "cell_type": "markdown",
   "metadata": {
    "colab_type": "text",
    "id": "oCkQuIBKSfnk"
   },
   "source": [
    "▲ 程序清单 1.42 if 语句条件表达式的返回值为 False 时的情况"
   ]
  },
  {
   "cell_type": "code",
   "execution_count": 6,
   "metadata": {
    "colab": {
     "base_uri": "https://localhost:8080/",
     "height": 35
    },
    "colab_type": "code",
    "id": "7wJFIEJbSfnl",
    "outputId": "2b126d1e-d37e-4e58-fd15-4b8107572a4c"
   },
   "outputs": [
    {
     "name": "stdout",
     "output_type": "stream",
     "text": [
      "-5 为负的数\n"
     ]
    }
   ],
   "source": [
    "import random\n",
    "num = random.randint(-10,10)\n",
    "\n",
    "if num > 0:\n",
    "    print(num, '为正的数')\n",
    "elif num < 0:\n",
    "    print(num, '为负的数')"
   ]
  },
  {
   "cell_type": "markdown",
   "metadata": {
    "colab_type": "text",
    "id": "NtFW1j_8Sfnn"
   },
   "source": [
    "▲ 程序清单 1.43 if 语句和 elif 代码块的条件分支"
   ]
  },
  {
   "cell_type": "code",
   "execution_count": 7,
   "metadata": {
    "colab": {
     "base_uri": "https://localhost:8080/",
     "height": 35
    },
    "colab_type": "code",
    "id": "DTdKW3f1Sfno",
    "outputId": "4e81d7c5-a81e-40f2-e0bb-2d8c065e0824"
   },
   "outputs": [
    {
     "name": "stdout",
     "output_type": "stream",
     "text": [
      "9 为正的数\n"
     ]
    }
   ],
   "source": [
    "import random\n",
    "num = random.randint(-10, 10)\n",
    "\n",
    "if num > 0:\n",
    "    print(num, '为正的数')\n",
    "elif num == 0:\n",
    "    print(num, '为零')\n",
    "else:\n",
    "    print(num, '为负的数')"
   ]
  },
  {
   "cell_type": "markdown",
   "metadata": {
    "colab_type": "text",
    "id": "9U6leO1tSfnr"
   },
   "source": [
    "▲ 程序清单 1.44 if 语句、elif 代码块及 else 代码块的条件分支"
   ]
  },
  {
   "cell_type": "code",
   "execution_count": 8,
   "metadata": {
    "colab": {
     "base_uri": "https://localhost:8080/",
     "height": 108
    },
    "colab_type": "code",
    "id": "nk12EOrZSfnr",
    "outputId": "4a59515e-ed1b-47a3-83d9-9913adc04c56"
   },
   "outputs": [
    {
     "name": "stdout",
     "output_type": "stream",
     "text": [
      "1 次合计 : 1\n",
      "2 次合计 : 3\n",
      "3 次合计 : 6\n",
      "4 次合计: 10\n",
      "5 次合计 : 15\n"
     ]
    }
   ],
   "source": [
    "n = 5\n",
    "total = 0\n",
    "i = 1\n",
    "\n",
    "while i <= n:\n",
    "    total = total + i\n",
    "    print(i, '次合计 :', total )\n",
    "    i = i + 1"
   ]
  },
  {
   "cell_type": "markdown",
   "metadata": {
    "colab_type": "text",
    "id": "x8OgyBqpSfnu"
   },
   "source": [
    "▲程序清单 1.45 使用 while 语句对从 1 到 n 的自然数进行求和计算"
   ]
  },
  {
   "cell_type": "code",
   "execution_count": 9,
   "metadata": {
    "colab": {
     "base_uri": "https://localhost:8080/",
     "height": 217
    },
    "colab_type": "code",
    "id": "gW6gvkAVSfnv",
    "outputId": "022a897d-5bf4-4250-f1d6-9337e35db042"
   },
   "outputs": [
    {
     "name": "stdout",
     "output_type": "stream",
     "text": [
      "1 次循环\n",
      "2 次循环\n",
      "3 次循环\n",
      "4 次循环\n",
      "5次循环\n",
      "6 次循环\n",
      "7 次循环\n",
      "8 次循环\n",
      "9 次循环\n",
      "10 次循环\n",
      "条件表达式的值为False\n"
     ]
    }
   ],
   "source": [
    "count = 0\n",
    "n = 10\n",
    "\n",
    "while count < n:\n",
    "    count += 1\n",
    "    print(count, '次循环')    \n",
    "else:\n",
    "    print('条件表达式的值为False')"
   ]
  },
  {
   "cell_type": "markdown",
   "metadata": {
    "colab_type": "text",
    "id": "OeWfLkhJSfnx"
   },
   "source": [
    "▲ 程序清单 1.46 while 语句和 else 代码块的条件分支"
   ]
  },
  {
   "cell_type": "code",
   "execution_count": 10,
   "metadata": {
    "colab": {
     "base_uri": "https://localhost:8080/",
     "height": 126
    },
    "colab_type": "code",
    "id": "fwzhQE-OSfny",
    "outputId": "8bba8e07-3d7f-4fee-94fa-8c2a53e546ba"
   },
   "outputs": [
    {
     "name": "stdout",
     "output_type": "stream",
     "text": [
      "1 + 0\n",
      "2 + 1\n",
      "3 + 3\n",
      "4 + 6\n",
      "5 + 10\n",
      "15\n"
     ]
    }
   ],
   "source": [
    "nums = [1,2,3,4,5]\n",
    "total = 0\n",
    "\n",
    "for num in nums:\n",
    "    print(num, '+', total)\n",
    "    total = total + num\n",
    "\n",
    "print(total)"
   ]
  },
  {
   "cell_type": "markdown",
   "metadata": {
    "colab_type": "text",
    "id": "Q8wMOLijSfn0"
   },
   "source": [
    "▲ 程序清单 1.47 for 语句的循环"
   ]
  },
  {
   "cell_type": "code",
   "execution_count": 11,
   "metadata": {
    "colab": {
     "base_uri": "https://localhost:8080/",
     "height": 126
    },
    "colab_type": "code",
    "id": "YdfEqiqiSfn0",
    "outputId": "1b246c76-b1e1-43b9-e54f-5c1d437ffccd"
   },
   "outputs": [
    {
     "name": "stdout",
     "output_type": "stream",
     "text": [
      "p\n",
      "a\n",
      "n\n",
      "d\n",
      "a\n",
      "s\n"
     ]
    }
   ],
   "source": [
    "letters = 'pandas'\n",
    "\n",
    "for letter in letters:\n",
    "    print(letter)"
   ]
  },
  {
   "cell_type": "markdown",
   "metadata": {
    "colab_type": "text",
    "id": "i_wOp9dVSfn3"
   },
   "source": [
    "▲ 程序清单 1.48 使用 for 语句处理字符串的元素"
   ]
  },
  {
   "cell_type": "code",
   "execution_count": 12,
   "metadata": {
    "colab": {
     "base_uri": "https://localhost:8080/",
     "height": 72
    },
    "colab_type": "code",
    "id": "hnfiGfMTSfn4",
    "outputId": "6656e5c1-bdd8-493b-b609-7f3e01779396"
   },
   "outputs": [
    {
     "name": "stdout",
     "output_type": "stream",
     "text": [
      "range(0, 5)\n",
      "<class 'range'>\n",
      "[0, 1, 2, 3, 4]\n"
     ]
    }
   ],
   "source": [
    "print(range(5))\n",
    "print(type(range(5)))\n",
    "print(list(range(5)))"
   ]
  },
  {
   "cell_type": "markdown",
   "metadata": {
    "colab_type": "text",
    "id": "rUqJY_cYSfn6"
   },
   "source": [
    "▲ 程序清单 1.49 range 函数值的查看"
   ]
  },
  {
   "cell_type": "code",
   "execution_count": 13,
   "metadata": {
    "colab": {
     "base_uri": "https://localhost:8080/",
     "height": 90
    },
    "colab_type": "code",
    "id": "crbk91BSSfn6",
    "outputId": "b03744a6-5072-4142-8498-b7e37bea0865"
   },
   "outputs": [
    {
     "name": "stdout",
     "output_type": "stream",
     "text": [
      "变量pet的元素数量: 3\n",
      "变量pet的索引0 cat\n",
      "变量pet的索引1 dog\n",
      "变量pet的索引2 fish\n"
     ]
    }
   ],
   "source": [
    "pet = ['cat', 'dog', 'fish']\n",
    "print('变量pet的元素数量 : ', len(pet))\n",
    "\n",
    "for i in range(len(pet)):\n",
    "    print('变量pet的索引', i, pet[i])"
   ]
  },
  {
   "cell_type": "markdown",
   "metadata": {
    "colab_type": "text",
    "id": "rK23ySyDSfn9"
   },
   "source": [
    "▲ 程序清单 1.50 range 函数、len 函数与 for 语句实现的索引引用"
   ]
  },
  {
   "cell_type": "code",
   "execution_count": 14,
   "metadata": {
    "colab": {
     "base_uri": "https://localhost:8080/",
     "height": 54
    },
    "colab_type": "code",
    "id": "iQp6_mpqSfn9",
    "outputId": "fdecfc08-5715-44cf-b96c-8362b9dea08f"
   },
   "outputs": [
    {
     "name": "stdout",
     "output_type": "stream",
     "text": [
      "1\n",
      "2\n"
     ]
    }
   ],
   "source": [
    "nums = [1,2,3,4,5]\n",
    "for num in nums:\n",
    "    if num == 3:\n",
    "        break\n",
    "    print(num)"
   ]
  },
  {
   "cell_type": "markdown",
   "metadata": {
    "colab_type": "text",
    "id": "jtPybHgGSfn_"
   },
   "source": [
    "▲ 程序清单 1.51 使用 break 语句中断 for 语句"
   ]
  },
  {
   "cell_type": "code",
   "execution_count": 15,
   "metadata": {
    "colab": {
     "base_uri": "https://localhost:8080/",
     "height": 90
    },
    "colab_type": "code",
    "id": "rEnKzJzPSfoA",
    "outputId": "7566cbc2-a96a-4ff0-955f-1138f61d5b31"
   },
   "outputs": [
    {
     "name": "stdout",
     "output_type": "stream",
     "text": [
      "1\n",
      "2\n",
      "4\n",
      "5\n"
     ]
    }
   ],
   "source": [
    "nums = [1,2,3,4,5]\n",
    "for num in nums:\n",
    "    if num == 3:\n",
    "        continue\n",
    "    print(num)"
   ]
  },
  {
   "cell_type": "markdown",
   "metadata": {
    "colab_type": "text",
    "id": "WwUfPWJOSfoG"
   },
   "source": [
    "▲程序清单 1.52 使用 continue 语句跳过 for 语句"
   ]
  },
  {
   "cell_type": "code",
   "execution_count": 0,
   "metadata": {
    "colab": {},
    "colab_type": "code",
    "id": "vsPt_MINSfoG"
   },
   "outputs": [],
   "source": [
    "def multi(a, b):\n",
    "    c = a * b\n",
    "    print(c)"
   ]
  },
  {
   "cell_type": "markdown",
   "metadata": {
    "colab_type": "text",
    "id": "lEFDnA-fSfoJ"
   },
   "source": [
    "▲程序清单 1.53 定义计算参数 a 和参数 b 乘积的 multi 函数"
   ]
  },
  {
   "cell_type": "code",
   "execution_count": 17,
   "metadata": {
    "colab": {
     "base_uri": "https://localhost:8080/",
     "height": 35
    },
    "colab_type": "code",
    "id": "Q-qxNsaNSfoJ",
    "outputId": "27370125-2fdf-468b-c9f1-15f402cf5ecb"
   },
   "outputs": [
    {
     "name": "stdout",
     "output_type": "stream",
     "text": [
      "15\n"
     ]
    }
   ],
   "source": [
    "multi(3, 5)"
   ]
  },
  {
   "cell_type": "markdown",
   "metadata": {
    "colab_type": "text",
    "id": "eCQvqN0TSfoL"
   },
   "source": [
    "▲ 程序清单 1.54 在定义后的 multi 函数中指定参数 3 和参数 5 并执行处理"
   ]
  },
  {
   "cell_type": "code",
   "execution_count": 18,
   "metadata": {
    "colab": {
     "base_uri": "https://localhost:8080/",
     "height": 54
    },
    "colab_type": "code",
    "id": "ZlPLLrJDSfoM",
    "outputId": "19960db6-3907-48a3-d176-ef88aee2a90f"
   },
   "outputs": [
    {
     "name": "stdout",
     "output_type": "stream",
     "text": [
      "5\n",
      "5\n"
     ]
    }
   ],
   "source": [
    "def absolute(a):\n",
    "    if a >= 0:\n",
    "        return a\n",
    "    else:\n",
    "        return -1 * a\n",
    "\n",
    "print(absolute(5))\n",
    "print(absolute(-5))"
   ]
  },
  {
   "cell_type": "markdown",
   "metadata": {
    "colab_type": "text",
    "id": "A_eiAwdlSfoO"
   },
   "source": [
    "▲ 程序清单 1.55 对返回绝对值的 absolute 函数进行定义"
   ]
  },
  {
   "cell_type": "code",
   "execution_count": 19,
   "metadata": {
    "colab": {
     "base_uri": "https://localhost:8080/",
     "height": 54
    },
    "colab_type": "code",
    "id": "kdh6xL0ISfoP",
    "outputId": "6b419274-e825-4b0d-a7f6-e797904c8fe8"
   },
   "outputs": [
    {
     "name": "stdout",
     "output_type": "stream",
     "text": [
      "1\n",
      "-4\n"
     ]
    }
   ],
   "source": [
    "def cal(a, b, name=5):\n",
    "    return(a + b - name)\n",
    "\n",
    "print(cal(2, 4))\n",
    "print(cal(2, 4, name=10))"
   ]
  },
  {
   "cell_type": "markdown",
   "metadata": {
    "colab_type": "text",
    "id": "_FFLIAUTSfoR"
   },
   "source": [
    "▲ 程序清单 1.56 定义位置参数与关键字参数"
   ]
  }
 ],
 "metadata": {
  "colab": {
   "name": "1.4.ipynb",
   "provenance": []
  },
  "kernelspec": {
   "display_name": "Python 3",
   "language": "python",
   "name": "python3"
  },
  "language_info": {
   "codemirror_mode": {
    "name": "ipython",
    "version": 3
   },
   "file_extension": ".py",
   "mimetype": "text/x-python",
   "name": "python",
   "nbconvert_exporter": "python",
   "pygments_lexer": "ipython3",
   "version": "3.6.7"
  }
 },
 "nbformat": 4,
 "nbformat_minor": 1
}
