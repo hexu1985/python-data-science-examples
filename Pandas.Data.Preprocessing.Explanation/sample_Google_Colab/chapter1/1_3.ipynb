{
 "cells": [
  {
   "cell_type": "code",
   "execution_count": 0,
   "metadata": {
    "colab": {
     "base_uri": "https://localhost:8080/",
     "height": 254
    },
    "colab_type": "code",
    "id": "45zNj2YAFnr4",
    "outputId": "6f8ec0bc-0fc4-4bf5-9573-9fd565a1dbdc"
   },
   "outputs": [
    {
     "name": "stdout",
     "output_type": "stream",
     "text": [
      "Requirement already satisfied: pandas==0.22.0 in /usr/local/lib/python3.6/dist-packages (0.22.0)\n",
      "Requirement already satisfied: numpy>=1.9.0 in /usr/local/lib/python3.6/dist-packages (from pandas==0.22.0) (1.14.6)\n",
      "Requirement already satisfied: pytz>=2011k in /usr/local/lib/python3.6/dist-packages (from pandas==0.22.0) (2018.9)\n",
      "Requirement already satisfied: python-dateutil>=2 in /usr/local/lib/python3.6/dist-packages (from pandas==0.22.0) (2.6.1)\n",
      "Requirement already satisfied: six>=1.5 in /usr/local/lib/python3.6/dist-packages (from python-dateutil>=2->pandas==0.22.0) (1.12.0)\n",
      "Requirement already satisfied: numpy==1.14.6 in /usr/local/lib/python3.6/dist-packages (1.14.6)\n",
      "Requirement already satisfied: matplotlib==2.1.2 in /usr/local/lib/python3.6/dist-packages (2.1.2)\n",
      "Requirement already satisfied: six>=1.10 in /usr/local/lib/python3.6/dist-packages (from matplotlib==2.1.2) (1.12.0)\n",
      "Requirement already satisfied: cycler>=0.10 in /usr/local/lib/python3.6/dist-packages (from matplotlib==2.1.2) (0.10.0)\n",
      "Requirement already satisfied: pytz in /usr/local/lib/python3.6/dist-packages (from matplotlib==2.1.2) (2018.9)\n",
      "Requirement already satisfied: pyparsing!=2.0.4,!=2.1.2,!=2.1.6,>=2.0.1 in /usr/local/lib/python3.6/dist-packages (from matplotlib==2.1.2) (2.4.6)\n",
      "Requirement already satisfied: numpy>=1.7.1 in /usr/local/lib/python3.6/dist-packages (from matplotlib==2.1.2) (1.14.6)\n",
      "Requirement already satisfied: python-dateutil>=2.1 in /usr/local/lib/python3.6/dist-packages (from matplotlib==2.1.2) (2.6.1)\n"
     ]
    }
   ],
   "source": [
    "!pip install pandas==0.22.0\n",
    "!pip install numpy==1.14.6\n",
    "!pip install matplotlib==2.1.2"
   ]
  },
  {
   "cell_type": "markdown",
   "metadata": {
    "colab_type": "text",
    "id": "YdB7DDyIFzWf"
   },
   "source": [
    "▲库的版本变更\n"
   ]
  },
  {
   "cell_type": "code",
   "execution_count": 42,
   "metadata": {
    "colab": {
     "base_uri": "https://localhost:8080/",
     "height": 90
    },
    "colab_type": "code",
    "id": "Kj_OQQOQTdYb",
    "outputId": "c33ed043-5611-4757-f063-6d96ecf22a94"
   },
   "outputs": [
    {
     "name": "stdout",
     "output_type": "stream",
     "text": [
      "python version :  (3, 6, 9)\n",
      "pandas version :  0.22.0\n",
      "numpy version :  1.14.6\n",
      "matplotlib version :  2.1.2\n"
     ]
    }
   ],
   "source": [
    "import sys\n",
    "import pandas\n",
    "import numpy\n",
    "import matplotlib\n",
    "print('python version : ', sys.version_info[0:3])\n",
    "print('pandas version : ', pandas.__version__)\n",
    "print('numpy version : ', numpy.__version__)\n",
    "print('matplotlib version : ', matplotlib.__version__)"
   ]
  },
  {
   "cell_type": "markdown",
   "metadata": {
    "colab_type": "text",
    "id": "7CUOcL8MTqAy"
   },
   "source": [
    "▲Python和库的版本输出"
   ]
  },
  {
   "cell_type": "code",
   "execution_count": 0,
   "metadata": {
    "colab": {},
    "colab_type": "code",
    "collapsed": true,
    "id": "6CLI9VmJFgXr"
   },
   "outputs": [],
   "source": [
    "import pandas as pd\n",
    "import numpy as np\n",
    "import matplotlib.pyplot as plt"
   ]
  },
  {
   "cell_type": "markdown",
   "metadata": {
    "colab_type": "text",
    "id": "o9D_qQvqFgXv"
   },
   "source": [
    "▲程序清单 1.6 需要预先导入的代码"
   ]
  },
  {
   "cell_type": "code",
   "execution_count": 0,
   "metadata": {
    "colab": {
     "base_uri": "https://localhost:8080/",
     "height": 54
    },
    "colab_type": "code",
    "id": "N29Z7d7UFgXw",
    "outputId": "8f18d949-9de2-4828-873b-8060bb90d069"
   },
   "outputs": [
    {
     "name": "stdout",
     "output_type": "stream",
     "text": [
      "12345\n",
      "机器学习\n"
     ]
    }
   ],
   "source": [
    "var_1 = 12345\n",
    "print(var_1)\n",
    "\n",
    "var_2 = \"机器学习\"\n",
    "print(var_2)"
   ]
  },
  {
   "cell_type": "markdown",
   "metadata": {
    "colab_type": "text",
    "id": "kMjRnJXqFgXz"
   },
   "source": [
    "▲ 程序清单 1.7 将值代入变量"
   ]
  },
  {
   "cell_type": "code",
   "execution_count": 0,
   "metadata": {
    "colab": {
     "base_uri": "https://localhost:8080/",
     "height": 72
    },
    "colab_type": "code",
    "id": "QZ3V1ZQSFgXz",
    "outputId": "f15777e9-a2ff-4710-bc42-05be88bef0f3"
   },
   "outputs": [
    {
     "name": "stdout",
     "output_type": "stream",
     "text": [
      "12345\n",
      "67890\n",
      "100 0.5 日语\n"
     ]
    }
   ],
   "source": [
    "abc = 12345\n",
    "ABC = 67890\n",
    "a, b, c = 100, 0.5, \"日语\"\n",
    "print(abc)\n",
    "print(ABC)\n",
    "print(a, b, c)"
   ]
  },
  {
   "cell_type": "markdown",
   "metadata": {
    "colab_type": "text",
    "id": "MORD1KNdFgX2"
   },
   "source": [
    "▲ 程序清单 1.8 将多个值代入多个变量"
   ]
  },
  {
   "cell_type": "code",
   "execution_count": 0,
   "metadata": {
    "colab": {
     "base_uri": "https://localhost:8080/",
     "height": 126
    },
    "colab_type": "code",
    "id": "NZH5UfVlFgX4",
    "outputId": "fec29b35-b64e-4d53-a00c-48aa4df3b70c"
   },
   "outputs": [
    {
     "name": "stdout",
     "output_type": "stream",
     "text": [
      "20\n",
      "5.0\n",
      "8\n",
      "0\n",
      "5\n",
      "100\n"
     ]
    }
   ],
   "source": [
    "a = 10\n",
    "b = 2\n",
    "\n",
    "print(a * b) # 10 * 2\n",
    "print(a / b) # 10 ÷ 2\n",
    "print(a - b) # 10 - 2\n",
    "print(a % b) # 10 ÷ 2的余数 \n",
    "print(a // b) # 10 ÷ 2的除法\n",
    "print(a ** b) #  10的2次幂"
   ]
  },
  {
   "cell_type": "markdown",
   "metadata": {
    "colab_type": "text",
    "id": "BvB_kMHPFgX6"
   },
   "source": [
    "▲ 程序清单 1.9 Python 的算术运算符"
   ]
  },
  {
   "cell_type": "code",
   "execution_count": 0,
   "metadata": {
    "colab": {
     "base_uri": "https://localhost:8080/",
     "height": 126
    },
    "colab_type": "code",
    "id": "6Cm8wZrHFgX7",
    "outputId": "a72dac62-8f45-4115-f368-22d753cb53b5"
   },
   "outputs": [
    {
     "name": "stdout",
     "output_type": "stream",
     "text": [
      "5.0\n",
      "3.0\n",
      "6.0\n",
      "36.0\n",
      "18.0\n",
      "2.0\n"
     ]
    }
   ],
   "source": [
    "a = 3.0\n",
    "a += 2; print(a) # 与a = a + 2等同\n",
    "a -= 2; print(a) # 与a = a - 2等同\n",
    "a *= 2; print(a) # 与a = a * 2等同\n",
    "a **= 2; print(a) # 与a = a ** 2等同\n",
    "a /= 2; print(a) #  与a = a / 2等同\n",
    "a %= 4; print(a) # 与a = a % 4等同"
   ]
  },
  {
   "cell_type": "markdown",
   "metadata": {
    "colab_type": "text",
    "id": "fS011O1wFgX9"
   },
   "source": [
    "▲ 程序清单 1.10 Python 的赋值运算符"
   ]
  },
  {
   "cell_type": "code",
   "execution_count": 0,
   "metadata": {
    "colab": {
     "base_uri": "https://localhost:8080/",
     "height": 90
    },
    "colab_type": "code",
    "id": "rEy0zEapFgX-",
    "outputId": "350382c8-c8e4-4f7e-f1d8-909d513cc6e7"
   },
   "outputs": [
    {
     "name": "stdout",
     "output_type": "stream",
     "text": [
      "True\n",
      "False\n",
      "False\n",
      "True\n"
     ]
    }
   ],
   "source": [
    "a = 5.0\n",
    "b = 2.0\n",
    "\n",
    "print(a > b)\n",
    "print(a < b)\n",
    "print(a == b)\n",
    "print(a != b)"
   ]
  },
  {
   "cell_type": "markdown",
   "metadata": {
    "colab_type": "text",
    "id": "GsHWQ-TSFgYA"
   },
   "source": [
    "▲ 程序清单 1.11 Python 的比较运算符"
   ]
  },
  {
   "cell_type": "code",
   "execution_count": 0,
   "metadata": {
    "colab": {
     "base_uri": "https://localhost:8080/",
     "height": 54
    },
    "colab_type": "code",
    "id": "Ij_jyrtqFgYB",
    "outputId": "b4798c96-d826-4aab-8e5e-b64890e58b7f"
   },
   "outputs": [
    {
     "name": "stdout",
     "output_type": "stream",
     "text": [
      "<class 'int'>\n",
      "<class 'str'>\n"
     ]
    }
   ],
   "source": [
    "a = 1\n",
    "print(type(a))\n",
    "a = 'あ'\n",
    "print(type(a))"
   ]
  },
  {
   "cell_type": "markdown",
   "metadata": {
    "colab_type": "text",
    "id": "DuH1wJgHFgYD"
   },
   "source": [
    "▲程序清单 1.12\n",
    ": Python 动态类型的确认"
   ]
  },
  {
   "cell_type": "code",
   "execution_count": 0,
   "metadata": {
    "colab": {
     "base_uri": "https://localhost:8080/",
     "height": 90
    },
    "colab_type": "code",
    "id": "9PzSdSgoFgYD",
    "outputId": "7547a176-bad7-4eed-a66d-253ab257a908"
   },
   "outputs": [
    {
     "name": "stdout",
     "output_type": "stream",
     "text": [
      "5 <class 'int'>\n",
      "2.0 <class 'float'>\n",
      "1 是属于整数int类型吗？ True\n",
      "1 是属于浮点数float类型吗？ False\n"
     ]
    }
   ],
   "source": [
    "a = 5\n",
    "print(a, type(a))\n",
    "\n",
    "b = 2.0\n",
    "print(b, type(b))\n",
    "\n",
    "c = 1\n",
    "print(c, \"是属于整数int类型吗？\", isinstance(c, int))\n",
    "print(c, \"是属于浮点数float类型吗？\", isinstance(c, float))"
   ]
  },
  {
   "cell_type": "markdown",
   "metadata": {
    "colab_type": "text",
    "id": "uekamfTjFgYG"
   },
   "source": [
    "▲ 程序清单 1.13 数值类型的确认"
   ]
  },
  {
   "cell_type": "code",
   "execution_count": 0,
   "metadata": {
    "colab": {
     "base_uri": "https://localhost:8080/",
     "height": 72
    },
    "colab_type": "code",
    "id": "SNZnWc-vFgYH",
    "outputId": "4fb1e173-4fb1-4939-db5e-7d8f1daa2454"
   },
   "outputs": [
    {
     "name": "stdout",
     "output_type": "stream",
     "text": [
      "a和b的数据类型是 <class 'float'> <class 'float'>\n",
      "变量a和b相等吗？ True\n",
      "变量c和d相等吗？ True\n"
     ]
    }
   ],
   "source": [
    "a = 1.23e3\n",
    "b = 1.23 * 10 ** 3\n",
    "print('a和b的数据类型是', type(a), type(b))\n",
    "print('变量a和b相等吗？', a == b)\n",
    "\n",
    "c = 1.23e-3\n",
    "d = 0.00123\n",
    "print('变量c和d相等吗？', c == d)"
   ]
  },
  {
   "cell_type": "markdown",
   "metadata": {
    "colab_type": "text",
    "id": "ENof6VI6FgYJ"
   },
   "source": [
    "▲ 程序清单 1.14 浮点数类型的指数形式"
   ]
  },
  {
   "cell_type": "code",
   "execution_count": 0,
   "metadata": {
    "colab": {
     "base_uri": "https://localhost:8080/",
     "height": 54
    },
    "colab_type": "code",
    "id": "cUno-onEFgYJ",
    "outputId": "5f1025af-aa4c-4350-b088-1107e1b5b1a7"
   },
   "outputs": [
    {
     "name": "stdout",
     "output_type": "stream",
     "text": [
      "<class 'str'> <class 'str'>\n",
      "我的年龄是12岁\n"
     ]
    }
   ],
   "source": [
    "a = '我的年龄是'\n",
    "b = \"12岁\"\n",
    "\n",
    "print(type(a), type(b))\n",
    "print(a + b)"
   ]
  },
  {
   "cell_type": "markdown",
   "metadata": {
    "colab_type": "text",
    "id": "49owiDC3FgYM"
   },
   "source": [
    "▲程序清单 1.15 字符串类型的合并"
   ]
  },
  {
   "cell_type": "code",
   "execution_count": 0,
   "metadata": {
    "colab": {
     "base_uri": "https://localhost:8080/",
     "height": 108
    },
    "colab_type": "code",
    "id": "m7TY7HcUFgYN",
    "outputId": "dc43f4c5-61d4-4ec6-f947-bbe8c9de4487"
   },
   "outputs": [
    {
     "name": "stdout",
     "output_type": "stream",
     "text": [
      "我的年龄是\n",
      "12岁\n",
      "岁\n",
      "\n",
      "我的年龄是12岁\n"
     ]
    }
   ],
   "source": [
    "ab = '''我的年龄是\n",
    "12\n",
    "岁\n",
    "'''\n",
    "\n",
    "cd = '我的年龄是12岁'\n",
    "print(ab)\n",
    "print(cd)"
   ]
  },
  {
   "cell_type": "markdown",
   "metadata": {
    "colab_type": "text",
    "id": "r3XH0fgcFgYP"
   },
   "source": [
    "▲ 程序清单 1.16 多行字符串"
   ]
  },
  {
   "cell_type": "code",
   "execution_count": 0,
   "metadata": {
    "colab": {
     "base_uri": "https://localhost:8080/",
     "height": 54
    },
    "colab_type": "code",
    "id": "D-vzbeuHFgYQ",
    "outputId": "036b3b6e-79ca-4918-ec80-2e39aca7e002"
   },
   "outputs": [
    {
     "name": "stdout",
     "output_type": "stream",
     "text": [
      "a\n",
      "cde\n"
     ]
    }
   ],
   "source": [
    "a = 'abcde'\n",
    "print(a[0])\n",
    "print(a[2:])"
   ]
  },
  {
   "cell_type": "markdown",
   "metadata": {
    "colab_type": "text",
    "id": "5awQ2_6YFgYS"
   },
   "source": [
    "▲ 程序清单 1.17 字符串的索引引用"
   ]
  },
  {
   "cell_type": "code",
   "execution_count": 0,
   "metadata": {
    "colab": {
     "base_uri": "https://localhost:8080/",
     "height": 138
    },
    "colab_type": "code",
    "id": "VprD0IVtFgYT",
    "outputId": "696562b5-0f3a-4f9d-eb21-1fbaba390144"
   },
   "outputs": [
    {
     "ename": "SyntaxError",
     "evalue": "ignored",
     "output_type": "error",
     "traceback": [
      "\u001b[0;36m  File \u001b[0;32m\"<ipython-input-18-49034f4b27ca>\"\u001b[0;36m, line \u001b[0;32m4\u001b[0m\n\u001b[0;31m    TypeError: 'str' object does not support item assignment\u001b[0m\n\u001b[0m                          ^\u001b[0m\n\u001b[0;31mSyntaxError\u001b[0m\u001b[0;31m:\u001b[0m invalid syntax\n"
     ]
    }
   ],
   "source": [
    "a = 'abcde'\n",
    "a[0] = 'z'\n",
    "\n",
    "TypeError: 'str' object does not support item assignment"
   ]
  },
  {
   "cell_type": "markdown",
   "metadata": {
    "colab_type": "text",
    "id": "zJ1D5YySFgYV"
   },
   "source": [
    "▲ 程序清单 1.18 由于字符串是不可变对象，因此出现错误警告"
   ]
  },
  {
   "cell_type": "code",
   "execution_count": 0,
   "metadata": {
    "colab": {
     "base_uri": "https://localhost:8080/",
     "height": 54
    },
    "colab_type": "code",
    "id": "9aPMjj-VFgYW",
    "outputId": "3b72672e-9394-4fd8-8b67-42d271ca09a1"
   },
   "outputs": [
    {
     "name": "stdout",
     "output_type": "stream",
     "text": [
      "<class 'tuple'> <class 'tuple'>\n",
      "True\n"
     ]
    }
   ],
   "source": [
    "a = (1,2,3)\n",
    "b = 1,2,3\n",
    "\n",
    "print(type(a), type(b))\n",
    "print(a == b)"
   ]
  },
  {
   "cell_type": "markdown",
   "metadata": {
    "colab_type": "text",
    "id": "kk2gisyKFgYX"
   },
   "source": [
    "▲ 程序清单 1.19 元组的创建"
   ]
  },
  {
   "cell_type": "code",
   "execution_count": 0,
   "metadata": {
    "colab": {
     "base_uri": "https://localhost:8080/",
     "height": 175
    },
    "colab_type": "code",
    "id": "hEJoVNrBFgYY",
    "outputId": "75c7195b-ede9-4332-8c97-06be00f8780d"
   },
   "outputs": [
    {
     "ename": "TypeError",
     "evalue": "ignored",
     "output_type": "error",
     "traceback": [
      "\u001b[0;31m---------------------------------------------------------------------------\u001b[0m",
      "\u001b[0;31mTypeError\u001b[0m                                 Traceback (most recent call last)",
      "\u001b[0;32m<ipython-input-20-21fac9e05986>\u001b[0m in \u001b[0;36m<module>\u001b[0;34m()\u001b[0m\n\u001b[0;32m----> 1\u001b[0;31m \u001b[0ma\u001b[0m\u001b[0;34m[\u001b[0m\u001b[0;36m0\u001b[0m\u001b[0;34m]\u001b[0m \u001b[0;34m=\u001b[0m \u001b[0;36m4\u001b[0m\u001b[0;34m\u001b[0m\u001b[0;34m\u001b[0m\u001b[0m\n\u001b[0m",
      "\u001b[0;31mTypeError\u001b[0m: 'tuple' object does not support item assignment"
     ]
    }
   ],
   "source": [
    "a[0] = 4"
   ]
  },
  {
   "cell_type": "markdown",
   "metadata": {
    "colab_type": "text",
    "id": "op9q9iinFgYa"
   },
   "source": [
    "▲ 程序清单 1.20 由于元组是不可变对象，因此出现错误警告"
   ]
  },
  {
   "cell_type": "code",
   "execution_count": 0,
   "metadata": {
    "colab": {
     "base_uri": "https://localhost:8080/",
     "height": 90
    },
    "colab_type": "code",
    "id": "M-6JJuOxFgYb",
    "outputId": "7c814dbb-e9c4-4cef-edbf-513d6241fcd4"
   },
   "outputs": [
    {
     "name": "stdout",
     "output_type": "stream",
     "text": [
      "<class 'tuple'>\n",
      "<class 'str'>\n",
      "<class 'tuple'>\n",
      "('1', '2', '3', '4', '5')\n"
     ]
    }
   ],
   "source": [
    "a = (1, 2, '三', 4, 'Five')\n",
    "b = '12345'\n",
    "c = tuple(b)\n",
    "\n",
    "print(type(a))\n",
    "print(type(b))\n",
    "print(type(c))\n",
    "print(c)"
   ]
  },
  {
   "cell_type": "markdown",
   "metadata": {
    "colab_type": "text",
    "id": "rXwCvHnAFgYd"
   },
   "source": [
    "▲ 程序清单 1.21 多种数据类型和 tuple 函数的使用"
   ]
  },
  {
   "cell_type": "code",
   "execution_count": 0,
   "metadata": {
    "colab": {
     "base_uri": "https://localhost:8080/",
     "height": 54
    },
    "colab_type": "code",
    "id": "iZ0bWfoQFgYe",
    "outputId": "98792763-a66d-41fa-f5ae-28b226f1ed70"
   },
   "outputs": [
    {
     "name": "stdout",
     "output_type": "stream",
     "text": [
      "((1, 2, 3), (4, 5, 6))\n",
      "<class 'tuple'>\n"
     ]
    }
   ],
   "source": [
    "nest = ((1,2,3),(4,5,6))\n",
    "print(nest)\n",
    "print(type(nest))"
   ]
  },
  {
   "cell_type": "markdown",
   "metadata": {
    "colab_type": "text",
    "id": "TZyDhuXFFgYf"
   },
   "source": [
    "▲ 程序清单 1.22 元组的元组（嵌套）"
   ]
  },
  {
   "cell_type": "code",
   "execution_count": 0,
   "metadata": {
    "colab": {
     "base_uri": "https://localhost:8080/",
     "height": 72
    },
    "colab_type": "code",
    "id": "ZR2ej3iSFgYg",
    "outputId": "10c12a19-f119-489e-a5cc-a2b83195c32f"
   },
   "outputs": [
    {
     "name": "stdout",
     "output_type": "stream",
     "text": [
      "1\n",
      "5\n",
      "4\n"
     ]
    }
   ],
   "source": [
    "a = (1,2,3,4,5)\n",
    "print(a[0])\n",
    "print(a[-1])\n",
    "print(a[-2])"
   ]
  },
  {
   "cell_type": "markdown",
   "metadata": {
    "colab_type": "text",
    "id": "gLhkkDTUFgYi"
   },
   "source": [
    "▲ 程序清单 1.23 元组的索引引用"
   ]
  },
  {
   "cell_type": "code",
   "execution_count": 0,
   "metadata": {
    "colab": {
     "base_uri": "https://localhost:8080/",
     "height": 35
    },
    "colab_type": "code",
    "id": "KrCc5B_yFgYi",
    "outputId": "27157d33-beb0-47ff-930f-b95771a0ea54"
   },
   "outputs": [
    {
     "data": {
      "text/plain": [
       "(1, 2, 3, 4, 5)"
      ]
     },
     "execution_count": 24,
     "metadata": {
      "tags": []
     },
     "output_type": "execute_result"
    }
   ],
   "source": [
    "a"
   ]
  },
  {
   "cell_type": "code",
   "execution_count": 0,
   "metadata": {
    "colab": {
     "base_uri": "https://localhost:8080/",
     "height": 72
    },
    "colab_type": "code",
    "id": "2JeFnuibFgYk",
    "outputId": "7a95a313-7f14-4b38-a971-8f169e84d316"
   },
   "outputs": [
    {
     "name": "stdout",
     "output_type": "stream",
     "text": [
      "(2, 3)\n",
      "(1, 2)\n",
      "(2, 3, 4, 5)\n"
     ]
    }
   ],
   "source": [
    "print(a[1:3])\n",
    "print(a[:2])\n",
    "print(a[1:])"
   ]
  },
  {
   "cell_type": "markdown",
   "metadata": {
    "colab_type": "text",
    "id": "xCU617oOFgYn"
   },
   "source": [
    "▲ 程序清单 1.24 使用切片的索引引用"
   ]
  },
  {
   "cell_type": "code",
   "execution_count": 0,
   "metadata": {
    "colab": {
     "base_uri": "https://localhost:8080/",
     "height": 54
    },
    "colab_type": "code",
    "id": "TMuSF1jUFgYn",
    "outputId": "33577fdd-fd6a-4a2f-889c-1bd520b88bcb"
   },
   "outputs": [
    {
     "name": "stdout",
     "output_type": "stream",
     "text": [
      "1 2 3\n",
      "4 5 6 (7, 8, 9)\n"
     ]
    }
   ],
   "source": [
    "tup_1 = (1,2,3)\n",
    "one,two,three = tup_1\n",
    "print(one,two,three)\n",
    "\n",
    "tup_2 = (4,5,6,(7,8,9))\n",
    "one,two,three,four = tup_2\n",
    "print(one,two,three,four)"
   ]
  },
  {
   "cell_type": "markdown",
   "metadata": {
    "colab_type": "text",
    "id": "_55gku5nFgYp"
   },
   "source": [
    "▲ 程序清单 1.25 分解元组的多个元素"
   ]
  },
  {
   "cell_type": "code",
   "execution_count": 0,
   "metadata": {
    "colab": {
     "base_uri": "https://localhost:8080/",
     "height": 54
    },
    "colab_type": "code",
    "id": "dUsD05tcFgYq",
    "outputId": "5c61bf47-5b3a-4e9e-e13c-4918e8ae8211"
   },
   "outputs": [
    {
     "name": "stdout",
     "output_type": "stream",
     "text": [
      "「啊」出现在元组中的次数: 1\n",
      "「咦」在元组中最开始出现的位置对应的索引号: 1\n"
     ]
    }
   ],
   "source": [
    "a = ('啊', '咦', '唔', '呃', '哦')\n",
    "print('「啊」出现在元组中的次数: ', a.count('啊'))\n",
    "print('「咦」在元组中最开始出现的位置对应的索引号: ', a.index('咦'))"
   ]
  },
  {
   "cell_type": "markdown",
   "metadata": {
    "colab_type": "text",
    "id": "3Yh3N4KSFgYs"
   },
   "source": [
    "▲ 程序清单 1.26 元组方法的确认"
   ]
  },
  {
   "cell_type": "code",
   "execution_count": 0,
   "metadata": {
    "colab": {
     "base_uri": "https://localhost:8080/",
     "height": 72
    },
    "colab_type": "code",
    "id": "cTf6MdX-FgYt",
    "outputId": "8f3fb3db-c06b-41a0-8f54-585c06e15d1c"
   },
   "outputs": [
    {
     "name": "stdout",
     "output_type": "stream",
     "text": [
      "<class 'list'>\n",
      "<class 'tuple'>\n",
      "<class 'list'>\n"
     ]
    }
   ],
   "source": [
    "a = ['a','b','c',1,2]\n",
    "b = ('a','b','c',1,2)\n",
    "c = list(b)\n",
    "print(type(a))\n",
    "print(type(b))\n",
    "print(type(c))"
   ]
  },
  {
   "cell_type": "markdown",
   "metadata": {
    "colab_type": "text",
    "id": "vLMlsI6wFgYv"
   },
   "source": [
    "▲ 程序清单 1.27 列表的创建"
   ]
  },
  {
   "cell_type": "code",
   "execution_count": 0,
   "metadata": {
    "colab": {
     "base_uri": "https://localhost:8080/",
     "height": 54
    },
    "colab_type": "code",
    "id": "mNEdqnRPFgYw",
    "outputId": "009dfd57-f79a-49c0-fe2d-86dcba208834"
   },
   "outputs": [
    {
     "name": "stdout",
     "output_type": "stream",
     "text": [
      "[1, 2, 3, 4, 5]\n",
      "[6, 2, 3, 4, 5]\n"
     ]
    }
   ],
   "source": [
    "a = [1,2,3,4,5]\n",
    "print(a)\n",
    "a[0] = 6\n",
    "print(a)"
   ]
  },
  {
   "cell_type": "markdown",
   "metadata": {
    "colab_type": "text",
    "id": "rL6ZCJldFgYy"
   },
   "source": [
    "▲ 程序清单 1.28 列表的元素变更"
   ]
  },
  {
   "cell_type": "code",
   "execution_count": 0,
   "metadata": {
    "colab": {
     "base_uri": "https://localhost:8080/",
     "height": 72
    },
    "colab_type": "code",
    "id": "_JtY_oFRFgYy",
    "outputId": "14f8ca87-3f43-4774-cba2-75bf49422917"
   },
   "outputs": [
    {
     "name": "stdout",
     "output_type": "stream",
     "text": [
      "['啊', '咦', '唔', '呃']\n",
      "啊\n",
      "['唔', '呃']\n"
     ]
    }
   ],
   "source": [
    "a = list('啊咦唔呃哦')\n",
    "print(a)\n",
    "print(a[0])\n",
    "print(a[2:])"
   ]
  },
  {
   "cell_type": "markdown",
   "metadata": {
    "colab_type": "text",
    "id": "JEAOMx35FgY0"
   },
   "source": [
    "▲ 程序清单 1.29 列表的索引引用与切片"
   ]
  },
  {
   "cell_type": "code",
   "execution_count": 0,
   "metadata": {
    "colab": {
     "base_uri": "https://localhost:8080/",
     "height": 72
    },
    "colab_type": "code",
    "id": "KVEoHW5TFgY1",
    "outputId": "7ad11df3-25cf-4479-9d9b-840610266b81"
   },
   "outputs": [
    {
     "name": "stdout",
     "output_type": "stream",
     "text": [
      "[1, 2, 3, 4, 5, 6]\n",
      "[1, 2, 3, 4, 5, 6, 7, 8]\n",
      "[1, 2, 3, 4, 5, 6, 7, 8, 9, 10, 11]\n"
     ]
    }
   ],
   "source": [
    "a = [1,2,3,4,5]\n",
    "a.append(6)\n",
    "print(a)\n",
    "a.extend([7,8])\n",
    "print(a)\n",
    "b = [9,10,11]\n",
    "print(a + b)"
   ]
  },
  {
   "cell_type": "markdown",
   "metadata": {
    "colab_type": "text",
    "id": "njIJp4lZFgY3"
   },
   "source": [
    "▲ 程序清单 1.30 列表中元素的添加"
   ]
  },
  {
   "cell_type": "code",
   "execution_count": 0,
   "metadata": {
    "colab": {
     "base_uri": "https://localhost:8080/",
     "height": 108
    },
    "colab_type": "code",
    "id": "DFXhUznuFgY3",
    "outputId": "cf03383b-26f6-409f-b188-4a2086bd519b"
   },
   "outputs": [
    {
     "name": "stdout",
     "output_type": "stream",
     "text": [
      "[1, 2, 3, 4, 5]\n",
      "[2, 3, 4, 5]\n",
      "[3, 4, 5]\n",
      "3 [4, 5]\n",
      "[]\n"
     ]
    }
   ],
   "source": [
    "a = [1,2,3,4,5]\n",
    "print(a)\n",
    "\n",
    "del a[0]\n",
    "print(a)\n",
    "\n",
    "a.remove(2)\n",
    "print(a)\n",
    "\n",
    "b = a.pop(0)\n",
    "print(b, a)\n",
    "\n",
    "a.clear()\n",
    "print(a)"
   ]
  },
  {
   "cell_type": "markdown",
   "metadata": {
    "colab_type": "text",
    "id": "sOu4YyVuFgY7"
   },
   "source": [
    "▲ 程序清单 1.31 列表中元素的删除"
   ]
  },
  {
   "cell_type": "code",
   "execution_count": 0,
   "metadata": {
    "colab": {
     "base_uri": "https://localhost:8080/",
     "height": 72
    },
    "colab_type": "code",
    "id": "IwgrtlHCFgY7",
    "outputId": "06b57e7c-b3f3-4e25-e22f-23ae4eafa478"
   },
   "outputs": [
    {
     "name": "stdout",
     "output_type": "stream",
     "text": [
      "<class 'dict'> {'b': [1, 2, 3], 'c': [4, 5, 6]}\n",
      "[1, 2, 3]\n",
      "[4, 5, 6]\n"
     ]
    }
   ],
   "source": [
    "a = {'b':[1,2,3], 'c':[4,5,6]}\n",
    "print(type(a), a)\n",
    "print(a['b'])\n",
    "print(a.get('c'))"
   ]
  },
  {
   "cell_type": "markdown",
   "metadata": {
    "colab_type": "text",
    "id": "SWa4DFD3FgY9"
   },
   "source": [
    "▲ 程序清单 1.32 字典的创建和值的引用"
   ]
  },
  {
   "cell_type": "code",
   "execution_count": 0,
   "metadata": {
    "colab": {
     "base_uri": "https://localhost:8080/",
     "height": 35
    },
    "colab_type": "code",
    "id": "DRn6wdUxFgY-",
    "outputId": "0fa45145-583d-4d12-92ec-40fbd191b8ca"
   },
   "outputs": [
    {
     "name": "stdout",
     "output_type": "stream",
     "text": [
      "None\n"
     ]
    }
   ],
   "source": [
    "print(a.get('d'))"
   ]
  },
  {
   "cell_type": "markdown",
   "metadata": {
    "colab_type": "text",
    "id": "RyJVR_UgFgY_"
   },
   "source": [
    "▲程序清单 1.33 字典的 get 方法"
   ]
  },
  {
   "cell_type": "code",
   "execution_count": 0,
   "metadata": {
    "colab": {
     "base_uri": "https://localhost:8080/",
     "height": 72
    },
    "colab_type": "code",
    "id": "KuDMfegKFgZA",
    "outputId": "32aaa65a-1773-4378-d3dd-1ba7980f1ad3"
   },
   "outputs": [
    {
     "name": "stdout",
     "output_type": "stream",
     "text": [
      "{'b': [1, 2, 3], 'c': [4, 5, 6]}\n",
      "{'b': [7, 8, 9], 'c': [4, 5, 6]}\n",
      "{'b': [7, 8, 9], 'c': [4, 5, 6], 'd': [10, 11, 12]}\n"
     ]
    }
   ],
   "source": [
    "a = {'b':[1,2,3], 'c':[4,5,6]}\n",
    "print(a)\n",
    "a['b'] = [7,8,9]\n",
    "print(a)\n",
    "a['d'] = [10,11,12]\n",
    "print(a)"
   ]
  },
  {
   "cell_type": "markdown",
   "metadata": {
    "colab_type": "text",
    "id": "T9-vFAVKFgZC"
   },
   "source": [
    "▲ 程序清单 1.34 字典值的变更和添加"
   ]
  },
  {
   "cell_type": "code",
   "execution_count": 0,
   "metadata": {
    "colab": {
     "base_uri": "https://localhost:8080/",
     "height": 54
    },
    "colab_type": "code",
    "id": "ro0e-SPFFgZC",
    "outputId": "8117f3bc-3714-44d7-a1ac-5821d366f6cf"
   },
   "outputs": [
    {
     "name": "stdout",
     "output_type": "stream",
     "text": [
      "{'b': [7, 8, 9], 'd': [10, 11, 12]}\n",
      "{'d': [10, 11, 12]}\n"
     ]
    }
   ],
   "source": [
    "a.pop('c')\n",
    "print(a)\n",
    "\n",
    "del a['b']\n",
    "print(a)"
   ]
  },
  {
   "cell_type": "markdown",
   "metadata": {
    "colab_type": "text",
    "id": "76oR3MTsFgZE"
   },
   "source": [
    "▲程序清单 1.35 删除字典的值"
   ]
  },
  {
   "cell_type": "code",
   "execution_count": 0,
   "metadata": {
    "colab": {
     "base_uri": "https://localhost:8080/",
     "height": 54
    },
    "colab_type": "code",
    "id": "1Pmz8pQXFgZE",
    "outputId": "ff88c986-f70a-4534-e4fc-8f71af94c8d2"
   },
   "outputs": [
    {
     "name": "stdout",
     "output_type": "stream",
     "text": [
      "{'啊': [1, 2, 3], 'い': [6, 7, 8, 9]}\n",
      "{'咦': [1, 2, 3], 'い': [9, 10, 11, 12]}\n"
     ]
    }
   ],
   "source": [
    "a = {'啊':[1,2,3]}\n",
    "b = {'咦':[6,7,8,9]}\n",
    "c = {'咦':[9,10,11,12]}\n",
    "\n",
    "a.update(b)\n",
    "print(a)\n",
    "\n",
    "a.update(c)\n",
    "print(a)"
   ]
  },
  {
   "cell_type": "markdown",
   "metadata": {
    "colab_type": "text",
    "id": "YID5BU_6FgZH"
   },
   "source": [
    "▲程序清单 1.36 字典的 update 方法"
   ]
  },
  {
   "cell_type": "code",
   "execution_count": 0,
   "metadata": {
    "colab": {
     "base_uri": "https://localhost:8080/",
     "height": 72
    },
    "colab_type": "code",
    "id": "4BUDyX9DFgZI",
    "outputId": "2e6e6c01-3d86-43b7-f2a6-6ece280da895"
   },
   "outputs": [
    {
     "name": "stdout",
     "output_type": "stream",
     "text": [
      "<class 'set'>\n",
      "<class 'list'>\n",
      "<class 'set'>\n"
     ]
    }
   ],
   "source": [
    "a = {1,2,3,4,5}\n",
    "b = [1,2,3,4,5]\n",
    "c = set(b)\n",
    "\n",
    "print(type(a))\n",
    "print(type(b))\n",
    "print(type(c))"
   ]
  },
  {
   "cell_type": "markdown",
   "metadata": {
    "colab_type": "text",
    "id": "R9Bs5K9gFgZK"
   },
   "source": [
    "▲ 程序清单 1.37 集合的创建"
   ]
  },
  {
   "cell_type": "code",
   "execution_count": 0,
   "metadata": {
    "colab": {
     "base_uri": "https://localhost:8080/",
     "height": 35
    },
    "colab_type": "code",
    "id": "1iMeEaZiFgZK",
    "outputId": "7b7d3097-7c5b-4ad8-f8f2-34190719d3fc"
   },
   "outputs": [
    {
     "name": "stdout",
     "output_type": "stream",
     "text": [
      "{1, 3, 'three'}\n"
     ]
    }
   ],
   "source": [
    "a = {1,3,3,'three','three',}\n",
    "print(a)"
   ]
  },
  {
   "cell_type": "markdown",
   "metadata": {
    "colab_type": "text",
    "id": "L6iZEMXtFgZM"
   },
   "source": [
    "▲ 程序清单 1.38 集合中只包含唯一的值"
   ]
  },
  {
   "cell_type": "code",
   "execution_count": 0,
   "metadata": {
    "colab": {
     "base_uri": "https://localhost:8080/",
     "height": 54
    },
    "colab_type": "code",
    "id": "WDWk-aUyFgZN",
    "outputId": "eb8be977-b00e-43b8-d90f-35c58c12c8ea"
   },
   "outputs": [
    {
     "name": "stdout",
     "output_type": "stream",
     "text": [
      "{1, 2, 3, 4, 5, 6, 7, 8}\n",
      "{1, 2, 3, 4, 5, 6, 7, 8}\n"
     ]
    }
   ],
   "source": [
    "a = {1,2,2,3,4,5}\n",
    "b = {6,2,3,7,8,}\n",
    "\n",
    "print(a.union(b))\n",
    "print(a | b)"
   ]
  },
  {
   "cell_type": "markdown",
   "metadata": {
    "colab_type": "text",
    "id": "wxqjs0d1FgZQ"
   },
   "source": [
    "▲ 程序清单 1.39 集合的并"
   ]
  },
  {
   "cell_type": "code",
   "execution_count": 0,
   "metadata": {
    "colab": {
     "base_uri": "https://localhost:8080/",
     "height": 54
    },
    "colab_type": "code",
    "id": "E3EAOVhEFgZQ",
    "outputId": "90be3ddd-1beb-468d-dc92-6925c03bd3c4"
   },
   "outputs": [
    {
     "name": "stdout",
     "output_type": "stream",
     "text": [
      "{2, 3}\n",
      "{2, 3}\n"
     ]
    }
   ],
   "source": [
    "print(a.intersection(b))\n",
    "print(a & b)"
   ]
  },
  {
   "cell_type": "markdown",
   "metadata": {
    "colab_type": "text",
    "id": "eh3U1pD3FgZS"
   },
   "source": [
    "▲ 程序清单 1.40 集合的交"
   ]
  }
 ],
 "metadata": {
  "colab": {
   "collapsed_sections": [],
   "name": "1.3.ipynb",
   "provenance": []
  },
  "kernelspec": {
   "display_name": "Python 3",
   "language": "python",
   "name": "python3"
  },
  "language_info": {
   "codemirror_mode": {
    "name": "ipython",
    "version": 3
   },
   "file_extension": ".py",
   "mimetype": "text/x-python",
   "name": "python",
   "nbconvert_exporter": "python",
   "pygments_lexer": "ipython3",
   "version": "3.6.3"
  }
 },
 "nbformat": 4,
 "nbformat_minor": 1
}
