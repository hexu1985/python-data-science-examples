{
 "cells": [
  {
   "cell_type": "code",
   "execution_count": 1,
   "metadata": {
    "collapsed": true
   },
   "outputs": [],
   "source": [
    "import pandas as pd\n",
    "import numpy as np\n",
    "import matplotlib.pyplot as plt"
   ]
  },
  {
   "cell_type": "markdown",
   "metadata": {},
   "source": [
    "▲ 程序清单9.107:plot方法与ax参数"
   ]
  },
  {
   "cell_type": "code",
   "execution_count": 2,
   "metadata": {},
   "outputs": [
    {
     "name": "stdout",
     "output_type": "stream",
     "text": [
      "python version :  (3, 6, 7)\n",
      "pandas version :  0.22.0\n",
      "numpy version :  1.14.6\n",
      "matplotlib version :  2.1.2\n"
     ]
    }
   ],
   "source": [
    "import sys\n",
    "import pandas\n",
    "import numpy\n",
    "import matplotlib\n",
    "\n",
    "print('python version : ', sys.version_info[0:3])\n",
    "print('pandas version : ', pandas.__version__)\n",
    "print('numpy version : ', numpy.__version__)\n",
    "print('matplotlib version : ', matplotlib.__version__)"
   ]
  },
  {
   "cell_type": "markdown",
   "metadata": {},
   "source": [
    "▲ 程序清单 1.2 Python 和软件库版本的输出（Windows）"
   ]
  },
  {
   "cell_type": "code",
   "execution_count": 3,
   "metadata": {},
   "outputs": [
    {
     "name": "stdout",
     "output_type": "stream",
     "text": [
      "python version :  (3, 6, 7)\n",
      "pandas version :  0.22.0\n",
      "numpy version :  1.14.6\n",
      "matplotlib version :  2.1.2\n"
     ]
    }
   ],
   "source": [
    "import sys\n",
    "import pandas\n",
    "import numpy\n",
    "import matplotlib\n",
    "\n",
    "print('python version : ', sys.version_info[0:3])\n",
    "print('pandas version : ', pandas.__version__)\n",
    "print('numpy version : ', numpy.__version__)\n",
    "print('matplotlib version : ', matplotlib.__version__)"
   ]
  },
  {
   "cell_type": "markdown",
   "metadata": {},
   "source": [
    "▲ 程序清单 1.3 Python 和软件库版本的输出（macOS）"
   ]
  },
  {
   "cell_type": "code",
   "execution_count": null,
   "metadata": {
    "collapsed": true
   },
   "outputs": [],
   "source": [
    "!pip install pandas==0.22.0\n",
    "!pip install numpy==1.14.6\n",
    "!pip install matplotlib==2.1.2"
   ]
  },
  {
   "cell_type": "markdown",
   "metadata": {},
   "source": [
    "▲  程序清单 1.4 软件库的版本变更（Google Colab）"
   ]
  },
  {
   "cell_type": "code",
   "execution_count": null,
   "metadata": {
    "collapsed": true
   },
   "outputs": [],
   "source": [
    "import sys\n",
    "import pandas\n",
    "import numpy\n",
    "import matplotlib\n",
    "\n",
    "print('python version : ', sys.version_info[0:3])\n",
    "print('pandas version : ', pandas.__version__)\n",
    "print('numpy version : ', numpy.__version__)\n",
    "print('matplotlib version : ', matplotlib.__version__)"
   ]
  },
  {
   "cell_type": "markdown",
   "metadata": {},
   "source": [
    "▲ 程序清单 1.5 Python 和软件库的版本输出（Google Colab））"
   ]
  }
 ],
 "metadata": {
  "kernelspec": {
   "display_name": "Python 3",
   "language": "python",
   "name": "python3"
  },
  "language_info": {
   "codemirror_mode": {
    "name": "ipython",
    "version": 3
   },
   "file_extension": ".py",
   "mimetype": "text/x-python",
   "name": "python",
   "nbconvert_exporter": "python",
   "pygments_lexer": "ipython3",
   "version": "3.6.3"
  }
 },
 "nbformat": 4,
 "nbformat_minor": 2
}
